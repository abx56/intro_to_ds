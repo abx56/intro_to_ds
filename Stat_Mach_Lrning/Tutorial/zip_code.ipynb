{
 "cells": [
  {
   "cell_type": "markdown",
   "metadata": {},
   "source": [
    "## Tutorial 11: Neural Networks"
   ]
  },
  {
   "cell_type": "markdown",
   "metadata": {},
   "source": [
    "In this tutorial, you are supposed to design a convolutional neural network for a familiar data set—the ZIP code data. We will use the images for all ten digits as the training set, and evaluate the model on a separate test set. zip.train and zip.test can be downloaded on Canvas.\n",
    "\n",
    "We recommend you to use Keras. Keras is a high-level neural networks API, written in Python. You can find the installation instructions and a brief introduction at https://keras.io. Before installing Keras, make sure that you have installed Python (https://www.python.org) on you computer (either Python 2 or 3). IPython Notebook (https://ipython.org/notebook.html) is also recommended. There are several examples of Keras with Python code provided at https://github.com/fchollet/keras/tree/master/examples.\n",
    "\n",
    "Here, we have a classification problem with ten classes. The inputs are 16 × 16 images. We will design a convolutional neural network for this problem. "
   ]
  },
  {
   "cell_type": "code",
   "execution_count": 11,
   "metadata": {
    "collapsed": false
   },
   "outputs": [],
   "source": [
    "from __future__ import print_function\n",
    "import numpy as np\n",
    "import csv\n",
    "np.random.seed(1337)\n",
    "\n",
    "import keras\n",
    "from keras.models import Sequential\n",
    "from keras.layers import Dense, Dropout, Flatten\n",
    "from keras.layers import Convolution2D, MaxPooling2D\n",
    "from keras import backend as K\n",
    "from keras.utils import np_utils\n",
    "from keras.optimizers import RMSprop\n",
    "from keras.layers.core import Dense, Dropout, Activation\n",
    "from keras.preprocessing.image import ImageDataGenerator\n",
    "from keras.layers.normalization import BatchNormalization"
   ]
  },
  {
   "cell_type": "code",
   "execution_count": 3,
   "metadata": {
    "collapsed": true
   },
   "outputs": [],
   "source": [
    "batch_size =32\n",
    "num_classes = 10\n",
    "epochs = 30\n",
    "\n",
    "# input image dimensions\n",
    "img_rows, img_cols = 16, 16"
   ]
  },
  {
   "cell_type": "code",
   "execution_count": 4,
   "metadata": {
    "collapsed": true
   },
   "outputs": [],
   "source": [
    "train = np.loadtxt(\"zip.train\")\n",
    "test = np.loadtxt(\"zip.test\")"
   ]
  },
  {
   "cell_type": "code",
   "execution_count": 5,
   "metadata": {
    "collapsed": true
   },
   "outputs": [],
   "source": [
    "x_train = train[:, 1:].astype('float32')\n",
    "y_train = train[:, 0]\n",
    "x_test = test[:, 1:].astype('float32')\n",
    "y_test = test[:, 0]"
   ]
  },
  {
   "cell_type": "code",
   "execution_count": 6,
   "metadata": {
    "collapsed": false
   },
   "outputs": [
    {
     "name": "stdout",
     "output_type": "stream",
     "text": [
      "x_train shape: (7291, 16, 16, 1)\n",
      "7291 train samples\n",
      "2007 test samples\n"
     ]
    }
   ],
   "source": [
    "if K.image_data_format() == 'channels_first':\n",
    "    x_train = x_train.reshape(x_train.shape[0], 1, img_rows, img_cols)\n",
    "    x_test = x_test.reshape(x_test.shape[0], 1, img_rows, img_cols)\n",
    "    input_shape = ( 1, img_rows, img_cols)\n",
    "else:\n",
    "    x_train = x_train.reshape(x_train.shape[0], img_rows, img_cols,1)\n",
    "    x_test = x_test.reshape(x_test.shape[0], img_rows, img_cols, 1)\n",
    "    input_shape = ( img_rows, img_cols, 1)\n",
    "\n",
    "print('x_train shape:', x_train.shape)\n",
    "print(x_train.shape[0], 'train samples')\n",
    "print(x_test.shape[0], 'test samples')"
   ]
  },
  {
   "cell_type": "code",
   "execution_count": 7,
   "metadata": {
    "collapsed": true
   },
   "outputs": [],
   "source": [
    "y_train = np_utils.to_categorical(y_train, num_classes)\n",
    "y_test = np_utils.to_categorical(y_test, num_classes)"
   ]
  },
  {
   "cell_type": "code",
   "execution_count": 12,
   "metadata": {
    "collapsed": false
   },
   "outputs": [
    {
     "name": "stderr",
     "output_type": "stream",
     "text": [
      "/Users/linxiliu/anaconda/lib/python2.7/site-packages/ipykernel/__main__.py:5: UserWarning: Update your `Conv2D` call to the Keras 2 API: `Conv2D(16, (2, 2), padding=\"same\", input_shape=(16, 16, 1...)`\n",
      "/Users/linxiliu/anaconda/lib/python2.7/site-packages/ipykernel/__main__.py:7: UserWarning: Update your `Conv2D` call to the Keras 2 API: `Conv2D(16, (2, 2))`\n",
      "/Users/linxiliu/anaconda/lib/python2.7/site-packages/ipykernel/__main__.py:11: UserWarning: Update your `Conv2D` call to the Keras 2 API: `Conv2D(32, (2, 2), padding=\"same\")`\n",
      "/Users/linxiliu/anaconda/lib/python2.7/site-packages/ipykernel/__main__.py:13: UserWarning: Update your `Conv2D` call to the Keras 2 API: `Conv2D(32, (2, 2))`\n",
      "/Users/linxiliu/anaconda/lib/python2.7/site-packages/ipykernel/__main__.py:19: UserWarning: Update your `BatchNormalization` call to the Keras 2 API: `BatchNormalization(beta_regularizer=None, epsilon=0.001, beta_initializer=\"zero\", gamma_initializer=\"ones\", weights=None, gamma_regularizer=None, momentum=0.99, axis=-1)`\n",
      "/Users/linxiliu/anaconda/lib/python2.7/site-packages/ipykernel/__main__.py:21: UserWarning: Update your `BatchNormalization` call to the Keras 2 API: `BatchNormalization(beta_regularizer=None, epsilon=0.001, beta_initializer=\"zero\", gamma_initializer=\"ones\", weights=None, gamma_regularizer=None, momentum=0.99, axis=-1)`\n"
     ]
    }
   ],
   "source": [
    "# build the model sequentially\n",
    "model = Sequential()\n",
    "\n",
    "model.add(Convolution2D(16, 2, 2, border_mode='same',\n",
    "                        input_shape= input_shape))\n",
    "model.add(Activation('relu'))\n",
    "model.add(Convolution2D(16, 2, 2))\n",
    "model.add(Activation('relu'))\n",
    "model.add(MaxPooling2D(pool_size=(2, 2)))\n",
    "\n",
    "model.add(Convolution2D(32, 2, 2, border_mode='same'))\n",
    "model.add(Activation('relu'))\n",
    "model.add(Convolution2D(32, 2, 2))\n",
    "model.add(Activation('relu'))\n",
    "model.add(MaxPooling2D(pool_size=(2, 2)))\n",
    "\n",
    "model.add(Flatten())\n",
    "\n",
    "model.add(BatchNormalization(epsilon=0.001, axis=-1, momentum=0.99, weights=None, beta_init='zero', gamma_init='ones', gamma_regularizer=None, beta_regularizer=None))\n",
    "model.add(Activation('relu'))\n",
    "model.add(BatchNormalization(epsilon=0.001, axis=-1, momentum=0.99, weights=None, beta_init='zero', gamma_init='ones', gamma_regularizer=None, beta_regularizer=None))\n",
    "model.add(Activation('relu'))\n",
    "\n",
    "model.add(Dense(128))\n",
    "model.add(Activation('relu'))\n",
    "model.add(Dropout(0.2))\n",
    "model.add(Dense(num_classes))\n",
    "model.add(Activation('softmax'))\n",
    "\n",
    "model.compile(loss='categorical_crossentropy',\n",
    "              optimizer='adadelta',\n",
    "              metrics=['accuracy'])"
   ]
  },
  {
   "cell_type": "code",
   "execution_count": 13,
   "metadata": {
    "collapsed": true
   },
   "outputs": [],
   "source": [
    "# This is a function that adds little noise to training data\n",
    "datagen = ImageDataGenerator(\n",
    "    featurewise_center=False,  # set input mean to 0 over the dataset\n",
    "    samplewise_center=False,  # set each sample mean to 0\n",
    "    featurewise_std_normalization=False,  # divide inputs by std of the dataset\n",
    "    samplewise_std_normalization=False,  # divide each input by its std\n",
    "    zca_whitening=False,  # apply ZCA whitening\n",
    "    rotation_range=6,  # randomly rotate images in the range (degrees, 0 to 180)\n",
    "    width_shift_range=0.12,  # randomly shift images horizontally (fraction of total width)\n",
    "    height_shift_range=0.12,  # randomly shift images vertically (fraction of total height)\n",
    "    horizontal_flip=False,  # randomly flip images\n",
    "    vertical_flip=False)  # randomly flip images"
   ]
  },
  {
   "cell_type": "code",
   "execution_count": 14,
   "metadata": {
    "collapsed": true
   },
   "outputs": [],
   "source": [
    "# Compute quantities required for featurewise normalization\n",
    "# (std, mean, and principal components if ZCA whitening is applied).\n",
    "datagen.fit(x_train)"
   ]
  },
  {
   "cell_type": "code",
   "execution_count": 15,
   "metadata": {
    "collapsed": false
   },
   "outputs": [
    {
     "name": "stderr",
     "output_type": "stream",
     "text": [
      "/Users/linxiliu/anaconda/lib/python2.7/site-packages/ipykernel/__main__.py:6: UserWarning: Update your `fit_generator` call to the Keras 2 API: `fit_generator(<keras.pre..., epochs=30, validation_data=(array([[[..., steps_per_epoch=227)`\n"
     ]
    },
    {
     "name": "stdout",
     "output_type": "stream",
     "text": [
      "Epoch 1/30\n",
      "227/227 [==============================] - 3s - loss: 1.3001 - acc: 0.5748 - val_loss: 2.1644 - val_acc: 0.6721\n",
      "Epoch 2/30\n",
      "227/227 [==============================] - 2s - loss: 0.5699 - acc: 0.8219 - val_loss: 0.6682 - val_acc: 0.8994\n",
      "Epoch 3/30\n",
      "227/227 [==============================] - 2s - loss: 0.3970 - acc: 0.8740 - val_loss: 0.2234 - val_acc: 0.9372\n",
      "Epoch 4/30\n",
      "227/227 [==============================] - 2s - loss: 0.3247 - acc: 0.8973 - val_loss: 0.1908 - val_acc: 0.9392\n",
      "Epoch 5/30\n",
      "227/227 [==============================] - 2s - loss: 0.2876 - acc: 0.9067 - val_loss: 0.1473 - val_acc: 0.9567\n",
      "Epoch 6/30\n",
      "227/227 [==============================] - 2s - loss: 0.2422 - acc: 0.9269 - val_loss: 0.1511 - val_acc: 0.9562\n",
      "Epoch 7/30\n",
      "227/227 [==============================] - 2s - loss: 0.2179 - acc: 0.9306 - val_loss: 0.1393 - val_acc: 0.9571\n",
      "Epoch 8/30\n",
      "227/227 [==============================] - 2s - loss: 0.2069 - acc: 0.9348 - val_loss: 0.1208 - val_acc: 0.9636\n",
      "Epoch 9/30\n",
      "227/227 [==============================] - 2s - loss: 0.1780 - acc: 0.9434 - val_loss: 0.1268 - val_acc: 0.9646\n",
      "Epoch 10/30\n",
      "227/227 [==============================] - 2s - loss: 0.1731 - acc: 0.9468 - val_loss: 0.1217 - val_acc: 0.9626\n",
      "Epoch 11/30\n",
      "227/227 [==============================] - 2s - loss: 0.1656 - acc: 0.9487 - val_loss: 0.1270 - val_acc: 0.9666\n",
      "Epoch 12/30\n",
      "227/227 [==============================] - 2s - loss: 0.1657 - acc: 0.9464 - val_loss: 0.1180 - val_acc: 0.9666\n",
      "Epoch 13/30\n",
      "227/227 [==============================] - 2s - loss: 0.1444 - acc: 0.9544 - val_loss: 0.1063 - val_acc: 0.9696\n",
      "Epoch 14/30\n",
      "227/227 [==============================] - 2s - loss: 0.1522 - acc: 0.9562 - val_loss: 0.1089 - val_acc: 0.9706\n",
      "Epoch 15/30\n",
      "227/227 [==============================] - 2s - loss: 0.1269 - acc: 0.9613 - val_loss: 0.1228 - val_acc: 0.9686\n",
      "Epoch 16/30\n",
      "227/227 [==============================] - 2s - loss: 0.1209 - acc: 0.9623 - val_loss: 0.1057 - val_acc: 0.9711\n",
      "Epoch 17/30\n",
      "227/227 [==============================] - 2s - loss: 0.1331 - acc: 0.9626 - val_loss: 0.1210 - val_acc: 0.9691\n",
      "Epoch 18/30\n",
      "227/227 [==============================] - 2s - loss: 0.1222 - acc: 0.9603 - val_loss: 0.1137 - val_acc: 0.9681\n",
      "Epoch 19/30\n",
      "227/227 [==============================] - 2s - loss: 0.1261 - acc: 0.9596 - val_loss: 0.1092 - val_acc: 0.9701\n",
      "Epoch 20/30\n",
      "227/227 [==============================] - 2s - loss: 0.1171 - acc: 0.9632 - val_loss: 0.1057 - val_acc: 0.9731\n",
      "Epoch 21/30\n",
      "227/227 [==============================] - 2s - loss: 0.1133 - acc: 0.9632 - val_loss: 0.1280 - val_acc: 0.9661\n",
      "Epoch 22/30\n",
      "227/227 [==============================] - 2s - loss: 0.1159 - acc: 0.9653 - val_loss: 0.1110 - val_acc: 0.9706\n",
      "Epoch 23/30\n",
      "227/227 [==============================] - 2s - loss: 0.1015 - acc: 0.9675 - val_loss: 0.1130 - val_acc: 0.9736\n",
      "Epoch 24/30\n",
      "227/227 [==============================] - 2s - loss: 0.1059 - acc: 0.9671 - val_loss: 0.1144 - val_acc: 0.9736\n",
      "Epoch 25/30\n",
      "227/227 [==============================] - 2s - loss: 0.0982 - acc: 0.9696 - val_loss: 0.1150 - val_acc: 0.9686\n",
      "Epoch 26/30\n",
      "227/227 [==============================] - 2s - loss: 0.1041 - acc: 0.9667 - val_loss: 0.1082 - val_acc: 0.9721\n",
      "Epoch 27/30\n",
      "227/227 [==============================] - 2s - loss: 0.1008 - acc: 0.9665 - val_loss: 0.1101 - val_acc: 0.9721\n",
      "Epoch 28/30\n",
      "227/227 [==============================] - 2s - loss: 0.0959 - acc: 0.9693 - val_loss: 0.1224 - val_acc: 0.9716\n",
      "Epoch 29/30\n",
      "227/227 [==============================] - 2s - loss: 0.0886 - acc: 0.9744 - val_loss: 0.1170 - val_acc: 0.9706\n",
      "Epoch 30/30\n",
      "227/227 [==============================] - 2s - loss: 0.0960 - acc: 0.9690 - val_loss: 0.1216 - val_acc: 0.9711\n"
     ]
    },
    {
     "data": {
      "text/plain": [
       "<keras.callbacks.History at 0x18189d9fd0>"
      ]
     },
     "execution_count": 15,
     "metadata": {},
     "output_type": "execute_result"
    }
   ],
   "source": [
    "# Fit the model on the batches generated by datagen.flow().\n",
    "model.fit_generator(datagen.flow(x_train, y_train,\n",
    "                                 batch_size=batch_size),\n",
    "                    samples_per_epoch=x_train.shape[0],\n",
    "                    nb_epoch = epochs,\n",
    "                    validation_data=(x_test, y_test))"
   ]
  },
  {
   "cell_type": "code",
   "execution_count": 17,
   "metadata": {
    "collapsed": false
   },
   "outputs": [
    {
     "name": "stdout",
     "output_type": "stream",
     "text": [
      "Test score: 0.121616516067\n",
      "Test accuracy: 0.971101146108\n"
     ]
    }
   ],
   "source": [
    "# prediction accuracy of the fitted model\n",
    "score = model.evaluate(x_test, y_test, verbose=0)\n",
    "print('Test score:', score[0])\n",
    "print('Test accuracy:', score[1])"
   ]
  },
  {
   "cell_type": "markdown",
   "metadata": {
    "collapsed": true
   },
   "source": [
    "We will compare this model to a linear model---a generalized linear model with $L_1$ penalty. Here is the result. First, we set the tuning parameter to be 1."
   ]
  },
  {
   "cell_type": "code",
   "execution_count": 18,
   "metadata": {
    "collapsed": true
   },
   "outputs": [],
   "source": [
    "import numpy as np\n",
    "import numpy.random as npr\n",
    "import sklearn.linear_model as skl\n",
    "import matplotlib.pyplot as plt\n",
    "%matplotlib inline"
   ]
  },
  {
   "cell_type": "code",
   "execution_count": 20,
   "metadata": {
    "collapsed": true
   },
   "outputs": [],
   "source": [
    "x_train = train[:, 1:]\n",
    "y_train = train[:, 0].astype(np.int32)\n",
    "x_test = test[:, 1:]\n",
    "y_test = test[:, 0].astype(np.int32)"
   ]
  },
  {
   "cell_type": "code",
   "execution_count": 21,
   "metadata": {
    "collapsed": false
   },
   "outputs": [
    {
     "name": "stdout",
     "output_type": "stream",
     "text": [
      "The prediction accuracy under C=1 is 0.912805181863\n"
     ]
    },
    {
     "name": "stderr",
     "output_type": "stream",
     "text": [
      "/Users/linxiliu/anaconda/lib/python2.7/site-packages/sklearn/linear_model/sag.py:326: ConvergenceWarning: The max_iter was reached which means the coef_ did not converge\n",
      "  \"the coef_ did not converge\", ConvergenceWarning)\n"
     ]
    }
   ],
   "source": [
    "lr = skl.LogisticRegression(penalty=\"l1\", multi_class='multinomial', C=1, solver='saga')\n",
    "lr.fit(x_train, y_train)\n",
    "y_pred = lr.predict(x_test)\n",
    "err = np.mean(y_pred != y_test)\n",
    "print(\"The prediction accuracy under C=1 is {0}\".format(1 - err))"
   ]
  },
  {
   "cell_type": "markdown",
   "metadata": {},
   "source": [
    "We use cross validation to select the tuning parameter."
   ]
  },
  {
   "cell_type": "code",
   "execution_count": null,
   "metadata": {
    "collapsed": false
   },
   "outputs": [],
   "source": [
    "Cs = np.exp(np.linspace(-5, 8, 20))\n",
    "nfold = 5\n",
    "lrCV = skl.LogisticRegressionCV(Cs=Cs,\n",
    "                                cv=nfold, penalty=\"l1\",\n",
    "                                solver='saga',\n",
    "                                multi_class=\"multinomial\",\n",
    "                                scoring=\"neg_log_loss\",\n",
    "                                refit=True)\n",
    "lrCV.fit(x_train, y_train)"
   ]
  },
  {
   "cell_type": "code",
   "execution_count": 17,
   "metadata": {
    "collapsed": false
   },
   "outputs": [
    {
     "name": "stdout",
     "output_type": "stream",
     "text": [
      "The optimal tuned prediction accuracy (5-fold CV) is 0.911808669656\n"
     ]
    }
   ],
   "source": [
    "y_pred_optimal = lrCV.predict(x_test)\n",
    "err_optimal = np.mean(y_pred_optimal != y_test)\n",
    "print(\"The optimal tuned prediction accuracy (5-fold CV) is {0}\".format(1 - err_optimal))"
   ]
  },
  {
   "cell_type": "code",
   "execution_count": 18,
   "metadata": {
    "collapsed": true
   },
   "outputs": [],
   "source": [
    "score_avg = -np.mean(lrCV.scores_[0], axis=0)\n",
    "score_std = np.std(lrCV.scores_[0], axis=0) / np.sqrt(nfold)"
   ]
  },
  {
   "cell_type": "code",
   "execution_count": 25,
   "metadata": {
    "collapsed": false,
    "scrolled": true
   },
   "outputs": [
    {
     "data": {
      "image/png": "[encoded data removed]",
      "text/plain": [
       "<matplotlib.figure.Figure at 0x1a2e3eba50>"
      ]
     },
     "metadata": {},
     "output_type": "display_data"
    }
   ],
   "source": [
    "fg = plt.figure(figsize=(6, 6))\n",
    "ax = fg.add_subplot(1, 1, 1)\n",
    "ax.set_title(\"$L_1$ Penalized Logistic Regression Path\")\n",
    "ax.set_xlabel(\"$\\log(\\lambda)$\")\n",
    "ax.set_ylabel(\"CV Error\")\n",
    "ax.errorbar(-np.log(Cs), score_avg, yerr=score_std, capsize=2, marker='.', ms=10, mfc=\"red\", color=\"red\", ecolor=\"red\")\n",
    "ax.legend(loc=\"best\")"
   ]
  },
  {
   "cell_type": "markdown",
   "metadata": {},
   "source": [
    "The performance of convolutional neural networks is better than the linear method."
   ]
  }
 ],
 "metadata": {
  "anaconda-cloud": {},
  "kernelspec": {
   "display_name": "Python [conda root]",
   "language": "python",
   "name": "conda-root-py"
  },
  "language_info": {
   "codemirror_mode": {
    "name": "ipython",
    "version": 2
   },
   "file_extension": ".py",
   "mimetype": "text/x-python",
   "name": "python",
   "nbconvert_exporter": "python",
   "pygments_lexer": "ipython2",
   "version": "2.7.12"
  }
 },
 "nbformat": 4,
 "nbformat_minor": 1
}
