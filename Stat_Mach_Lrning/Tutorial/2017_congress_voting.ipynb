{
 "cells": [
  {
   "cell_type": "markdown",
   "metadata": {},
   "source": [
    "## Tutorial 4: Logistic Regression "
   ]
  },
  {
   "cell_type": "markdown",
   "metadata": {},
   "source": [
    "### Preprocessing"
   ]
  },
  {
   "cell_type": "markdown",
   "metadata": {},
   "source": [
    "We will generate the data file `2017_cleaned_votes.csv` using the following function that scrapes the votes for a given roll call in a given year."
   ]
  },
  {
   "cell_type": "code",
   "execution_count": 1,
   "metadata": {
    "collapsed": true
   },
   "outputs": [],
   "source": [
    "import urllib, os.path, time\n",
    "import xml.etree.ElementTree as ET\n",
    "import numpy as np"
   ]
  },
  {
   "cell_type": "code",
   "execution_count": 7,
   "metadata": {
    "collapsed": true
   },
   "outputs": [],
   "source": [
    "def scrape_votes(year, roll, sleep=True):\n",
    "       \"\"\"\n",
    "       For a given year and roll call number, download the votes\n",
    "       as an XML file, retrieve all votes and return an array that\n",
    "       has a row for each member of the House, their ID, their party\n",
    "       and their vote, represented as a string in the \"vote\" field\n",
    "       and a numeric representation in their \"numeric_vote\" field.\n",
    "\n",
    "       An \"Aye\" was coded as 1, \"Nay\" as -1, with \"Not Voting\" and\n",
    "       \"Present\" coded as 0.\n",
    "       \"\"\"\n",
    "\n",
    "       # download the data and make a local copy\n",
    "       if not os.path.exists(\"./vote/%s_%s.xml\" % (year, roll)):\n",
    "           if sleep:\n",
    "                time.sleep(np.random.randint(2,4))\n",
    "           data = urllib.urlopen(\"http://clerk.house.gov/evs/%d/roll%03d.xml\" % (year, roll)).read()\n",
    "           f = file(\"./vote/%s_%s.xml\" % (year, roll), 'w')\n",
    "           f.write(data)\n",
    "           f.close()\n",
    "       data = file(\"./vote/%s_%s.xml\" % (year, roll))\n",
    "\n",
    "       # parse the XML tree\n",
    "       # an investigation of one of the .xml files shows that\n",
    "       # the information we want is in the <recorded-vote> tags\n",
    "\n",
    "       xml_data = ET.parse(data)\n",
    "       values = []\n",
    "       for vote in xml_data.find('vote-data').findall('recorded-vote'):\n",
    "           legislator = vote.find('legislator')\n",
    "           name = legislator.get('unaccented-name')\n",
    "           ident = legislator.get('name-id')\n",
    "           party = legislator.get('party')\n",
    "           v = vote.find('vote').text\n",
    "           values.append((name, v, party, ident, {'Yea':1,'Aye':1, 'Nay':-1, 'Not Voting':0, 'Present':0, 'No':-1}[v]))\n",
    "\n",
    "       return np.array(values, np.dtype([('name', '|S50'),\n",
    "                                         ('vote%d' % roll, '|S12'),\n",
    "                                         ('party', '|S15'),\n",
    "                                         ('id', '|S12'),\n",
    "                                         ('numeric_vote%d' % roll, np.int)]))"
   ]
  },
  {
   "cell_type": "markdown",
   "metadata": {},
   "source": [
    "Here’s a sample of what this function returns."
   ]
  },
  {
   "cell_type": "code",
   "execution_count": 8,
   "metadata": {
    "collapsed": false
   },
   "outputs": [
    {
     "data": {
      "text/plain": [
       "array([('Abraham', 'No', 'R', 'A000374', -1),\n",
       "       ('Adams', 'Aye', 'D', 'A000370',  1),\n",
       "       ('Aderholt', 'No', 'R', 'A000055', -1),\n",
       "       ('Aguilar', 'Aye', 'D', 'A000371',  1),\n",
       "       ('Allen', 'No', 'R', 'A000372', -1),\n",
       "       ('Amash', 'No', 'R', 'A000367', -1),\n",
       "       ('Amodei', 'No', 'R', 'A000369', -1),\n",
       "       ('Arrington', 'No', 'R', 'A000375', -1),\n",
       "       ('Babin', 'No', 'R', 'B001291', -1),\n",
       "       ('Bacon', 'No', 'R', 'B001298', -1),\n",
       "       ('Banks (IN)', 'No', 'R', 'B001299', -1),\n",
       "       ('Barletta', 'No', 'R', 'B001269', -1),\n",
       "       ('Barr', 'No', 'R', 'B001282', -1),\n",
       "       ('Barragan', 'Aye', 'D', 'B001300',  1),\n",
       "       ('Barton', 'Aye', 'R', 'B000213',  1),\n",
       "       ('Bass', 'Aye', 'D', 'B001270',  1),\n",
       "       ('Beatty', 'Aye', 'D', 'B001281',  1),\n",
       "       ('Bera', 'Aye', 'D', 'B001287',  1),\n",
       "       ('Bergman', 'No', 'R', 'B001301', -1),\n",
       "       ('Beyer', 'Aye', 'D', 'B001292',  1)],\n",
       "      dtype=[('name', 'S50'), ('vote501', 'S12'), ('party', 'S15'), ('id', 'S12'), ('numeric_vote501', '<i8')])"
      ]
     },
     "execution_count": 8,
     "metadata": {},
     "output_type": "execute_result"
    }
   ],
   "source": [
    "scrape_votes(2017,501)[:20]"
   ]
  },
  {
   "cell_type": "markdown",
   "metadata": {},
   "source": [
    "We will get all votes for 2017 using a simple loops (with a little sleep so we don’t get kicked out of the server)."
   ]
  },
  {
   "cell_type": "code",
   "execution_count": 9,
   "metadata": {
    "collapsed": true
   },
   "outputs": [],
   "source": [
    "import matplotlib.mlab as ML # for recarray utils\n",
    "\n",
    "def get_all_votes():\n",
    "    data = scrape_votes(2017, 1)\n",
    "    rolls_found = [1]\n",
    "    for i in range(2,711):\n",
    "        try:\n",
    "            new_votes = scrape_votes(2017,i)\n",
    "            newdata = ML.rec_join('id', data, ML.rec_drop_fields(new_votes,\n",
    "                                                             ['name', 'party']))\n",
    "            if newdata.shape[0] < 10:\n",
    "                # A merge seems to have failed if this happens...\n",
    "                raise ValueError\n",
    "            else:\n",
    "                data = newdata\n",
    "            rolls_found.append(i)\n",
    "        except:\n",
    "            # Roll 2 is election of the speaker... not a Y/N vote\n",
    "            pass\n",
    "\n",
    "        # every 100th vote, let's save what we have to disk\n",
    "        if i % 100 == 0:\n",
    "            ML.rec2csv(data, './data/2017_votes.csv', delimiter=';')\n",
    "\n",
    "    # we don't need all columns to analyse the data\n",
    "    cleaned = ML.rec_keep_fields(data, ['party'] + [n for n in data.dtype.names if 'numeric_vote' in n])\n",
    "    ML.rec2csv(cleaned, './data/2017_cleaned_votes.csv', delimiter=';')\n",
    "    ML.rec2csv(data, './data/2017_votes.csv', delimiter=';')\n",
    "\n",
    "force = False\n",
    "if not os.path.exists('./data/2017_cleaned_votes.csv') or force:\n",
    "    get_all_votes()"
   ]
  },
  {
   "cell_type": "code",
   "execution_count": null,
   "metadata": {
    "collapsed": true
   },
   "outputs": [],
   "source": []
  }
 ],
 "metadata": {
  "anaconda-cloud": {},
  "kernelspec": {
   "display_name": "Python [conda root]",
   "language": "python",
   "name": "conda-root-py"
  },
  "language_info": {
   "codemirror_mode": {
    "name": "ipython",
    "version": 2
   },
   "file_extension": ".py",
   "mimetype": "text/x-python",
   "name": "python",
   "nbconvert_exporter": "python",
   "pygments_lexer": "ipython2",
   "version": "2.7.12"
  }
 },
 "nbformat": 4,
 "nbformat_minor": 1
}
