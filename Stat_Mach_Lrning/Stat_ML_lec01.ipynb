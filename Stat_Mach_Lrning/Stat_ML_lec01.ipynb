{
 "cells": [
  {
   "cell_type": "markdown",
   "metadata": {},
   "source": [
    "true model is $Y=f(X)+\\epsilon$\n",
    "$$\n",
    "\\begin{split}\n",
    "&E(y_0-\\hat2{f}(x_0))^2\\\\\n",
    "&=E(y_0-f(x_0)+f(x_0)-E(\\hat{f}(x_0))+E(\\hat{f}(x_0))-\\hat2{f}(x_0))^2\\\\\n",
    "&=0\n",
    "\\end{split}\n",
    "$$\n",
    "\n",
    "$y_0-f(x_0)$ is $ \\epsilon $ the variance of noise.<br>\n",
    "$f(x_0)-E(\\hat{f}(x_0)) $ is a constant.<br>\n",
    "after taking expection, the last term $E(\\hat{f}(x_0))-\\hat2{f}(x_0)$ will be 0.<br>"
   ]
  },
  {
   "cell_type": "markdown",
   "metadata": {},
   "source": [
    "<p align=\"right\">??</p>\n",
    "<p align=\"right\">诶嘿</p>\n",
    "<right>这一行需要居中</right>"
   ]
  }
 ],
 "metadata": {
  "kernelspec": {
   "display_name": "Python 2",
   "language": "python",
   "name": "python2"
  },
  "language_info": {
   "codemirror_mode": {
    "name": "ipython",
    "version": 2
   },
   "file_extension": ".py",
   "mimetype": "text/x-python",
   "name": "python",
   "nbconvert_exporter": "python",
   "pygments_lexer": "ipython2",
   "version": "2.7.10"
  }
 },
 "nbformat": 4,
 "nbformat_minor": 2
}
