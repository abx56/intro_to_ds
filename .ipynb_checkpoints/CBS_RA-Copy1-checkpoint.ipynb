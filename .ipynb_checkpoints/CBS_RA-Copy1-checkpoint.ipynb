{
 "cells": [
  {
   "cell_type": "code",
   "execution_count": 1,
   "metadata": {},
   "outputs": [],
   "source": [
    "import pandas as pd\n",
    "import numpy as np\n",
    "import matplotlib.pyplot as plt\n",
    "import urllib2 as url # the lib that handles the url stuff\n",
    "\n",
    "from requests import session,Request\n",
    "from bs4 import BeautifulSoup as bs\n",
    "import scrapy\n",
    "from scrapy.selector import HtmlXPathSelector\n",
    "from scrapy.http import Request\n",
    "\n",
    "import requests\n",
    "from lxml import html"
   ]
  },
  {
   "cell_type": "code",
   "execution_count": 33,
   "metadata": {},
   "outputs": [],
   "source": [
    "url=\"http://www.ziyoubaba.com/2016/05/29/python_catch_js\"\n",
    "# url=\"https://app.labelinsight.com/explore/product/id/4653440\""
   ]
  },
  {
   "cell_type": "code",
   "execution_count": 34,
   "metadata": {},
   "outputs": [],
   "source": [
    "import requests\n",
    "#传统方式抓取页面\n",
    "def get_url_code(url):\n",
    "    #声明header，伪装成浏览器\n",
    "    headers={\"user-agent\":\"Mozilla/5.0 (windows NT6.1;WOW64 ; rv:42 ) Gecko/20100101 Firefox/42.0\"}\n",
    "    session_req=requests.session() #构造一个兼容cookie的请求\n",
    "    req=session_req.get(url=url,headers=headers) #向url发送get请求，获取整个页面\n",
    "    req.encoding=\"utf-8\" #指定页面的编码\n",
    "    #print(req.text) #将页面的源代码输出到屏幕\n",
    "    return req.text #返回页面的源代码"
   ]
  },
  {
   "cell_type": "code",
   "execution_count": 35,
   "metadata": {},
   "outputs": [
    {
     "name": "stdout",
     "output_type": "stream",
     "text": [
      "啊喽哈！这里是静态页面哦！再试试……\n"
     ]
    }
   ],
   "source": [
    "from bs4 import BeautifulSoup #导入包\n",
    "def get_text_line(html):\n",
    "    soup=BeautifulSoup(html, \"lxml\")\n",
    "    text_line=soup.find('span',id='text_line') #找到id='text_line'的span标签\n",
    "    print(text_line.text) #打印出来该span标签的文本\n",
    "#执行一下看看效果如何\n",
    "get_text_line(get_url_code(url)) #将输出一条文本"
   ]
  },
  {
   "cell_type": "code",
   "execution_count": 36,
   "metadata": {},
   "outputs": [
    {
     "name": "stdout",
     "output_type": "stream",
     "text": [
      "这里是动态文本，成功了！\n"
     ]
    }
   ],
   "source": [
    "import dryscrape\n",
    "# 使用dryscrape库 动态抓取页面\n",
    "def get_url_dynamic(url):\n",
    "    session_req=dryscrape.Session()\n",
    "    session_req.visit(url) #请求页面\n",
    "    response=session_req.body() #网页的文本\n",
    "    #print(response)\n",
    "    return response\n",
    "get_text_line(get_url_dynamic(url)) #将输出一条文本"
   ]
  },
  {
   "cell_type": "markdown",
   "metadata": {},
   "source": [
    "### EDA"
   ]
  },
  {
   "cell_type": "code",
   "execution_count": 14,
   "metadata": {
    "scrolled": true
   },
   "outputs": [
    {
     "name": "stdout",
     "output_type": "stream",
     "text": [
      "Logging in...\n",
      "None\n"
     ]
    },
    {
     "ename": "AttributeError",
     "evalue": "'NoneType' object has no attribute 'set'",
     "output_type": "error",
     "traceback": [
      "\u001b[0;31m---------------------------------------------------------------------------\u001b[0m",
      "\u001b[0;31mAttributeError\u001b[0m                            Traceback (most recent call last)",
      "\u001b[0;32m<ipython-input-14-6ccbdcea5b98>\u001b[0m in \u001b[0;36m<module>\u001b[0;34m()\u001b[0m\n\u001b[1;32m     35\u001b[0m \u001b[0mpassword_field\u001b[0m \u001b[0;34m=\u001b[0m \u001b[0msess\u001b[0m\u001b[0;34m.\u001b[0m\u001b[0mat_css\u001b[0m\u001b[0;34m(\u001b[0m\u001b[0;34m'#userPassword'\u001b[0m\u001b[0;34m)\u001b[0m\u001b[0;34m\u001b[0m\u001b[0m\n\u001b[1;32m     36\u001b[0m \u001b[0mprint\u001b[0m\u001b[0;34m(\u001b[0m\u001b[0memail_field\u001b[0m\u001b[0;34m)\u001b[0m\u001b[0;34m\u001b[0m\u001b[0m\n\u001b[0;32m---> 37\u001b[0;31m \u001b[0memail_field\u001b[0m\u001b[0;34m.\u001b[0m\u001b[0mset\u001b[0m\u001b[0;34m(\u001b[0m\u001b[0memail\u001b[0m\u001b[0;34m)\u001b[0m\u001b[0;34m\u001b[0m\u001b[0m\n\u001b[0m\u001b[1;32m     38\u001b[0m \u001b[0mpassword_field\u001b[0m\u001b[0;34m.\u001b[0m\u001b[0mset\u001b[0m\u001b[0;34m(\u001b[0m\u001b[0mpassword\u001b[0m\u001b[0;34m)\u001b[0m\u001b[0;34m\u001b[0m\u001b[0m\n\u001b[1;32m     39\u001b[0m \u001b[0;34m\u001b[0m\u001b[0m\n",
      "\u001b[0;31mAttributeError\u001b[0m: 'NoneType' object has no attribute 'set'"
     ]
    }
   ],
   "source": [
    "import time\n",
    "import dryscrape\n",
    "\n",
    "#==========================================\n",
    "# Setup\n",
    "#==========================================\n",
    "\n",
    "email    = 'kristina.brecko@simon.rochester.edu'\n",
    "password = '9xQWPnXdEkWCDR'\n",
    "\n",
    "# set up a web scraping session\n",
    "sess = dryscrape.Session(base_url = 'https://app.labelinsight.com/login')\n",
    "\n",
    "# there are some failing HTTP requests, so we need to enter\n",
    "# a more error-resistant mode (like real browsers do)\n",
    "sess.set_error_tolerant(True)\n",
    "\n",
    "# we don't need images\n",
    "sess.set_attribute('auto_load_images', False)\n",
    "\n",
    "# if we wanted, we could also configure a proxy server to use,\n",
    "# so we can for example use Fiddler to monitor the requests\n",
    "# performed by this script\n",
    "#sess.set_proxy('localhost', 8888)\n",
    "\n",
    "#==========================================\n",
    "# GMail send a mail to self\n",
    "#==========================================\n",
    "\n",
    "# visit homepage and log in\n",
    "print(\"Logging in...\")\n",
    "sess.visit('/')\n",
    "\n",
    "email_field    = sess.at_css('#userEmail')\n",
    "password_field = sess.at_css('#userPassword')\n",
    "print(email_field)\n",
    "email_field.set(email)\n",
    "password_field.set(password)\n",
    "\n",
    "email_field.form().submit()\n",
    "\n",
    "# find the COMPOSE button and click it\n",
    "print(\"Sending a mail...\")\n",
    "compose = sess.at_xpath('//*[contains(text(), \"COMPOSE\")]')\n",
    "compose.click()\n",
    "\n",
    "# compose the mail\n",
    "to      = sess.at_xpath('//*[@name=\"to\"]', timeout=10)\n",
    "subject = sess.at_xpath('//*[@name=\"subject\"]')\n",
    "body    = sess.at_xpath('//*[@name=\"body\"]')\n",
    "\n",
    "to.set(email)\n",
    "subject.set(\"Note to self\")\n",
    "body.set(\"Remember to try dryscrape!\")\n",
    "\n",
    "# send the mail\n",
    "\n",
    "# seems like we need to wait a bit before clicking...\n",
    "# Blame Google for this ;)\n",
    "time.sleep(3)\n",
    "send = sess.at_xpath('//*[normalize-space(text()) = \"Send\"]')\n",
    "send.click()\n",
    "\n",
    "# open the mail\n",
    "print(\"Reading the mail...\")\n",
    "mail = sess.at_xpath('//*[normalize-space(text()) = \"Note to self\"]',\n",
    "                     timeout=10)\n",
    "mail.click()\n",
    "\n",
    "# sleep a bit to leave the mail a chance to open.\n",
    "# This is ugly, it would be better to find something\n",
    "# on the resulting page that we can wait for\n",
    "time.sleep(3)\n",
    "\n",
    "# save a screenshot of the web page\n",
    "print(\"Writing screenshot to 'gmail.png'\")\n",
    "sess.render('gmail.png')"
   ]
  },
  {
   "cell_type": "markdown",
   "metadata": {},
   "source": [
    "### login facebook"
   ]
  },
  {
   "cell_type": "code",
   "execution_count": 52,
   "metadata": {
    "scrolled": false
   },
   "outputs": [
    {
     "name": "stdout",
     "output_type": "stream",
     "text": [
      "<Node #/html/body/div[@id='viewport']/div[@id='page']/div[@id='root']/div[1]/div[@id='u_0_0']/div[2]/div[2]/form[@id='login_form']/div[1]/div/div[@id='email_input_container']/input[@id='m_login_email']>\n",
      "<Node #/html/body/div[@id='viewport']/div[@id='page']/div[@id='root']/div[1]/div[@id='u_0_0']/div[2]/div[2]/form[@id='login_form']/div[1]/div/div[2]/div/div/div[1]/div/input[@id='m_login_password']>\n",
      "Screenshot written to 'facebook.png'\n"
     ]
    }
   ],
   "source": [
    "# set up a web scraping session\n",
    "sess = dryscrape.Session(base_url = 'https://www.facebook.com')\n",
    "\n",
    "# we don't need images\n",
    "sess.set_attribute('auto_load_images', False)\n",
    "\n",
    "# visit homepage and search for a term\n",
    "sess.visit('/')\n",
    "q = sess.at_xpath('//*[@name=\"email\"]')\n",
    "print(q)\n",
    "q.set('baidu_xiaohao1@126.com')\n",
    "q = sess.at_xpath('//*[@name=\"pass\"]')\n",
    "print(q)\n",
    "q.set('123456abc7')\n",
    "# login_button = sess.at_xpath('//*[@id=\"u_0_2\"]')\n",
    "# login_button = sess.at_css('#u_0_2')\n",
    "# login_button.click()\n",
    "q.form().submit()\n",
    "\n",
    "# save a screenshot of the web page\n",
    "sess.render('facebook.png')\n",
    "print(\"Screenshot written to 'facebook.png'\")"
   ]
  },
  {
   "cell_type": "code",
   "execution_count": 87,
   "metadata": {
    "scrolled": false
   },
   "outputs": [
    {
     "name": "stdout",
     "output_type": "stream",
     "text": [
      "None\n"
     ]
    },
    {
     "ename": "AttributeError",
     "evalue": "'NoneType' object has no attribute 'set'",
     "output_type": "error",
     "traceback": [
      "\u001b[0;31m---------------------------------------------------------------------------\u001b[0m",
      "\u001b[0;31mAttributeError\u001b[0m                            Traceback (most recent call last)",
      "\u001b[0;32m<ipython-input-87-708a2f837bac>\u001b[0m in \u001b[0;36m<module>\u001b[0;34m()\u001b[0m\n\u001b[1;32m     10\u001b[0m \u001b[0;34m\u001b[0m\u001b[0m\n\u001b[1;32m     11\u001b[0m \u001b[0mprint\u001b[0m\u001b[0;34m(\u001b[0m\u001b[0mq\u001b[0m\u001b[0;34m)\u001b[0m\u001b[0;34m\u001b[0m\u001b[0m\n\u001b[0;32m---> 12\u001b[0;31m \u001b[0mq\u001b[0m\u001b[0;34m.\u001b[0m\u001b[0mset\u001b[0m\u001b[0;34m(\u001b[0m\u001b[0;34m'kristina.brecko@simon.rochester.edu'\u001b[0m\u001b[0;34m)\u001b[0m\u001b[0;34m\u001b[0m\u001b[0m\n\u001b[0m\u001b[1;32m     13\u001b[0m \u001b[0mq\u001b[0m \u001b[0;34m=\u001b[0m \u001b[0msess\u001b[0m\u001b[0;34m.\u001b[0m\u001b[0mat_xpath\u001b[0m\u001b[0;34m(\u001b[0m\u001b[0;34m'/html/body/div[2]/div/div/div/div/main/form/div[2]/label'\u001b[0m\u001b[0;34m)\u001b[0m\u001b[0;34m\u001b[0m\u001b[0m\n\u001b[1;32m     14\u001b[0m \u001b[0;31m# print(q)\u001b[0m\u001b[0;34m\u001b[0m\u001b[0;34m\u001b[0m\u001b[0m\n",
      "\u001b[0;31mAttributeError\u001b[0m: 'NoneType' object has no attribute 'set'"
     ]
    }
   ],
   "source": [
    "# set up a web scraping session\n",
    "sess = dryscrape.Session(base_url = 'https://app.labelinsight.com/login')\n",
    "\n",
    "# we don't need images\n",
    "sess.set_attribute('auto_load_images', False)\n",
    "\n",
    "# visit homepage and search for a term\n",
    "sess.visit('/')\n",
    "q = sess.at_xpath('/html/body/div[2]/div/div/div/div/main/form/div[1]/label')\n",
    "\n",
    "print(q)\n",
    "q.set('kristina.brecko@simon.rochester.edu')\n",
    "q = sess.at_xpath('/html/body/div[2]/div/div/div/div/main/form/div[2]/label')\n",
    "# print(q)\n",
    "q.set('9xQWPnXdEkWCDR')\n",
    "login_button = sess.at_xpath('/html/body/div[2]/div/div/div/div/main/form/div[3]')\n",
    "login_button.click()\n",
    "\n",
    "# save a screenshot of the web page\n",
    "sess.render('labelinsight.png')\n",
    "print(\"Screenshot written to 'labelinsight.png'\")"
   ]
  },
  {
   "cell_type": "markdown",
   "metadata": {},
   "source": [
    "### google search result"
   ]
  },
  {
   "cell_type": "code",
   "execution_count": 16,
   "metadata": {},
   "outputs": [
    {
     "name": "stdout",
     "output_type": "stream",
     "text": [
      "https://plus.google.com/?gpsrc=ogpy0&tab=wX\n",
      "https://www.google.com/webhp?tab=ww\n",
      "http://www.google.com/search?hl=en&tbm=isch&source=og&tab=wi\n",
      "http://maps.google.com/maps?hl=en&tab=wl\n",
      "https://play.google.com/?hl=en&tab=w8\n",
      "http://www.youtube.com/results?gl=US&tab=w1\n",
      "http://news.google.com/nwshp?hl=en&tab=wn\n",
      "https://mail.google.com/mail/?tab=wm\n",
      "https://www.google.com/intl/en/options/\n",
      "https://drive.google.com/?tab=wo\n",
      "https://www.google.com/calendar?tab=wc\n",
      "http://translate.google.com/?hl=en&tab=wT\n",
      "http://www.google.com/mobile/?hl=en&tab=wD\n",
      "http://www.google.com/search?hl=en&tbo=u&tbm=bks&source=og&tab=wp\n",
      "http://www.google.com/search?hl=en&tbo=u&tbm=shop&source=og&tab=wf\n",
      "http://www.blogger.com/?tab=wj\n",
      "http://www.google.com/finance?tab=we\n",
      "https://photos.google.com/?tab=wq&pageId=none\n",
      "http://www.google.com/search?hl=en&tbo=u&tbm=vid&source=og&tab=wv\n",
      "https://docs.google.com/document/?usp=docs_alc\n",
      "https://www.google.com/intl/en/options/\n",
      "https://accounts.google.com/ServiceLogin?hl=en&passive=true&continue=http://www.google.com/search%3Fhl%3Den%26source%3Dhp%26biw%3D%26bih%3D%26q%3Ddryscrape%26gbv%3D2\n",
      "http://www.google.com/preferences?hl=en\n",
      "/preferences?hl=en\n",
      "http://www.google.com/history/optout?hl=en\n",
      "/webhp?hl=en\n",
      "/search?q=dryscrape&hl=en&gbv=2&prmd=ivns&source=lnms&tbm=isch&sa=X&ved=0ahUKEwiikOjlyfTaAhViRN8KHYZdALgQ_AUIBQ\n",
      "/search?q=dryscrape&hl=en&gbv=2&prmd=ivns&source=lnms&tbm=vid&sa=X&ved=0ahUKEwiikOjlyfTaAhViRN8KHYZdALgQ_AUIBg\n",
      "/search?q=dryscrape&hl=en&gbv=2&prmd=ivns&source=lnms&tbm=nws&sa=X&ved=0ahUKEwiikOjlyfTaAhViRN8KHYZdALgQ_AUIBw\n",
      "/search?q=dryscrape&hl=en&gbv=2&prmd=ivns&source=lnms&tbm=shop&sa=X&ved=0ahUKEwiikOjlyfTaAhViRN8KHYZdALgQ_AUICA\n",
      "http://maps.google.com/maps?hl=en&q=dryscrape&gbv=2&um=1&ie=UTF-8&sa=X&ved=0ahUKEwiikOjlyfTaAhViRN8KHYZdALgQ_AUICQ\n",
      "/search?q=dryscrape&hl=en&gbv=2&prmd=ivns&source=lnms&tbm=bks&sa=X&ved=0ahUKEwiikOjlyfTaAhViRN8KHYZdALgQ_AUICg\n",
      "/search?q=dryscrape&hl=en&gbv=2&prmd=ivns&source=lnt&tbs=qdr:h&sa=X&ved=0ahUKEwiikOjlyfTaAhViRN8KHYZdALgQpwUIDw\n",
      "/search?q=dryscrape&hl=en&gbv=2&prmd=ivns&source=lnt&tbs=qdr:d&sa=X&ved=0ahUKEwiikOjlyfTaAhViRN8KHYZdALgQpwUIDw\n",
      "/search?q=dryscrape&hl=en&gbv=2&prmd=ivns&source=lnt&tbs=qdr:w&sa=X&ved=0ahUKEwiikOjlyfTaAhViRN8KHYZdALgQpwUIDw\n",
      "/search?q=dryscrape&hl=en&gbv=2&prmd=ivns&source=lnt&tbs=qdr:m&sa=X&ved=0ahUKEwiikOjlyfTaAhViRN8KHYZdALgQpwUIDw\n",
      "/search?q=dryscrape&hl=en&gbv=2&prmd=ivns&source=lnt&tbs=qdr:y&sa=X&ved=0ahUKEwiikOjlyfTaAhViRN8KHYZdALgQpwUIDw\n",
      "/search?q=dryscrape&hl=en&gbv=2&prmd=ivns&source=lnt&tbs=li:1&sa=X&ved=0ahUKEwiikOjlyfTaAhViRN8KHYZdALgQpwUIDw\n",
      "/url?q=https://dryscrape.readthedocs.io/&sa=U&ved=0ahUKEwiikOjlyfTaAhViRN8KHYZdALgQFggUMAA&usg=AOvVaw0AbzHjBqTWc4d5RAKPeswJ\n",
      "/url?q=http://webcache.googleusercontent.com/search%3Fq%3Dcache:Z33ZvJqISdQJ:https://dryscrape.readthedocs.io/%252Bdryscrape%26hl%3Den%26gbv%3D2%26ct%3Dclnk&sa=U&ved=0ahUKEwiikOjlyfTaAhViRN8KHYZdALgQIAgXMAA&usg=AOvVaw3UGsJ9Vi11BEyrvZzTHMet\n",
      "/search?hl=en&gbv=2&q=related:https://dryscrape.readthedocs.io/+dryscrape&tbo=1&sa=X&ved=0ahUKEwiikOjlyfTaAhViRN8KHYZdALgQHwgYMAA\n",
      "/url?q=http://dryscrape.readthedocs.io/en/latest/installation.html&sa=U&ved=0ahUKEwiikOjlyfTaAhViRN8KHYZdALgQ0gIIGigAMAA&usg=AOvVaw0jw9id1dXfbRzYwcFUx1nU\n",
      "/url?q=http://dryscrape.readthedocs.io/en/latest/genindex.html&sa=U&ved=0ahUKEwiikOjlyfTaAhViRN8KHYZdALgQ0gIIGygBMAA&usg=AOvVaw0W-87UGc3BjvqZ25coz08Q\n",
      "/url?q=http://dryscrape.readthedocs.io/en/latest/apidoc.html&sa=U&ved=0ahUKEwiikOjlyfTaAhViRN8KHYZdALgQ0gIIHCgCMAA&usg=AOvVaw2vVN7WIErJwF8t-huF97zV\n",
      "/url?q=http://dryscrape.readthedocs.io/en/latest/usage.html&sa=U&ved=0ahUKEwiikOjlyfTaAhViRN8KHYZdALgQ0gIIHSgDMAA&usg=AOvVaw367zD9aGtN1Zw9IkZECxzT\n",
      "/url?q=http://dryscrape.readthedocs.io/en/latest/installation.html&sa=U&ved=0ahUKEwiikOjlyfTaAhViRN8KHYZdALgQFggfMAE&usg=AOvVaw0p6jjwGFJ9nXXa5KF6g0bP\n",
      "/url?q=http://webcache.googleusercontent.com/search%3Fq%3Dcache:JprJgu9FpKcJ:http://dryscrape.readthedocs.io/en/latest/installation.html%252Bdryscrape%26hl%3Den%26gbv%3D2%26ct%3Dclnk&sa=U&ved=0ahUKEwiikOjlyfTaAhViRN8KHYZdALgQIAgiMAE&usg=AOvVaw0R95-Poo2nc2M_vpcq4j_f\n",
      "/search?hl=en&gbv=2&q=related:dryscrape.readthedocs.io/en/latest/installation.html+dryscrape&tbo=1&sa=X&ved=0ahUKEwiikOjlyfTaAhViRN8KHYZdALgQHwgjMAE\n",
      "/url?q=https://dryscrape.readthedocs.io/en/stable/usage.html&sa=U&ved=0ahUKEwiikOjlyfTaAhViRN8KHYZdALgQFgglMAI&usg=AOvVaw0ceao53UIgF7Semt2XlTGj\n",
      "/url?q=http://webcache.googleusercontent.com/search%3Fq%3Dcache:tReK2FaE8D0J:https://dryscrape.readthedocs.io/en/stable/usage.html%252Bdryscrape%26hl%3Den%26gbv%3D2%26ct%3Dclnk&sa=U&ved=0ahUKEwiikOjlyfTaAhViRN8KHYZdALgQIAgoMAI&usg=AOvVaw3Jx01bvs6rNX9GnaIUoOh9\n",
      "/search?hl=en&gbv=2&q=related:https://dryscrape.readthedocs.io/en/stable/usage.html+dryscrape&tbo=1&sa=X&ved=0ahUKEwiikOjlyfTaAhViRN8KHYZdALgQHwgpMAI\n",
      "/url?q=https://github.com/niklasb/dryscrape&sa=U&ved=0ahUKEwiikOjlyfTaAhViRN8KHYZdALgQFggrMAM&usg=AOvVaw0uqbnhFoeSUco7viqK_x6O\n",
      "/url?q=http://webcache.googleusercontent.com/search%3Fq%3Dcache:RsofnDaRWuUJ:https://github.com/niklasb/dryscrape%252Bdryscrape%26hl%3Den%26gbv%3D2%26ct%3Dclnk&sa=U&ved=0ahUKEwiikOjlyfTaAhViRN8KHYZdALgQIAguMAM&usg=AOvVaw1f5uvCLUZQpHfXup8hOM37\n",
      "/search?hl=en&gbv=2&q=related:https://github.com/niklasb/dryscrape+dryscrape&tbo=1&sa=X&ved=0ahUKEwiikOjlyfTaAhViRN8KHYZdALgQHwgvMAM\n",
      "/url?q=https://github.com/niklasb/dryscrape/issues/32&sa=U&ved=0ahUKEwiikOjlyfTaAhViRN8KHYZdALgQFggxMAQ&usg=AOvVaw29ouvEAFxNr1o4HoABCV3C\n",
      "/url?q=http://webcache.googleusercontent.com/search%3Fq%3Dcache:ki5WP9CP2e4J:https://github.com/niklasb/dryscrape/issues/32%252Bdryscrape%26hl%3Den%26gbv%3D2%26ct%3Dclnk&sa=U&ved=0ahUKEwiikOjlyfTaAhViRN8KHYZdALgQIAg0MAQ&usg=AOvVaw2JqNapMb-c5_M2XaFQ27bl\n",
      "/search?hl=en&gbv=2&q=related:https://github.com/niklasb/dryscrape/issues/32+dryscrape&tbo=1&sa=X&ved=0ahUKEwiikOjlyfTaAhViRN8KHYZdALgQHwg1MAQ\n",
      "/url?q=https://github.com/niklasb/dryscrape/issues/7&sa=U&ved=0ahUKEwiikOjlyfTaAhViRN8KHYZdALgQFgg4MAU&usg=AOvVaw1-mHzXfH2czKsKToKOViI5\n",
      "/url?q=http://webcache.googleusercontent.com/search%3Fq%3Dcache:mAZg-WPCJtUJ:https://github.com/niklasb/dryscrape/issues/7%252Bdryscrape%26hl%3Den%26gbv%3D2%26ct%3Dclnk&sa=U&ved=0ahUKEwiikOjlyfTaAhViRN8KHYZdALgQIAg7MAU&usg=AOvVaw1Qx8FSzTn2xE_5eM3TfcRK\n",
      "/search?hl=en&gbv=2&q=related:https://github.com/niklasb/dryscrape/issues/7+dryscrape&tbo=1&sa=X&ved=0ahUKEwiikOjlyfTaAhViRN8KHYZdALgQHwg8MAU\n",
      "/url?q=https://stackoverflow.com/questions/41860952/web-scraping-with-dryscrape-and-beautifulsoup&sa=U&ved=0ahUKEwiikOjlyfTaAhViRN8KHYZdALgQFgg_MAY&usg=AOvVaw0O89cp2Z4COZNblEKwIn5F\n",
      "/url?q=http://webcache.googleusercontent.com/search%3Fq%3Dcache:ojQ6a3yBAw4J:https://stackoverflow.com/questions/41860952/web-scraping-with-dryscrape-and-beautifulsoup%252Bdryscrape%26hl%3Den%26gbv%3D2%26ct%3Dclnk&sa=U&ved=0ahUKEwiikOjlyfTaAhViRN8KHYZdALgQIAhCMAY&usg=AOvVaw3-0ckCtGkFjUKJNmPyZ8ST\n",
      "/search?hl=en&gbv=2&q=related:https://stackoverflow.com/questions/41860952/web-scraping-with-dryscrape-and-beautifulsoup+dryscrape&tbo=1&sa=X&ved=0ahUKEwiikOjlyfTaAhViRN8KHYZdALgQHwhDMAY\n",
      "/url?q=https://stackoverflow.com/questions/45699816/how-do-i-make-a-dryscrape-session&sa=U&ved=0ahUKEwiikOjlyfTaAhViRN8KHYZdALgQrAIIRigAMAY&usg=AOvVaw3j-VvCuhMtMCDRZxYTSp8E\n",
      "/url?q=https://stackoverflow.com/questions/44581865/dryscrape-visit-works-only-once-in-python&sa=U&ved=0ahUKEwiikOjlyfTaAhViRN8KHYZdALgQrAIIRygBMAY&usg=AOvVaw0FctjeqOPcsZGGx5LDVUE4\n",
      "/url?q=https://stackoverflow.com/questions/43602864/dryscrape-scrape-child-node-data-from-parent-node-list-using-xpath&sa=U&ved=0ahUKEwiikOjlyfTaAhViRN8KHYZdALgQrAIISCgCMAY&usg=AOvVaw3vApETJaF_s0Iyza9HD5OD\n",
      "/url?q=https://stackoverflow.com/questions/36280450/dryscrape-webkit-server-memory-leak&sa=U&ved=0ahUKEwiikOjlyfTaAhViRN8KHYZdALgQrAIISSgDMAY&usg=AOvVaw3bUUil3-nYY6UZUwqJrHkq\n",
      "/url?q=https://readthedocs.org/projects/dryscrape/downloads/pdf/latest/&sa=U&ved=0ahUKEwiikOjlyfTaAhViRN8KHYZdALgQFghLMAc&usg=AOvVaw1ohW2PMUZWZRA8c8RewxcH\n",
      "/url?q=http://webcache.googleusercontent.com/search%3Fq%3Dcache:IkxSKrWsc2oJ:https://readthedocs.org/projects/dryscrape/downloads/pdf/latest/%252Bdryscrape%26hl%3Den%26gbv%3D2%26ct%3Dclnk&sa=U&ved=0ahUKEwiikOjlyfTaAhViRN8KHYZdALgQIAhOMAc&usg=AOvVaw0Eolb1QV8yV2OxkMASbrEZ\n",
      "/search?hl=en&gbv=2&q=related:https://readthedocs.org/projects/dryscrape/downloads/pdf/latest/+dryscrape&tbo=1&sa=X&ved=0ahUKEwiikOjlyfTaAhViRN8KHYZdALgQHwhPMAc\n",
      "/url?q=https://askubuntu.com/questions/983456/how-to-install-dryscrape-in-ubuntu&sa=U&ved=0ahUKEwiikOjlyfTaAhViRN8KHYZdALgQFghSMAg&usg=AOvVaw3rs8slmWgh2jsH-thxfAsf\n",
      "/url?q=http://webcache.googleusercontent.com/search%3Fq%3Dcache:HziQPDw425EJ:https://askubuntu.com/questions/983456/how-to-install-dryscrape-in-ubuntu%252Bdryscrape%26hl%3Den%26gbv%3D2%26ct%3Dclnk&sa=U&ved=0ahUKEwiikOjlyfTaAhViRN8KHYZdALgQIAhVMAg&usg=AOvVaw1b0-Sw2NyXeULS3TTyfHJo\n",
      "/url?q=https://pythonprogramming.net/javascript-dynamic-scraping-parsing-beautiful-soup-tutorial/&sa=U&ved=0ahUKEwiikOjlyfTaAhViRN8KHYZdALgQFghYMAk&usg=AOvVaw3VGHZzoI1KOVZ1zgtS4N_C\n",
      "/url?q=http://webcache.googleusercontent.com/search%3Fq%3Dcache:qlzTKI_eeG8J:https://pythonprogramming.net/javascript-dynamic-scraping-parsing-beautiful-soup-tutorial/%252Bdryscrape%26hl%3Den%26gbv%3D2%26ct%3Dclnk&sa=U&ved=0ahUKEwiikOjlyfTaAhViRN8KHYZdALgQIAhbMAk&usg=AOvVaw1rP9IfSbBzknh2pr8PhiMm\n",
      "/search?hl=en&gbv=2&q=related:https://pythonprogramming.net/javascript-dynamic-scraping-parsing-beautiful-soup-tutorial/+dryscrape&tbo=1&sa=X&ved=0ahUKEwiikOjlyfTaAhViRN8KHYZdALgQHwhcMAk\n",
      "/search?hl=en&gbv=2&q=dryscrape+tutorial&sa=X&ved=0ahUKEwiikOjlyfTaAhViRN8KHYZdALgQ1QIIXygA\n",
      "/search?hl=en&gbv=2&q=dryscrape+download+file&sa=X&ved=0ahUKEwiikOjlyfTaAhViRN8KHYZdALgQ1QIIYCgB\n",
      "/search?hl=en&gbv=2&q=dryscrape+example&sa=X&ved=0ahUKEwiikOjlyfTaAhViRN8KHYZdALgQ1QIIYSgC\n",
      "/search?hl=en&gbv=2&q=dryscrape+usage&sa=X&ved=0ahUKEwiikOjlyfTaAhViRN8KHYZdALgQ1QIIYigD\n",
      "/search?hl=en&gbv=2&q=python+dryscrape+example&sa=X&ved=0ahUKEwiikOjlyfTaAhViRN8KHYZdALgQ1QIIYygE\n",
      "/search?hl=en&gbv=2&q=dryscrape+start_xvfb&sa=X&ved=0ahUKEwiikOjlyfTaAhViRN8KHYZdALgQ1QIIZCgF\n",
      "/search?hl=en&gbv=2&q=dryscrape+alternative&sa=X&ved=0ahUKEwiikOjlyfTaAhViRN8KHYZdALgQ1QIIZSgG\n",
      "/search?hl=en&gbv=2&q=at_xpath+dryscrape&sa=X&ved=0ahUKEwiikOjlyfTaAhViRN8KHYZdALgQ1QIIZigH\n",
      "/search?q=dryscrape&hl=en&gbv=2&prmd=ivns&ei=X8nwWuLkMOKI_QaGu4HACw&start=10&sa=N\n",
      "/search?q=dryscrape&hl=en&gbv=2&prmd=ivns&ei=X8nwWuLkMOKI_QaGu4HACw&start=20&sa=N\n",
      "/search?q=dryscrape&hl=en&gbv=2&prmd=ivns&ei=X8nwWuLkMOKI_QaGu4HACw&start=30&sa=N\n",
      "/search?q=dryscrape&hl=en&gbv=2&prmd=ivns&ei=X8nwWuLkMOKI_QaGu4HACw&start=40&sa=N\n",
      "/search?q=dryscrape&hl=en&gbv=2&prmd=ivns&ei=X8nwWuLkMOKI_QaGu4HACw&start=50&sa=N\n",
      "/search?q=dryscrape&hl=en&gbv=2&prmd=ivns&ei=X8nwWuLkMOKI_QaGu4HACw&start=60&sa=N\n",
      "/search?q=dryscrape&hl=en&gbv=2&prmd=ivns&ei=X8nwWuLkMOKI_QaGu4HACw&start=70&sa=N\n",
      "/search?q=dryscrape&hl=en&gbv=2&prmd=ivns&ei=X8nwWuLkMOKI_QaGu4HACw&start=80&sa=N\n",
      "/search?q=dryscrape&hl=en&gbv=2&prmd=ivns&ei=X8nwWuLkMOKI_QaGu4HACw&start=90&sa=N\n",
      "/search?q=dryscrape&hl=en&gbv=2&prmd=ivns&ei=X8nwWuLkMOKI_QaGu4HACw&start=10&sa=N\n",
      "/advanced_search?q=dryscrape&hl=en&gbv=2&prmd=ivns\n",
      "/support/websearch/bin/answer.py?answer=134479&hl=en\n",
      "/tools/feedback/survey/html?productId=196&query=dryscrape&hl=en\n",
      "/\n",
      "/intl/en/ads\n",
      "/services\n",
      "/intl/en/policies/privacy/\n",
      "/intl/en/policies/terms/\n",
      "/intl/en/about.html\n"
     ]
    },
    {
     "name": "stdout",
     "output_type": "stream",
     "text": [
      "Screenshot written to 'google.png'\n"
     ]
    }
   ],
   "source": [
    "import dryscrape\n",
    "import sys\n",
    "\n",
    "if 'linux' in sys.platform:\n",
    "    # start xvfb in case no X is running. Make sure xvfb \n",
    "    # is installed, otherwise this won't work!\n",
    "    dryscrape.start_xvfb()\n",
    "\n",
    "search_term = 'dryscrape'\n",
    "\n",
    "# set up a web scraping session\n",
    "sess = dryscrape.Session(base_url = 'http://google.com')\n",
    "\n",
    "# we don't need images\n",
    "sess.set_attribute('auto_load_images', False)\n",
    "\n",
    "# visit homepage and search for a term\n",
    "sess.visit('/')\n",
    "q = sess.at_xpath('//*[@name=\"q\"]')\n",
    "q.set(search_term)\n",
    "q.form().submit()\n",
    "\n",
    "# extract all links\n",
    "for link in sess.xpath('//a[@href]'):\n",
    "    print(link['href'])\n",
    "\n",
    "# save a screenshot of the web page\n",
    "sess.render('google.png')\n",
    "print(\"Screenshot written to 'google.png'\")\n"
   ]
  },
  {
   "cell_type": "markdown",
   "metadata": {},
   "source": [
    "### using webdriver"
   ]
  },
  {
   "cell_type": "code",
   "execution_count": 55,
   "metadata": {},
   "outputs": [
    {
     "name": "stdout",
     "output_type": "stream",
     "text": [
      "这里是动态文本，成功了！\n"
     ]
    }
   ],
   "source": [
    "from selenium import webdriver\n",
    "def get_url_dynamic2(url):\n",
    "    driver=webdriver.Firefox(executable_path=r'/Users/fanerror/Downloads/geckodriver')\n",
    "    driver.get(url) #请求页面，会打开一个浏览器窗口\n",
    "    html_text=driver.page_source\n",
    "    driver.quit()\n",
    "    #print html_text\n",
    "    return html_text\n",
    "get_text_line(get_url_dynamic2(url)) #将输出一条文本"
   ]
  },
  {
   "cell_type": "code",
   "execution_count": 60,
   "metadata": {},
   "outputs": [],
   "source": [
    "def fb_login():\n",
    "    driver=webdriver.Firefox(executable_path=r'/Users/fanerror/Downloads/geckodriver')\n",
    "    driver.get ('https://www.facebook.com')\n",
    "\n",
    "    driver.find_element_by_id('email').send_keys('baidu_xiaohao1@126.com')\n",
    "    driver.find_element_by_id('pass').send_keys('123456abc')\n",
    "    driver.find_element_by_id('loginbutton').click()\n",
    "fb_login()"
   ]
  },
  {
   "cell_type": "code",
   "execution_count": 91,
   "metadata": {},
   "outputs": [],
   "source": [
    "import time\n",
    "def labelinsight_login():\n",
    "    driver=webdriver.Firefox(executable_path=r'/Users/fanerror/Downloads/geckodriver')\n",
    "    driver.get ('https://app.labelinsight.com/login')\n",
    "\n",
    "    try:\n",
    "        \n",
    "        driver.find_element_by_name('userEmail').send_keys('kristina.brecko@simon.rochester.edu')\n",
    "#         driver.find_element_by_xpath(\".//form[@name='loginForm']/input[2]\").send_keys('kristina.brecko@simon.rochester.edu')\n",
    "#         driver.find_element_by_css_selector('#userEmail').send_keys('kristina.brecko@simon.rochester.edu')\n",
    "        driver.find_element_by_name('userPassword').send_keys('9xQWPnXdEkWCDR')\n",
    "#         driver.find_element_by_id('loginbutton').click()\n",
    "\n",
    "        driver.find_element_by_css_selector('.Button-dYVdnu').click()\n",
    "        time.sleep(5)\n",
    "        driver.find_element_by_css_selector('.sc-gqjmRU > li:nth-child(3) > a:nth-child(1)').click()\n",
    "        time.sleep(10)\n",
    "        driver.quit()\n",
    "    except: \n",
    "        time.sleep(10)\n",
    "        driver.quit()\n",
    "labelinsight_login()"
   ]
  },
  {
   "cell_type": "code",
   "execution_count": null,
   "metadata": {},
   "outputs": [],
   "source": [
    ".Button-dYVdnu\n",
    "/html/body/div[2]/div/div/div/div/main/form/div[3]/input\n",
    "#userEmail"
   ]
  }
 ],
 "metadata": {
  "kernelspec": {
   "display_name": "Python3.6.4",
   "language": "python",
   "name": "python3.6.4"
  },
  "language_info": {
   "codemirror_mode": {
    "name": "ipython",
    "version": 3
   },
   "file_extension": ".py",
   "mimetype": "text/x-python",
   "name": "python",
   "nbconvert_exporter": "python",
   "pygments_lexer": "ipython3",
   "version": "3.6.4"
  }
 },
 "nbformat": 4,
 "nbformat_minor": 2
}
