{
 "cells": [
  {
   "cell_type": "code",
   "execution_count": 5,
   "metadata": {},
   "outputs": [],
   "source": [
    "import pandas as pd\n",
    "import numpy as np\n",
    "import matplotlib.pyplot as plt\n",
    "import urllib2 as url # the lib that handles the url stuff\n",
    "\n",
    "from requests import session,Request\n",
    "from bs4 import BeautifulSoup as bs\n",
    "import scrapy\n",
    "from scrapy.selector import HtmlXPathSelector\n",
    "from scrapy.http import Request"
   ]
  },
  {
   "cell_type": "code",
   "execution_count": 26,
   "metadata": {},
   "outputs": [
    {
     "ename": "TypeError",
     "evalue": "__init__() got an unexpected keyword argument 'data'",
     "output_type": "error",
     "traceback": [
      "\u001b[0;31m---------------------------------------------------------------------------\u001b[0m",
      "\u001b[0;31mTypeError\u001b[0m                                 Traceback (most recent call last)",
      "\u001b[0;32m<ipython-input-26-8ef77d2f5a63>\u001b[0m in \u001b[0;36m<module>\u001b[0;34m()\u001b[0m\n\u001b[1;32m     16\u001b[0m     \u001b[0mlogin_url\u001b[0m\u001b[0;34m,\u001b[0m\u001b[0;34m\u001b[0m\u001b[0m\n\u001b[1;32m     17\u001b[0m     \u001b[0mdata\u001b[0m\u001b[0;34m=\u001b[0m\u001b[0mpostData\u001b[0m\u001b[0;34m,\u001b[0m\u001b[0;34m\u001b[0m\u001b[0m\n\u001b[0;32m---> 18\u001b[0;31m     \u001b[0mheaders\u001b[0m\u001b[0;34m=\u001b[0m\u001b[0mdict\u001b[0m\u001b[0;34m(\u001b[0m\u001b[0mreferer\u001b[0m\u001b[0;34m=\u001b[0m\u001b[0mlogin_url\u001b[0m\u001b[0;34m)\u001b[0m\u001b[0;34m\u001b[0m\u001b[0m\n\u001b[0m\u001b[1;32m     19\u001b[0m )\n\u001b[1;32m     20\u001b[0m \u001b[0mprepped\u001b[0m\u001b[0;34m=\u001b[0m\u001b[0mreq\u001b[0m\u001b[0;34m.\u001b[0m\u001b[0mprepare\u001b[0m\u001b[0;34m(\u001b[0m\u001b[0;34m)\u001b[0m\u001b[0;34m\u001b[0m\u001b[0m\n",
      "\u001b[0;31mTypeError\u001b[0m: __init__() got an unexpected keyword argument 'data'"
     ]
    }
   ],
   "source": [
    "# 创建session请求对象，保存登录会话请求u\n",
    "session_req=session()\n",
    "\n",
    "# 需要传输的参数\n",
    "postData={\n",
    "    \"Email\":\"kristina.brecko@simon.rochester.edu\",\n",
    "    \"Password\":\"9xQWPnXdEkWCDR\"\n",
    "}\n",
    "\n",
    "# 需要登录的URL\n",
    "login_url=\"https://app.labelinsight.com/login\"\n",
    "\n",
    "#PreparedRequest请求预处理\n",
    "req=Request(\n",
    "    'post',\n",
    "    login_url,\n",
    "    data=postData,\n",
    "    headers=dict(referer=login_url)\n",
    ")\n",
    "prepped=req.prepare()\n",
    "\n",
    "#将处理的请求参数通过session请求对象发送过去\n",
    "resp=session_req.send(prepped)\n",
    "\n",
    "#用BeautifulSoup处理登录之后返回的数据\n",
    "soup=bs(resp.content,\"html.parser\")\n",
    "\n",
    "#打印输出\n",
    "print(soup.prettify())\n"
   ]
  },
  {
   "cell_type": "code",
   "execution_count": 29,
   "metadata": {},
   "outputs": [
    {
     "name": "stdout",
     "output_type": "stream",
     "text": [
      "<!DOCTYPE html>\n",
      "<!--[if IE 9]>\n",
      "  <html lang=\"en-us\" class=\"no-js ie ltie10\" ng-app=\"lx\">\n",
      "<![endif]-->\n",
      "<!--[if (gt IE 9)|!(IE)]><!-->\n",
      "  <html class='no-js no-ie' lang=\"en-us\">\n",
      "<!--<![endif]-->\n",
      "<head>\n",
      "  <meta charset=\"utf-8\">\n",
      "  <meta content='IE=edge,chrome=1' http-equiv=\"X-UA-Compatible\" />\n",
      "  <title page-title>Label Insight</title>\n",
      "  <meta name=\"keywords\" content=\"\" />\n",
      "  <meta name=\"author\" content=\"Label Insight\" />\n",
      "  <meta name=\"description\" content=\"Label Insight Version 3.0\" />\n",
      "  <meta name=\"viewport\" content=\"width=device-width, initial-scale=1\" />\n",
      "  <meta content=on http-equiv=\"cleartype\" />\n",
      "  <link href='https://fonts.googleapis.com/css?family=Open+Sans:400,300,300italic,400italic,600,600italic,700,700italic' rel='stylesheet' type='text/css' />\n",
      "  <link rel=\"shortcut icon\" href=\"/explore/assets/images/favicon.ico\" />\n",
      "  <meta name=\"fragment\" content=\"!\">\n",
      "  <link rel=\"stylesheet\" type=\"text/css\" href=\"https://s3.amazonaws.com/li-frontend/styles/li-styles-0.0.2.css\" />\n",
      "  <link rel=\"stylesheet\" href=\"/explore/styles/style.css\">\n",
      "\n",
      "<link href=\"/explore/styles/style.css\" rel=\"stylesheet\"></head>\n",
      "<body>\n",
      "  <div id=\"root\"></div>\n",
      "  <script>\n",
      "    window.__webpack_public_path__ = `/`\n",
      "  </script>\n",
      "<script type=\"text/javascript\" src=\"/explore/scripts/app.06b64642a1db34bbfaeb.js\"></script></body>\n",
      "<!--\n",
      "name: LabelInsightExploreFrontEnd\n",
      "version: 4.0.0\n",
      "env: production\n",
      "commit: 4ea11cd86f948135ae2ca0763edf975c220f2c7f\n",
      "-->\n",
      "</html>\n",
      "\n",
      "<!--<![endif]-->\n",
      "<Element head at 0x111601998>\n",
      "<Element body at 0x111601db8>\n",
      "<!--\\nname: LabelInsightExploreFrontEnd\\nversion: 4.0.0\\nenv: production\\ncommit: 4ea11cd86f948135ae2ca0763edf975c220f2c7f\\n-->\n"
     ]
    }
   ],
   "source": [
    "import requests\n",
    "from lxml import html\n",
    "\n",
    "\n",
    "# 创建 session 对象。这个对象会保存所有的登录会话请求。\n",
    "session_requests = requests.session()\n",
    "\n",
    "\n",
    "\n",
    "# 提取在登录时所使用的 csrf 标记\n",
    "login_url = \"https://app.labelinsight.com/login\"\n",
    "result = session_requests.get(login_url)\n",
    " \n",
    "tree = html.fromstring(result.text)\n",
    "# authenticity_token = list(set(tree.xpath(\"//input[@name='csrfmiddlewaretoken']/@value\")))[0]\n",
    "\n",
    "payload = {\n",
    "    \"username\": \"kristina.brecko@simon.rochester.edu\", \n",
    "    \"password\": \"9xQWPnXdEkWCDR\", \n",
    "#     \"csrfmiddlewaretoken\": authenticity_token # 在源代码中，有一个名为 “csrfmiddlewaretoken” 的隐藏输入标签。\n",
    "}\n",
    "\n",
    "# 执行登录\n",
    "result = session_requests.post(\n",
    "    login_url, \n",
    "    data = payload, \n",
    "    headers = dict(referer=login_url)\n",
    ")\n",
    "\n",
    "\n",
    "# 已经登录成功了，然后从 bitbucket dashboard 页面上爬取内容。\n",
    "# url = 'https://app.labelinsight.com'\n",
    "url = 'https://app.labelinsight.com/explore/product/id/4644193'\n",
    "result = session_requests.get(\n",
    "    url, \n",
    "    headers = dict(referer = url)\n",
    ")\n",
    "print(result.content)\n",
    "\n",
    "# 测试爬取的内容\n",
    "tree = html.fromstring(result.content)\n",
    "# bucket_elems = tree.findall(\".//span[@class='repo-name']/\")\n",
    "# bucket_names = [bucket.text_content.replace(\"n\", \"\").strip() for bucket in bucket_elems]\n",
    "for i in tree:\n",
    "    print(i)"
   ]
  },
  {
   "cell_type": "code",
   "execution_count": 3,
   "metadata": {},
   "outputs": [],
   "source": [
    "def parse(self, response):\n",
    "    return scrapy.FormRequest.from_response(\n",
    "        response,\n",
    "        formdata={'username': 'randomuser', 'password': 'topsecret'},\n",
    "        callback=self.after_login\n",
    "     )\n",
    "\n",
    "def after_login(self, response):\n",
    "    if \"Error while logging in\" in response.body:\n",
    "        self.logger.error(\"Login failed!\")\n",
    "    else:\n",
    "        self.logger.error(\"Login succeeded!\")\n",
    "        item = SampleItem()\n",
    "        item[\"quote\"] = response.css(\".text\").extract()\n",
    "        item[\"author\"] = response.css(\".author\").extract()\n",
    "        return item"
   ]
  },
  {
   "cell_type": "code",
   "execution_count": 4,
   "metadata": {},
   "outputs": [
    {
     "ename": "NameError",
     "evalue": "name 'self' is not defined",
     "output_type": "error",
     "traceback": [
      "\u001b[0;31m---------------------------------------------------------------------------\u001b[0m",
      "\u001b[0;31mNameError\u001b[0m                                 Traceback (most recent call last)",
      "\u001b[0;32m<ipython-input-4-7cf6874e5a4c>\u001b[0m in \u001b[0;36m<module>\u001b[0;34m()\u001b[0m\n\u001b[0;32m----> 1\u001b[0;31m \u001b[0mscrapy\u001b[0m\u001b[0;34m.\u001b[0m\u001b[0mRequest\u001b[0m\u001b[0;34m(\u001b[0m\u001b[0murl\u001b[0m\u001b[0;34m=\u001b[0m\u001b[0;34m\"http://scrape.this.com\"\u001b[0m\u001b[0;34m,\u001b[0m \u001b[0mcallback\u001b[0m\u001b[0;34m=\u001b[0m\u001b[0mself\u001b[0m\u001b[0;34m.\u001b[0m\u001b[0mparse_something\u001b[0m\u001b[0;34m)\u001b[0m\u001b[0;34m\u001b[0m\u001b[0m\n\u001b[0m",
      "\u001b[0;31mNameError\u001b[0m: name 'self' is not defined"
     ]
    }
   ],
   "source": [
    "scrapy.Request(url=\"http://scrape.this.com\", callback=self.parse_something)"
   ]
  },
  {
   "cell_type": "code",
   "execution_count": 25,
   "metadata": {},
   "outputs": [],
   "source": [
    "class LoginSpider():\n",
    "    name = 'example.com'\n",
    "    start_urls = ['http://www.example.com/users/login.php']\n",
    "    \n",
    "    def parse(self, response):\n",
    "        hxs = HtmlXPathSelector(response)\n",
    "        if hxs.select(\"//form[@id='UsernameLoginForm_LoginForm']\"):\n",
    "            return self.login(response)\n",
    "        else:\n",
    "            return self.get_section_links(response)\n",
    "    \n",
    "    def after_login(self, response):\n",
    "        # check login succeed before going on\n",
    "        if \"authentication failed\" in response.body:\n",
    "            self.log(\"Login failed\", level=log.ERROR)\n",
    "            return\n",
    "        # We've successfully authenticated, let's have some fun!\n",
    "        else:\n",
    "            return Request(url=\"http://www.example.com/tastypage/\",\n",
    "                   callback=self.parse_tastypage)\n",
    "\n",
    "    def parse_tastypage(self, response):\n",
    "        hxs = HtmlXPathSelector(response)\n",
    "        yum = hxs.select('//img')\n",
    "\n",
    "        # etc."
   ]
  },
  {
   "cell_type": "code",
   "execution_count": 24,
   "metadata": {},
   "outputs": [
    {
     "name": "stderr",
     "output_type": "stream",
     "text": [
      "/usr/local/lib/python2.7/site-packages/ipykernel_launcher.py:6: ScrapyDeprecationWarning: scrapy.selector.HtmlXPathSelector is deprecated, instantiate scrapy.Selector instead.\n",
      "  \n"
     ]
    },
    {
     "ename": "AttributeError",
     "evalue": "'Request' object has no attribute 'text'",
     "output_type": "error",
     "traceback": [
      "\u001b[0;31m---------------------------------------------------------------------------\u001b[0m",
      "\u001b[0;31mAttributeError\u001b[0m                            Traceback (most recent call last)",
      "\u001b[0;32m<ipython-input-24-4f5bd130114e>\u001b[0m in \u001b[0;36m<module>\u001b[0;34m()\u001b[0m\n\u001b[1;32m      2\u001b[0m                                cookies={'currency': 'USD', 'country': 'UY'})\n\u001b[1;32m      3\u001b[0m \u001b[0ma\u001b[0m \u001b[0;34m=\u001b[0m \u001b[0mLoginSpider\u001b[0m\u001b[0;34m(\u001b[0m\u001b[0;34m)\u001b[0m\u001b[0;34m\u001b[0m\u001b[0m\n\u001b[0;32m----> 4\u001b[0;31m \u001b[0;32mprint\u001b[0m\u001b[0;34m(\u001b[0m\u001b[0ma\u001b[0m\u001b[0;34m.\u001b[0m\u001b[0mparse\u001b[0m\u001b[0;34m(\u001b[0m\u001b[0mrequest_with_cookies\u001b[0m\u001b[0;34m)\u001b[0m\u001b[0;34m)\u001b[0m\u001b[0;34m\u001b[0m\u001b[0m\n\u001b[0m",
      "\u001b[0;32m<ipython-input-22-0490c4e15dc2>\u001b[0m in \u001b[0;36mparse\u001b[0;34m(self, response)\u001b[0m\n\u001b[1;32m      4\u001b[0m \u001b[0;34m\u001b[0m\u001b[0m\n\u001b[1;32m      5\u001b[0m     \u001b[0;32mdef\u001b[0m \u001b[0mparse\u001b[0m\u001b[0;34m(\u001b[0m\u001b[0mself\u001b[0m\u001b[0;34m,\u001b[0m \u001b[0mresponse\u001b[0m\u001b[0;34m)\u001b[0m\u001b[0;34m:\u001b[0m\u001b[0;34m\u001b[0m\u001b[0m\n\u001b[0;32m----> 6\u001b[0;31m         \u001b[0mhxs\u001b[0m \u001b[0;34m=\u001b[0m \u001b[0mHtmlXPathSelector\u001b[0m\u001b[0;34m(\u001b[0m\u001b[0mresponse\u001b[0m\u001b[0;34m)\u001b[0m\u001b[0;34m\u001b[0m\u001b[0m\n\u001b[0m\u001b[1;32m      7\u001b[0m         \u001b[0;32mif\u001b[0m \u001b[0mhxs\u001b[0m\u001b[0;34m.\u001b[0m\u001b[0mselect\u001b[0m\u001b[0;34m(\u001b[0m\u001b[0;34m\"//form[@id='UsernameLoginForm_LoginForm']\"\u001b[0m\u001b[0;34m)\u001b[0m\u001b[0;34m:\u001b[0m\u001b[0;34m\u001b[0m\u001b[0m\n\u001b[1;32m      8\u001b[0m             \u001b[0;32mreturn\u001b[0m \u001b[0mself\u001b[0m\u001b[0;34m.\u001b[0m\u001b[0mlogin\u001b[0m\u001b[0;34m(\u001b[0m\u001b[0mresponse\u001b[0m\u001b[0;34m)\u001b[0m\u001b[0;34m\u001b[0m\u001b[0m\n",
      "\u001b[0;32m/usr/local/lib/python2.7/site-packages/scrapy/utils/deprecate.pyc\u001b[0m in \u001b[0;36m__call__\u001b[0;34m(cls, *args, **kwargs)\u001b[0m\n\u001b[1;32m     99\u001b[0m                                                    new=_clspath(new_class, new_class_path))\n\u001b[1;32m    100\u001b[0m                 \u001b[0mwarnings\u001b[0m\u001b[0;34m.\u001b[0m\u001b[0mwarn\u001b[0m\u001b[0;34m(\u001b[0m\u001b[0mmsg\u001b[0m\u001b[0;34m,\u001b[0m \u001b[0mwarn_category\u001b[0m\u001b[0;34m,\u001b[0m \u001b[0mstacklevel\u001b[0m\u001b[0;34m=\u001b[0m\u001b[0;36m2\u001b[0m\u001b[0;34m)\u001b[0m\u001b[0;34m\u001b[0m\u001b[0m\n\u001b[0;32m--> 101\u001b[0;31m             \u001b[0;32mreturn\u001b[0m \u001b[0msuper\u001b[0m\u001b[0;34m(\u001b[0m\u001b[0mDeprecatedClass\u001b[0m\u001b[0;34m,\u001b[0m \u001b[0mcls\u001b[0m\u001b[0;34m)\u001b[0m\u001b[0;34m.\u001b[0m\u001b[0m__call__\u001b[0m\u001b[0;34m(\u001b[0m\u001b[0;34m*\u001b[0m\u001b[0margs\u001b[0m\u001b[0;34m,\u001b[0m \u001b[0;34m**\u001b[0m\u001b[0mkwargs\u001b[0m\u001b[0;34m)\u001b[0m\u001b[0;34m\u001b[0m\u001b[0m\n\u001b[0m\u001b[1;32m    102\u001b[0m \u001b[0;34m\u001b[0m\u001b[0m\n\u001b[1;32m    103\u001b[0m     \u001b[0mdeprecated_cls\u001b[0m \u001b[0;34m=\u001b[0m \u001b[0mDeprecatedClass\u001b[0m\u001b[0;34m(\u001b[0m\u001b[0mname\u001b[0m\u001b[0;34m,\u001b[0m \u001b[0;34m(\u001b[0m\u001b[0mnew_class\u001b[0m\u001b[0;34m,\u001b[0m\u001b[0;34m)\u001b[0m\u001b[0;34m,\u001b[0m \u001b[0mclsdict\u001b[0m \u001b[0;32mor\u001b[0m \u001b[0;34m{\u001b[0m\u001b[0;34m}\u001b[0m\u001b[0;34m)\u001b[0m\u001b[0;34m\u001b[0m\u001b[0m\n",
      "\u001b[0;32m/usr/local/lib/python2.7/site-packages/scrapy/utils/deprecate.pyc\u001b[0m in \u001b[0;36m__call__\u001b[0;34m(cls, *args, **kwargs)\u001b[0m\n\u001b[1;32m     99\u001b[0m                                                    new=_clspath(new_class, new_class_path))\n\u001b[1;32m    100\u001b[0m                 \u001b[0mwarnings\u001b[0m\u001b[0;34m.\u001b[0m\u001b[0mwarn\u001b[0m\u001b[0;34m(\u001b[0m\u001b[0mmsg\u001b[0m\u001b[0;34m,\u001b[0m \u001b[0mwarn_category\u001b[0m\u001b[0;34m,\u001b[0m \u001b[0mstacklevel\u001b[0m\u001b[0;34m=\u001b[0m\u001b[0;36m2\u001b[0m\u001b[0;34m)\u001b[0m\u001b[0;34m\u001b[0m\u001b[0m\n\u001b[0;32m--> 101\u001b[0;31m             \u001b[0;32mreturn\u001b[0m \u001b[0msuper\u001b[0m\u001b[0;34m(\u001b[0m\u001b[0mDeprecatedClass\u001b[0m\u001b[0;34m,\u001b[0m \u001b[0mcls\u001b[0m\u001b[0;34m)\u001b[0m\u001b[0;34m.\u001b[0m\u001b[0m__call__\u001b[0m\u001b[0;34m(\u001b[0m\u001b[0;34m*\u001b[0m\u001b[0margs\u001b[0m\u001b[0;34m,\u001b[0m \u001b[0;34m**\u001b[0m\u001b[0mkwargs\u001b[0m\u001b[0;34m)\u001b[0m\u001b[0;34m\u001b[0m\u001b[0m\n\u001b[0m\u001b[1;32m    102\u001b[0m \u001b[0;34m\u001b[0m\u001b[0m\n\u001b[1;32m    103\u001b[0m     \u001b[0mdeprecated_cls\u001b[0m \u001b[0;34m=\u001b[0m \u001b[0mDeprecatedClass\u001b[0m\u001b[0;34m(\u001b[0m\u001b[0mname\u001b[0m\u001b[0;34m,\u001b[0m \u001b[0;34m(\u001b[0m\u001b[0mnew_class\u001b[0m\u001b[0;34m,\u001b[0m\u001b[0;34m)\u001b[0m\u001b[0;34m,\u001b[0m \u001b[0mclsdict\u001b[0m \u001b[0;32mor\u001b[0m \u001b[0;34m{\u001b[0m\u001b[0;34m}\u001b[0m\u001b[0;34m)\u001b[0m\u001b[0;34m\u001b[0m\u001b[0m\n",
      "\u001b[0;32m/usr/local/lib/python2.7/site-packages/scrapy/selector/unified.pyc\u001b[0m in \u001b[0;36m__init__\u001b[0;34m(self, response, text, type, root, _root, **kwargs)\u001b[0m\n\u001b[1;32m     65\u001b[0m \u001b[0;34m\u001b[0m\u001b[0m\n\u001b[1;32m     66\u001b[0m         \u001b[0;32mif\u001b[0m \u001b[0mresponse\u001b[0m \u001b[0;32mis\u001b[0m \u001b[0;32mnot\u001b[0m \u001b[0mNone\u001b[0m\u001b[0;34m:\u001b[0m\u001b[0;34m\u001b[0m\u001b[0m\n\u001b[0;32m---> 67\u001b[0;31m             \u001b[0mtext\u001b[0m \u001b[0;34m=\u001b[0m \u001b[0mresponse\u001b[0m\u001b[0;34m.\u001b[0m\u001b[0mtext\u001b[0m\u001b[0;34m\u001b[0m\u001b[0m\n\u001b[0m\u001b[1;32m     68\u001b[0m             \u001b[0mkwargs\u001b[0m\u001b[0;34m.\u001b[0m\u001b[0msetdefault\u001b[0m\u001b[0;34m(\u001b[0m\u001b[0;34m'base_url'\u001b[0m\u001b[0;34m,\u001b[0m \u001b[0mresponse\u001b[0m\u001b[0;34m.\u001b[0m\u001b[0murl\u001b[0m\u001b[0;34m)\u001b[0m\u001b[0;34m\u001b[0m\u001b[0m\n\u001b[1;32m     69\u001b[0m \u001b[0;34m\u001b[0m\u001b[0m\n",
      "\u001b[0;31mAttributeError\u001b[0m: 'Request' object has no attribute 'text'"
     ]
    }
   ],
   "source": [
    "request_with_cookies = Request(url=\"http://www.example.com\",\n",
    "                               cookies={'currency': 'USD', 'country': 'UY'})\n",
    "a = LoginSpider()\n",
    "print(a.parse(request_with_cookies))"
   ]
  },
  {
   "cell_type": "code",
   "execution_count": null,
   "metadata": {},
   "outputs": [],
   "source": []
  },
  {
   "cell_type": "markdown",
   "metadata": {},
   "source": [
    "$\\mathcal{K}$"
   ]
  },
  {
   "cell_type": "code",
   "execution_count": null,
   "metadata": {},
   "outputs": [],
   "source": []
  }
 ],
 "metadata": {
  "kernelspec": {
   "display_name": "Python2.7.14",
   "language": "python",
   "name": "python2.7.14"
  },
  "language_info": {
   "codemirror_mode": {
    "name": "ipython",
    "version": 2
   },
   "file_extension": ".py",
   "mimetype": "text/x-python",
   "name": "python",
   "nbconvert_exporter": "python",
   "pygments_lexer": "ipython2",
   "version": "2.7.14"
  }
 },
 "nbformat": 4,
 "nbformat_minor": 2
}
