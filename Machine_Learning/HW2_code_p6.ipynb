{
 "cells": [
  {
   "cell_type": "code",
   "execution_count": 1,
   "metadata": {},
   "outputs": [],
   "source": [
    "# import packages\n",
    "import csv\n",
    "# import pandas\n",
    "import numpy as np\n",
    "import random\n",
    "import scipy.io as sio\n",
    "import matplotlib.pyplot as plt"
   ]
  },
  {
   "cell_type": "code",
   "execution_count": 2,
   "metadata": {},
   "outputs": [],
   "source": [
    "data = sio.loadmat('hw2data_2.mat')"
   ]
  },
  {
   "cell_type": "code",
   "execution_count": 3,
   "metadata": {},
   "outputs": [
    {
     "name": "stdout",
     "output_type": "stream",
     "text": [
      "<type 'numpy.ndarray'>\n",
      "[[-18.17292628]\n",
      " [-27.05278863]\n",
      " [ 10.00336632]\n",
      " ...\n",
      " [-14.96480916]\n",
      " [ -5.49892149]\n",
      " [ 13.55762568]]\n"
     ]
    }
   ],
   "source": [
    "print(type(data['Y']))\n",
    "print(data['X'])"
   ]
  },
  {
   "cell_type": "code",
   "execution_count": 4,
   "metadata": {
    "scrolled": true
   },
   "outputs": [
    {
     "data": {
      "text/plain": [
       "<matplotlib.collections.PathCollection at 0x10714f610>"
      ]
     },
     "execution_count": 4,
     "metadata": {},
     "output_type": "execute_result"
    },
    {
     "name": "stderr",
     "output_type": "stream",
     "text": [
      "/System/Library/Frameworks/Python.framework/Versions/2.7/Extras/lib/python/matplotlib/collections.py:548: FutureWarning: elementwise comparison failed; returning scalar instead, but in the future will perform elementwise comparison\n",
      "  if self._edgecolors == 'face':\n"
     ]
    },
    {
     "data": {
      "image/png": "[encoded data removed]",
      "text/plain": [
       "<matplotlib.figure.Figure at 0x107000bd0>"
      ]
     },
     "metadata": {},
     "output_type": "display_data"
    }
   ],
   "source": [
    "x = np.linspace(0, 3, 100)\n",
    "%matplotlib inline  \n",
    "plt.scatter(data['X'],data['Y'])"
   ]
  },
  {
   "cell_type": "code",
   "execution_count": 21,
   "metadata": {},
   "outputs": [],
   "source": [
    "def Activefun(x):\n",
    "    return(1/(1+np.exp(-x)))\n",
    "\n",
    "'''\n",
    "w1: array k*1\n",
    "w2: array 1*k\n",
    "b1: double k*1\n",
    "b2: array 1\n",
    "x: array n*1\n",
    "y: array n*1\n",
    "'''\n",
    "    \n",
    "def Deriv_W2(w1,w2,b1,b2,x,y):\n",
    "    Deriv = 0\n",
    "    for i in range(len(x)):\n",
    "        # compute 1st layer\n",
    "        res1 = Activefun(w1*x[i]+b1)  # k*1\n",
    "        \n",
    "        # compute variable passing to active function at 2nd layer\n",
    "        var_act = np.dot(w2,res1)+b2 # w^T*x+b\n",
    "        dev = res1*Activefun(var_act-y[i])*Activefun(var_act)* \\\n",
    "        (1-Activefun(var_act))\n",
    "        Deriv += dev\n",
    "    return Deriv / len(x)\n",
    "\n",
    "def Deriv_W1(w1,w2,b1,b2,x,y):\n",
    "    Deriv = 0\n",
    "    for i in range(len(x)):\n",
    "        # compute 1st layer\n",
    "        res1 = Activefun(w1*x[i]+b1)  # k*1\n",
    "        \n",
    "        # compute variable passing to active function at 2nd layer\n",
    "        var_act = np.dot(w2,res1)+b2 # w^T*x+b\n",
    "        \n",
    "        # compute deriv for 1st layer\n",
    "        dev1 = 2*x[i]*Activefun(res1-y[i])*Activefun(res1)* \\\n",
    "        (1-Activefun(res1))\n",
    "        \n",
    "        dev =np.dot(res1,w2)*Activefun(var_act-y[i])*Activefun(var_act)* \\\n",
    "        (1-Activefun(var_act)) * np.square(dev1)\n",
    "        Deriv += dev\n",
    "    return Deriv / len(x)\n",
    "\n",
    "def Deriv_b2(w1,w2,b1,b2,x,y):\n",
    "    Deriv = 0\n",
    "    for i in range(len(x)):\n",
    "        # compute 1st layer\n",
    "        res1 = Activefun(w1*x[i]+b1)  # k*1\n",
    "        \n",
    "        # compute variable passing to active function at 2nd layer\n",
    "        var_act = np.dot(w2,res1)+b2 # w^T*x+b\n",
    "        \n",
    "        dev = Activefun(var_act-y[i])*Activefun(var_act)* \\\n",
    "        (1-Activefun(var_act))\n",
    "        \n",
    "        Deriv += dev\n",
    "    return Deriv / len(x)\n",
    "\n",
    "def Deriv_b1(w1,w2,b1,b2,x,y):\n",
    "    Deriv = 0\n",
    "    for i in range(len(x)):\n",
    "        # compute 1st layer\n",
    "        res1 = Activefun(w1*x[i]+b1)  # k*1\n",
    "        \n",
    "        # compute variable passing to active function at 2nd layer\n",
    "        var_act = np.dot(w2,res1)+b2 # w^T*x+b\n",
    "        \n",
    "        # compute deriv for 1st layer\n",
    "        dev1 = Activefun(res1)*(1-Activefun(res1))\n",
    "        \n",
    "        dev = Activefun(var_act-y[i])*w2*Activefun(var_act)* \\\n",
    "        (1-Activefun(var_act))* dev1\n",
    "        Deriv += dev\n",
    "    return Deriv / len(x)\n",
    "\n",
    "def predict(w1,w2,b1,b2,x):\n",
    "    \n",
    "    y = []\n",
    "    for i in range(len(x)):\n",
    "        # compute 1st layer\n",
    "        res1 = Activefun(w1*x[i]+b1)  # k*1\n",
    "        \n",
    "        # compute variable passing to active function at 2nd layer\n",
    "        res2 = Activefun(np.dot(w2,res1)+b2)\n",
    "        y.append(res2)\n",
    "        \n",
    "    return (np.array(y))\n",
    "\n",
    "def avererror(w1,w2,b1,b2,x,y):\n",
    "    error = 0\n",
    "    for i in range(len(x)):\n",
    "        # compute 1st layer\n",
    "        res1 = Activefun(w1*x[i]+b1)  # k*1\n",
    "        \n",
    "        # compute variable passing to active function at 2nd layer\n",
    "        res2 = Activefun(np.dot(w2,res1)+b2)\n",
    "\n",
    "        error += np.square(res2 - y[i])\n",
    "        \n",
    "    return error / (2 * len(x))"
   ]
  },
  {
   "cell_type": "code",
   "execution_count": 22,
   "metadata": {},
   "outputs": [
    {
     "name": "stdout",
     "output_type": "stream",
     "text": [
      "[0.00151336 0.00090364 0.00073396]\n",
      "[0.04859883 0.04856657 0.04855366]\n",
      "[0.04941992]\n",
      "[0.01231475 0.0246458  0.03697429]\n",
      "[0.06303772]\n",
      "[0.73105859 0.73105858 0.99908893 ... 0.73105875 0.73326473 0.99908895]\n"
     ]
    }
   ],
   "source": [
    "w1=np.array([1,2,3])\n",
    "w2=np.array([1,2,3])\n",
    "b1=np.array([1,2,3])\n",
    "b2=1\n",
    "print(Deriv_W2(w1,w2,b1,b2,data['X'],data['Y']))\n",
    "print(Deriv_W1(w1,w2,b1,b2,data['X'],data['Y']))\n",
    "print(Deriv_b2(w1,w2,b1,b2,data['X'],data['Y']))\n",
    "print(Deriv_b1(w1,w2,b1,b2,data['X'],data['Y']))\n",
    "print(avererror(w1,w2,b1,b2,data['X'],data['Y']))\n",
    "print(predict(w1,w2,b1,b2,data['X']))"
   ]
  },
  {
   "cell_type": "code",
   "execution_count": 92,
   "metadata": {},
   "outputs": [],
   "source": [
    "def train(x,y,k=10):\n",
    "    '''\n",
    "    x: array n*1\n",
    "    y: array n*1\n",
    "    '''\n",
    "    # initial W and B\n",
    "    w1 = np.random.rand(k)\n",
    "    w2 = np.random.rand(k)\n",
    "    b1 = np.random.rand(k)\n",
    "    b2 = np.random.rand(1)\n",
    "    \n",
    "    # set step\n",
    "    eta = 10\n",
    "    \n",
    "    diff = 1\n",
    "    \n",
    "    while(avererror(w1,w2,b1,b2,x,y)>0.01):\n",
    "        # compute gradients\n",
    "#         grad_w1 = Deriv_W1(w1,w2,b1,b2,x,y)\n",
    "#         grad_w2 = Deriv_W2(w1,w2,b1,b2,x,y)\n",
    "#         grad_b1 = Deriv_b1(w1,w2,b1,b2,x,y)\n",
    "#         grad_b2 = Deriv_b2(w1,w2,b1,b2,x,y)\n",
    "        \n",
    "        (grad_w2,grad_b2,grad_w1,grad_b1) = \\\n",
    "        er_dev(x,y,w1,w2,b1,b2)\n",
    "        \n",
    "        # update weight parameters\n",
    "        w1 = w1 - eta*grad_w1\n",
    "        w2 = w2 - eta*grad_w2\n",
    "        b1 = b1 - eta*grad_b1\n",
    "        b2 = b2 - eta*grad_b2\n",
    "        \n",
    "        #compute maximum gradient\n",
    "#         diffw1 = max(grad_w1)\n",
    "#         diffw2 = max(grad_w2)\n",
    "#         diffb1 = max(grad_b1)\n",
    "#         diffb2 = max(grad_b2)\n",
    "#         diff = max(diffw1,diffw2,diffb1,diffb2)\n",
    "        \n",
    "    return(w1,w2,b1,b2)\n",
    "\n",
    "def test(x,y,w1,w2,b1,b2):\n",
    "    '''\n",
    "    x: array n*1\n",
    "    y: array n*1\n",
    "    '''\n",
    "    \n",
    "    err = avererror(w1,w2,b1,b2,x,y)\n",
    "    \n",
    "    return(err)"
   ]
  },
  {
   "cell_type": "code",
   "execution_count": 93,
   "metadata": {},
   "outputs": [],
   "source": [
    "trainind = random.sample(range(2000),1500)\n",
    "testind = list(set(range(2000)) - set(trainind))\n",
    "tr_da = data['X'][trainind]\n",
    "tr_lab = data['Y'][trainind]\n",
    "te_da = data['X'][testind]\n",
    "te_lab = data['Y'][testind]"
   ]
  },
  {
   "cell_type": "code",
   "execution_count": 94,
   "metadata": {
    "scrolled": true
   },
   "outputs": [
    {
     "ename": "ValueError",
     "evalue": "operands could not be broadcast together with shapes (10,1500) (15000,) ",
     "output_type": "error",
     "traceback": [
      "\u001b[0;31m---------------------------------------------------------------------------\u001b[0m",
      "\u001b[0;31mValueError\u001b[0m                                Traceback (most recent call last)",
      "\u001b[0;32m<ipython-input-94-5aba1bdf169e>\u001b[0m in \u001b[0;36m<module>\u001b[0;34m()\u001b[0m\n\u001b[0;32m----> 1\u001b[0;31m \u001b[0;34m(\u001b[0m\u001b[0mw1\u001b[0m\u001b[0;34m,\u001b[0m\u001b[0mw2\u001b[0m\u001b[0;34m,\u001b[0m\u001b[0mb1\u001b[0m\u001b[0;34m,\u001b[0m\u001b[0mb2\u001b[0m\u001b[0;34m)\u001b[0m \u001b[0;34m=\u001b[0m \u001b[0mtrain\u001b[0m\u001b[0;34m(\u001b[0m\u001b[0mtr_da\u001b[0m\u001b[0;34m,\u001b[0m\u001b[0mtr_lab\u001b[0m\u001b[0;34m)\u001b[0m\u001b[0;34m\u001b[0m\u001b[0m\n\u001b[0m",
      "\u001b[0;32m<ipython-input-92-4048f4fcb1b6>\u001b[0m in \u001b[0;36mtrain\u001b[0;34m(x, y, k)\u001b[0m\n\u001b[1;32m     22\u001b[0m \u001b[0;31m#         grad_b2 = Deriv_b2(w1,w2,b1,b2,x,y)\u001b[0m\u001b[0;34m\u001b[0m\u001b[0;34m\u001b[0m\u001b[0m\n\u001b[1;32m     23\u001b[0m \u001b[0;34m\u001b[0m\u001b[0m\n\u001b[0;32m---> 24\u001b[0;31m         \u001b[0;34m(\u001b[0m\u001b[0mgrad_w2\u001b[0m\u001b[0;34m,\u001b[0m\u001b[0mgrad_b2\u001b[0m\u001b[0;34m,\u001b[0m\u001b[0mgrad_w1\u001b[0m\u001b[0;34m,\u001b[0m\u001b[0mgrad_b1\u001b[0m\u001b[0;34m)\u001b[0m \u001b[0;34m=\u001b[0m         \u001b[0mer_dev\u001b[0m\u001b[0;34m(\u001b[0m\u001b[0mx\u001b[0m\u001b[0;34m,\u001b[0m\u001b[0my\u001b[0m\u001b[0;34m,\u001b[0m\u001b[0mw1\u001b[0m\u001b[0;34m,\u001b[0m\u001b[0mw2\u001b[0m\u001b[0;34m,\u001b[0m\u001b[0mb1\u001b[0m\u001b[0;34m,\u001b[0m\u001b[0mb2\u001b[0m\u001b[0;34m)\u001b[0m\u001b[0;34m\u001b[0m\u001b[0m\n\u001b[0m\u001b[1;32m     25\u001b[0m \u001b[0;34m\u001b[0m\u001b[0m\n\u001b[1;32m     26\u001b[0m         \u001b[0;31m# update weight parameters\u001b[0m\u001b[0;34m\u001b[0m\u001b[0;34m\u001b[0m\u001b[0m\n",
      "\u001b[0;32m<ipython-input-91-f810937c1078>\u001b[0m in \u001b[0;36mer_dev\u001b[0;34m(x, y, W1, W2, b1, b2, k, i, o)\u001b[0m\n\u001b[1;32m      9\u001b[0m     \u001b[0mx\u001b[0m\u001b[0;34m.\u001b[0m\u001b[0mshape\u001b[0m\u001b[0;34m=\u001b[0m\u001b[0;34m(\u001b[0m\u001b[0mlen\u001b[0m\u001b[0;34m(\u001b[0m\u001b[0mx\u001b[0m\u001b[0;34m)\u001b[0m\u001b[0;34m,\u001b[0m\u001b[0mi\u001b[0m\u001b[0;34m)\u001b[0m\u001b[0;34m\u001b[0m\u001b[0m\n\u001b[1;32m     10\u001b[0m     \u001b[0mW1\u001b[0m\u001b[0;34m.\u001b[0m\u001b[0mshape\u001b[0m\u001b[0;34m=\u001b[0m\u001b[0;34m(\u001b[0m\u001b[0mi\u001b[0m\u001b[0;34m,\u001b[0m\u001b[0mk\u001b[0m\u001b[0;34m)\u001b[0m\u001b[0;34m\u001b[0m\u001b[0m\n\u001b[0;32m---> 11\u001b[0;31m     \u001b[0mI1\u001b[0m\u001b[0;34m=\u001b[0m\u001b[0mnp\u001b[0m\u001b[0;34m.\u001b[0m\u001b[0mdot\u001b[0m\u001b[0;34m(\u001b[0m\u001b[0mW1\u001b[0m\u001b[0;34m.\u001b[0m\u001b[0mT\u001b[0m\u001b[0;34m,\u001b[0m\u001b[0mx\u001b[0m\u001b[0;34m.\u001b[0m\u001b[0mT\u001b[0m\u001b[0;34m)\u001b[0m\u001b[0;34m+\u001b[0m\u001b[0mnp\u001b[0m\u001b[0;34m.\u001b[0m\u001b[0mtile\u001b[0m\u001b[0;34m(\u001b[0m\u001b[0mb1\u001b[0m\u001b[0;34m,\u001b[0m\u001b[0mlen\u001b[0m\u001b[0;34m(\u001b[0m\u001b[0mx\u001b[0m\u001b[0;34m)\u001b[0m\u001b[0;34m)\u001b[0m\u001b[0;34m\u001b[0m\u001b[0m\n\u001b[0m\u001b[1;32m     12\u001b[0m     \u001b[0mS1\u001b[0m\u001b[0;34m=\u001b[0m\u001b[0msigma\u001b[0m\u001b[0;34m(\u001b[0m\u001b[0mI1\u001b[0m\u001b[0;34m)\u001b[0m\u001b[0;34m\u001b[0m\u001b[0m\n\u001b[1;32m     13\u001b[0m     \u001b[0mW2\u001b[0m\u001b[0;34m.\u001b[0m\u001b[0mshape\u001b[0m\u001b[0;34m=\u001b[0m\u001b[0;34m(\u001b[0m\u001b[0mk\u001b[0m\u001b[0;34m,\u001b[0m\u001b[0mo\u001b[0m\u001b[0;34m)\u001b[0m\u001b[0;34m\u001b[0m\u001b[0m\n",
      "\u001b[0;31mValueError\u001b[0m: operands could not be broadcast together with shapes (10,1500) (15000,) "
     ]
    }
   ],
   "source": [
    "(w1,w2,b1,b2) = train(tr_da,tr_lab)"
   ]
  },
  {
   "cell_type": "code",
   "execution_count": 82,
   "metadata": {},
   "outputs": [],
   "source": [
    "# print(w1,w2,b1,b2)"
   ]
  },
  {
   "cell_type": "code",
   "execution_count": 83,
   "metadata": {},
   "outputs": [],
   "source": [
    "err = test(te_da,te_lab,w1,w2,b1,b2)\n",
    "pred = predict(w1,w2,b1,b2,te_da)"
   ]
  },
  {
   "cell_type": "code",
   "execution_count": 84,
   "metadata": {},
   "outputs": [
    {
     "data": {
      "image/png": "[encoded data removed]",
      "text/plain": [
       "<matplotlib.figure.Figure at 0x10756ae50>"
      ]
     },
     "metadata": {},
     "output_type": "display_data"
    },
    {
     "data": {
      "image/png": "[encoded data removed]",
      "text/plain": [
       "<matplotlib.figure.Figure at 0x10756a110>"
      ]
     },
     "metadata": {},
     "output_type": "display_data"
    }
   ],
   "source": [
    "plt.figure(1)\n",
    "plt.scatter(te_da,pred)\n",
    "plt.figure(2)\n",
    "plt.scatter(tr_da,tr_lab)\n",
    "plt.show()"
   ]
  },
  {
   "cell_type": "code",
   "execution_count": null,
   "metadata": {},
   "outputs": [],
   "source": []
  }
 ],
 "metadata": {
  "kernelspec": {
   "display_name": "Python 2",
   "language": "python",
   "name": "python2"
  },
  "language_info": {
   "codemirror_mode": {
    "name": "ipython",
    "version": 2
   },
   "file_extension": ".py",
   "mimetype": "text/x-python",
   "name": "python",
   "nbconvert_exporter": "python",
   "pygments_lexer": "ipython2",
   "version": "2.7.10"
  }
 },
 "nbformat": 4,
 "nbformat_minor": 2
}
