{
 "cells": [
  {
   "cell_type": "code",
   "execution_count": 4,
   "metadata": {},
   "outputs": [],
   "source": [
    "import random\n",
    "import numpy as np\n",
    "import scipy.io as sio\n",
    "data = sio.loadmat('hw1data.mat')"
   ]
  },
  {
   "cell_type": "code",
   "execution_count": 5,
   "metadata": {},
   "outputs": [
    {
     "name": "stdout",
     "output_type": "stream",
     "text": [
      "['Y', 'X', '__version__', '__header__', '__globals__']\n",
      "10000\n",
      "10000\n"
     ]
    }
   ],
   "source": [
    "print data.keys()\n",
    "print len(data[\"Y\"])\n",
    "print len(data[\"X\"])"
   ]
  },
  {
   "cell_type": "code",
   "execution_count": 6,
   "metadata": {},
   "outputs": [],
   "source": [
    "# random training set and test set\n",
    "random.seed(1)\n",
    "testind = random.sample(range(0,len(data[\"X\"])),1000)\n",
    "testX = data[\"X\"][testind]\n",
    "testY = data[\"Y\"][testind]\n",
    "trainind = list(set(range(0,len(data[\"X\"]))) - set(testind))\n",
    "trainX = data[\"X\"][trainind]\n",
    "trainY = data[\"Y\"][trainind] "
   ]
  },
  {
   "cell_type": "code",
   "execution_count": 7,
   "metadata": {
    "scrolled": true
   },
   "outputs": [],
   "source": [
    "# pass: delete\n",
    "temp = np.array([1,2,3,4])\n",
    "temp.shape = (4,1)\n",
    "temptr = temp.transpose()\n",
    "tmp = temp.T.dot(temp)"
   ]
  },
  {
   "cell_type": "code",
   "execution_count": 8,
   "metadata": {},
   "outputs": [],
   "source": [
    "# get the dimension and number of data\n",
    "N = len(trainX[0])\n",
    "ntr = len(trainY)\n",
    "nte = len(testY)"
   ]
  },
  {
   "cell_type": "code",
   "execution_count": 9,
   "metadata": {},
   "outputs": [],
   "source": [
    "# Problem 5.1 start from here: MLE"
   ]
  },
  {
   "cell_type": "code",
   "execution_count": 11,
   "metadata": {},
   "outputs": [],
   "source": [
    "mu = dict()\n",
    "sigma = dict()\n",
    "for lab in range(10):\n",
    "    summu = np.zeros(N)\n",
    "    count = 0\n",
    "    for i in range(ntr):\n",
    "        if trainY[i] == lab:\n",
    "            count += 1\n",
    "            summu += trainX[i]\n",
    "    mu[lab] = summu / count\n",
    "    \n",
    "    sumsigma = np.zeros((N,N))\n",
    "    count = 0\n",
    "    for i in range(ntr):\n",
    "        if trainY[i] == lab:\n",
    "            count += 1\n",
    "            leftmat = trainX[i] - mu[lab]\n",
    "            leftmat.shape = (N,1)\n",
    "            sumsigma += leftmat.dot(leftmat.transpose())\n",
    "    sigma[lab] = sumsigma / count"
   ]
  },
  {
   "cell_type": "code",
   "execution_count": 12,
   "metadata": {},
   "outputs": [
    {
     "data": {
      "text/plain": [
       "numpy.ndarray"
      ]
     },
     "execution_count": 12,
     "metadata": {},
     "output_type": "execute_result"
    }
   ],
   "source": [
    "# pass: delete\n",
    "type(sigma[1])"
   ]
  },
  {
   "cell_type": "code",
   "execution_count": 13,
   "metadata": {},
   "outputs": [
    {
     "ename": "SyntaxError",
     "evalue": "invalid syntax (<ipython-input-13-931777888be3>, line 3)",
     "output_type": "error",
     "traceback": [
      "\u001b[0;36m  File \u001b[0;32m\"<ipython-input-13-931777888be3>\"\u001b[0;36m, line \u001b[0;32m3\u001b[0m\n\u001b[0;31m    np.linalg.det(tmp)\u001b[0m\n\u001b[0m     ^\u001b[0m\n\u001b[0;31mSyntaxError\u001b[0m\u001b[0;31m:\u001b[0m invalid syntax\n"
     ]
    }
   ],
   "source": [
    "testX\n",
    "(2*np.pi)**(-N/2)*(np.linalg.det(sigma[1])\n",
    "np.linalg.det(tmp)"
   ]
  },
  {
   "cell_type": "code",
   "execution_count": 14,
   "metadata": {},
   "outputs": [
    {
     "name": "stdout",
     "output_type": "stream",
     "text": [
      "3.14159265359\n"
     ]
    },
    {
     "data": {
      "text/plain": [
       "0.0"
      ]
     },
     "execution_count": 14,
     "metadata": {},
     "output_type": "execute_result"
    }
   ],
   "source": [
    "print np.pi\n",
    "np.linalg.det(sigma[2])"
   ]
  },
  {
   "cell_type": "code",
   "execution_count": null,
   "metadata": {},
   "outputs": [],
   "source": [
    "# Problem 5.2 start from here: KNN"
   ]
  },
  {
   "cell_type": "code",
   "execution_count": 26,
   "metadata": {},
   "outputs": [],
   "source": [
    "# define Euclidean distance\n",
    "def dist(arr1, arr2):\n",
    "    return (sum(np.sqrt(arr1**2+arr2**2)))"
   ]
  },
  {
   "cell_type": "code",
   "execution_count": 118,
   "metadata": {},
   "outputs": [],
   "source": [
    "# define classifer   \n",
    "def KNNclassifier(trainX, trainY, testX, K):\n",
    "    distest = list()\n",
    "    for i in range(ntr):\n",
    "        distest.append(dist(trainX[i], testX))\n",
    "    Kindex = sorted(range(ntr), key=lambda k : distest[k])[:K]\n",
    "    Klabel = trainY[Kindex]\n",
    "    Klabel.shape = (1,K)\n",
    "    Klabel = Klabel[0].tolist()\n",
    "    print Klabel\n",
    "    return(max(set(Klabel), key=Klabel.count))"
   ]
  },
  {
   "cell_type": "code",
   "execution_count": 123,
   "metadata": {},
   "outputs": [
    {
     "name": "stdout",
     "output_type": "stream",
     "text": [
      "[1, 1, 1, 1, 1, 1, 1, 1, 1, 1, 1, 1, 1, 1, 1, 1, 8, 1, 1, 1, 7, 1, 1, 8, 1, 1, 1, 1, 1, 1, 1, 1, 7, 1, 1, 3, 1, 1, 1, 1, 1, 1, 1, 1, 9, 3, 7, 5, 1, 1, 1, 7, 7, 1, 8, 3, 5, 7, 2, 7, 1, 4, 2, 5, 8, 9, 2, 7, 4, 4, 4, 7, 1, 1, 1, 3, 8, 7, 9, 1, 7, 7, 7, 5, 9, 7, 4, 8, 2, 2, 3, 6, 1, 7, 0, 7, 9, 7, 7, 3, 2, 7, 4, 7, 5, 9, 1, 7, 3, 9, 4, 9, 5, 3, 3, 2, 2, 9, 9, 5, 3, 7, 3, 8, 2, 2, 7, 2, 4, 4, 5, 6, 9, 8, 6, 5, 1, 0, 2, 3, 2, 4, 8, 7, 3, 8, 0, 2, 2, 7, 1, 4, 6, 6, 1, 6, 0, 1, 3, 3, 5, 6, 1, 1, 6, 1, 7, 9, 6, 3, 3, 2, 1, 9, 3, 3, 3, 6, 3, 1, 9, 1, 3, 8, 5, 1, 8, 5, 1, 1, 4, 7, 7, 1, 3, 2, 1, 1, 2, 2]\n"
     ]
    },
    {
     "data": {
      "text/plain": [
       "1"
      ]
     },
     "execution_count": 123,
     "metadata": {},
     "output_type": "execute_result"
    }
   ],
   "source": [
    "pred = list()\n",
    "for i in range(nte): \n",
    "    predtmp = KNNclassifier(trainX,trainY,trainX[i],K=200)\n",
    "    pred.append(predtmp)"
   ]
  }
 ],
 "metadata": {
  "kernelspec": {
   "display_name": "Python 2",
   "language": "python",
   "name": "python2"
  },
  "language_info": {
   "codemirror_mode": {
    "name": "ipython",
    "version": 2
   },
   "file_extension": ".py",
   "mimetype": "text/x-python",
   "name": "python",
   "nbconvert_exporter": "python",
   "pygments_lexer": "ipython2",
   "version": "2.7.10"
  }
 },
 "nbformat": 4,
 "nbformat_minor": 2
}
