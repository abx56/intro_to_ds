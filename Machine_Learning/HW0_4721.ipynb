{
 "cells": [
  {
   "cell_type": "markdown",
   "metadata": {},
   "source": [
    "# <center>HW0</center>\n",
    "<center>Fan Yang</center>\n",
    "<center>UNI: fy2232</center>\n",
    "<center>1/18/2018</center>"
   ]
  },
  {
   "cell_type": "markdown",
   "metadata": {},
   "source": [
    "# Problem 1"
   ]
  },
  {
   "cell_type": "markdown",
   "metadata": {},
   "source": [
    "I am a MA Statistics student and interested in Machine Learning algorithms. I have done research on machine learning as my undergraduate thesis. And I make up my mind to apply these knowledges to my future work field."
   ]
  },
  {
   "cell_type": "markdown",
   "metadata": {},
   "source": [
    "# Problem 2"
   ]
  },
  {
   "cell_type": "markdown",
   "metadata": {},
   "source": [
    "# (a).\n",
    "FLASE"
   ]
  },
  {
   "cell_type": "markdown",
   "metadata": {},
   "source": [
    "# (b).\n",
    "TRUE"
   ]
  },
  {
   "cell_type": "markdown",
   "metadata": {},
   "source": [
    "# Problem 3"
   ]
  },
  {
   "cell_type": "markdown",
   "metadata": {},
   "source": [
    "## (a). \n",
    "\\begin{align*}\n",
    "Pr(X=1)&=Pr(X=1,Y=1)+Pr(X=1,Y=2)=0.1+0.2=0.3\\\\\n",
    "Pr(X=2)&=Pr(X=2,Y=1)+Pr(X=2,Y=2)=0.2+0.2=0.3\\\\\n",
    "Pr(X=3)&=Pr(X=3,Y=1)+Pr(X=3,Y=2)=0.3+0.1=0.4\\\\\n",
    "\\end{align*}"
   ]
  },
  {
   "cell_type": "markdown",
   "metadata": {},
   "source": [
    "## (b).\n",
    "\\begin{align*}\n",
    "Pr(Y = 1 | X = 2) = \\frac{Pr(Y=1,X=2)}{Pr(X=2)}=\\frac{0.2}{0.3}=\\frac{2}{3}\n",
    "\\end{align*}"
   ]
  },
  {
   "cell_type": "markdown",
   "metadata": {},
   "source": [
    "## (c).\n",
    "\\begin{align*}\n",
    "E(Y) &= Pr(Y=1)*1+Pr(Y=2)*2\\\\&=(0.1+0.2+0.3)*1+(0.2+0.1+0.1)*2=0.6+0.8=1.4\\\\\n",
    "E(Y^2)&=Pr(Y=1)*1^2+Pr(Y=2)*2^2\\\\&=(0.1+0.2+0.3)*1+(0.2+0.1+0.1)*4=0.6+1.6=2.2\\\\\n",
    "Var(Y)&=E(Y^2)-E^2(Y)=2.2-1.4^2=0.24\n",
    "\\end{align*}"
   ]
  },
  {
   "cell_type": "markdown",
   "metadata": {},
   "source": [
    "## (d).\n",
    "\\begin{align*}\n",
    "Pr(X = 1 | Y = 1) &= \\frac{Pr(X=1,Y=1)}{Pr(Y=1)}=\\frac{0.1}{0.6}=\\frac{1}{6}\\\\\n",
    "Pr(X = 2 | Y = 1) &= \\frac{Pr(X=2,Y=1)}{Pr(Y=1)}=\\frac{0.2}{0.6}=\\frac{1}{3}\\\\\n",
    "Pr(X = 3 | Y = 1) &= \\frac{Pr(X=3,Y=1)}{Pr(Y=1)}=\\frac{0.3}{0.6}=\\frac{1}{2}\\\\\n",
    "E(f(X)|Y=1) &= Pr(X = 1 | Y = 1)*1^2+Pr(X = 2 | Y = 1)*2^2+Pr(X = 3 | Y = 1)*3^2\\\\\n",
    "&=\\frac{1}{6}+\\frac{1}{3}*4+\\frac{1}{2}*9=6\n",
    "\\end{align*}"
   ]
  },
  {
   "cell_type": "markdown",
   "metadata": {},
   "source": [
    "## (e).\n",
    "\\begin{align*}\n",
    "Pr(X = 1 | Y = 2) &= \\frac{Pr(X=1,Y=2)}{Pr(Y=2)}=\\frac{0.2}{0.4}=\\frac{1}{2}\\\\\n",
    "Pr(X = 2 | Y = 2) &= \\frac{Pr(X=2,Y=2)}{Pr(Y=2)}=\\frac{0.1}{0.4}=\\frac{1}{4}\\\\\n",
    "Pr(X = 3 | Y = 2) &= \\frac{Pr(X=3,Y=2)}{Pr(Y=2)}=\\frac{0.1}{0.4}=\\frac{1}{4}\\\\\n",
    "E(f(X)|Y=2) &= Pr(X = 1 | Y = 2)*1^2+Pr(X = 2 | Y = 2)*2^2+Pr(X = 3 | Y = 2)*3^2\\\\\n",
    "&=\\frac{1}{2}+\\frac{1}{4}*4+\\frac{1}{4}*9=3.75\n",
    "\\end{align*}\n",
    "Therefore, $E(f(X)|Y=1) =6,~E(f(X)|Y=2)=3.75$"
   ]
  },
  {
   "cell_type": "markdown",
   "metadata": {},
   "source": [
    "# Problem 4"
   ]
  },
  {
   "cell_type": "markdown",
   "metadata": {},
   "source": [
    "## (a).\n",
    "\\begin{split}\n",
    "\\int^{\\infty}_{\\infty}f(x)dx &= \\int_{0}^{\\infty}\\frac{1}{Z}(e^{-\\theta x}+e^{-2\\theta x})dx\\\\\n",
    "&=\\frac{1}{Z} (- \\frac{1}{\\theta} e^{-\\theta x}-\\frac{1}{2\\theta} e^{-2\\theta x})\\Big|_0^\\infty\\\\\n",
    "&=\\frac{3}{2Z\\theta}\n",
    "\\end{split}"
   ]
  },
  {
   "cell_type": "markdown",
   "metadata": {},
   "source": [
    "This integral should be equal to 1. which is $\\frac{3}{2Z\\theta}=1$. So $Z=\\frac{3}{2\\theta}$"
   ]
  },
  {
   "cell_type": "markdown",
   "metadata": {},
   "source": [
    "## (b).\n",
    "\\begin{align*}\n",
    "E(X)&=\\int^{\\infty}_{\\infty}~xf(x)~dx = \\int_{0}^{\\infty}\\frac{1}{Z}(xe^{-\\theta x}+xe^{-2\\theta x})dx\\\\\n",
    "&=\\frac{1}{Z} (-\\frac{1}{\\theta^2} e^{-\\theta x}(\\theta x+1)-\\frac{1}{4\\theta^2} e^{-2\\theta x}(2\\theta x+1))\\Big|_0^\\infty\\\\\n",
    "&=\\frac{1}{Z}(\\frac{1}{\\theta^2}+\\frac{1}{4\\theta^2})\\\\\n",
    "&=\\frac{1}{Z}\\frac{5}{4\\theta^2}\\\\\n",
    "&=\\frac{5}{6\\theta}\\\\\n",
    "\\end{align*}\n"
   ]
  },
  {
   "cell_type": "markdown",
   "metadata": {},
   "source": [
    "## (c).\n",
    "\\begin{align*}\n",
    "E(X^2)&=\\int^{\\infty}_{\\infty}~x^2f(x)~dx = \\int_{0}^{\\infty}\\frac{1}{Z}(x^2e^{-\\theta x}+x^2e^{-2\\theta x})dx\\\\\n",
    "&=\\frac{1}{Z} (-\\frac{1}{\\theta^3} e^{-\\theta x}(\\theta^2 x^2+2\\theta x+2)-\\frac{1}{4\\theta^3} e^{-2\\theta x}(2\\theta^2 x^2+2\\theta x+1))\\Big|_0^\\infty\\\\\n",
    "&=\\frac{1}{Z}(\\frac{2}{\\theta^3}+\\frac{1}{4\\theta^3})\\\\\n",
    "&=\\frac{1}{Z}\\frac{9}{4\\theta^3}\\\\\n",
    "&=\\frac{3}{2\\theta^2}\\\\\n",
    "Var(X)&=E(X^2)-E^2(X)=\\frac{3}{2\\theta^2}-\\frac{25}{36\\theta^2}=\\frac{29}{36\\theta^2}\\\\\n",
    "\\end{align*}"
   ]
  },
  {
   "cell_type": "markdown",
   "metadata": {},
   "source": [
    "# Problem 5"
   ]
  },
  {
   "cell_type": "markdown",
   "metadata": {},
   "source": [
    "## (a).\n",
    "denote \"having red hair\" as R.<br>\n",
    "denote \"not having red hair\" as NR.<br>\n",
    "denote \"has the genetic disease\" as G.<br>\n",
    "denote \"not has the genetic disease\" as NG.<br>\n",
    "\\begin{split}\n",
    "&Pr(G)=Pr(R)=0.01\\\\\n",
    "&Pr(yes|G)=Pr(yes|R)=0.99\\\\\n",
    "&Pr(no|NG)=Pr(no|NR)=0.99\\\\\n",
    "\\end{split}\n",
    "now we want to calculate $Pr(G|yes)$<br>\n",
    "\\begin{split}\n",
    "&Pr(yes|G)=\\frac{Pr(yes;G)}{Pr(G)}=0.99\\\\\n",
    "&\\therefore Pr(yes;G)=0.99\\times0.01=0.0099\\\\\n",
    "&Pr(yes|NG)=1-Pr(no|NG)=0.01\\\\\n",
    "&Pr(yes|NG)=\\frac{Pr(yes;NG)}{Pr(NG)}=0.01\\\\\n",
    "&\\therefore Pr(yes;NG)=0.01\\times(1-0.01)=0.0099\\\\\n",
    "&Pr(yes)=Pr(yes;G)+Pr(yes;NG)=0.0099+0.0099=0.0198\\\\\n",
    "&Pr(G|yes)=\\frac{Pr(G;yes)}{Pr(yes)}=\\frac{0.99}{0.0198}=\\frac{1}{50}\\\\\n",
    "\\end{split}"
   ]
  },
  {
   "cell_type": "markdown",
   "metadata": {},
   "source": [
    "# Problem 6"
   ]
  },
  {
   "cell_type": "markdown",
   "metadata": {},
   "source": [
    "## (a).\n",
    "\n",
    "Since $M=M^T$, then $A=M^TDM$ and $D$ is a diagonal matrix, therefore, $\\{-1,\\frac{1}{2},\\frac{1}{4},0\\}$ are eigen values of matrix $A$.<br>\n",
    "So the dimension of $R$ is 4.\n"
   ]
  },
  {
   "cell_type": "markdown",
   "metadata": {},
   "source": [
    "## (b).\n",
    "\n",
    "Denote the first and third matrices as $M$, then $MM=I;~M^{-1}=M$<br>\n",
    "Denote the diagonal matrix as $D$.<br>\n",
    "then, $A=MDM;~A^2=MDM*MDM=(MD)(MM)(DM)=MD^2M;~A^3=MD^3M;~A^k=MD^kM$.<br>\n",
    "$D^3=\\left(\n",
    "\\begin{matrix}\n",
    "-1&0&0&0&0&0\\\\\n",
    "0&\\frac{1}{8}&0&0&0&0\\\\\n",
    "0&0&\\frac{1}{8}&0&0&0\\\\\n",
    "0&0&0&\\frac{1}{64}&0&0\\\\\n",
    "0&0&0&0&0&0\\\\\n",
    "0&0&0&0&0&\\frac{1}{64}\\\\\n",
    "\\end{matrix}\n",
    "\\right)$<br>\n",
    "So the largest eigen value is $\\frac{1}{8}$.\n"
   ]
  },
  {
   "cell_type": "markdown",
   "metadata": {},
   "source": [
    "## (c).\n",
    "\\begin{split}\n",
    "P&=A(A^TA)^{-1}A^T\\\\\n",
    "&=A(AA)^{-1}A\\\\\n",
    "&=MDM(MDMMDM)^{-1}MDM\\\\\n",
    "&=MDM(MDDM)^{-1}MDM\\\\\n",
    "&=MDMM^{-1}D^{-1}D^{-1}M^{-1}MDM\\\\\n",
    "&=MDD^{-1}D^{-1}DM\\\\\n",
    "&=MM\\\\\n",
    "&=I_{6\\times6}\\\\\n",
    "\\end{split}"
   ]
  }
 ],
 "metadata": {
  "kernelspec": {
   "display_name": "Python 2",
   "language": "python",
   "name": "python2"
  },
  "language_info": {
   "codemirror_mode": {
    "name": "ipython",
    "version": 2
   },
   "file_extension": ".py",
   "mimetype": "text/x-python",
   "name": "python",
   "nbconvert_exporter": "python",
   "pygments_lexer": "ipython2",
   "version": "2.7.10"
  }
 },
 "nbformat": 4,
 "nbformat_minor": 2
}
