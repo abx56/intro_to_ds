{
 "cells": [
  {
   "cell_type": "markdown",
   "metadata": {},
   "source": [
    "<br><br>\n",
    "# <center>ADVANCED DATA ANALYSIS</center>\n",
    "# <center>HW5</center>\n",
    "<br><br><br><br><br><br><br><br>\n",
    "<br><br><br><br><br><br><br><br><br><br>\n",
    "<center>Fan Yang</center>\n",
    "<center>UNI: fy2232</center>\n",
    "<center>02/28/2018</center>"
   ]
  },
  {
   "cell_type": "markdown",
   "metadata": {},
   "source": [
    "<br><br><br>"
   ]
  },
  {
   "cell_type": "markdown",
   "metadata": {},
   "source": [
    "<!---\n",
    "your comment goes here\n",
    "and here\n",
    "-->"
   ]
  },
  {
   "cell_type": "markdown",
   "metadata": {},
   "source": [
    "***"
   ]
  },
  {
   "cell_type": "markdown",
   "metadata": {},
   "source": [
    "<br><br><br><br><br><br><br><br><br><br><br>\n",
    "<br><br><br><br><br><br><br><br><br><br><br><br><br><br><br><br><br><br>\n",
    "<br><br><br><br><br><br><br><br><br><br><br><br><br>"
   ]
  },
  {
   "cell_type": "markdown",
   "metadata": {},
   "source": [
    "***"
   ]
  },
  {
   "cell_type": "markdown",
   "metadata": {},
   "source": [
    "# Problem 1"
   ]
  },
  {
   "cell_type": "markdown",
   "metadata": {},
   "source": [
    "***(10pt) For the 23 space shuttle flights that occurred before the Challenger mission disaster in 1986, the data Shuttle.csv shows the temperature in fahrenheit ($^o$F) at the time of the flight and whether at least one primary O-ring suffered thermal distress.***\n"
   ]
  },
  {
   "cell_type": "markdown",
   "metadata": {},
   "source": [
    "Load the data:"
   ]
  },
  {
   "cell_type": "code",
   "execution_count": 1,
   "metadata": {},
   "outputs": [
    {
     "data": {
      "text/html": [
       "<table>\n",
       "<thead><tr><th scope=col>Temperature</th><th scope=col>ThermalDistress</th><th scope=col>TD</th></tr></thead>\n",
       "<tbody>\n",
       "\t<tr><td>66</td><td>0 </td><td>0 </td></tr>\n",
       "\t<tr><td>70</td><td>1 </td><td>1 </td></tr>\n",
       "\t<tr><td>69</td><td>0 </td><td>0 </td></tr>\n",
       "\t<tr><td>68</td><td>0 </td><td>0 </td></tr>\n",
       "\t<tr><td>67</td><td>0 </td><td>0 </td></tr>\n",
       "</tbody>\n",
       "</table>\n"
      ],
      "text/latex": [
       "\\begin{tabular}{r|lll}\n",
       " Temperature & ThermalDistress & TD\\\\\n",
       "\\hline\n",
       "\t 66 & 0  & 0 \\\\\n",
       "\t 70 & 1  & 1 \\\\\n",
       "\t 69 & 0  & 0 \\\\\n",
       "\t 68 & 0  & 0 \\\\\n",
       "\t 67 & 0  & 0 \\\\\n",
       "\\end{tabular}\n"
      ],
      "text/markdown": [
       "\n",
       "Temperature | ThermalDistress | TD | \n",
       "|---|---|---|---|---|\n",
       "| 66 | 0  | 0  | \n",
       "| 70 | 1  | 1  | \n",
       "| 69 | 0  | 0  | \n",
       "| 68 | 0  | 0  | \n",
       "| 67 | 0  | 0  | \n",
       "\n",
       "\n"
      ],
      "text/plain": [
       "  Temperature ThermalDistress TD\n",
       "1 66          0               0 \n",
       "2 70          1               1 \n",
       "3 69          0               0 \n",
       "4 68          0               0 \n",
       "5 67          0               0 "
      ]
     },
     "metadata": {},
     "output_type": "display_data"
    }
   ],
   "source": [
    "Shuttle <- read.csv(\"Shuttle.csv\",header = T)\n",
    "Shuttle <- cbind(Shuttle, TD = factor(Shuttle$ThermalDistress))\n",
    "head(Shuttle,5)"
   ]
  },
  {
   "cell_type": "markdown",
   "metadata": {},
   "source": [
    "## (a)\n",
    "*** (2pt) Use logistic regression to model the effect of the temperature on the probability of thermal distress. That is, fit the model\n",
    "$$\n",
    "\\text{logit}(\\pi(\\text{TD}|\\text{Temperature})) = \\beta_0 + \\beta_1\\text{Temperature}\\\\\n",
    "\\pi(\\text{TD}|\\text{Temperature}) = P (\\text{Termal Distress} = 1|\\text{Temperature})$$***"
   ]
  },
  {
   "cell_type": "code",
   "execution_count": 2,
   "metadata": {
    "scrolled": true
   },
   "outputs": [
    {
     "data": {
      "text/plain": [
       "\n",
       "Call:  glm(formula = ThermalDistress ~ Temperature, family = binomial(\"logit\"), \n",
       "    data = Shuttle)\n",
       "\n",
       "Coefficients:\n",
       "(Intercept)  Temperature  \n",
       "    15.0429      -0.2322  \n",
       "\n",
       "Degrees of Freedom: 22 Total (i.e. Null);  21 Residual\n",
       "Null Deviance:\t    28.27 \n",
       "Residual Deviance: 20.32 \tAIC: 24.32"
      ]
     },
     "metadata": {},
     "output_type": "display_data"
    }
   ],
   "source": [
    "glm.1a <- glm(ThermalDistress ~ Temperature,\n",
    "              family = binomial(\"logit\"), data =Shuttle)\n",
    "glm.1a"
   ]
  },
  {
   "cell_type": "markdown",
   "metadata": {},
   "source": [
    "$$\n",
    "\\text{logit}(\\pi(\\text{TD}|\\text{Temperature})) = 15.0429 - 0.2322\\times \\text{Temperature}$$\n",
    "\n",
    "where $\\pi(\\text{TD}|\\text{Temperature}) = P (\\text{Termal Distress} = 1|\\text{Temperature})$."
   ]
  },
  {
   "cell_type": "markdown",
   "metadata": {},
   "source": [
    "## (b)\n",
    "***(2pt) Estimate $\\beta_1$, the effect of temperature on the probability of thermal distress. Interpret your result.***"
   ]
  },
  {
   "cell_type": "code",
   "execution_count": 3,
   "metadata": {
    "scrolled": true
   },
   "outputs": [
    {
     "data": {
      "text/html": [
       "<dl class=dl-horizontal>\n",
       "\t<dt>(Intercept)</dt>\n",
       "\t\t<dd>15.0429016476891</dd>\n",
       "\t<dt>Temperature</dt>\n",
       "\t\t<dd>-0.2321627442184</dd>\n",
       "</dl>\n"
      ],
      "text/latex": [
       "\\begin{description*}\n",
       "\\item[(Intercept)] 15.0429016476891\n",
       "\\item[Temperature] -0.2321627442184\n",
       "\\end{description*}\n"
      ],
      "text/markdown": [
       "(Intercept)\n",
       ":   15.0429016476891Temperature\n",
       ":   -0.2321627442184\n",
       "\n"
      ],
      "text/plain": [
       "(Intercept) Temperature \n",
       " 15.0429016  -0.2321627 "
      ]
     },
     "metadata": {},
     "output_type": "display_data"
    }
   ],
   "source": [
    "glm.1a$coefficients"
   ]
  },
  {
   "cell_type": "markdown",
   "metadata": {},
   "source": [
    "$$\n",
    "\\hat{\\beta}_1=-0.2321627442184\n",
    ".$$"
   ]
  },
  {
   "cell_type": "markdown",
   "metadata": {},
   "source": [
    "## (c)\n",
    "***(2pt) Construct a 95% confidence interval to describe the effect of the temperature on the odds of thermal distress (i.e. construct a 95% interval for $e^{\\beta_1}$ ), Interpret your result***"
   ]
  },
  {
   "cell_type": "code",
   "execution_count": 4,
   "metadata": {
    "scrolled": false
   },
   "outputs": [
    {
     "name": "stderr",
     "output_type": "stream",
     "text": [
      "Waiting for profiling to be done...\n"
     ]
    },
    {
     "data": {
      "text/html": [
       "<table>\n",
       "<thead><tr><th></th><th scope=col>2.5 %</th><th scope=col>97.5 %</th></tr></thead>\n",
       "<tbody>\n",
       "\t<tr><th scope=row>(Intercept)</th><td> 3.3305848 </td><td>34.34215133</td></tr>\n",
       "\t<tr><th scope=row>Temperature</th><td>-0.5154718 </td><td>-0.06082076</td></tr>\n",
       "</tbody>\n",
       "</table>\n"
      ],
      "text/latex": [
       "\\begin{tabular}{r|ll}\n",
       "  & 2.5 \\% & 97.5 \\%\\\\\n",
       "\\hline\n",
       "\t(Intercept) &  3.3305848  & 34.34215133\\\\\n",
       "\tTemperature & -0.5154718  & -0.06082076\\\\\n",
       "\\end{tabular}\n"
      ],
      "text/markdown": [
       "\n",
       "| <!--/--> | 2.5 % | 97.5 % | \n",
       "|---|---|\n",
       "| (Intercept) |  3.3305848  | 34.34215133 | \n",
       "| Temperature | -0.5154718  | -0.06082076 | \n",
       "\n",
       "\n"
      ],
      "text/plain": [
       "            2.5 %      97.5 %     \n",
       "(Intercept)  3.3305848 34.34215133\n",
       "Temperature -0.5154718 -0.06082076"
      ]
     },
     "metadata": {},
     "output_type": "display_data"
    }
   ],
   "source": [
    "confint(glm.1a)"
   ]
  },
  {
   "cell_type": "markdown",
   "metadata": {},
   "source": [
    "A $95\\%$ interval for $\\beta_1$ is\n",
    "$$[-0.5154718,\t-0.06082076]$$\n",
    "A $95\\%$ interval for $e^{\\beta_1}$ is\n",
    "$$[e^{-0.5154718},\te^{-0.06082076}]=[0.5972188,0.9409919]$$"
   ]
  },
  {
   "cell_type": "markdown",
   "metadata": {},
   "source": [
    "## (d)\n",
    "***(2pt) Predict the probability of thermal distress at 31$^o$F, the temperature at the time of the Challenger flight.***"
   ]
  },
  {
   "cell_type": "code",
   "execution_count": 5,
   "metadata": {},
   "outputs": [
    {
     "data": {
      "text/html": [
       "<strong>1:</strong> 0.999608782884929"
      ],
      "text/latex": [
       "\\textbf{1:} 0.999608782884929"
      ],
      "text/markdown": [
       "**1:** 0.999608782884929"
      ],
      "text/plain": [
       "        1 \n",
       "0.9996088 "
      ]
     },
     "metadata": {},
     "output_type": "display_data"
    }
   ],
   "source": [
    "newdata.1d <- data.frame(Temperature = 31)\n",
    "predict(glm.1a, newdata.1d,type = \"response\")"
   ]
  },
  {
   "cell_type": "markdown",
   "metadata": {},
   "source": [
    "$$\\pi(\\text{TD}|\\text{Temperature})=  0.999608782884929$$<br>\n",
    "$\\text{logit}(\\pi(\\text{TD}|\\text{Temperature})) =  15.0429-0.2322\\times31=7.8447$<br><br>\n",
    "$$\\text{logit}(\\pi)=\\log \\left(\\frac{\\pi}{1-\\pi}\\right)\\\\\n",
    "\\pi=\\frac{e^{\\text{logit}}}{1+e^{\\text{logit}}}\n",
    "=0.999608782884929\n",
    "$$<br>\n",
    "Therefore, $\\pi(\\text{TD}|\\text{Temperature})=0.999608782884929$."
   ]
  },
  {
   "cell_type": "markdown",
   "metadata": {},
   "source": [
    "## (e)\n",
    "***(2pt) At what temperature does the predicted probability equal 0.5?***"
   ]
  },
  {
   "cell_type": "markdown",
   "metadata": {},
   "source": [
    "\\begin{split}\n",
    "\\text{logit}(\\pi)&=\\log \\left(\\frac{\\pi}{1-\\pi}\\right)\\\\\n",
    "&=\\log \\left(\\frac{0.5}{1-0.5}\\right)\\\\\n",
    "&=0\\\\\n",
    "\\text{logit}(\\pi) &=  15.0429-0.2322\\times\\text{Temperature}=0\\\\\n",
    "\\text{Therefore, Temperature}&=64.7842377260982\\\\\n",
    "\\end{split}<br>\n",
    "At temperature 64.7842377260982 $^o$F, the predicted probability equal 0.5"
   ]
  },
  {
   "cell_type": "markdown",
   "metadata": {},
   "source": [
    "- - -"
   ]
  },
  {
   "cell_type": "markdown",
   "metadata": {},
   "source": [
    "# Problem 2"
   ]
  },
  {
   "cell_type": "markdown",
   "metadata": {},
   "source": [
    "***The data in the file adolescent.csv appeared in a national study of 15 and 16 year-old adolescents. The event of interest is ever having sexual intercourse. The goal is to study the effect if any of race and gender on having sexual intercourse (Yes, No). Consider the following model\n",
    "$$\n",
    "\\text{logit}(\\pi(\\text{Intercourse}=\\text{Yes}|\\text{Gender}, \\text{Race})) = \\beta_0 + \\beta_1\\text{Gender} + \\beta_2\\text{Race}\n",
    "$$***\n"
   ]
  },
  {
   "cell_type": "markdown",
   "metadata": {},
   "source": [
    "Load the data:"
   ]
  },
  {
   "cell_type": "code",
   "execution_count": 6,
   "metadata": {},
   "outputs": [
    {
     "name": "stderr",
     "output_type": "stream",
     "text": [
      "Warning message in read.table(\"adolescent.csv\", header = T, sep = \",\"):\n",
      "“incomplete final line found by readTableHeader on 'adolescent.csv'”"
     ]
    },
    {
     "data": {
      "text/html": [
       "<table>\n",
       "<thead><tr><th scope=col>Race</th><th scope=col>Gender</th><th scope=col>Yes</th><th scope=col>No</th></tr></thead>\n",
       "<tbody>\n",
       "\t<tr><td>White </td><td>Male  </td><td>43    </td><td>134   </td></tr>\n",
       "\t<tr><td>White </td><td>Female</td><td>26    </td><td>149   </td></tr>\n",
       "\t<tr><td>Black </td><td>Male  </td><td>29    </td><td> 23   </td></tr>\n",
       "\t<tr><td>Black </td><td>Female</td><td>22    </td><td> 36   </td></tr>\n",
       "</tbody>\n",
       "</table>\n"
      ],
      "text/latex": [
       "\\begin{tabular}{r|llll}\n",
       " Race & Gender & Yes & No\\\\\n",
       "\\hline\n",
       "\t White  & Male   & 43     & 134   \\\\\n",
       "\t White  & Female & 26     & 149   \\\\\n",
       "\t Black  & Male   & 29     &  23   \\\\\n",
       "\t Black  & Female & 22     &  36   \\\\\n",
       "\\end{tabular}\n"
      ],
      "text/markdown": [
       "\n",
       "Race | Gender | Yes | No | \n",
       "|---|---|---|---|\n",
       "| White  | Male   | 43     | 134    | \n",
       "| White  | Female | 26     | 149    | \n",
       "| Black  | Male   | 29     |  23    | \n",
       "| Black  | Female | 22     |  36    | \n",
       "\n",
       "\n"
      ],
      "text/plain": [
       "  Race  Gender Yes No \n",
       "1 White Male   43  134\n",
       "2 White Female 26  149\n",
       "3 Black Male   29   23\n",
       "4 Black Female 22   36"
      ]
     },
     "metadata": {},
     "output_type": "display_data"
    }
   ],
   "source": [
    "adolescent <- read.table(\"adolescent.csv\",header = T,sep=\",\")\n",
    "adolescent"
   ]
  },
  {
   "cell_type": "markdown",
   "metadata": {},
   "source": [
    "## (a)\n",
    "*** (2pt) Estimate $\\beta_1$ and $\\beta_2$ and interpret your result***"
   ]
  },
  {
   "cell_type": "code",
   "execution_count": 7,
   "metadata": {},
   "outputs": [
    {
     "data": {
      "text/plain": [
       "\n",
       "Call:  glm(formula = cbind(Yes, No) ~ factor(Gender) + factor(Race), \n",
       "    family = binomial)\n",
       "\n",
       "Coefficients:\n",
       "       (Intercept)  factor(Gender)Male   factor(Race)White  \n",
       "           -0.4555              0.6478             -1.3135  \n",
       "\n",
       "Degrees of Freedom: 3 Total (i.e. Null);  1 Residual\n",
       "Null Deviance:\t    37.52 \n",
       "Residual Deviance: 0.05835 \tAIC: 25.19"
      ]
     },
     "metadata": {},
     "output_type": "display_data"
    }
   ],
   "source": [
    "attach(adolescent)\n",
    "glm.2a <- glm(cbind(Yes, No)~factor(Gender)+factor(Race), family=binomial)\n",
    "glm.2a"
   ]
  },
  {
   "cell_type": "markdown",
   "metadata": {},
   "source": [
    "For model $$\n",
    "\\text{logit}(\\pi(\\text{Intercourse}=\\text{Yes}|\\text{Gender}, \\text{Race})) = \\beta_0 + \\beta_1\\text{Gender} + \\beta_2\\text{Race}\n",
    "$$\n",
    "we get $$\\hat{\\beta}_1=\\hat{\\beta}_{\\text{Gender}}=0.6478 \\\\\n",
    "\\hat{\\beta}_2=\\hat{\\beta}_{\\text{Race}}=-1.3135 $$\n",
    "Therefore$$\n",
    "\\text{logit}(\\pi) = -0.4555 + 0.6478\\times\\text{Gender} -1.3135 \\times\\text{Race}\n",
    "$$"
   ]
  },
  {
   "cell_type": "markdown",
   "metadata": {},
   "source": [
    "## (b)\n",
    "***(2pt) Construct a 95% confidence interval to describe the effect of gender on the odds of Intercourse controlling for race (i.e. construct a 95% interval for $e^{\\beta_1}$), Interpret your result***"
   ]
  },
  {
   "cell_type": "code",
   "execution_count": 8,
   "metadata": {
    "scrolled": false
   },
   "outputs": [
    {
     "name": "stderr",
     "output_type": "stream",
     "text": [
      "Waiting for profiling to be done...\n"
     ]
    },
    {
     "data": {
      "text/html": [
       "<table>\n",
       "<thead><tr><th></th><th scope=col>2.5 %</th><th scope=col>97.5 %</th></tr></thead>\n",
       "<tbody>\n",
       "\t<tr><th scope=row>(Intercept)</th><td>-0.8971266 </td><td>-0.02385449</td></tr>\n",
       "\t<tr><th scope=row>factor(Gender)Male</th><td> 0.2105773 </td><td> 1.09436472</td></tr>\n",
       "\t<tr><th scope=row>factor(Race)White</th><td>-1.7824267 </td><td>-0.84865350</td></tr>\n",
       "</tbody>\n",
       "</table>\n"
      ],
      "text/latex": [
       "\\begin{tabular}{r|ll}\n",
       "  & 2.5 \\% & 97.5 \\%\\\\\n",
       "\\hline\n",
       "\t(Intercept) & -0.8971266  & -0.02385449\\\\\n",
       "\tfactor(Gender)Male &  0.2105773  &  1.09436472\\\\\n",
       "\tfactor(Race)White & -1.7824267  & -0.84865350\\\\\n",
       "\\end{tabular}\n"
      ],
      "text/markdown": [
       "\n",
       "| <!--/--> | 2.5 % | 97.5 % | \n",
       "|---|---|---|\n",
       "| (Intercept) | -0.8971266  | -0.02385449 | \n",
       "| factor(Gender)Male |  0.2105773  |  1.09436472 | \n",
       "| factor(Race)White | -1.7824267  | -0.84865350 | \n",
       "\n",
       "\n"
      ],
      "text/plain": [
       "                   2.5 %      97.5 %     \n",
       "(Intercept)        -0.8971266 -0.02385449\n",
       "factor(Gender)Male  0.2105773  1.09436472\n",
       "factor(Race)White  -1.7824267 -0.84865350"
      ]
     },
     "metadata": {},
     "output_type": "display_data"
    }
   ],
   "source": [
    "confint(glm.2a)"
   ]
  },
  {
   "cell_type": "markdown",
   "metadata": {},
   "source": [
    "A $95\\%$ interval for $\\beta_1$ is\n",
    "$$[0.2105773,1.09436472]$$\n",
    "A $95\\%$ interval for $e^{\\beta_1}$ is\n",
    "$$[e^{0.2105773},\te^{1.09436472}]=[1.2343904,2.9872843]$$"
   ]
  },
  {
   "cell_type": "markdown",
   "metadata": {},
   "source": [
    "## (c)\n",
    "***(2pt) Construct a 95% confidence interval to describe the effect of gender on the odds of Intercourse controlling for race (i.e. con- struct a 95% interval for $e^{\\beta_2}$), Interpret your result***"
   ]
  },
  {
   "cell_type": "code",
   "execution_count": 9,
   "metadata": {
    "scrolled": false
   },
   "outputs": [
    {
     "name": "stderr",
     "output_type": "stream",
     "text": [
      "Waiting for profiling to be done...\n"
     ]
    },
    {
     "data": {
      "text/html": [
       "<table>\n",
       "<thead><tr><th></th><th scope=col>2.5 %</th><th scope=col>97.5 %</th></tr></thead>\n",
       "<tbody>\n",
       "\t<tr><th scope=row>(Intercept)</th><td>-0.8971266 </td><td>-0.02385449</td></tr>\n",
       "\t<tr><th scope=row>factor(Gender)Male</th><td> 0.2105773 </td><td> 1.09436472</td></tr>\n",
       "\t<tr><th scope=row>factor(Race)White</th><td>-1.7824267 </td><td>-0.84865350</td></tr>\n",
       "</tbody>\n",
       "</table>\n"
      ],
      "text/latex": [
       "\\begin{tabular}{r|ll}\n",
       "  & 2.5 \\% & 97.5 \\%\\\\\n",
       "\\hline\n",
       "\t(Intercept) & -0.8971266  & -0.02385449\\\\\n",
       "\tfactor(Gender)Male &  0.2105773  &  1.09436472\\\\\n",
       "\tfactor(Race)White & -1.7824267  & -0.84865350\\\\\n",
       "\\end{tabular}\n"
      ],
      "text/markdown": [
       "\n",
       "| <!--/--> | 2.5 % | 97.5 % | \n",
       "|---|---|---|\n",
       "| (Intercept) | -0.8971266  | -0.02385449 | \n",
       "| factor(Gender)Male |  0.2105773  |  1.09436472 | \n",
       "| factor(Race)White | -1.7824267  | -0.84865350 | \n",
       "\n",
       "\n"
      ],
      "text/plain": [
       "                   2.5 %      97.5 %     \n",
       "(Intercept)        -0.8971266 -0.02385449\n",
       "factor(Gender)Male  0.2105773  1.09436472\n",
       "factor(Race)White  -1.7824267 -0.84865350"
      ]
     },
     "metadata": {},
     "output_type": "display_data"
    }
   ],
   "source": [
    "confint(glm.2a)"
   ]
  },
  {
   "cell_type": "markdown",
   "metadata": {},
   "source": [
    "A $95\\%$ interval for $\\beta_2$ is\n",
    "$$[-1.7824267,-0.84865350]$$\n",
    "A $95\\%$ interval for $e^{\\beta_2}$ is\n",
    "$$[e^{-1.7824267},\te^{-0.84865350}]=[0.1682294,0.4279908]$$"
   ]
  },
  {
   "cell_type": "markdown",
   "metadata": {},
   "source": [
    "## (d)\n",
    "***(2pt)Test $H_0 :\\beta_1 =\\beta_2 =0$ against $H_a :$ at least one of them is not zero. Use $\\alpha = 0.05$.***"
   ]
  },
  {
   "cell_type": "markdown",
   "metadata": {},
   "source": [
    "Using Likelihood Ratio Test:<br>\n",
    "Under general $H_0$<br><br>\n",
    "$$\n",
    "−2 (\\text{log of the likelihood ratio}) = −2[\\log(L(R)) − \\log(L(F))] \\sim \\chi^2_k\n",
    "$$<br>\n",
    "where k is the number of parameters set equal to zero to get the reduced model.<br><br>\n",
    "Reject $H_0$ if<br><br>\n",
    "$$\n",
    "−2 ~(\\text{ log of the likelihood ratio }) >\\chi^2_k(1-\\alpha)\n",
    "$$"
   ]
  },
  {
   "cell_type": "code",
   "execution_count": 10,
   "metadata": {},
   "outputs": [
    {
     "data": {
      "text/plain": [
       "\n",
       "Call:\n",
       "glm(formula = cbind(Yes, No) ~ factor(Gender) + factor(Race), \n",
       "    family = binomial)\n",
       "\n",
       "Deviance Residuals: \n",
       "       1         2         3         4  \n",
       "-0.08867   0.10840   0.14143  -0.13687  \n",
       "\n",
       "Coefficients:\n",
       "                   Estimate Std. Error z value Pr(>|z|)    \n",
       "(Intercept)         -0.4555     0.2221  -2.050  0.04032 *  \n",
       "factor(Gender)Male   0.6478     0.2250   2.879  0.00399 ** \n",
       "factor(Race)White   -1.3135     0.2378  -5.524 3.32e-08 ***\n",
       "---\n",
       "Signif. codes:  0 ‘***’ 0.001 ‘**’ 0.01 ‘*’ 0.05 ‘.’ 0.1 ‘ ’ 1\n",
       "\n",
       "(Dispersion parameter for binomial family taken to be 1)\n",
       "\n",
       "    Null deviance: 37.516984  on 3  degrees of freedom\n",
       "Residual deviance:  0.058349  on 1  degrees of freedom\n",
       "AIC: 25.186\n",
       "\n",
       "Number of Fisher Scoring iterations: 3\n"
      ]
     },
     "metadata": {},
     "output_type": "display_data"
    }
   ],
   "source": [
    "summary(glm.2a)"
   ]
  },
  {
   "cell_type": "markdown",
   "metadata": {},
   "source": [
    "The deviances are<br>\n",
    "Null deviance: 37.516984  on 3  degrees of freedom<br>\n",
    "Residual deviance:  0.058349  on 1  degrees of freedom<br><br>\n",
    "The test statistics = 37.516984 − 0.058349 = 37.458635. Since $p = 2$ we reject $H_0$ since $37.458635 > \\chi^2_2(0.95) = 5.99$."
   ]
  },
  {
   "cell_type": "markdown",
   "metadata": {},
   "source": [
    "## (e)\n",
    "*** (2pt)Test $H_0 :\\beta_1 =0$ against $H_a :\\beta_1\\not=0$. Use $\\alpha=0.05$.***"
   ]
  },
  {
   "cell_type": "code",
   "execution_count": 11,
   "metadata": {},
   "outputs": [
    {
     "data": {
      "text/plain": [
       "\n",
       "Call:\n",
       "glm(formula = cbind(Yes, No) ~ factor(Gender) + factor(Race), \n",
       "    family = binomial)\n",
       "\n",
       "Deviance Residuals: \n",
       "       1         2         3         4  \n",
       "-0.08867   0.10840   0.14143  -0.13687  \n",
       "\n",
       "Coefficients:\n",
       "                   Estimate Std. Error z value Pr(>|z|)    \n",
       "(Intercept)         -0.4555     0.2221  -2.050  0.04032 *  \n",
       "factor(Gender)Male   0.6478     0.2250   2.879  0.00399 ** \n",
       "factor(Race)White   -1.3135     0.2378  -5.524 3.32e-08 ***\n",
       "---\n",
       "Signif. codes:  0 ‘***’ 0.001 ‘**’ 0.01 ‘*’ 0.05 ‘.’ 0.1 ‘ ’ 1\n",
       "\n",
       "(Dispersion parameter for binomial family taken to be 1)\n",
       "\n",
       "    Null deviance: 37.516984  on 3  degrees of freedom\n",
       "Residual deviance:  0.058349  on 1  degrees of freedom\n",
       "AIC: 25.186\n",
       "\n",
       "Number of Fisher Scoring iterations: 3\n"
      ]
     },
     "metadata": {},
     "output_type": "display_data"
    }
   ],
   "source": [
    "summary(glm.2a)"
   ]
  },
  {
   "cell_type": "markdown",
   "metadata": {},
   "source": [
    "From this output we see that the p-value for testing that $H_0 :\\beta_1 =0$ against $H_a :\\beta_1\\not=0$ is **0.00399**. Under $\\alpha=0.05$ we can reject $H_0$ and conclude that $\\beta_1\\not=0$."
   ]
  }
 ],
 "metadata": {
  "kernelspec": {
   "display_name": "R 3.4",
   "language": "R",
   "name": "ir34"
  },
  "language_info": {
   "codemirror_mode": "r",
   "file_extension": ".r",
   "mimetype": "text/x-r-source",
   "name": "R",
   "pygments_lexer": "r",
   "version": "3.4.3"
  }
 },
 "nbformat": 4,
 "nbformat_minor": 2
}
