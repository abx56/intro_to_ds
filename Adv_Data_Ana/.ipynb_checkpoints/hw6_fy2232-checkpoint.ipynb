{
 "cells": [
  {
   "cell_type": "markdown",
   "metadata": {},
   "source": [
    "<br><br>\n",
    "# <center>ADVANCED DATA ANALYSIS</center>\n",
    "# <center>HW6</center>\n",
    "<br><br><br><br><br><br><br><br>\n",
    "<br><br><br><br><br><br><br><br><br><br>\n",
    "<center>Fan Yang</center>\n",
    "<center>UNI: fy2232</center>\n",
    "<center>04/04/2018</center>"
   ]
  },
  {
   "cell_type": "markdown",
   "metadata": {},
   "source": [
    "<br><br><br>"
   ]
  },
  {
   "cell_type": "markdown",
   "metadata": {},
   "source": [
    "<!---\n",
    "your comment goes here\n",
    "and here\n",
    "-->"
   ]
  },
  {
   "cell_type": "markdown",
   "metadata": {},
   "source": [
    "***"
   ]
  },
  {
   "cell_type": "markdown",
   "metadata": {},
   "source": [
    "<br><br><br><br><br><br><br><br><br><br><br>\n",
    "<br><br><br><br><br><br><br><br><br><br><br><br><br><br><br><br><br><br>\n",
    "<br><br><br><br><br><br><br><br><br><br><br><br><br>"
   ]
  },
  {
   "cell_type": "markdown",
   "metadata": {},
   "source": [
    "***"
   ]
  },
  {
   "cell_type": "markdown",
   "metadata": {},
   "source": [
    "# Problem 1"
   ]
  },
  {
   "cell_type": "markdown",
   "metadata": {},
   "source": [
    "***(6pt) Suppose T is a life time and it satisfies***\n",
    "$$\\log(T) = \\mu + \\sigma\\epsilon$$\n",
    "***where*** $\\epsilon \\sim N(0,1)$."
   ]
  },
  {
   "cell_type": "markdown",
   "metadata": {},
   "source": [
    "## (a)\n",
    "***(2pt) Give the density of T. What is the name of this distribution?***"
   ]
  },
  {
   "cell_type": "code",
   "execution_count": 2,
   "metadata": {
    "scrolled": true
   },
   "outputs": [
    {
     "data": {
      "text/plain": [
       "\n",
       "Call:  glm(formula = ThermalDistress ~ Temperature, family = binomial(\"logit\"), \n",
       "    data = Shuttle)\n",
       "\n",
       "Coefficients:\n",
       "(Intercept)  Temperature  \n",
       "    15.0429      -0.2322  \n",
       "\n",
       "Degrees of Freedom: 22 Total (i.e. Null);  21 Residual\n",
       "Null Deviance:\t    28.27 \n",
       "Residual Deviance: 20.32 \tAIC: 24.32"
      ]
     },
     "metadata": {},
     "output_type": "display_data"
    }
   ],
   "source": [
    "glm.1a <- glm(ThermalDistress ~ Temperature,\n",
    "              family = binomial(\"logit\"), data =Shuttle)\n",
    "glm.1a"
   ]
  },
  {
   "cell_type": "markdown",
   "metadata": {},
   "source": [
    "$$\n",
    "\\text{logit}(\\pi(\\text{TD}|\\text{Temperature})) = 15.0429 - 0.2322\\times \\text{Temperature}$$\n",
    "\n",
    "where $\\pi(\\text{TD}|\\text{Temperature}) = P (\\text{Termal Distress} = 1|\\text{Temperature})$."
   ]
  },
  {
   "cell_type": "markdown",
   "metadata": {},
   "source": [
    "## (b)\n",
    "***(2pt) Find E(T ) and Var(T ) (hint: see HW 1)***"
   ]
  },
  {
   "cell_type": "code",
   "execution_count": 3,
   "metadata": {
    "scrolled": true
   },
   "outputs": [
    {
     "data": {
      "text/html": [
       "<dl class=dl-horizontal>\n",
       "\t<dt>(Intercept)</dt>\n",
       "\t\t<dd>15.0429016476891</dd>\n",
       "\t<dt>Temperature</dt>\n",
       "\t\t<dd>-0.2321627442184</dd>\n",
       "</dl>\n"
      ],
      "text/latex": [
       "\\begin{description*}\n",
       "\\item[(Intercept)] 15.0429016476891\n",
       "\\item[Temperature] -0.2321627442184\n",
       "\\end{description*}\n"
      ],
      "text/markdown": [
       "(Intercept)\n",
       ":   15.0429016476891Temperature\n",
       ":   -0.2321627442184\n",
       "\n"
      ],
      "text/plain": [
       "(Intercept) Temperature \n",
       " 15.0429016  -0.2321627 "
      ]
     },
     "metadata": {},
     "output_type": "display_data"
    }
   ],
   "source": [
    "glm.1a$coefficients"
   ]
  },
  {
   "cell_type": "markdown",
   "metadata": {},
   "source": [
    "$$\n",
    "\\hat{\\beta}_1=-0.2321627442184\n",
    ".$$"
   ]
  },
  {
   "cell_type": "markdown",
   "metadata": {},
   "source": [
    "## (c)\n",
    "***(2pt) If $\\mu=4$ and $\\sigma=3$ , find $P(T \\leq100)$.***"
   ]
  },
  {
   "cell_type": "code",
   "execution_count": 4,
   "metadata": {
    "scrolled": false
   },
   "outputs": [
    {
     "name": "stderr",
     "output_type": "stream",
     "text": [
      "Waiting for profiling to be done...\n"
     ]
    },
    {
     "data": {
      "text/html": [
       "<table>\n",
       "<thead><tr><th></th><th scope=col>2.5 %</th><th scope=col>97.5 %</th></tr></thead>\n",
       "<tbody>\n",
       "\t<tr><th scope=row>(Intercept)</th><td> 3.3305848 </td><td>34.34215133</td></tr>\n",
       "\t<tr><th scope=row>Temperature</th><td>-0.5154718 </td><td>-0.06082076</td></tr>\n",
       "</tbody>\n",
       "</table>\n"
      ],
      "text/latex": [
       "\\begin{tabular}{r|ll}\n",
       "  & 2.5 \\% & 97.5 \\%\\\\\n",
       "\\hline\n",
       "\t(Intercept) &  3.3305848  & 34.34215133\\\\\n",
       "\tTemperature & -0.5154718  & -0.06082076\\\\\n",
       "\\end{tabular}\n"
      ],
      "text/markdown": [
       "\n",
       "| <!--/--> | 2.5 % | 97.5 % | \n",
       "|---|---|\n",
       "| (Intercept) |  3.3305848  | 34.34215133 | \n",
       "| Temperature | -0.5154718  | -0.06082076 | \n",
       "\n",
       "\n"
      ],
      "text/plain": [
       "            2.5 %      97.5 %     \n",
       "(Intercept)  3.3305848 34.34215133\n",
       "Temperature -0.5154718 -0.06082076"
      ]
     },
     "metadata": {},
     "output_type": "display_data"
    }
   ],
   "source": [
    "confint(glm.1a)"
   ]
  },
  {
   "cell_type": "markdown",
   "metadata": {},
   "source": [
    "A $95\\%$ interval for $\\beta_1$ is\n",
    "$$[-0.5154718,\t-0.06082076]$$\n",
    "A $95\\%$ interval for $e^{\\beta_1}$ is\n",
    "$$[e^{-0.5154718},\te^{-0.06082076}]=[0.5972188,0.9409919]$$"
   ]
  },
  {
   "cell_type": "markdown",
   "metadata": {},
   "source": [
    "- - -"
   ]
  },
  {
   "cell_type": "markdown",
   "metadata": {},
   "source": [
    "# Problem 2"
   ]
  },
  {
   "cell_type": "markdown",
   "metadata": {},
   "source": [
    "***(4pt) Suppose T is a life time and it satisfies***\n",
    "$$\\log(T) = \\mu + W/\\alpha$$\n",
    "***where*** $\\alpha>0$ and \n",
    "$$F_W(w)=1-e^{-e^w}$$\n",
    "***Show that T has Weibull distribution and specify it paramters.***"
   ]
  },
  {
   "cell_type": "markdown",
   "metadata": {},
   "source": [
    "# Problem 3"
   ]
  },
  {
   "cell_type": "markdown",
   "metadata": {},
   "source": [
    "***(10pt) Suppose that T has a Weibull distribution with a survival function is given by***\n",
    "$$S(t)=e^{-(\\alpha t)^{\\beta}}$$\n",
    "***where*** $\\alpha>0$ and $\\beta>0$.*** (Hint: compute $P(T \\leq t))$***"
   ]
  },
  {
   "cell_type": "markdown",
   "metadata": {},
   "source": [
    "## (a)\n",
    "***(2pt) Find the density, $f_T(t)$ of $T$***"
   ]
  },
  {
   "cell_type": "markdown",
   "metadata": {},
   "source": [
    "For model $$\n",
    "\\text{logit}(\\pi(\\text{Intercourse}=\\text{Yes}|\\text{Gender}, \\text{Race})) = \\beta_0 + \\beta_1\\text{Gender} + \\beta_2\\text{Race}\n",
    "$$\n",
    "we get $$\\hat{\\beta}_1=\\hat{\\beta}_{\\text{Gender}}=0.6478 \\\\\n",
    "\\hat{\\beta}_2=\\hat{\\beta}_{\\text{Race}}=-1.3135 $$\n",
    "Therefore$$\n",
    "\\text{logit}(\\pi) = -0.4555 + 0.6478\\times\\text{Gender} -1.3135 \\times\\text{Race}\n",
    "$$"
   ]
  },
  {
   "cell_type": "markdown",
   "metadata": {},
   "source": [
    "## (b)\n",
    "***(2pt) Find the hazard function $\\lambda(t)$ of $T$***"
   ]
  },
  {
   "cell_type": "markdown",
   "metadata": {},
   "source": [
    "A $95\\%$ interval for $\\beta_1$ is\n",
    "$$[0.2105773,1.09436472]$$\n",
    "A $95\\%$ interval for $e^{\\beta_1}$ is\n",
    "$$[e^{0.2105773},\te^{1.09436472}]=[1.2343904,2.9872843]$$"
   ]
  },
  {
   "cell_type": "markdown",
   "metadata": {},
   "source": [
    "## (c)\n",
    "***(2pt) Show that***\n",
    "$$ \\log(-\\log(S(t))) =\\beta\\log(\\alpha)+\\beta\\log(t)$$\n",
    "Based on this, describe a graphical method for checking whether or not the data is\n",
    "from a Weibull distribution."
   ]
  },
  {
   "cell_type": "markdown",
   "metadata": {},
   "source": [
    "A $95\\%$ interval for $\\beta_2$ is\n",
    "$$[-1.7824267,-0.84865350]$$\n",
    "A $95\\%$ interval for $e^{\\beta_2}$ is\n",
    "$$[e^{-1.7824267},\te^{-0.84865350}]=[0.1682294,0.4279908]$$"
   ]
  },
  {
   "cell_type": "markdown",
   "metadata": {},
   "source": [
    "## (d)\n",
    "***(2pt) Consider the following data<br>\n",
    "143, 164, 188, 188, 190, 192, 206, 209, 213, 216, 220, 227, 230, 234, 246, 265, 304<br> and use as an estimate of $S(t(i))$***\n",
    "$$ \\hat{S}(t(i))=1-(i-0.5)/n$$\n",
    "***where $t(i)$ is the ith ordered value and n is the sample size. Use the graphical technique in the previous question to check if a Weibull distribution is appropriate for these data***"
   ]
  },
  {
   "cell_type": "markdown",
   "metadata": {},
   "source": [
    "The deviances are<br>\n",
    "Null deviance: 37.516984  on 3  degrees of freedom<br>\n",
    "Residual deviance:  0.058349  on 1  degrees of freedom<br><br>\n",
    "The test statistics = 37.516984 − 0.058349 = 37.458635. Since $p = 2$ we reject $H_0$ since $37.458635 > \\chi^2_2(0.95) = 5.99$."
   ]
  },
  {
   "cell_type": "markdown",
   "metadata": {},
   "source": [
    "## (e)\n",
    "***(2pt) Assume that the Weibull distribution is a good fit, use least squares approach to estimate its parameters.***"
   ]
  },
  {
   "cell_type": "code",
   "execution_count": null,
   "metadata": {},
   "outputs": [],
   "source": []
  }
 ],
 "metadata": {
  "kernelspec": {
   "display_name": "R 3.4",
   "language": "R",
   "name": "ir34"
  },
  "language_info": {
   "codemirror_mode": "r",
   "file_extension": ".r",
   "mimetype": "text/x-r-source",
   "name": "R",
   "pygments_lexer": "r",
   "version": "3.4.3"
  }
 },
 "nbformat": 4,
 "nbformat_minor": 2
}
