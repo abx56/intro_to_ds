{
 "cells": [
  {
   "cell_type": "markdown",
   "metadata": {},
   "source": [
    "# <center>Challenge Problem<center>\n",
    "<center>Fan Yang</center>\n",
    "<center>UNI: fy2232</center>\n",
    "<center>02/28/2018</center>"
   ]
  },
  {
   "cell_type": "markdown",
   "metadata": {},
   "source": [
    "## 1. Create data"
   ]
  },
  {
   "cell_type": "code",
   "execution_count": 2,
   "metadata": {},
   "outputs": [],
   "source": [
    "Socio_tab <- c(rep(\"Low\",4), rep(\"Medium\",4), rep(\"High\",4))\n",
    "Boyscout_tab <- rep(c(rep(\"Yes\",2),rep(\"No\",2)),3)\n",
    "delinquency_tab <- rep(c(\"Yes\",\"No\"),6)\n",
    "frequency <- c(10,40,40,160,18,132,18,132,8,192,2,48)\n",
    "Socioeconomic <- factor(c(rep(Socio_tab[1:12],frequency[1:12])))\n",
    "Boyscout <- factor(c(rep(Boyscout_tab[1:12],frequency[1:12])))\n",
    "delinquency <- factor(c(rep(delinquency_tab[1:12],frequency[1:12])))"
   ]
  },
  {
   "cell_type": "markdown",
   "metadata": {},
   "source": [
    "Now we get 3 variables named ***Socioeconomic***, ***Boyscout*** and ***delinquency***. They all have **800** observations. *Socioeconomic* has 3 levels( \"Low\", \"Medium\" and \"High\") while *Boyscout* and *delinquency* both have two levels( \"Yes\" and \"No\")."
   ]
  },
  {
   "cell_type": "markdown",
   "metadata": {},
   "source": [
    "## 2. exploratory data analysis"
   ]
  },
  {
   "cell_type": "markdown",
   "metadata": {},
   "source": [
    "### Graphical descriptive statistics"
   ]
  },
  {
   "cell_type": "markdown",
   "metadata": {},
   "source": [
    "First let's draw pair-wise comparisons of the three variables."
   ]
  },
  {
   "cell_type": "markdown",
   "metadata": {},
   "source": [
    "The below three plots are pair-wise comparisons of *\"Socioeconomic-Boyscout\"*, *\"Socioeconomic-delinquency\"* and *\"Boyscout-delinquency\"*. In each plot, the dark bars reprensent \"No\" for y-axis while the bright bars represent \"Yes\" for y-axis. And the width of each bar in each plot stands for the number of corresponding group. We can easily find that the 3 levels of Socioeconomic have similar number of observations."
   ]
  },
  {
   "cell_type": "markdown",
   "metadata": {},
   "source": [
    "We can draw conclusion from below plots:<br>\n",
    "(1). For the comparision of *\"Socioeconomic-Boyscout\"*, response of Boyscout influenced significantly by the levels of Socioeconomic.<br>\n",
    "(2). For the other comparisons, different levels do not show significant differences."
   ]
  },
  {
   "cell_type": "code",
   "execution_count": 2,
   "metadata": {
    "scrolled": false
   },
   "outputs": [
    {
     "data": {
      "image/png": "[encoded data removed]",
      "text/plain": [
       "Plot with title “”"
      ]
     },
     "metadata": {},
     "output_type": "display_data"
    }
   ],
   "source": [
    "options(repr.plot.width=8, repr.plot.height=3)\n",
    "par(mfrow=c(1,3))\n",
    "plot(Socioeconomic,Boyscout,xlab=\"Socioeconomic\",ylab=\"Boyscout\")\n",
    "plot(Socioeconomic,delinquency,xlab=\"Socioeconomic\",ylab=\"delinquency\")\n",
    "plot(Boyscout,delinquency,xlab=\"Boyscout\",ylab=\"delinquency\")"
   ]
  },
  {
   "cell_type": "markdown",
   "metadata": {},
   "source": [
    "### Numerical descriptive statistics"
   ]
  },
  {
   "cell_type": "markdown",
   "metadata": {},
   "source": [
    "Denote $x_1:\\text{Socioeconomic status; }\n",
    "~x_2:\\text{Boy scout; }\n",
    "~x_3:\\text{delinquency.}$"
   ]
  },
  {
   "cell_type": "markdown",
   "metadata": {},
   "source": [
    "Now let's use logistic regression to determine the relationship between the 3 variables."
   ]
  },
  {
   "cell_type": "markdown",
   "metadata": {},
   "source": [
    "<center>$\\text{logit}(\\pi(x_1|x_2,x_3)) = \\beta_0 + \\beta_1x_2+\\beta_2x_3$"
   ]
  },
  {
   "cell_type": "markdown",
   "metadata": {},
   "source": [
    "**Socioeconomic** vs **Boyscout** + **delinquency**"
   ]
  },
  {
   "cell_type": "markdown",
   "metadata": {},
   "source": [
    "Since Socioeconomic is a ordinal categorical variable with 3 hierarchies: \"Low\", \"Medium\" and \"High\". We now use **multinomial logistic regression model**."
   ]
  },
  {
   "cell_type": "markdown",
   "metadata": {},
   "source": [
    "From the below above, we get the fitted model as:\n",
    "$$\n",
    "\\log\\left(\\frac{\\hat{\\pi}_{\\text{High}}}{\\hat{\\pi}_{\\text{Low}}}\\right)\n",
    "=-1.1164-0.8038x_2+0.3526x_3\\\\\n",
    "\\log\\left(\\frac{\\hat{\\pi}_{\\text{Low}}}{\\hat{\\pi}_{\\text{Medium}}}\\right)\n",
    "=0.2403-0.8038x_2+0.3526x_3\n",
    "$$"
   ]
  },
  {
   "cell_type": "code",
   "execution_count": 3,
   "metadata": {
    "scrolled": true
   },
   "outputs": [
    {
     "name": "stderr",
     "output_type": "stream",
     "text": [
      "\n",
      "Re-fitting to get Hessian\n",
      "\n"
     ]
    },
    {
     "data": {
      "text/html": [
       "<table>\n",
       "<thead><tr><th></th><th scope=col>Value</th><th scope=col>Std. Error</th><th scope=col>t value</th></tr></thead>\n",
       "<tbody>\n",
       "\t<tr><th scope=row>BoyscoutYes</th><td>-0.8037657</td><td>0.13459568</td><td> -5.971705</td></tr>\n",
       "\t<tr><th scope=row>delinquencyYes</th><td> 0.3526039</td><td>0.19354302</td><td>  1.821838</td></tr>\n",
       "\t<tr><th scope=row>High|Low</th><td>-1.1163846</td><td>0.10467675</td><td>-10.665068</td></tr>\n",
       "\t<tr><th scope=row>Low|Medium</th><td> 0.2403070</td><td>0.09648995</td><td>  2.490487</td></tr>\n",
       "</tbody>\n",
       "</table>\n"
      ],
      "text/latex": [
       "\\begin{tabular}{r|lll}\n",
       "  & Value & Std. Error & t value\\\\\n",
       "\\hline\n",
       "\tBoyscoutYes & -0.8037657 & 0.13459568 &  -5.971705\\\\\n",
       "\tdelinquencyYes &  0.3526039 & 0.19354302 &   1.821838\\\\\n",
       "\tHigh\\textbar{}Low & -1.1163846 & 0.10467675 & -10.665068\\\\\n",
       "\tLow\\textbar{}Medium &  0.2403070 & 0.09648995 &   2.490487\\\\\n",
       "\\end{tabular}\n"
      ],
      "text/markdown": [
       "\n",
       "| <!--/--> | Value | Std. Error | t value | \n",
       "|---|---|---|---|\n",
       "| BoyscoutYes | -0.8037657 | 0.13459568 |  -5.971705 | \n",
       "| delinquencyYes |  0.3526039 | 0.19354302 |   1.821838 | \n",
       "| High|Low | -1.1163846 | 0.10467675 | -10.665068 | \n",
       "| Low|Medium |  0.2403070 | 0.09648995 |   2.490487 | \n",
       "\n",
       "\n"
      ],
      "text/plain": [
       "               Value      Std. Error t value   \n",
       "BoyscoutYes    -0.8037657 0.13459568  -5.971705\n",
       "delinquencyYes  0.3526039 0.19354302   1.821838\n",
       "High|Low       -1.1163846 0.10467675 -10.665068\n",
       "Low|Medium      0.2403070 0.09648995   2.490487"
      ]
     },
     "metadata": {},
     "output_type": "display_data"
    }
   ],
   "source": [
    "library(MASS)\n",
    "polr.cred<-polr(Socioeconomic~Boyscout+delinquency) \n",
    "summary(polr.cred)$coefficients"
   ]
  },
  {
   "cell_type": "markdown",
   "metadata": {},
   "source": [
    "Use can **use** $\\mathbf{\\chi^2}$ **test** ( **Likelihood Ratio Test** ) to check the significance of our model."
   ]
  },
  {
   "cell_type": "code",
   "execution_count": 4,
   "metadata": {
    "scrolled": false
   },
   "outputs": [
    {
     "data": {
      "text/html": [
       "<table>\n",
       "<thead><tr><th></th><th scope=col>Df</th><th scope=col>AIC</th><th scope=col>LRT</th><th scope=col>Pr(&gt;Chi)</th></tr></thead>\n",
       "<tbody>\n",
       "\t<tr><th scope=row>&lt;none&gt;</th><td>NA          </td><td>1717.873    </td><td>       NA   </td><td>          NA</td></tr>\n",
       "\t<tr><th scope=row>Boyscout</th><td> 1          </td><td>1752.126    </td><td>36.252338   </td><td>1.733520e-09</td></tr>\n",
       "\t<tr><th scope=row>delinquency</th><td> 1          </td><td>1719.220    </td><td> 3.347117   </td><td>6.732282e-02</td></tr>\n",
       "</tbody>\n",
       "</table>\n"
      ],
      "text/latex": [
       "\\begin{tabular}{r|llll}\n",
       "  & Df & AIC & LRT & Pr(>Chi)\\\\\n",
       "\\hline\n",
       "\t<none> & NA           & 1717.873     &        NA    &           NA\\\\\n",
       "\tBoyscout &  1           & 1752.126     & 36.252338    & 1.733520e-09\\\\\n",
       "\tdelinquency &  1           & 1719.220     &  3.347117    & 6.732282e-02\\\\\n",
       "\\end{tabular}\n"
      ],
      "text/markdown": [
       "\n",
       "| <!--/--> | Df | AIC | LRT | Pr(>Chi) | \n",
       "|---|---|---|\n",
       "| <none> | NA           | 1717.873     |        NA    |           NA | \n",
       "| Boyscout |  1           | 1752.126     | 36.252338    | 1.733520e-09 | \n",
       "| delinquency |  1           | 1719.220     |  3.347117    | 6.732282e-02 | \n",
       "\n",
       "\n"
      ],
      "text/plain": [
       "            Df AIC      LRT       Pr(>Chi)    \n",
       "<none>      NA 1717.873        NA           NA\n",
       "Boyscout     1 1752.126 36.252338 1.733520e-09\n",
       "delinquency  1 1719.220  3.347117 6.732282e-02"
      ]
     },
     "metadata": {},
     "output_type": "display_data"
    }
   ],
   "source": [
    "drop1(polr.cred,test=\"Chi\")"
   ]
  },
  {
   "cell_type": "markdown",
   "metadata": {},
   "source": [
    "Notice that the p-value for coefficients of Boyscout is very small, say less than 0.01. While p-value for coefficients of delinquency is greater than 0.05. Therefore under $\\alpha=0.05$ and \"$H_0$: $\\beta_2=0$ vs $H_A$: otherwise\", we fail to reject $H_0$ and conclude that $\\beta_2=0$."
   ]
  },
  {
   "cell_type": "markdown",
   "metadata": {},
   "source": [
    "**use AIC for model selection**"
   ]
  },
  {
   "cell_type": "code",
   "execution_count": 5,
   "metadata": {
    "scrolled": true
   },
   "outputs": [
    {
     "name": "stdout",
     "output_type": "stream",
     "text": [
      "Start:  AIC=1717.87\n",
      "Socioeconomic ~ Boyscout + delinquency\n",
      "\n",
      "              Df    AIC\n",
      "<none>           1717.9\n",
      "- delinquency  1 1719.2\n",
      "- Boyscout     1 1752.1\n"
     ]
    },
    {
     "data": {
      "text/html": [
       "<table>\n",
       "<thead><tr><th scope=col>Step</th><th scope=col>Df</th><th scope=col>Deviance</th><th scope=col>Resid. Df</th><th scope=col>Resid. Dev</th><th scope=col>AIC</th></tr></thead>\n",
       "<tbody>\n",
       "\t<tr><td>        </td><td>NA      </td><td>NA      </td><td>796     </td><td>1709.873</td><td>1717.873</td></tr>\n",
       "</tbody>\n",
       "</table>\n"
      ],
      "text/latex": [
       "\\begin{tabular}{r|llllll}\n",
       " Step & Df & Deviance & Resid. Df & Resid. Dev & AIC\\\\\n",
       "\\hline\n",
       "\t          & NA       & NA       & 796      & 1709.873 & 1717.873\\\\\n",
       "\\end{tabular}\n"
      ],
      "text/markdown": [
       "\n",
       "Step | Df | Deviance | Resid. Df | Resid. Dev | AIC | \n",
       "|---|\n",
       "|          | NA       | NA       | 796      | 1709.873 | 1717.873 | \n",
       "\n",
       "\n"
      ],
      "text/plain": [
       "  Step Df Deviance Resid. Df Resid. Dev AIC     \n",
       "1      NA NA       796       1709.873   1717.873"
      ]
     },
     "metadata": {},
     "output_type": "display_data"
    }
   ],
   "source": [
    "step(polr.cred,direction = \"backward\")$anova"
   ]
  },
  {
   "cell_type": "markdown",
   "metadata": {},
   "source": [
    "In the above output, when we delete delinquency in the model, the AIC is 1719.2 which is very similar to the full model. According to Likelihood Ratio Test and AIC, we can remove delinquency and refit the model.<br>"
   ]
  },
  {
   "cell_type": "markdown",
   "metadata": {},
   "source": [
    "**refit model**"
   ]
  },
  {
   "cell_type": "code",
   "execution_count": 6,
   "metadata": {
    "scrolled": false
   },
   "outputs": [
    {
     "name": "stderr",
     "output_type": "stream",
     "text": [
      "\n",
      "Re-fitting to get Hessian\n",
      "\n"
     ]
    },
    {
     "data": {
      "text/html": [
       "<table>\n",
       "<thead><tr><th></th><th scope=col>Value</th><th scope=col>Std. Error</th><th scope=col>t value</th></tr></thead>\n",
       "<tbody>\n",
       "\t<tr><th scope=row>BoyscoutYes</th><td>-0.8243628</td><td>0.13416508</td><td> -6.144392</td></tr>\n",
       "\t<tr><th scope=row>High|Low</th><td>-1.1707291</td><td>0.10052016</td><td>-11.646710</td></tr>\n",
       "\t<tr><th scope=row>Low|Medium</th><td> 0.1812920</td><td>0.09089892</td><td>  1.994435</td></tr>\n",
       "</tbody>\n",
       "</table>\n"
      ],
      "text/latex": [
       "\\begin{tabular}{r|lll}\n",
       "  & Value & Std. Error & t value\\\\\n",
       "\\hline\n",
       "\tBoyscoutYes & -0.8243628 & 0.13416508 &  -6.144392\\\\\n",
       "\tHigh\\textbar{}Low & -1.1707291 & 0.10052016 & -11.646710\\\\\n",
       "\tLow\\textbar{}Medium &  0.1812920 & 0.09089892 &   1.994435\\\\\n",
       "\\end{tabular}\n"
      ],
      "text/markdown": [
       "\n",
       "| <!--/--> | Value | Std. Error | t value | \n",
       "|---|---|---|\n",
       "| BoyscoutYes | -0.8243628 | 0.13416508 |  -6.144392 | \n",
       "| High|Low | -1.1707291 | 0.10052016 | -11.646710 | \n",
       "| Low|Medium |  0.1812920 | 0.09089892 |   1.994435 | \n",
       "\n",
       "\n"
      ],
      "text/plain": [
       "            Value      Std. Error t value   \n",
       "BoyscoutYes -0.8243628 0.13416508  -6.144392\n",
       "High|Low    -1.1707291 0.10052016 -11.646710\n",
       "Low|Medium   0.1812920 0.09089892   1.994435"
      ]
     },
     "metadata": {},
     "output_type": "display_data"
    }
   ],
   "source": [
    "polr.fit<-polr(Socioeconomic~Boyscout) \n",
    "summary(polr.fit)$coefficients"
   ]
  },
  {
   "cell_type": "markdown",
   "metadata": {},
   "source": [
    "From the below above, we get the fitted model as:\n",
    "$$\n",
    "\\log\\left(\\frac{\\hat{\\pi}_{\\text{High}}}{\\hat{\\pi}_{\\text{Low}}}\\right)\n",
    "=-1.1707291\t-0.8243628x_2\n",
    "\\tag{1}$$\n",
    "$$\n",
    "\\log\\left(\\frac{\\hat{\\pi}_{\\text{Low}}}{\\hat{\\pi}_{\\text{Medium}}}\\right)\n",
    "=0.1812920-0.8243628x_2\n",
    "\\tag{2}$$"
   ]
  },
  {
   "cell_type": "markdown",
   "metadata": {},
   "source": [
    "## Summary"
   ]
  },
  {
   "cell_type": "markdown",
   "metadata": {},
   "source": [
    "In this report, we first draw pair-wise comparison of the three variables. And in view of graph we find that only Boy scout and Socioeconomic Status have some correlation. The number of levels of Socioeconomic differ at different levels of Boy scout.<br>\n",
    "Then we conduct Numerical descriptive statistics. Our main model is **Multinomial Logistic Regression Model**. Set response variable as Socioeconomic and other two as predictor variables. In the first fitted model, we conduct $\\chi^2$ test to determine<br>\n",
    "<center>$H_0$: $\\beta_2=0~$  vs  $~H_A$: otherwise\n",
    "    \n",
    "where $\\beta_2$ is the coefficient of delinquency.<br> Then we get the p-value is 6.732282e-02 and under $\\alpha=0.05$, we fail to reject $H_0$ and conclude that $\\beta_2=0$. Therefore we delete the variable **delinquency** and refit the model."
   ]
  },
  {
   "cell_type": "markdown",
   "metadata": {},
   "source": [
    "And get our final model as below:\n",
    "$$\\text{logit}(\\pi(x_1|x_2)) = \\beta_0 + \\beta_1x_2$$<br>\n",
    "where $\\pi()$ is computed in (1) and (2)\n",
    "and response variable is Socioeconomic and predictor($x_2$) is Boy scout."
   ]
  }
 ],
 "metadata": {
  "kernelspec": {
   "display_name": "R 3.4",
   "language": "R",
   "name": "ir34"
  },
  "language_info": {
   "codemirror_mode": "r",
   "file_extension": ".r",
   "mimetype": "text/x-r-source",
   "name": "R",
   "pygments_lexer": "r",
   "version": "3.4.3"
  }
 },
 "nbformat": 4,
 "nbformat_minor": 2
}
