{
 "cells": [
  {
   "cell_type": "markdown",
   "metadata": {},
   "source": [
    "<br><br>\n",
    "# <center>ADVANCED DATA ANALYSIS</center>\n",
    "# <center>HW6</center>\n",
    "<br><br><br><br><br><br><br><br>\n",
    "<br><br><br><br><br><br><br><br><br><br>\n",
    "<center>Fan Yang</center>\n",
    "<center>UNI: fy2232</center>\n",
    "<center>04/04/2018</center>"
   ]
  },
  {
   "cell_type": "markdown",
   "metadata": {},
   "source": [
    "<br><br><br>"
   ]
  },
  {
   "cell_type": "markdown",
   "metadata": {},
   "source": [
    "<!---\n",
    "your comment goes here\n",
    "and here\n",
    "-->"
   ]
  },
  {
   "cell_type": "markdown",
   "metadata": {},
   "source": [
    "***"
   ]
  },
  {
   "cell_type": "markdown",
   "metadata": {},
   "source": [
    "<br><br><br><br><br><br><br><br><br><br><br>\n",
    "<br><br><br><br><br><br><br><br><br><br><br><br><br><br><br><br><br><br>\n",
    "<br><br><br><br><br><br><br><br><br><br><br><br><br>"
   ]
  },
  {
   "cell_type": "markdown",
   "metadata": {},
   "source": [
    "***"
   ]
  },
  {
   "cell_type": "markdown",
   "metadata": {},
   "source": [
    "# Problem 1"
   ]
  },
  {
   "cell_type": "markdown",
   "metadata": {},
   "source": [
    "***(6pt) Suppose T is a life time and it satisfies***\n",
    "$$\\log(T) = \\mu + \\sigma\\epsilon$$\n",
    "***where*** $\\epsilon \\sim N(0,1)$."
   ]
  },
  {
   "cell_type": "markdown",
   "metadata": {},
   "source": [
    "## (a)\n",
    "***(2pt) Give the density of T. What is the name of this distribution?***"
   ]
  },
  {
   "cell_type": "markdown",
   "metadata": {},
   "source": [
    "T satisfies\n",
    "$\\log(T) = \\mu + \\sigma\\epsilon$,\n",
    "where $\\epsilon \\sim N(0,1)$<br>\n",
    "Then $\\log(T)\\sim N(\\mu,\\sigma^2)$\n",
    "\\begin{split}\n",
    "F_T(t) &= Pr(T\\leq t)=Pr(\\log (T)\\leq \\log(t))\\\\\n",
    "&=F_N(\\log(t))\\\\\n",
    "\\text{where }F_N \\text{ is the CDF of }&N(\\mu,\\sigma^2)\\\\\n",
    "p_T(t) &=\\frac{d~F_T(t) }{d~t}\\\\\n",
    "&=\\frac{d~F_T(t) }{d~\\log(t)}\\frac{d~\\log(t)}{d~t}\\\\\n",
    "&=\\frac{d~F_N(\\log(t)) }{d~\\log(t)}\\frac{d~\\log(t)}{d~t}\\\\\n",
    "&=\\frac{1}{t}p_N(\\log(t))\\\\\n",
    "\\text{where }p_N \\text{ is the PDF of }&N(\\mu,\\sigma^2)\\\\\n",
    "p_N(\\log(t)) &= \\frac{1}{\\sqrt{2\\pi\\sigma^2}}\\exp\\left\\{-\\frac{(\\log(t)-\\mu)^2}{2\\sigma^2}\\right\\}\\\\\n",
    "\\text{Therefore,}&\\\\\n",
    "p_T(t)&=\\frac{1}{t\\sqrt{2\\pi\\sigma^2}}\\exp\\left\\{-\\frac{(\\log(t)-\\mu)^2}{2\\sigma^2}\\right\\}\n",
    "\\end{split}\n",
    "This is called **Log-normal distribution**."
   ]
  },
  {
   "cell_type": "markdown",
   "metadata": {},
   "source": [
    "## (b)\n",
    "***(2pt) Find E(T ) and Var(T ) (hint: see HW 1)***"
   ]
  },
  {
   "cell_type": "markdown",
   "metadata": {},
   "source": [
    "#### E(T)\n",
    "\\begin{split}\n",
    "E(T)&=\\int_0^{\\infty}~t~p_T(t)~dt\\\\\n",
    "&=\\int_0^{\\infty}~p_N(\\log(t))~dt\\\\\n",
    "&=\\int_0^{\\infty}~t~p_N(\\log(t))~d\\log(t)\\\\\n",
    "&=\\int_{-\\infty}^{\\infty}~e^x~p_N(x)~dx,~ ~ ~ ~ ~\\text{let }x = \\log(t)\\\\\n",
    "&=\\int_{-\\infty}^{\\infty}~e^x\\frac{1}{\\sqrt{2\\pi\\sigma^2}}\\exp\\left\\{-\\frac{(x-\\mu)^2}{2\\sigma^2}\\right\\}~dx\\\\\n",
    "&=E(e^x)\\\\\n",
    "&=M(1)\\\\\n",
    "\\text{where }M(t) &\\text{ is the Moment generating function of }N(\\mu,\\sigma^2)\\\\\n",
    "M(t)&=e^{\\mu t}e^{\\frac{1}{2}\\sigma^2t^2}\\\\\n",
    "\\text{Therefore,}&\\\\\n",
    "E(T)&=e^{\\mu}e^{\\frac{1}{2}\\sigma^2}\n",
    "\\end{split}"
   ]
  },
  {
   "cell_type": "markdown",
   "metadata": {},
   "source": [
    "#### var(T)\n",
    "\\begin{split}\n",
    "E(T^2)&=\\int_0^{\\infty}~t^2~p_T(t)~dt\\\\\n",
    "&=\\int_0^{\\infty}~t~p_N(\\log(t))~dt\\\\\n",
    "&=\\int_0^{\\infty}~t^2~p_N(\\log(t))~d\\log(t)\\\\\n",
    "&=\\int_{-\\infty}^{\\infty}~e^{2x}~p_N(x)~dx,~ ~ ~ ~ ~\\text{let }x = \\log(t)\\\\\n",
    "&=\\int_{-\\infty}^{\\infty}~e^{2x}\\frac{1}{\\sqrt{2\\pi\\sigma^2}}\\exp\\left\\{-\\frac{(x-\\mu)^2}{2\\sigma^2}\\right\\}~dx\\\\\n",
    "&=E(e^{2x})\\\\\n",
    "&=M(2)\\\\\n",
    "\\end{split}"
   ]
  },
  {
   "cell_type": "markdown",
   "metadata": {},
   "source": [
    "\\begin{split}\n",
    "\\text{Therefore,}&\\\\\n",
    "E(T^2)&=e^{2\\mu}e^{2\\sigma^2}\\\\\n",
    "var(T)&=E(T^2)-E^2(T)\\\\\n",
    "&=e^{2\\mu}e^{2\\sigma^2}-(e^{\\mu}e^{\\frac{1}{2}\\sigma^2})^2\\\\\n",
    "&=e^{2\\mu}e^{2\\sigma^2}-e^{2\\mu}e^{\\sigma^2}\\\\\n",
    "&=e^{2\\mu}(e^{2\\sigma^2}-e^{\\sigma^2})\\\\\n",
    "\\end{split}"
   ]
  },
  {
   "cell_type": "markdown",
   "metadata": {},
   "source": [
    "## (c)\n",
    "***(2pt) If $\\mu=4$ and $\\sigma=3$ , find $P(T \\leq100)$.***"
   ]
  },
  {
   "cell_type": "markdown",
   "metadata": {},
   "source": [
    "\\begin{split}\n",
    "P(T \\leq100)&=F_T(100)=F_N(\\log(100))\\\\\n",
    "&=F\\left(\\frac{\\log(100)-4}{3}\\right)\\\\\n",
    "\\text{where }F_N \\text{ is the CDF of }&N(\\mu,\\sigma^2)\\\\\n",
    "\\text{and }F \\text{ is the CDF of }&N(0,1)\\\\\n",
    "P(T \\leq100)&=F\\left(\\frac{\\log(100)-4}{3}\\right)\\\\\n",
    "&=F(0.20172)\\\\\n",
    "&=0.5799335\\\\\n",
    "\\end{split}"
   ]
  },
  {
   "cell_type": "markdown",
   "metadata": {},
   "source": [
    "- - -"
   ]
  },
  {
   "cell_type": "markdown",
   "metadata": {},
   "source": [
    "# Problem 2"
   ]
  },
  {
   "cell_type": "markdown",
   "metadata": {},
   "source": [
    "***(4pt) Suppose T is a life time and it satisfies***\n",
    "$$\\log(T) = \\mu + W/\\alpha$$\n",
    "***where*** $\\alpha>0$ and \n",
    "$$F_W(w)=1-e^{-e^w}$$\n",
    "***Show that T has Weibull distribution and specify it paramters.***"
   ]
  },
  {
   "cell_type": "markdown",
   "metadata": {},
   "source": [
    "$$\\log(T) = \\mu + W/\\alpha ~\\Longrightarrow~ W = \\alpha(\\log(T)-\\mu)$$<br>\n",
    "\\begin{split}\n",
    "S(t)&=Pr(T>t)=1-Pr(T\\leq t)=1-Pr(\\log(T)\\leq \\log(t))\\\\\n",
    "&=1-Pr\\left[\\alpha(\\log(T)-\\mu)\\leq\\alpha( \\log(t)-\\mu)\\right]\\\\\n",
    "&=1-Pr\\left[W\\leq\\alpha( \\log(t)-\\mu)\\right]\\\\\n",
    "&=1-F_W\\left[\\alpha( \\log(t)-\\mu)\\right]\\\\\n",
    "&=\\exp\\left\\{-e^{\\alpha( \\log(t)-\\mu)}\\right\\}\\\\\n",
    "&=\\exp\\left\\{-t^{\\alpha}e^{-\\alpha\\mu}\\right\\}\\\\\n",
    "&=\\exp\\left\\{-(te^{-\\mu})^{\\alpha}\\right\\},~ ~ ~ ~ ~t>0\\\\\n",
    "\\text{While Weibull distribution}& \\text{has the survival function }\\\\\n",
    "S(t)&=e^{-(\\lambda t)^\\alpha},~ ~ ~ ~ ~t>0\\\\\n",
    "\\end{split}\n",
    "Let $\\lambda=e^{-\\mu}$ and $\\alpha=\\alpha$, then it becomes\n",
    "$$S(t)=e^{-(e^{-\\mu}t)^{\\alpha}},~ ~ ~ ~ ~t>0$$\n",
    "Therefore T has Weibull distribution with $\\lambda=e^{-\\mu}$ and $\\alpha=\\alpha$."
   ]
  },
  {
   "cell_type": "markdown",
   "metadata": {},
   "source": [
    "# Problem 3"
   ]
  },
  {
   "cell_type": "markdown",
   "metadata": {},
   "source": [
    "***(10pt) Suppose that T has a Weibull distribution with a survival function is given by***\n",
    "$$S(t)=e^{-(\\alpha t)^{\\beta}}$$\n",
    "***where*** $\\alpha>0$ and $\\beta>0$.*** (Hint: compute $P(T \\leq t))$***"
   ]
  },
  {
   "cell_type": "markdown",
   "metadata": {},
   "source": [
    "## (a)\n",
    "***(2pt) Find the density, $f_T(t)$ of $T$***"
   ]
  },
  {
   "cell_type": "markdown",
   "metadata": {},
   "source": [
    "\\begin{split}\n",
    "S(t)&=Pr(T>t)=e^{-(\\alpha t)^{\\beta}}\\\\\n",
    "\\text{then }P_T(T\\leq t)& = 1- Pr(T>t) = 1-e^{-(\\alpha t)^{\\beta}}\\\\\n",
    "f_T(t) &= \\frac{d~P_T(T\\leq t)}{d~t} =\\frac{d~[1-e^{-(\\alpha t)^{\\beta}}]}{d~t} \\\\\n",
    "&=\\frac{1}{t}\\left(\\beta e^{-(\\alpha t)^{\\beta}}(\\alpha t)^{\\beta}\\right),~ ~ ~ ~ ~t>0\\\\\n",
    "\\end{split}"
   ]
  },
  {
   "cell_type": "markdown",
   "metadata": {},
   "source": [
    "## (b)\n",
    "***(2pt) Find the hazard function $\\lambda(t)$ of $T$***\n",
    "$$\n",
    "\\lambda(t)=\\frac{f(t)}{S(t)}=\\frac{\\frac{1}{t}\\left(\\beta e^{-(\\alpha t)^{\\beta}}(\\alpha t)^{\\beta}\\right)}{e^{-(\\alpha t)^{\\beta}}}\n",
    "=\\frac{1}{t}\\left(\\beta(\\alpha t)^{\\beta}\\right)=\\alpha\\beta(\\alpha t)^{\\beta-1}\n",
    "$$"
   ]
  },
  {
   "cell_type": "markdown",
   "metadata": {},
   "source": [
    "## (c)\n",
    "***(2pt) Show that***\n",
    "$$ \\log(-\\log(S(t))) =\\beta\\log(\\alpha)+\\beta\\log(t)$$\n",
    "***Based on this, describe a graphical method for checking whether or not the data is\n",
    "from a Weibull distribution.***"
   ]
  },
  {
   "cell_type": "markdown",
   "metadata": {},
   "source": [
    "\\begin{split}\n",
    "S(t)&=e^{-(\\alpha t)^{\\beta}}\\\\\n",
    "\\log(S(t))&=\\log(e^{-(\\alpha t)^{\\beta}})=-(\\alpha t)^{\\beta}\\\\\n",
    "\\log(-\\log(S(t))) &= \\log((\\alpha t)^{\\beta})=\\beta\\log(\\alpha t)\\\\\n",
    "&=\\beta\\log(\\alpha)+\\beta\\log(t)\\\\\n",
    "\\end{split}<br>\n",
    "We can first compute $\\log(-\\log(S(t)))$, denote it as $y$; compute $\\log(t)$, denote it as $x$. Then draw the plot $y$ against $x$.<br>\n",
    "If $y$ against $x$ follows certain linear pattern, i.e. $y-x$ is a linear line approximately. Then we can conclude the data is from a Weibull distribution."
   ]
  },
  {
   "cell_type": "markdown",
   "metadata": {},
   "source": [
    "## (d)\n",
    "***(2pt) Consider the following data<br>\n",
    "143, 164, 188, 188, 190, 192, 206, 209, 213, 216, 220, 227, 230, 234, 246, 265, 304<br> and use as an estimate of $S(t(i))$***\n",
    "$$ \\hat{S}(t(i))=1-(i-0.5)/n$$\n",
    "***where $t(i)$ is the ith ordered value and n is the sample size. Use the graphical technique in the previous question to check if a Weibull distribution is appropriate for these data***"
   ]
  },
  {
   "cell_type": "code",
   "execution_count": 1,
   "metadata": {
    "scrolled": false
   },
   "outputs": [
    {
     "name": "stderr",
     "output_type": "stream",
     "text": [
      "`geom_smooth()` using method = 'loess'\n"
     ]
    },
    {
     "data": {},
     "metadata": {},
     "output_type": "display_data"
    },
    {
     "data": {
      "image/png": "[encoded data removed]",
      "text/plain": [
       "plot without title"
      ]
     },
     "metadata": {},
     "output_type": "display_data"
    }
   ],
   "source": [
    "library(ggplot2)\n",
    "data = c(143, 164, 188, 188, 190,\n",
    "         192, 206, 209, 213, 216,\n",
    "         220, 227, 230, 234, 246, 265, 304)\n",
    "surv = 1-(order(data)-0.5)/length(data)\n",
    "logsurv = log(-log(surv))\n",
    "ggplot() + \n",
    "    geom_point(aes(x=log(data),y=logsurv)) +\n",
    "    geom_smooth(aes(x=log(data),y=logsurv)) +\n",
    "    xlab(\"log(t)\")"
   ]
  },
  {
   "cell_type": "markdown",
   "metadata": {},
   "source": [
    "From the plot above, we find that the plot is approximately a linear line, therefore we can conclude that a Weibull distribution is appropriate for these data."
   ]
  },
  {
   "cell_type": "markdown",
   "metadata": {},
   "source": [
    "## (e)\n",
    "***(2pt) Assume that the Weibull distribution is a good fit, use least squares approach to estimate its parameters.***"
   ]
  },
  {
   "cell_type": "code",
   "execution_count": 2,
   "metadata": {
    "scrolled": true
   },
   "outputs": [
    {
     "data": {
      "text/plain": [
       "\n",
       "Call:\n",
       "lm(formula = y ~ x)\n",
       "\n",
       "Residuals:\n",
       "     Min       1Q   Median       3Q      Max \n",
       "-0.68997 -0.12226  0.09174  0.19153  0.30116 \n",
       "\n",
       "Coefficients:\n",
       "            Estimate Std. Error t value Pr(>|t|)    \n",
       "(Intercept) -37.2330     2.1806  -17.07 3.08e-11 ***\n",
       "x             6.8538     0.4073   16.83 3.80e-11 ***\n",
       "---\n",
       "Signif. codes:  0 ‘***’ 0.001 ‘**’ 0.01 ‘*’ 0.05 ‘.’ 0.1 ‘ ’ 1\n",
       "\n",
       "Residual standard error: 0.2871 on 15 degrees of freedom\n",
       "Multiple R-squared:  0.9497,\tAdjusted R-squared:  0.9463 \n",
       "F-statistic: 283.1 on 1 and 15 DF,  p-value: 3.796e-11\n"
      ]
     },
     "metadata": {},
     "output_type": "display_data"
    }
   ],
   "source": [
    "y = logsurv\n",
    "x = log(data)\n",
    "fit <- lm(y~x)\n",
    "summary(fit)"
   ]
  },
  {
   "cell_type": "markdown",
   "metadata": {},
   "source": [
    "$$ y = -37.2330 + 6.8538x$$\n",
    "$$\\text{While } \\log(-\\log(S(t))) =\\beta\\log(\\alpha)+\\beta\\log(t)$$<br>\n",
    "\\begin{split}\n",
    "\\text{so }\\beta\\log(\\alpha) &=-37.2330\\\\\n",
    "\\text{and } \\beta&=6.8538\\\\\n",
    "\\Rightarrow \\alpha &= e^{-37.2330/\\beta} =e^{-37.2330/6.8538} \\\\\n",
    "&=0.00437\\\\\n",
    "\\end{split}\n",
    "In summary, $\\alpha=0.00437$ and $\\beta=6.8538$"
   ]
  }
 ],
 "metadata": {
  "kernelspec": {
   "display_name": "R 3.4",
   "language": "R",
   "name": "ir34"
  },
  "language_info": {
   "codemirror_mode": "r",
   "file_extension": ".r",
   "mimetype": "text/x-r-source",
   "name": "R",
   "pygments_lexer": "r",
   "version": "3.4.3"
  }
 },
 "nbformat": 4,
 "nbformat_minor": 2
}
