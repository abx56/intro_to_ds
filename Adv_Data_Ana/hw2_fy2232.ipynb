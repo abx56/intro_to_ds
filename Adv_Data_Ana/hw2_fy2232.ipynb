{
 "cells": [
  {
   "cell_type": "markdown",
   "metadata": {},
   "source": [
    "<br><br>\n",
    "# <center>ADVANCED DATA ANALYSIS</center>\n",
    "# <center>HW2</center>\n",
    "<br><br><br><br><br><br><br><br>\n",
    "<br><br><br><br><br><br><br><br><br><br>\n",
    "<center>Fan Yang</center>\n",
    "<center>UNI: fy2232</center>\n",
    "<center>01/31/2018</center>"
   ]
  },
  {
   "cell_type": "markdown",
   "metadata": {},
   "source": [
    "<br><br><br>"
   ]
  },
  {
   "cell_type": "markdown",
   "metadata": {},
   "source": [
    "<!---\n",
    "your comment goes here\n",
    "and here\n",
    "-->"
   ]
  },
  {
   "cell_type": "markdown",
   "metadata": {},
   "source": [
    "***"
   ]
  },
  {
   "cell_type": "markdown",
   "metadata": {},
   "source": [
    "<br><br><br><br><br><br><br><br><br><br><br>\n",
    "<br><br><br><br><br><br><br><br><br><br><br><br><br><br><br><br><br><br>\n",
    "<br><br><br><br><br><br><br><br><br><br><br><br><br>"
   ]
  },
  {
   "cell_type": "markdown",
   "metadata": {},
   "source": [
    "***"
   ]
  },
  {
   "cell_type": "markdown",
   "metadata": {},
   "source": [
    "# Problem 1"
   ]
  },
  {
   "cell_type": "markdown",
   "metadata": {},
   "source": [
    "***Suppose you have three different feeds that may affect the size of eggs that chickens lay. You randomly assign 10 chickens to each one of the three feeds and record the size of the eggs (maximum length, in centimeters) that the chickens lay the following week. The null hypothesis is that all the chicken feeds have the same effect on the length of the major axis. The alternative is that the feed has so me causal effect.<br>***\n",
    ">(a) Complete the table above.<br>\n",
    "(b) Test the null hypothesis is that all the chicken feeds have the same effect on the length of the major axis against the alternative is that the feed has some causal effect. Use $\\alpha = 0.05$."
   ]
  },
  {
   "cell_type": "markdown",
   "metadata": {},
   "source": [
    "## (a)"
   ]
  },
  {
   "cell_type": "code",
   "execution_count": 1,
   "metadata": {
    "scrolled": false
   },
   "outputs": [
    {
     "data": {
      "text/html": [
       "<table>\n",
       "<thead><tr><th></th><th scope=col>df</th><th scope=col>SS</th><th scope=col>MS</th><th scope=col>F</th></tr></thead>\n",
       "<tbody>\n",
       "\t<tr><th scope=row>feed</th><td>2         </td><td>23.43     </td><td>11.7150000</td><td>17.55996  </td></tr>\n",
       "\t<tr><th scope=row>error</th><td>7         </td><td> 4.67     </td><td> 0.6671429</td><td>      NA  </td></tr>\n",
       "\t<tr><th scope=row>total</th><td>9         </td><td>28.10     </td><td>        NA</td><td>      NA  </td></tr>\n",
       "</tbody>\n",
       "</table>\n"
      ],
      "text/latex": [
       "\\begin{tabular}{r|llll}\n",
       "  & df & SS & MS & F\\\\\n",
       "\\hline\n",
       "\tfeed & 2          & 23.43      & 11.7150000 & 17.55996  \\\\\n",
       "\terror & 7          &  4.67      &  0.6671429 &       NA  \\\\\n",
       "\ttotal & 9          & 28.10      &         NA &       NA  \\\\\n",
       "\\end{tabular}\n"
      ],
      "text/markdown": [
       "\n",
       "| <!--/--> | df | SS | MS | F | \n",
       "|---|---|---|\n",
       "| feed | 2          | 23.43      | 11.7150000 | 17.55996   | \n",
       "| error | 7          |  4.67      |  0.6671429 |       NA   | \n",
       "| total | 9          | 28.10      |         NA |       NA   | \n",
       "\n",
       "\n"
      ],
      "text/plain": [
       "      df SS    MS         F       \n",
       "feed  2  23.43 11.7150000 17.55996\n",
       "error 7   4.67  0.6671429       NA\n",
       "total 9  28.10         NA       NA"
      ]
     },
     "metadata": {},
     "output_type": "display_data"
    }
   ],
   "source": [
    "ANOVA1 = matrix(NA,nrow = 3, ncol = 4)\n",
    "colnames(ANOVA1) = c(\"df\",\"SS\",\"MS\",\"F\")\n",
    "rownames(ANOVA1) = c(\"feed\",\"error\",\"total\")\n",
    "k = 3\n",
    "n = 10\n",
    "ANOVA1[,1] = c(k-1,n-k,n-1)\n",
    "ANOVA1[,2] = c(23.43,28.10-23.43,28.10)\n",
    "ANOVA1[1:2,3] = ANOVA1[1:2,2] / ANOVA1[1:2,1]\n",
    "ANOVA1[1,4] = ANOVA1[1,3] / ANOVA1[2,3]\n",
    "ANOVA1"
   ]
  },
  {
   "cell_type": "markdown",
   "metadata": {},
   "source": [
    "## (b)\n",
    "\n",
    "We reject $H_0$ if $F>F(\\alpha,k-1,n-k)$<br>\n",
    "$F(\\alpha,k-1,n-k)=F(0.05,2,7)=4.73741$, which is less than $F=17.55996$, therefore, we reject $H_0$ that not all the chicken feeds have the same effect on the length of the major axis"
   ]
  },
  {
   "cell_type": "code",
   "execution_count": 2,
   "metadata": {},
   "outputs": [
    {
     "data": {
      "text/html": [
       "4.73741412777588"
      ],
      "text/latex": [
       "4.73741412777588"
      ],
      "text/markdown": [
       "4.73741412777588"
      ],
      "text/plain": [
       "[1] 4.737414"
      ]
     },
     "metadata": {},
     "output_type": "display_data"
    }
   ],
   "source": [
    "qf(0.95,2,7)"
   ]
  },
  {
   "cell_type": "markdown",
   "metadata": {},
   "source": [
    "- - -"
   ]
  },
  {
   "cell_type": "markdown",
   "metadata": {},
   "source": [
    "# Problem 2\n",
    "***Suppose you want to compare the types of popcorn popper and the brand of pop- corn with respect to their yield (in terms of cups of popped corn). Factor A is the type of popper: oil-based versus air-based. Factor B is the brand of popcorn: gourmet versus national brand versus generic. For each combination of popper type and brand, you took three separate measurements. The ANOVA table is<br>***\n",
    ">(a) Complete the table above.<br>\n",
    "(b) Test $H_0$ : No interaction against $H_1$ : there is an interaction, use $\\alpha = 0.05$.<br>\n",
    "(c) It is decided to fit a model without an interaction and the partial results are<br>\n",
    "(d) Complete the table above.<br>\n",
    "(e) Test $H_0$ : No popper effect against $H_1$ : there is a popper effect. Use $\\alpha = 0.05$.<br>\n",
    "(f) Test $H_0$ : No corn effect against $H_1$ : there is a corn effect. Use $\\alpha = 0.05$.<br>"
   ]
  },
  {
   "cell_type": "markdown",
   "metadata": {},
   "source": [
    "## (a)"
   ]
  },
  {
   "cell_type": "code",
   "execution_count": 3,
   "metadata": {
    "scrolled": false
   },
   "outputs": [
    {
     "data": {
      "text/html": [
       "<table>\n",
       "<thead><tr><th></th><th scope=col>df</th><th scope=col>SS</th><th scope=col>MS</th><th scope=col>F</th></tr></thead>\n",
       "<tbody>\n",
       "\t<tr><th scope=row>Propper(A)</th><td> 1        </td><td> 4.50     </td><td>4.5000000 </td><td>32.3353293</td></tr>\n",
       "\t<tr><th scope=row>Corn(B)</th><td> 2        </td><td>15.75     </td><td>7.8750000 </td><td>56.5868263</td></tr>\n",
       "\t<tr><th scope=row>Interaction(A*B)</th><td> 2        </td><td> 0.08     </td><td>0.0400000 </td><td> 0.2874251</td></tr>\n",
       "\t<tr><th scope=row>Error</th><td>12        </td><td> 1.67     </td><td>0.1391667 </td><td>        NA</td></tr>\n",
       "\t<tr><th scope=row>Total</th><td>17        </td><td>22.00     </td><td>       NA </td><td>        NA</td></tr>\n",
       "</tbody>\n",
       "</table>\n"
      ],
      "text/latex": [
       "\\begin{tabular}{r|llll}\n",
       "  & df & SS & MS & F\\\\\n",
       "\\hline\n",
       "\tPropper(A) &  1         &  4.50      & 4.5000000  & 32.3353293\\\\\n",
       "\tCorn(B) &  2         & 15.75      & 7.8750000  & 56.5868263\\\\\n",
       "\tInteraction(A*B) &  2         &  0.08      & 0.0400000  &  0.2874251\\\\\n",
       "\tError & 12         &  1.67      & 0.1391667  &         NA\\\\\n",
       "\tTotal & 17         & 22.00      &        NA  &         NA\\\\\n",
       "\\end{tabular}\n"
      ],
      "text/markdown": [
       "\n",
       "| <!--/--> | df | SS | MS | F | \n",
       "|---|---|---|---|---|\n",
       "| Propper(A) |  1         |  4.50      | 4.5000000  | 32.3353293 | \n",
       "| Corn(B) |  2         | 15.75      | 7.8750000  | 56.5868263 | \n",
       "| Interaction(A*B) |  2         |  0.08      | 0.0400000  |  0.2874251 | \n",
       "| Error | 12         |  1.67      | 0.1391667  |         NA | \n",
       "| Total | 17         | 22.00      |        NA  |         NA | \n",
       "\n",
       "\n"
      ],
      "text/plain": [
       "                 df SS    MS        F         \n",
       "Propper(A)        1  4.50 4.5000000 32.3353293\n",
       "Corn(B)           2 15.75 7.8750000 56.5868263\n",
       "Interaction(A*B)  2  0.08 0.0400000  0.2874251\n",
       "Error            12  1.67 0.1391667         NA\n",
       "Total            17 22.00        NA         NA"
      ]
     },
     "metadata": {},
     "output_type": "display_data"
    }
   ],
   "source": [
    "ANOVA2a = matrix(NA,nrow = 5, ncol = 4)\n",
    "colnames(ANOVA2a) = c(\"df\",\"SS\",\"MS\",\"F\")\n",
    "rownames(ANOVA2a) = c(\"Propper(A)\",\"Corn(B)\",\"Interaction(A*B)\",\n",
    "                      \"Error\",\"Total\")\n",
    "a = 2; b = 3; n = 3\n",
    "# compute degree of freedom\n",
    "ANOVA2a[,1] = c(a-1,b-1,(a-1)*(b-1),a*b*(n-1),a*b*n-1)\n",
    "#compute SS\n",
    "ANOVA2a[,2] = c(4.5,15.75,NA,1.67,22.00)\n",
    "ANOVA2a[3,2] = ANOVA2a[5,2] - sum(ANOVA2a[1:4,2],na.rm = TRUE)\n",
    "#compute MS\n",
    "ANOVA2a[1:4,3] = ANOVA2a[1:4,2] / ANOVA2a[1:4,1]\n",
    "#compute F\n",
    "ANOVA2a[1:3,4] = ANOVA2a[1:3,3] / ANOVA2a[4,3]\n",
    "ANOVA2a"
   ]
  },
  {
   "cell_type": "markdown",
   "metadata": {},
   "source": [
    "## (b)\n",
    "\n",
    "We reject $H_0$ if $F=\\frac{MSAB}{MSE}>F(1-\\alpha,(a-1)(b-1),ab(n-1))$<br>\n",
    "As we computed in the ANOVA table, $F=0.2874251$<br>\n",
    "and $F(1-\\alpha,(a-1)(b-1),ab(n-1))=F(0.95,2,12)=3.88529$, which is greater than $F=0.2874251$, therefore, we can not reject $H_0$ that no interaction exists."
   ]
  },
  {
   "cell_type": "code",
   "execution_count": 4,
   "metadata": {
    "scrolled": true
   },
   "outputs": [
    {
     "data": {
      "text/html": [
       "3.88529383465239"
      ],
      "text/latex": [
       "3.88529383465239"
      ],
      "text/markdown": [
       "3.88529383465239"
      ],
      "text/plain": [
       "[1] 3.885294"
      ]
     },
     "metadata": {},
     "output_type": "display_data"
    }
   ],
   "source": [
    "qf(0.95,2,12)"
   ]
  },
  {
   "cell_type": "markdown",
   "metadata": {},
   "source": [
    "## (c)(d)"
   ]
  },
  {
   "cell_type": "code",
   "execution_count": 5,
   "metadata": {
    "scrolled": false
   },
   "outputs": [
    {
     "data": {
      "text/html": [
       "<table>\n",
       "<thead><tr><th></th><th scope=col>df</th><th scope=col>SS</th><th scope=col>MS</th><th scope=col>F</th></tr></thead>\n",
       "<tbody>\n",
       "\t<tr><th scope=row>Propper(A)</th><td> 1   </td><td> 4.50</td><td>4.500</td><td>36   </td></tr>\n",
       "\t<tr><th scope=row>Corn(B)</th><td> 2   </td><td>15.75</td><td>7.875</td><td>63   </td></tr>\n",
       "\t<tr><th scope=row>Error</th><td>14   </td><td> 1.75</td><td>0.125</td><td>NA   </td></tr>\n",
       "\t<tr><th scope=row>Total</th><td>17   </td><td>22.00</td><td>   NA</td><td>NA   </td></tr>\n",
       "</tbody>\n",
       "</table>\n"
      ],
      "text/latex": [
       "\\begin{tabular}{r|llll}\n",
       "  & df & SS & MS & F\\\\\n",
       "\\hline\n",
       "\tPropper(A) &  1    &  4.50 & 4.500 & 36   \\\\\n",
       "\tCorn(B) &  2    & 15.75 & 7.875 & 63   \\\\\n",
       "\tError & 14    &  1.75 & 0.125 & NA   \\\\\n",
       "\tTotal & 17    & 22.00 &    NA & NA   \\\\\n",
       "\\end{tabular}\n"
      ],
      "text/markdown": [
       "\n",
       "| <!--/--> | df | SS | MS | F | \n",
       "|---|---|---|---|\n",
       "| Propper(A) |  1    |  4.50 | 4.500 | 36    | \n",
       "| Corn(B) |  2    | 15.75 | 7.875 | 63    | \n",
       "| Error | 14    |  1.75 | 0.125 | NA    | \n",
       "| Total | 17    | 22.00 |    NA | NA    | \n",
       "\n",
       "\n"
      ],
      "text/plain": [
       "           df SS    MS    F \n",
       "Propper(A)  1  4.50 4.500 36\n",
       "Corn(B)     2 15.75 7.875 63\n",
       "Error      14  1.75 0.125 NA\n",
       "Total      17 22.00    NA NA"
      ]
     },
     "metadata": {},
     "output_type": "display_data"
    }
   ],
   "source": [
    "ANOVA2d = matrix(NA,nrow = 4, ncol = 4)\n",
    "colnames(ANOVA2d) = c(\"df\",\"SS\",\"MS\",\"F\")\n",
    "rownames(ANOVA2d) = c(\"Propper(A)\",\"Corn(B)\",\"Error\",\"Total\")\n",
    "a = 2; b = 3; n = 3\n",
    "# compute degree of freedom\n",
    "ANOVA2d[,1] = c(a-1,b-1,(a*b*n-1)-(a-1)-(b-1),a*b*n-1)\n",
    "#compute SS\n",
    "ANOVA2d[,2] = c(4.5,15.75,NA,22.00)\n",
    "ANOVA2d[3,2] = ANOVA2d[4,2] - sum(ANOVA2d[1:3,2],na.rm = TRUE)\n",
    "#compute MS\n",
    "ANOVA2d[1:3,3] = ANOVA2d[1:3,2] / ANOVA2d[1:3,1]\n",
    "#compute F\n",
    "ANOVA2d[1:2,4] = ANOVA2d[1:2,3] / ANOVA2d[3,3]\n",
    "ANOVA2d"
   ]
  },
  {
   "cell_type": "markdown",
   "metadata": {},
   "source": [
    "## (e)\n",
    "\n",
    "We reject $H_0$ if $F=\\frac{MSA}{MSE}>F(1-\\alpha,a-1,(abn-1)-(a-1)-(b-1))$<br>\n",
    "As we computed in the ANOVA table, $F=36$<br>\n",
    "and $F(1-\\alpha,a-1,(abn-1)-(a-1)-(b-1))=F(0.95,1,14)=4.6001099$, which is less than $F=36$, therefore, we reject $H_0$ that \"no popper effect exists\"."
   ]
  },
  {
   "cell_type": "code",
   "execution_count": 6,
   "metadata": {
    "scrolled": true
   },
   "outputs": [
    {
     "data": {
      "text/html": [
       "4.60010993666942"
      ],
      "text/latex": [
       "4.60010993666942"
      ],
      "text/markdown": [
       "4.60010993666942"
      ],
      "text/plain": [
       "[1] 4.60011"
      ]
     },
     "metadata": {},
     "output_type": "display_data"
    }
   ],
   "source": [
    "qf(0.95,1,14)"
   ]
  },
  {
   "cell_type": "markdown",
   "metadata": {},
   "source": [
    "## (f)\n",
    "\n",
    "We reject $H_0$ if $F=\\frac{MSB}{MSE}>F(1-\\alpha,b-1,(abn-1)-(a-1)-(b-1))$<br>\n",
    "As we computed in the ANOVA table, $F=63$<br>\n",
    "and $F(1-\\alpha,b-1,(abn-1)-(a-1)-(b-1))=F(0.95,2,12)=3.88529$, which is less than $F=63$, therefore, we reject $H_0$ that \"no corn effect exists\"."
   ]
  },
  {
   "cell_type": "code",
   "execution_count": 7,
   "metadata": {
    "scrolled": false
   },
   "outputs": [
    {
     "data": {
      "text/html": [
       "3.88529383465239"
      ],
      "text/latex": [
       "3.88529383465239"
      ],
      "text/markdown": [
       "3.88529383465239"
      ],
      "text/plain": [
       "[1] 3.885294"
      ]
     },
     "metadata": {},
     "output_type": "display_data"
    }
   ],
   "source": [
    "qf(0.95,2,12)"
   ]
  },
  {
   "cell_type": "markdown",
   "metadata": {},
   "source": [
    "- - -"
   ]
  },
  {
   "cell_type": "markdown",
   "metadata": {},
   "source": [
    "# Problem 3\n",
    "***In this exercise $A$ and $B$ are two fertilizers types, $M, N, O$ and $P$ are four wheat types and $y_{ijk}$ values are wheat yields in bushels per plot (one third of an acre) corresponding to the different combinations of fertilizer type type and wheat type. Also, assume that this data was obtained by using a completely randomized experimental design.(see HW2data.csv)<br>***\n",
    ">(a) Construct an interaction plot? Does is suggest that there is an interaction between fertilizer type and wheat type?<br>\n",
    "(b) Test $H_0$ : No interaction against $H_1$ : there is an interaction, use $\\alpha = 0.05$.<br>\n",
    "(c) Fit a model without an interaction and test $H_0$ : No fertilizer effect against $H_1$ : there is a fertilizer effect. Use $\\alpha = 0.05$ if you reject $H_0$, use Tukey’s method to do pairwise comparisons of the different fertilizer types.<br>\n",
    "(d) Test $H_0$ : No wheat effect against $H_1$ : there is a effect effect. Use $\\alpha = 0.05$ if you reject $H_0$, use Tukey’s method to do pairwise comparisons of the different wheat types."
   ]
  },
  {
   "cell_type": "markdown",
   "metadata": {},
   "source": [
    "<br><br><br><br><br><br>"
   ]
  },
  {
   "cell_type": "markdown",
   "metadata": {},
   "source": [
    "## (a)"
   ]
  },
  {
   "cell_type": "code",
   "execution_count": 8,
   "metadata": {
    "scrolled": false
   },
   "outputs": [
    {
     "data": {
      "image/png": "[encoded data removed]",
      "text/plain": [
       "plot without title"
      ]
     },
     "metadata": {},
     "output_type": "display_data"
    }
   ],
   "source": [
    "data3 = read.csv(\"HW2data.csv\", header = TRUE, stringsAsFactors=FALSE)\n",
    "interaction.plot(data3$fertilizer,data3$Wheat,data3$response,\n",
    "                trace.label=\"Wheat\",xlab=\"fertilizer\", ylab = \"response\")"
   ]
  },
  {
   "cell_type": "markdown",
   "metadata": {},
   "source": [
    "It suggests that there is no interaction between fertilizer type and wheat type."
   ]
  },
  {
   "cell_type": "markdown",
   "metadata": {},
   "source": [
    "<br><br><br>"
   ]
  },
  {
   "cell_type": "markdown",
   "metadata": {},
   "source": [
    "## (b)"
   ]
  },
  {
   "cell_type": "code",
   "execution_count": 9,
   "metadata": {
    "scrolled": false
   },
   "outputs": [
    {
     "data": {
      "text/plain": [
       "                 Df Sum Sq Mean Sq F value   Pr(>F)    \n",
       "fertilizer        1  18.90  18.904   48.63 3.14e-06 ***\n",
       "Wheat             3  92.02  30.674   78.90 8.37e-10 ***\n",
       "fertilizer:Wheat  3   0.22   0.074    0.19    0.902    \n",
       "Residuals        16   6.22   0.389                     \n",
       "---\n",
       "Signif. codes:  0 ‘***’ 0.001 ‘**’ 0.01 ‘*’ 0.05 ‘.’ 0.1 ‘ ’ 1"
      ]
     },
     "metadata": {},
     "output_type": "display_data"
    }
   ],
   "source": [
    "summary(aov(response~fertilizer*Wheat, data=data3))"
   ]
  },
  {
   "cell_type": "markdown",
   "metadata": {},
   "source": [
    "The p-value of the test for interaction is 0.902. Under $\\alpha=0.05$, we fail to reject H0 and conclude that there is no interaction."
   ]
  },
  {
   "cell_type": "markdown",
   "metadata": {},
   "source": [
    "## (c)"
   ]
  },
  {
   "cell_type": "code",
   "execution_count": 10,
   "metadata": {
    "scrolled": true
   },
   "outputs": [
    {
     "data": {
      "text/plain": [
       "            Df Sum Sq Mean Sq F value   Pr(>F)    \n",
       "fertilizer   1  18.90  18.904   55.76 4.59e-07 ***\n",
       "Wheat        3  92.02  30.674   90.48 1.97e-11 ***\n",
       "Residuals   19   6.44   0.339                     \n",
       "---\n",
       "Signif. codes:  0 ‘***’ 0.001 ‘**’ 0.01 ‘*’ 0.05 ‘.’ 0.1 ‘ ’ 1"
      ]
     },
     "metadata": {},
     "output_type": "display_data"
    }
   ],
   "source": [
    "summary(aov(response~fertilizer+Wheat, data=data3))"
   ]
  },
  {
   "cell_type": "markdown",
   "metadata": {},
   "source": [
    "From this output we can conclude that fertilizer level means (p-value<0.05) are different. So we conclude there is a fertilizer effect."
   ]
  },
  {
   "cell_type": "code",
   "execution_count": 11,
   "metadata": {
    "scrolled": true
   },
   "outputs": [
    {
     "data": {
      "image/png": "[encoded data removed]",
      "text/plain": [
       "Plot with title “95% family-wise confidence level\n",
       "”"
      ]
     },
     "metadata": {},
     "output_type": "display_data"
    }
   ],
   "source": [
    "fit.c <- aov(response~fertilizer+Wheat, data = data3)\n",
    "tk.c <- TukeyHSD(fit.c, which = \"fertilizer\")\n",
    "plot(tk.c)"
   ]
  },
  {
   "cell_type": "code",
   "execution_count": 12,
   "metadata": {},
   "outputs": [
    {
     "data": {
      "text/plain": [
       "  Tukey multiple comparisons of means\n",
       "    95% family-wise confidence level\n",
       "\n",
       "Fit: aov(formula = response ~ fertilizer + Wheat, data = data3)\n",
       "\n",
       "$fertilizer\n",
       "         diff      lwr      upr p adj\n",
       "\"B\"-\"A\" 1.775 1.277484 2.272516 5e-07\n"
      ]
     },
     "metadata": {},
     "output_type": "display_data"
    }
   ],
   "source": [
    "tk.c"
   ]
  },
  {
   "cell_type": "markdown",
   "metadata": {},
   "source": [
    "The p-value of the test is 0.0519242. Under $\\alpha=0.05$, we fail to reject H0 and conclude that there is no fertilizer effect."
   ]
  },
  {
   "cell_type": "markdown",
   "metadata": {},
   "source": [
    "## (d)\n",
    "### response ~ fertilizer + Wheat\n",
    "As discussed in (c), we can conclude that Wheat level means (p-value<0.05) are different. So we conclude there is a Wheat effect."
   ]
  },
  {
   "cell_type": "code",
   "execution_count": 13,
   "metadata": {
    "scrolled": false
   },
   "outputs": [
    {
     "data": {
      "image/png": "[encoded data removed]",
      "text/plain": [
       "Plot with title “95% family-wise confidence level\n",
       "”"
      ]
     },
     "metadata": {},
     "output_type": "display_data"
    }
   ],
   "source": [
    "fit.d <- aov(response~fertilizer+Wheat , data = data3)\n",
    "tk.d <- TukeyHSD(fit.d, \"Wheat\")\n",
    "plot(tk.d)"
   ]
  },
  {
   "cell_type": "code",
   "execution_count": 14,
   "metadata": {},
   "outputs": [
    {
     "data": {
      "text/plain": [
       "  Tukey multiple comparisons of means\n",
       "    95% family-wise confidence level\n",
       "\n",
       "Fit: aov(formula = response ~ fertilizer + Wheat, data = data3)\n",
       "\n",
       "$Wheat\n",
       "         diff         lwr        upr     p adj\n",
       "\"N\"-\"M\"  4.30  3.35476633  5.2452337 0.0000000\n",
       "\"O\"-\"M\"  5.15  4.20476633  6.0952337 0.0000000\n",
       "\"P\"-\"M\"  3.50  2.55476633  4.4452337 0.0000000\n",
       "\"O\"-\"N\"  0.85 -0.09523367  1.7952337 0.0872269\n",
       "\"P\"-\"N\" -0.80 -1.74523367  0.1452337 0.1152696\n",
       "\"P\"-\"O\" -1.65 -2.59523367 -0.7047663 0.0005208\n"
      ]
     },
     "metadata": {},
     "output_type": "display_data"
    }
   ],
   "source": [
    "tk.d"
   ]
  },
  {
   "cell_type": "markdown",
   "metadata": {},
   "source": [
    "Under $\\alpha=0.05$, we have $\\{\"P\",\"N\"\\}$ is similar and $\\{\"O\",\"N\"\\}$ is similar while $\\{\"M\"\\}$ different from others."
   ]
  },
  {
   "cell_type": "markdown",
   "metadata": {},
   "source": [
    "### response ~ Wheat"
   ]
  },
  {
   "cell_type": "code",
   "execution_count": 15,
   "metadata": {
    "scrolled": true
   },
   "outputs": [
    {
     "data": {
      "text/plain": [
       "  Tukey multiple comparisons of means\n",
       "    95% family-wise confidence level\n",
       "\n",
       "Fit: aov(formula = response ~ Wheat, data = data3)\n",
       "\n",
       "$Wheat\n",
       "         diff        lwr       upr     p adj\n",
       "\"N\"-\"M\"  4.30  2.4808709 6.1191291 0.0000107\n",
       "\"O\"-\"M\"  5.15  3.3308709 6.9691291 0.0000008\n",
       "\"P\"-\"M\"  3.50  1.6808709 5.3191291 0.0001557\n",
       "\"O\"-\"N\"  0.85 -0.9691291 2.6691291 0.5687888\n",
       "\"P\"-\"N\" -0.80 -2.6191291 1.0191291 0.6152451\n",
       "\"P\"-\"O\" -1.65 -3.4691291 0.1691291 0.0839841\n"
      ]
     },
     "metadata": {},
     "output_type": "display_data"
    }
   ],
   "source": [
    "fit.d2 <- aov(response~Wheat , data = data3)\n",
    "tk.d2 <- TukeyHSD(fit.d2, \"Wheat\")\n",
    "tk.d2"
   ]
  },
  {
   "cell_type": "markdown",
   "metadata": {},
   "source": [
    "Under $\\alpha=0.05$, we have two groups here$\\{\"P\",\"N\",\"O\"\\}$ and $\\{\"M\"\\}$."
   ]
  }
 ],
 "metadata": {
  "kernelspec": {
   "display_name": "R 3.4",
   "language": "R",
   "name": "ir34"
  },
  "language_info": {
   "codemirror_mode": "r",
   "file_extension": ".r",
   "mimetype": "text/x-r-source",
   "name": "R",
   "pygments_lexer": "r",
   "version": "3.4.3"
  }
 },
 "nbformat": 4,
 "nbformat_minor": 2
}
