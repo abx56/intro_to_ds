{
 "cells": [
  {
   "cell_type": "markdown",
   "metadata": {},
   "source": [
    "## import data"
   ]
  },
  {
   "cell_type": "code",
   "execution_count": 42,
   "metadata": {},
   "outputs": [],
   "source": [
    "Cancer <- read.table('./Cancer-Data.dat',header = F)\n",
    "Colname <- c('ID', 'E_AGE','CANCER','DYR1B','BIOPSY','INFLAM',\n",
    "             'FAD','FCD','INPAP','OTHER','FC_CYS','FC_APM',\n",
    "             'FC_ADEN','FC_SCAD','FC_EHPP','FC_INFL','FC_CALC',\n",
    "             'AGEMENA','MCHILD','AGEDX','HORMX1','FAMHIS','YRFU',\n",
    "             'TIME','AGEBCH','AGMENOP','HORMSF','AGEHR','YRHR') \n",
    "colnames(Cancer) <- Colname"
   ]
  },
  {
   "cell_type": "code",
   "execution_count": 57,
   "metadata": {
    "scrolled": true
   },
   "outputs": [
    {
     "data": {
      "text/html": [
       "<table>\n",
       "<thead><tr><th scope=col>ID</th><th scope=col>E_AGE</th><th scope=col>CANCER</th><th scope=col>DYR1B</th><th scope=col>BIOPSY</th><th scope=col>INFLAM</th><th scope=col>FAD</th><th scope=col>FCD</th><th scope=col>INPAP</th><th scope=col>OTHER</th><th scope=col>⋯</th><th scope=col>AGEDX</th><th scope=col>HORMX1</th><th scope=col>FAMHIS</th><th scope=col>YRFU</th><th scope=col>TIME</th><th scope=col>AGEBCH</th><th scope=col>AGMENOP</th><th scope=col>HORMSF</th><th scope=col>AGEHR</th><th scope=col>YRHR</th></tr></thead>\n",
       "<tbody>\n",
       "\t<tr><td>  4</td><td>76 </td><td>0  </td><td>62 </td><td>1  </td><td>-1 </td><td>-1 </td><td>-1 </td><td>-1 </td><td>-1 </td><td>⋯  </td><td>43 </td><td>0  </td><td>0  </td><td>96 </td><td>398</td><td>23 </td><td>45 </td><td> 0 </td><td> 0 </td><td> 0 </td></tr>\n",
       "\t<tr><td> 21</td><td>63 </td><td>0  </td><td>63 </td><td>1  </td><td> 0 </td><td> 0 </td><td> 0 </td><td> 0 </td><td> 0 </td><td>⋯  </td><td>30 </td><td>1  </td><td>0  </td><td>96 </td><td>398</td><td> 0 </td><td>-1 </td><td> 0 </td><td> 0 </td><td> 0 </td></tr>\n",
       "\t<tr><td> 47</td><td>62 </td><td>0  </td><td>68 </td><td>1  </td><td> 0 </td><td> 0 </td><td> 1 </td><td> 0 </td><td> 0 </td><td>⋯  </td><td>34 </td><td>0  </td><td>1  </td><td>96 </td><td>336</td><td>21 </td><td>36 </td><td> 0 </td><td> 0 </td><td> 0 </td></tr>\n",
       "\t<tr><td> 98</td><td>58 </td><td>1  </td><td>65 </td><td>2  </td><td> 0 </td><td> 0 </td><td> 1 </td><td> 0 </td><td> 0 </td><td>⋯  </td><td>37 </td><td>0  </td><td>0  </td><td>86 </td><td>257</td><td>18 </td><td>52 </td><td> 1 </td><td>56 </td><td>85 </td></tr>\n",
       "\t<tr><td>110</td><td>42 </td><td>0  </td><td>65 </td><td>2  </td><td> 1 </td><td> 0 </td><td> 1 </td><td> 1 </td><td> 0 </td><td>⋯  </td><td>29 </td><td>1  </td><td>1  </td><td>78 </td><td>159</td><td>-1 </td><td>38 </td><td>-1 </td><td>-1 </td><td>-1 </td></tr>\n",
       "\t<tr><td>133</td><td>48 </td><td>1  </td><td>65 </td><td>2  </td><td> 0 </td><td> 0 </td><td> 1 </td><td> 0 </td><td> 0 </td><td>⋯  </td><td>33 </td><td>0  </td><td>0  </td><td>80 </td><td>187</td><td>-1 </td><td> 0 </td><td> 0 </td><td> 0 </td><td> 0 </td></tr>\n",
       "</tbody>\n",
       "</table>\n"
      ],
      "text/latex": [
       "\\begin{tabular}{r|lllllllllllllllllllllllllllll}\n",
       " ID & E\\_AGE & CANCER & DYR1B & BIOPSY & INFLAM & FAD & FCD & INPAP & OTHER & ⋯ & AGEDX & HORMX1 & FAMHIS & YRFU & TIME & AGEBCH & AGMENOP & HORMSF & AGEHR & YRHR\\\\\n",
       "\\hline\n",
       "\t   4 & 76  & 0   & 62  & 1   & -1  & -1  & -1  & -1  & -1  & ⋯   & 43  & 0   & 0   & 96  & 398 & 23  & 45  &  0  &  0  &  0 \\\\\n",
       "\t  21 & 63  & 0   & 63  & 1   &  0  &  0  &  0  &  0  &  0  & ⋯   & 30  & 1   & 0   & 96  & 398 &  0  & -1  &  0  &  0  &  0 \\\\\n",
       "\t  47 & 62  & 0   & 68  & 1   &  0  &  0  &  1  &  0  &  0  & ⋯   & 34  & 0   & 1   & 96  & 336 & 21  & 36  &  0  &  0  &  0 \\\\\n",
       "\t  98 & 58  & 1   & 65  & 2   &  0  &  0  &  1  &  0  &  0  & ⋯   & 37  & 0   & 0   & 86  & 257 & 18  & 52  &  1  & 56  & 85 \\\\\n",
       "\t 110 & 42  & 0   & 65  & 2   &  1  &  0  &  1  &  1  &  0  & ⋯   & 29  & 1   & 1   & 78  & 159 & -1  & 38  & -1  & -1  & -1 \\\\\n",
       "\t 133 & 48  & 1   & 65  & 2   &  0  &  0  &  1  &  0  &  0  & ⋯   & 33  & 0   & 0   & 80  & 187 & -1  &  0  &  0  &  0  &  0 \\\\\n",
       "\\end{tabular}\n"
      ],
      "text/markdown": [
       "\n",
       "ID | E_AGE | CANCER | DYR1B | BIOPSY | INFLAM | FAD | FCD | INPAP | OTHER | ⋯ | AGEDX | HORMX1 | FAMHIS | YRFU | TIME | AGEBCH | AGMENOP | HORMSF | AGEHR | YRHR | \n",
       "|---|---|---|---|---|---|\n",
       "|   4 | 76  | 0   | 62  | 1   | -1  | -1  | -1  | -1  | -1  | ⋯   | 43  | 0   | 0   | 96  | 398 | 23  | 45  |  0  |  0  |  0  | \n",
       "|  21 | 63  | 0   | 63  | 1   |  0  |  0  |  0  |  0  |  0  | ⋯   | 30  | 1   | 0   | 96  | 398 |  0  | -1  |  0  |  0  |  0  | \n",
       "|  47 | 62  | 0   | 68  | 1   |  0  |  0  |  1  |  0  |  0  | ⋯   | 34  | 0   | 1   | 96  | 336 | 21  | 36  |  0  |  0  |  0  | \n",
       "|  98 | 58  | 1   | 65  | 2   |  0  |  0  |  1  |  0  |  0  | ⋯   | 37  | 0   | 0   | 86  | 257 | 18  | 52  |  1  | 56  | 85  | \n",
       "| 110 | 42  | 0   | 65  | 2   |  1  |  0  |  1  |  1  |  0  | ⋯   | 29  | 1   | 1   | 78  | 159 | -1  | 38  | -1  | -1  | -1  | \n",
       "| 133 | 48  | 1   | 65  | 2   |  0  |  0  |  1  |  0  |  0  | ⋯   | 33  | 0   | 0   | 80  | 187 | -1  |  0  |  0  |  0  |  0  | \n",
       "\n",
       "\n"
      ],
      "text/plain": [
       "  ID  E_AGE CANCER DYR1B BIOPSY INFLAM FAD FCD INPAP OTHER ⋯ AGEDX HORMX1\n",
       "1   4 76    0      62    1      -1     -1  -1  -1    -1    ⋯ 43    0     \n",
       "2  21 63    0      63    1       0      0   0   0     0    ⋯ 30    1     \n",
       "3  47 62    0      68    1       0      0   1   0     0    ⋯ 34    0     \n",
       "4  98 58    1      65    2       0      0   1   0     0    ⋯ 37    0     \n",
       "5 110 42    0      65    2       1      0   1   1     0    ⋯ 29    1     \n",
       "6 133 48    1      65    2       0      0   1   0     0    ⋯ 33    0     \n",
       "  FAMHIS YRFU TIME AGEBCH AGMENOP HORMSF AGEHR YRHR\n",
       "1 0      96   398  23     45       0      0     0  \n",
       "2 0      96   398   0     -1       0      0     0  \n",
       "3 1      96   336  21     36       0      0     0  \n",
       "4 0      86   257  18     52       1     56    85  \n",
       "5 1      78   159  -1     38      -1     -1    -1  \n",
       "6 0      80   187  -1      0       0      0     0  "
      ]
     },
     "metadata": {},
     "output_type": "display_data"
    },
    {
     "data": {
      "text/plain": [
       "\n",
       "  0   1 \n",
       "270  66 "
      ]
     },
     "metadata": {},
     "output_type": "display_data"
    }
   ],
   "source": [
    "head(Cancer)\n",
    "Cancer[] <- lapply(Cancer, as.numeric)\n",
    "table(Cancer$CANCER)"
   ]
  },
  {
   "cell_type": "markdown",
   "metadata": {},
   "source": [
    "### xgboost"
   ]
  },
  {
   "cell_type": "code",
   "execution_count": 51,
   "metadata": {},
   "outputs": [],
   "source": [
    "source('./lib/train.R')\n",
    "source('./lib/test.R')\n",
    "source('./lib/cross_validation.R')"
   ]
  },
  {
   "cell_type": "code",
   "execution_count": 56,
   "metadata": {
    "scrolled": true
   },
   "outputs": [
    {
     "data": {
      "text/html": [
       "<ol class=list-inline>\n",
       "\t<li>0</li>\n",
       "\t<li>0</li>\n",
       "\t<li>0</li>\n",
       "\t<li>1</li>\n",
       "\t<li>0</li>\n",
       "\t<li>1</li>\n",
       "</ol>\n"
      ],
      "text/latex": [
       "\\begin{enumerate*}\n",
       "\\item 0\n",
       "\\item 0\n",
       "\\item 0\n",
       "\\item 1\n",
       "\\item 0\n",
       "\\item 1\n",
       "\\end{enumerate*}\n"
      ],
      "text/markdown": [
       "1. 0\n",
       "2. 0\n",
       "3. 0\n",
       "4. 1\n",
       "5. 0\n",
       "6. 1\n",
       "\n",
       "\n"
      ],
      "text/plain": [
       "[1] 0 0 0 1 0 1"
      ]
     },
     "metadata": {},
     "output_type": "display_data"
    },
    {
     "name": "stdout",
     "output_type": "stream",
     "text": [
      "[1] \"current iteration is 1\"\n",
      "[1] \"current iteration is 2\"\n",
      "[1] \"current iteration is 3\"\n",
      "[1] \"current iteration is 4\"\n",
      "[1] \"current iteration is 5\"\n"
     ]
    },
    {
     "data": {
      "text/html": [
       "<dl>\n",
       "\t<dt>$error</dt>\n",
       "\t\t<dd>0.0892888498683055</dd>\n",
       "\t<dt>$sd</dt>\n",
       "\t\t<dd>0.0279290268333624</dd>\n",
       "</dl>\n"
      ],
      "text/latex": [
       "\\begin{description}\n",
       "\\item[\\$error] 0.0892888498683055\n",
       "\\item[\\$sd] 0.0279290268333624\n",
       "\\end{description}\n"
      ],
      "text/markdown": [
       "$error\n",
       ":   0.0892888498683055\n",
       "$sd\n",
       ":   0.0279290268333624\n",
       "\n",
       "\n"
      ],
      "text/plain": [
       "$error\n",
       "[1] 0.08928885\n",
       "\n",
       "$sd\n",
       "[1] 0.02792903\n"
      ]
     },
     "metadata": {},
     "output_type": "display_data"
    }
   ],
   "source": [
    "dat_train <- Cancer[,-c(1,3)]\n",
    "\n",
    "label_train <- as.numeric(Cancer$CANCER)\n",
    "head(label_train)\n",
    "Cancer_cv <- cv(dat_train,\n",
    "                label_train,\n",
    "                run.xgboost = T,\n",
    "                run.gbm = F, \n",
    "                run.adaboost = F,\n",
    "                K = 5,\n",
    "                par = NULL,\n",
    "                num_class = 2)\n",
    "Cancer_cv"
   ]
  },
  {
   "cell_type": "markdown",
   "metadata": {},
   "source": [
    "### logistic regression"
   ]
  },
  {
   "cell_type": "code",
   "execution_count": 58,
   "metadata": {},
   "outputs": [
    {
     "data": {
      "text/html": [
       "<ol class=list-inline>\n",
       "\t<li>'ID'</li>\n",
       "\t<li>'E_AGE'</li>\n",
       "\t<li>'CANCER'</li>\n",
       "\t<li>'DYR1B'</li>\n",
       "\t<li>'BIOPSY'</li>\n",
       "\t<li>'INFLAM'</li>\n",
       "\t<li>'FAD'</li>\n",
       "\t<li>'FCD'</li>\n",
       "\t<li>'INPAP'</li>\n",
       "\t<li>'OTHER'</li>\n",
       "\t<li>'FC_CYS'</li>\n",
       "\t<li>'FC_APM'</li>\n",
       "\t<li>'FC_ADEN'</li>\n",
       "\t<li>'FC_SCAD'</li>\n",
       "\t<li>'FC_EHPP'</li>\n",
       "\t<li>'FC_INFL'</li>\n",
       "\t<li>'FC_CALC'</li>\n",
       "\t<li>'AGEMENA'</li>\n",
       "\t<li>'MCHILD'</li>\n",
       "\t<li>'AGEDX'</li>\n",
       "\t<li>'HORMX1'</li>\n",
       "\t<li>'FAMHIS'</li>\n",
       "\t<li>'YRFU'</li>\n",
       "\t<li>'TIME'</li>\n",
       "\t<li>'AGEBCH'</li>\n",
       "\t<li>'AGMENOP'</li>\n",
       "\t<li>'HORMSF'</li>\n",
       "\t<li>'AGEHR'</li>\n",
       "\t<li>'YRHR'</li>\n",
       "</ol>\n"
      ],
      "text/latex": [
       "\\begin{enumerate*}\n",
       "\\item 'ID'\n",
       "\\item 'E\\_AGE'\n",
       "\\item 'CANCER'\n",
       "\\item 'DYR1B'\n",
       "\\item 'BIOPSY'\n",
       "\\item 'INFLAM'\n",
       "\\item 'FAD'\n",
       "\\item 'FCD'\n",
       "\\item 'INPAP'\n",
       "\\item 'OTHER'\n",
       "\\item 'FC\\_CYS'\n",
       "\\item 'FC\\_APM'\n",
       "\\item 'FC\\_ADEN'\n",
       "\\item 'FC\\_SCAD'\n",
       "\\item 'FC\\_EHPP'\n",
       "\\item 'FC\\_INFL'\n",
       "\\item 'FC\\_CALC'\n",
       "\\item 'AGEMENA'\n",
       "\\item 'MCHILD'\n",
       "\\item 'AGEDX'\n",
       "\\item 'HORMX1'\n",
       "\\item 'FAMHIS'\n",
       "\\item 'YRFU'\n",
       "\\item 'TIME'\n",
       "\\item 'AGEBCH'\n",
       "\\item 'AGMENOP'\n",
       "\\item 'HORMSF'\n",
       "\\item 'AGEHR'\n",
       "\\item 'YRHR'\n",
       "\\end{enumerate*}\n"
      ],
      "text/markdown": [
       "1. 'ID'\n",
       "2. 'E_AGE'\n",
       "3. 'CANCER'\n",
       "4. 'DYR1B'\n",
       "5. 'BIOPSY'\n",
       "6. 'INFLAM'\n",
       "7. 'FAD'\n",
       "8. 'FCD'\n",
       "9. 'INPAP'\n",
       "10. 'OTHER'\n",
       "11. 'FC_CYS'\n",
       "12. 'FC_APM'\n",
       "13. 'FC_ADEN'\n",
       "14. 'FC_SCAD'\n",
       "15. 'FC_EHPP'\n",
       "16. 'FC_INFL'\n",
       "17. 'FC_CALC'\n",
       "18. 'AGEMENA'\n",
       "19. 'MCHILD'\n",
       "20. 'AGEDX'\n",
       "21. 'HORMX1'\n",
       "22. 'FAMHIS'\n",
       "23. 'YRFU'\n",
       "24. 'TIME'\n",
       "25. 'AGEBCH'\n",
       "26. 'AGMENOP'\n",
       "27. 'HORMSF'\n",
       "28. 'AGEHR'\n",
       "29. 'YRHR'\n",
       "\n",
       "\n"
      ],
      "text/plain": [
       " [1] \"ID\"      \"E_AGE\"   \"CANCER\"  \"DYR1B\"   \"BIOPSY\"  \"INFLAM\"  \"FAD\"    \n",
       " [8] \"FCD\"     \"INPAP\"   \"OTHER\"   \"FC_CYS\"  \"FC_APM\"  \"FC_ADEN\" \"FC_SCAD\"\n",
       "[15] \"FC_EHPP\" \"FC_INFL\" \"FC_CALC\" \"AGEMENA\" \"MCHILD\"  \"AGEDX\"   \"HORMX1\" \n",
       "[22] \"FAMHIS\"  \"YRFU\"    \"TIME\"    \"AGEBCH\"  \"AGMENOP\" \"HORMSF\"  \"AGEHR\"  \n",
       "[29] \"YRHR\"   "
      ]
     },
     "metadata": {},
     "output_type": "display_data"
    }
   ],
   "source": [
    "names(Cancer)"
   ]
  },
  {
   "cell_type": "code",
   "execution_count": 63,
   "metadata": {},
   "outputs": [
    {
     "data": {
      "text/plain": [
       "\n",
       "Call:\n",
       "glm(formula = CANCER ~ ., family = binomial(\"logit\"), data = Cancer)\n",
       "\n",
       "Deviance Residuals: \n",
       "    Min       1Q   Median       3Q      Max  \n",
       "-2.2554  -0.6438  -0.4152  -0.1647   3.1833  \n",
       "\n",
       "Coefficients:\n",
       "              Estimate Std. Error z value Pr(>|z|)    \n",
       "(Intercept) 21.5362359  7.6805771   2.804  0.00505 ** \n",
       "ID           0.0018432  0.0008464   2.178  0.02942 *  \n",
       "E_AGE       -0.4125970  0.5652732  -0.730  0.46545    \n",
       "DYR1B       -0.2515807  0.4016904  -0.626  0.53111    \n",
       "BIOPSY       0.1979577  0.2560906   0.773  0.43952    \n",
       "INFLAM       0.4548603  0.4422057   1.029  0.30366    \n",
       "FAD          0.7324692  0.4408637   1.661  0.09662 .  \n",
       "FCD          1.4404262  0.7732156   1.863  0.06248 .  \n",
       "INPAP       -0.8879261  0.8581296  -1.035  0.30080    \n",
       "OTHER       -0.9964963  0.7645246  -1.303  0.19243    \n",
       "FC_CYS      -0.2761295  0.3384623  -0.816  0.41459    \n",
       "FC_APM       0.2118043  0.3837732   0.552  0.58102    \n",
       "FC_ADEN      0.0005598  0.2762389   0.002  0.99838    \n",
       "FC_SCAD     -0.0160248  0.2867445  -0.056  0.95543    \n",
       "FC_EHPP      0.0670449  0.3208747   0.209  0.83449    \n",
       "FC_INFL      0.0775187  0.3408370   0.227  0.82008    \n",
       "FC_CALC      0.2474372  0.4083659   0.606  0.54457    \n",
       "AGEMENA     -0.0942329  0.0474969  -1.984  0.04726 *  \n",
       "MCHILD      -0.0076708  0.1462127  -0.052  0.95816    \n",
       "AGEDX        0.4250533  0.5651602   0.752  0.45199    \n",
       "HORMX1       0.3434649  0.3558508   0.965  0.33445    \n",
       "FAMHIS      -0.4182074  0.3002631  -1.393  0.16368    \n",
       "YRFU        -0.0831879  0.4105522  -0.203  0.83943    \n",
       "TIME         0.0360312  0.0576647   0.625  0.53208    \n",
       "AGEBCH      -0.0118387  0.0171412  -0.691  0.48978    \n",
       "AGMENOP     -0.0041459  0.0084370  -0.491  0.62314    \n",
       "HORMSF       3.1200524  0.7304536   4.271 1.94e-05 ***\n",
       "AGEHR        0.0449023  0.0403664   1.112  0.26598    \n",
       "YRHR        -0.0631035  0.0245858  -2.567  0.01027 *  \n",
       "---\n",
       "Signif. codes:  0 ‘***’ 0.001 ‘**’ 0.01 ‘*’ 0.05 ‘.’ 0.1 ‘ ’ 1\n",
       "\n",
       "(Dispersion parameter for binomial family taken to be 1)\n",
       "\n",
       "    Null deviance: 332.92  on 335  degrees of freedom\n",
       "Residual deviance: 261.52  on 307  degrees of freedom\n",
       "AIC: 319.52\n",
       "\n",
       "Number of Fisher Scoring iterations: 6\n"
      ]
     },
     "metadata": {},
     "output_type": "display_data"
    }
   ],
   "source": [
    "glm.cancer.full <- glm(CANCER ~ .,\n",
    "              family = binomial(\"logit\"), data = Cancer)\n",
    "summary(glm.cancer.full)"
   ]
  },
  {
   "cell_type": "code",
   "execution_count": 71,
   "metadata": {},
   "outputs": [
    {
     "data": {
      "text/plain": [
       "\n",
       "Call:\n",
       "glm(formula = CANCER ~ ID + FAD + FCD + AGEMENA + HORMSF + YRHR, \n",
       "    family = binomial(\"logit\"), data = Cancer)\n",
       "\n",
       "Deviance Residuals: \n",
       "    Min       1Q   Median       3Q      Max  \n",
       "-1.5980  -0.6792  -0.5359  -0.2552   2.9030  \n",
       "\n",
       "Coefficients:\n",
       "              Estimate Std. Error z value Pr(>|z|)    \n",
       "(Intercept) -0.1182111  0.5915826  -0.200 0.841620    \n",
       "ID          -0.0002308  0.0001350  -1.710 0.087228 .  \n",
       "FAD          0.4084523  0.3824227   1.068 0.285491    \n",
       "FCD          1.1878334  0.3924469   3.027 0.002472 ** \n",
       "AGEMENA     -0.1305471  0.0368969  -3.538 0.000403 ***\n",
       "HORMSF       2.8262643  0.5998863   4.711 2.46e-06 ***\n",
       "YRHR        -0.0366803  0.0083017  -4.418 9.94e-06 ***\n",
       "---\n",
       "Signif. codes:  0 ‘***’ 0.001 ‘**’ 0.01 ‘*’ 0.05 ‘.’ 0.1 ‘ ’ 1\n",
       "\n",
       "(Dispersion parameter for binomial family taken to be 1)\n",
       "\n",
       "    Null deviance: 332.92  on 335  degrees of freedom\n",
       "Residual deviance: 291.94  on 329  degrees of freedom\n",
       "AIC: 305.94\n",
       "\n",
       "Number of Fisher Scoring iterations: 5\n"
      ]
     },
     "metadata": {},
     "output_type": "display_data"
    }
   ],
   "source": [
    "glm.cancer.fit1 <- glm(CANCER ~ ID + FAD + FCD + \n",
    "                       AGEMENA + HORMSF + YRHR,\n",
    "                       family = binomial(\"logit\"), data = Cancer)\n",
    "summary(glm.cancer.fit1)"
   ]
  },
  {
   "cell_type": "code",
   "execution_count": 72,
   "metadata": {
    "scrolled": false
   },
   "outputs": [
    {
     "name": "stdout",
     "output_type": "stream",
     "text": [
      "Start:  AIC=305.94\n",
      "CANCER ~ ID + FAD + FCD + AGEMENA + HORMSF + YRHR\n",
      "\n",
      "          Df Deviance    AIC\n",
      "- FAD      1   293.07 305.07\n",
      "<none>         291.94 305.94\n",
      "- ID       1   294.88 306.88\n",
      "- FCD      1   304.71 316.71\n",
      "- AGEMENA  1   305.00 317.00\n",
      "- YRHR     1   313.84 325.84\n",
      "- HORMSF   1   316.90 328.90\n",
      "\n",
      "Step:  AIC=305.07\n",
      "CANCER ~ ID + FCD + AGEMENA + HORMSF + YRHR\n",
      "\n",
      "          Df Deviance    AIC\n",
      "<none>         293.07 305.07\n",
      "- ID       1   296.09 306.09\n",
      "- AGEMENA  1   306.13 316.13\n",
      "- FCD      1   306.24 316.24\n",
      "- YRHR     1   315.06 325.06\n",
      "- HORMSF   1   317.93 327.93\n"
     ]
    },
    {
     "data": {
      "text/html": [
       "<table>\n",
       "<thead><tr><th scope=col>Step</th><th scope=col>Df</th><th scope=col>Deviance</th><th scope=col>Resid. Df</th><th scope=col>Resid. Dev</th><th scope=col>AIC</th></tr></thead>\n",
       "<tbody>\n",
       "\t<tr><td>        </td><td>NA      </td><td>      NA</td><td>329     </td><td>291.9359</td><td>305.9359</td></tr>\n",
       "\t<tr><td>- FAD   </td><td> 1      </td><td>1.129154</td><td>330     </td><td>293.0650</td><td>305.0650</td></tr>\n",
       "</tbody>\n",
       "</table>\n"
      ],
      "text/latex": [
       "\\begin{tabular}{r|llllll}\n",
       " Step & Df & Deviance & Resid. Df & Resid. Dev & AIC\\\\\n",
       "\\hline\n",
       "\t          & NA       &       NA & 329      & 291.9359 & 305.9359\\\\\n",
       "\t - FAD    &  1       & 1.129154 & 330      & 293.0650 & 305.0650\\\\\n",
       "\\end{tabular}\n"
      ],
      "text/markdown": [
       "\n",
       "Step | Df | Deviance | Resid. Df | Resid. Dev | AIC | \n",
       "|---|---|\n",
       "|          | NA       |       NA | 329      | 291.9359 | 305.9359 | \n",
       "| - FAD    |  1       | 1.129154 | 330      | 293.0650 | 305.0650 | \n",
       "\n",
       "\n"
      ],
      "text/plain": [
       "  Step  Df Deviance Resid. Df Resid. Dev AIC     \n",
       "1       NA       NA 329       291.9359   305.9359\n",
       "2 - FAD  1 1.129154 330       293.0650   305.0650"
      ]
     },
     "metadata": {},
     "output_type": "display_data"
    }
   ],
   "source": [
    "step(glm.cancer.fit1,direction = \"backward\")$anova"
   ]
  },
  {
   "cell_type": "code",
   "execution_count": 73,
   "metadata": {},
   "outputs": [
    {
     "data": {
      "text/plain": [
       "\n",
       "Call:\n",
       "glm(formula = CANCER ~ ID + FCD + AGEMENA + HORMSF + YRHR, family = binomial(\"logit\"), \n",
       "    data = Cancer)\n",
       "\n",
       "Deviance Residuals: \n",
       "    Min       1Q   Median       3Q      Max  \n",
       "-1.6209  -0.6779  -0.5284  -0.2735   2.7201  \n",
       "\n",
       "Coefficients:\n",
       "              Estimate Std. Error z value Pr(>|z|)    \n",
       "(Intercept) -0.0270670  0.5673107  -0.048 0.961947    \n",
       "ID          -0.0002335  0.0001348  -1.732 0.083354 .  \n",
       "FCD          1.1508750  0.3725897   3.089 0.002009 ** \n",
       "AGEMENA     -0.1299898  0.0366914  -3.543 0.000396 ***\n",
       "HORMSF       2.8105556  0.5974862   4.704 2.55e-06 ***\n",
       "YRHR        -0.0366423  0.0082763  -4.427 9.54e-06 ***\n",
       "---\n",
       "Signif. codes:  0 ‘***’ 0.001 ‘**’ 0.01 ‘*’ 0.05 ‘.’ 0.1 ‘ ’ 1\n",
       "\n",
       "(Dispersion parameter for binomial family taken to be 1)\n",
       "\n",
       "    Null deviance: 332.92  on 335  degrees of freedom\n",
       "Residual deviance: 293.07  on 330  degrees of freedom\n",
       "AIC: 305.07\n",
       "\n",
       "Number of Fisher Scoring iterations: 5\n"
      ]
     },
     "metadata": {},
     "output_type": "display_data"
    }
   ],
   "source": [
    "glm.cancer.fit2 <- glm(CANCER ~ ID + FCD + \n",
    "                       AGEMENA + HORMSF + YRHR,\n",
    "                       family = binomial(\"logit\"), data = Cancer)\n",
    "summary(glm.cancer.fit2)"
   ]
  },
  {
   "cell_type": "code",
   "execution_count": 74,
   "metadata": {
    "scrolled": true
   },
   "outputs": [
    {
     "name": "stdout",
     "output_type": "stream",
     "text": [
      "Start:  AIC=305.07\n",
      "CANCER ~ ID + FCD + AGEMENA + HORMSF + YRHR\n",
      "\n",
      "          Df Deviance    AIC\n",
      "<none>         293.07 305.07\n",
      "- ID       1   296.09 306.09\n",
      "- AGEMENA  1   306.13 316.13\n",
      "- FCD      1   306.24 316.24\n",
      "- YRHR     1   315.06 325.06\n",
      "- HORMSF   1   317.93 327.93\n"
     ]
    },
    {
     "data": {
      "text/html": [
       "<table>\n",
       "<thead><tr><th scope=col>Step</th><th scope=col>Df</th><th scope=col>Deviance</th><th scope=col>Resid. Df</th><th scope=col>Resid. Dev</th><th scope=col>AIC</th></tr></thead>\n",
       "<tbody>\n",
       "\t<tr><td>       </td><td>NA     </td><td>NA     </td><td>330    </td><td>293.065</td><td>305.065</td></tr>\n",
       "</tbody>\n",
       "</table>\n"
      ],
      "text/latex": [
       "\\begin{tabular}{r|llllll}\n",
       " Step & Df & Deviance & Resid. Df & Resid. Dev & AIC\\\\\n",
       "\\hline\n",
       "\t         & NA      & NA      & 330     & 293.065 & 305.065\\\\\n",
       "\\end{tabular}\n"
      ],
      "text/markdown": [
       "\n",
       "Step | Df | Deviance | Resid. Df | Resid. Dev | AIC | \n",
       "|---|\n",
       "|         | NA      | NA      | 330     | 293.065 | 305.065 | \n",
       "\n",
       "\n"
      ],
      "text/plain": [
       "  Step Df Deviance Resid. Df Resid. Dev AIC    \n",
       "1      NA NA       330       293.065    305.065"
      ]
     },
     "metadata": {},
     "output_type": "display_data"
    }
   ],
   "source": [
    "step(glm.cancer.fit2,direction = \"backward\")$anova"
   ]
  },
  {
   "cell_type": "code",
   "execution_count": 75,
   "metadata": {},
   "outputs": [
    {
     "data": {
      "text/plain": [
       "\n",
       "Call:\n",
       "glm(formula = CANCER ~ FCD + AGEMENA + HORMSF + YRHR, family = binomial(\"logit\"), \n",
       "    data = Cancer)\n",
       "\n",
       "Deviance Residuals: \n",
       "    Min       1Q   Median       3Q      Max  \n",
       "-1.5456  -0.7246  -0.5388  -0.3071   2.7140  \n",
       "\n",
       "Coefficients:\n",
       "             Estimate Std. Error z value Pr(>|z|)    \n",
       "(Intercept) -0.475997   0.502332  -0.948 0.343346    \n",
       "FCD          1.173916   0.376879   3.115 0.001840 ** \n",
       "AGEMENA     -0.135797   0.036170  -3.754 0.000174 ***\n",
       "HORMSF       2.725811   0.593202   4.595 4.33e-06 ***\n",
       "YRHR        -0.035677   0.008189  -4.357 1.32e-05 ***\n",
       "---\n",
       "Signif. codes:  0 ‘***’ 0.001 ‘**’ 0.01 ‘*’ 0.05 ‘.’ 0.1 ‘ ’ 1\n",
       "\n",
       "(Dispersion parameter for binomial family taken to be 1)\n",
       "\n",
       "    Null deviance: 332.92  on 335  degrees of freedom\n",
       "Residual deviance: 296.09  on 331  degrees of freedom\n",
       "AIC: 306.09\n",
       "\n",
       "Number of Fisher Scoring iterations: 5\n"
      ]
     },
     "metadata": {},
     "output_type": "display_data"
    }
   ],
   "source": [
    "glm.cancer.fit3 <- glm(CANCER ~ FCD + AGEMENA +\n",
    "                       HORMSF + YRHR,\n",
    "                       family = binomial(\"logit\"), data = Cancer)\n",
    "summary(glm.cancer.fit3)"
   ]
  },
  {
   "cell_type": "markdown",
   "metadata": {},
   "source": [
    "## import data2"
   ]
  },
  {
   "cell_type": "code",
   "execution_count": 82,
   "metadata": {},
   "outputs": [
    {
     "data": {
      "text/html": [
       "<table>\n",
       "<thead><tr><th scope=col>V1</th><th scope=col>V2</th><th scope=col>V3</th><th scope=col>V4</th><th scope=col>V5</th><th scope=col>V6</th><th scope=col>V7</th><th scope=col>V8</th><th scope=col>V9</th><th scope=col>V10</th><th scope=col>V11</th><th scope=col>V12</th><th scope=col>V13</th><th scope=col>V14</th><th scope=col>V15</th><th scope=col>V16</th><th scope=col>V17</th></tr></thead>\n",
       "<tbody>\n",
       "\t<tr><td>1          </td><td>Los_Angeles</td><td>CA         </td><td>4060       </td><td>8863164    </td><td>32.1       </td><td> 9.7       </td><td>23677      </td><td>27700      </td><td>688936     </td><td>70.0       </td><td>22.3       </td><td>11.6       </td><td>8.0        </td><td>20786      </td><td>184230     </td><td>4          </td></tr>\n",
       "\t<tr><td>2          </td><td>Cook       </td><td>IL         </td><td> 946       </td><td>5105067    </td><td>29.2       </td><td>12.4       </td><td>15153      </td><td>21550      </td><td>436936     </td><td>73.4       </td><td>22.8       </td><td>11.1       </td><td>7.2        </td><td>21729      </td><td>110928     </td><td>2          </td></tr>\n",
       "\t<tr><td>3          </td><td>Harris     </td><td>TX         </td><td>1729       </td><td>2818199    </td><td>31.3       </td><td> 7.1       </td><td> 7553      </td><td>12449      </td><td>253526     </td><td>74.9       </td><td>25.4       </td><td>12.5       </td><td>5.7        </td><td>19517      </td><td> 55003     </td><td>3          </td></tr>\n",
       "\t<tr><td>4          </td><td>San_Diego  </td><td>CA         </td><td>4205       </td><td>2498016    </td><td>33.5       </td><td>10.9       </td><td> 5905      </td><td> 6179      </td><td>173821     </td><td>81.9       </td><td>25.3       </td><td> 8.1       </td><td>6.1        </td><td>19588      </td><td> 48931     </td><td>4          </td></tr>\n",
       "\t<tr><td>5          </td><td>Orange     </td><td>CA         </td><td> 790       </td><td>2410556    </td><td>32.6       </td><td> 9.2       </td><td> 6062      </td><td> 6369      </td><td>144524     </td><td>81.2       </td><td>27.8       </td><td> 5.2       </td><td>4.8        </td><td>24400      </td><td> 58818     </td><td>4          </td></tr>\n",
       "\t<tr><td>6          </td><td>Kings      </td><td>NY         </td><td>  71       </td><td>2300664    </td><td>28.3       </td><td>12.4       </td><td> 4861      </td><td> 8942      </td><td>680966     </td><td>63.7       </td><td>16.6       </td><td>19.5       </td><td>9.5        </td><td>16803      </td><td> 38658     </td><td>1          </td></tr>\n",
       "</tbody>\n",
       "</table>\n"
      ],
      "text/latex": [
       "\\begin{tabular}{r|lllllllllllllllll}\n",
       " V1 & V2 & V3 & V4 & V5 & V6 & V7 & V8 & V9 & V10 & V11 & V12 & V13 & V14 & V15 & V16 & V17\\\\\n",
       "\\hline\n",
       "\t 1             & Los\\_Angeles & CA            & 4060          & 8863164       & 32.1          &  9.7          & 23677         & 27700         & 688936        & 70.0          & 22.3          & 11.6          & 8.0           & 20786         & 184230        & 4            \\\\\n",
       "\t 2           & Cook        & IL          &  946        & 5105067     & 29.2        & 12.4        & 15153       & 21550       & 436936      & 73.4        & 22.8        & 11.1        & 7.2         & 21729       & 110928      & 2          \\\\\n",
       "\t 3           & Harris      & TX          & 1729        & 2818199     & 31.3        &  7.1        &  7553       & 12449       & 253526      & 74.9        & 25.4        & 12.5        & 5.7         & 19517       &  55003      & 3          \\\\\n",
       "\t 4             & San\\_Diego   & CA            & 4205          & 2498016       & 33.5          & 10.9          &  5905         &  6179         & 173821        & 81.9          & 25.3          &  8.1          & 6.1           & 19588         &  48931        & 4            \\\\\n",
       "\t 5           & Orange      & CA          &  790        & 2410556     & 32.6        &  9.2        &  6062       &  6369       & 144524      & 81.2        & 27.8        &  5.2        & 4.8         & 24400       &  58818      & 4          \\\\\n",
       "\t 6           & Kings       & NY          &   71        & 2300664     & 28.3        & 12.4        &  4861       &  8942       & 680966      & 63.7        & 16.6        & 19.5        & 9.5         & 16803       &  38658      & 1          \\\\\n",
       "\\end{tabular}\n"
      ],
      "text/markdown": [
       "\n",
       "V1 | V2 | V3 | V4 | V5 | V6 | V7 | V8 | V9 | V10 | V11 | V12 | V13 | V14 | V15 | V16 | V17 | \n",
       "|---|---|---|---|---|---|\n",
       "| 1           | Los_Angeles | CA          | 4060        | 8863164     | 32.1        |  9.7        | 23677       | 27700       | 688936      | 70.0        | 22.3        | 11.6        | 8.0         | 20786       | 184230      | 4           | \n",
       "| 2           | Cook        | IL          |  946        | 5105067     | 29.2        | 12.4        | 15153       | 21550       | 436936      | 73.4        | 22.8        | 11.1        | 7.2         | 21729       | 110928      | 2           | \n",
       "| 3           | Harris      | TX          | 1729        | 2818199     | 31.3        |  7.1        |  7553       | 12449       | 253526      | 74.9        | 25.4        | 12.5        | 5.7         | 19517       |  55003      | 3           | \n",
       "| 4           | San_Diego   | CA          | 4205        | 2498016     | 33.5        | 10.9        |  5905       |  6179       | 173821      | 81.9        | 25.3        |  8.1        | 6.1         | 19588       |  48931      | 4           | \n",
       "| 5           | Orange      | CA          |  790        | 2410556     | 32.6        |  9.2        |  6062       |  6369       | 144524      | 81.2        | 27.8        |  5.2        | 4.8         | 24400       |  58818      | 4           | \n",
       "| 6           | Kings       | NY          |   71        | 2300664     | 28.3        | 12.4        |  4861       |  8942       | 680966      | 63.7        | 16.6        | 19.5        | 9.5         | 16803       |  38658      | 1           | \n",
       "\n",
       "\n"
      ],
      "text/plain": [
       "  V1 V2          V3 V4   V5      V6   V7   V8    V9    V10    V11  V12  V13 \n",
       "1 1  Los_Angeles CA 4060 8863164 32.1  9.7 23677 27700 688936 70.0 22.3 11.6\n",
       "2 2  Cook        IL  946 5105067 29.2 12.4 15153 21550 436936 73.4 22.8 11.1\n",
       "3 3  Harris      TX 1729 2818199 31.3  7.1  7553 12449 253526 74.9 25.4 12.5\n",
       "4 4  San_Diego   CA 4205 2498016 33.5 10.9  5905  6179 173821 81.9 25.3  8.1\n",
       "5 5  Orange      CA  790 2410556 32.6  9.2  6062  6369 144524 81.2 27.8  5.2\n",
       "6 6  Kings       NY   71 2300664 28.3 12.4  4861  8942 680966 63.7 16.6 19.5\n",
       "  V14 V15   V16    V17\n",
       "1 8.0 20786 184230 4  \n",
       "2 7.2 21729 110928 2  \n",
       "3 5.7 19517  55003 3  \n",
       "4 6.1 19588  48931 4  \n",
       "5 4.8 24400  58818 4  \n",
       "6 9.5 16803  38658 1  "
      ]
     },
     "metadata": {},
     "output_type": "display_data"
    },
    {
     "data": {
      "text/html": [
       "<ol class=list-inline>\n",
       "\t<li>440</li>\n",
       "\t<li>17</li>\n",
       "</ol>\n"
      ],
      "text/latex": [
       "\\begin{enumerate*}\n",
       "\\item 440\n",
       "\\item 17\n",
       "\\end{enumerate*}\n"
      ],
      "text/markdown": [
       "1. 440\n",
       "2. 17\n",
       "\n",
       "\n"
      ],
      "text/plain": [
       "[1] 440  17"
      ]
     },
     "metadata": {},
     "output_type": "display_data"
    }
   ],
   "source": [
    "crime <- read.table('APPENC02(1).txt')\n",
    "head(crime)\n",
    "dim(crime)"
   ]
  },
  {
   "cell_type": "code",
   "execution_count": 85,
   "metadata": {
    "scrolled": false
   },
   "outputs": [
    {
     "name": "stderr",
     "output_type": "stream",
     "text": [
      "Warning message in model.matrix.default(mt, mf, contrasts):\n",
      "“the response appeared on the right-hand side and was dropped”Warning message in model.matrix.default(mt, mf, contrasts):\n",
      "“problem with term 7 in model.matrix: no columns are assigned”"
     ]
    },
    {
     "data": {
      "text/plain": [
       "\n",
       "Call:\n",
       "lm(formula = V10 ~ V4 + V5 + V6 + V7 + V8 + V9 + V10 + V11 + \n",
       "    V12 + V13 + V14 + V15 + V16 + I(V17), data = crime)\n",
       "\n",
       "Residuals:\n",
       "   Min     1Q Median     3Q    Max \n",
       "-74484  -5753    326   5069 407568 \n",
       "\n",
       "Coefficients:\n",
       "              Estimate Std. Error t value Pr(>|t|)    \n",
       "(Intercept) -5.093e+04  3.534e+04  -1.441 0.150362    \n",
       "V4          -3.054e+00  8.485e-01  -3.599 0.000357 ***\n",
       "V5           2.343e-01  2.027e-02  11.560  < 2e-16 ***\n",
       "V6           2.211e+02  4.247e+02   0.521 0.602962    \n",
       "V7           3.212e+01  3.806e+02   0.084 0.932790    \n",
       "V8          -5.189e+00  3.150e+00  -1.647 0.100229    \n",
       "V9           3.404e+00  2.280e+00   1.493 0.136294    \n",
       "V11         -2.656e+02  3.218e+02  -0.825 0.409688    \n",
       "V12          1.409e+02  3.735e+02   0.377 0.706154    \n",
       "V13          1.143e+03  4.881e+02   2.341 0.019693 *  \n",
       "V14         -1.597e+02  6.580e+02  -0.243 0.808403    \n",
       "V15          2.335e+00  6.993e-01   3.339 0.000913 ***\n",
       "V16         -7.070e+00  9.459e-01  -7.475 4.44e-13 ***\n",
       "I(V17)       1.457e+03  1.319e+03   1.104 0.270214    \n",
       "---\n",
       "Signif. codes:  0 ‘***’ 0.001 ‘**’ 0.01 ‘*’ 0.05 ‘.’ 0.1 ‘ ’ 1\n",
       "\n",
       "Residual standard error: 23370 on 426 degrees of freedom\n",
       "Multiple R-squared:  0.8438,\tAdjusted R-squared:  0.839 \n",
       "F-statistic:   177 on 13 and 426 DF,  p-value: < 2.2e-16\n"
      ]
     },
     "metadata": {},
     "output_type": "display_data"
    }
   ],
   "source": [
    "lm.crime.full <- lm(V10 ~ V4 + V5 + V6 +\n",
    "                    V7 + V8 + V9 + V10 + V11 + V12 + V13 + \n",
    "                    V14 + V15 + V16 + I(V17), data = crime)\n",
    "summary(lm.crime.full)"
   ]
  },
  {
   "cell_type": "code",
   "execution_count": 86,
   "metadata": {
    "scrolled": false
   },
   "outputs": [
    {
     "data": {
      "text/plain": [
       "\n",
       "Call:\n",
       "lm(formula = V10 ~ V4 + V5 + V13 + V15 + V16, data = crime)\n",
       "\n",
       "Residuals:\n",
       "   Min     1Q Median     3Q    Max \n",
       "-77382  -5773    285   5117 406547 \n",
       "\n",
       "Coefficients:\n",
       "              Estimate Std. Error t value Pr(>|t|)    \n",
       "(Intercept) -6.389e+04  1.023e+04  -6.244 1.02e-09 ***\n",
       "V4          -3.109e+00  7.580e-01  -4.101 4.91e-05 ***\n",
       "V5           2.496e-01  1.633e-02  15.282  < 2e-16 ***\n",
       "V13          1.450e+03  3.071e+02   4.721 3.18e-06 ***\n",
       "V15          2.460e+00  4.685e-01   5.250 2.39e-07 ***\n",
       "V16         -7.899e+00  7.870e-01 -10.037  < 2e-16 ***\n",
       "---\n",
       "Signif. codes:  0 ‘***’ 0.001 ‘**’ 0.01 ‘*’ 0.05 ‘.’ 0.1 ‘ ’ 1\n",
       "\n",
       "Residual standard error: 23270 on 434 degrees of freedom\n",
       "Multiple R-squared:  0.8421,\tAdjusted R-squared:  0.8403 \n",
       "F-statistic: 462.9 on 5 and 434 DF,  p-value: < 2.2e-16\n"
      ]
     },
     "metadata": {},
     "output_type": "display_data"
    }
   ],
   "source": [
    "lm.crime.fit1 <- lm(V10 ~ V4 + V5 + V13 + \n",
    "                    V15 + V16, data = crime)\n",
    "summary(lm.crime.fit1)"
   ]
  },
  {
   "cell_type": "code",
   "execution_count": 87,
   "metadata": {},
   "outputs": [
    {
     "name": "stdout",
     "output_type": "stream",
     "text": [
      "Start:  AIC=8854.47\n",
      "V10 ~ V4 + V5 + V13 + V15 + V16\n",
      "\n",
      "       Df  Sum of Sq        RSS    AIC\n",
      "<none>               2.3511e+11 8854.5\n",
      "- V4    1 9.1118e+09 2.4422e+11 8869.2\n",
      "- V13   1 1.2072e+10 2.4718e+11 8874.5\n",
      "- V15   1 1.4929e+10 2.5004e+11 8879.6\n",
      "- V16   1 5.4571e+10 2.8968e+11 8944.3\n",
      "- V5    1 1.2651e+11 3.6161e+11 9041.9\n"
     ]
    },
    {
     "data": {
      "text/html": [
       "<table>\n",
       "<thead><tr><th scope=col>Step</th><th scope=col>Df</th><th scope=col>Deviance</th><th scope=col>Resid. Df</th><th scope=col>Resid. Dev</th><th scope=col>AIC</th></tr></thead>\n",
       "<tbody>\n",
       "\t<tr><td>            </td><td>NA          </td><td>NA          </td><td>434         </td><td>235106929833</td><td>8854.474    </td></tr>\n",
       "</tbody>\n",
       "</table>\n"
      ],
      "text/latex": [
       "\\begin{tabular}{r|llllll}\n",
       " Step & Df & Deviance & Resid. Df & Resid. Dev & AIC\\\\\n",
       "\\hline\n",
       "\t              & NA           & NA           & 434          & 235106929833 & 8854.474    \\\\\n",
       "\\end{tabular}\n"
      ],
      "text/markdown": [
       "\n",
       "Step | Df | Deviance | Resid. Df | Resid. Dev | AIC | \n",
       "|---|\n",
       "|              | NA           | NA           | 434          | 235106929833 | 8854.474     | \n",
       "\n",
       "\n"
      ],
      "text/plain": [
       "  Step Df Deviance Resid. Df Resid. Dev   AIC     \n",
       "1      NA NA       434       235106929833 8854.474"
      ]
     },
     "metadata": {},
     "output_type": "display_data"
    }
   ],
   "source": [
    "step(lm.crime.fit1,direction = \"backward\")$anova"
   ]
  },
  {
   "cell_type": "code",
   "execution_count": null,
   "metadata": {},
   "outputs": [],
   "source": [
    "crime <- "
   ]
  }
 ],
 "metadata": {
  "kernelspec": {
   "display_name": "R 3.4",
   "language": "R",
   "name": "ir34"
  },
  "language_info": {
   "codemirror_mode": "r",
   "file_extension": ".r",
   "mimetype": "text/x-r-source",
   "name": "R",
   "pygments_lexer": "r",
   "version": "3.4.3"
  }
 },
 "nbformat": 4,
 "nbformat_minor": 2
}
