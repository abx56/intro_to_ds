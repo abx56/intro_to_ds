{
 "cells": [
  {
   "cell_type": "markdown",
   "metadata": {},
   "source": [
    "<br><br>\n",
    "# <center>ADVANCED DATA ANALYSIS</center>\n",
    "# <center>HW4</center>\n",
    "<br><br><br><br><br><br><br><br>\n",
    "<br><br><br><br><br><br><br><br><br><br>\n",
    "<center>Fan Yang</center>\n",
    "<center>UNI: fy2232</center>\n",
    "<center>02/22/2018</center>"
   ]
  },
  {
   "cell_type": "markdown",
   "metadata": {},
   "source": [
    "<br><br><br>"
   ]
  },
  {
   "cell_type": "markdown",
   "metadata": {},
   "source": [
    "<!---\n",
    "your comment goes here\n",
    "and here\n",
    "-->"
   ]
  },
  {
   "cell_type": "markdown",
   "metadata": {},
   "source": [
    "***"
   ]
  },
  {
   "cell_type": "markdown",
   "metadata": {},
   "source": [
    "<br><br><br><br><br><br><br><br><br><br><br>\n",
    "<br><br><br><br><br><br><br><br><br><br><br><br><br><br><br><br><br><br>\n",
    "<br><br><br><br><br><br><br><br><br><br><br><br><br>"
   ]
  },
  {
   "cell_type": "markdown",
   "metadata": {},
   "source": [
    "***"
   ]
  },
  {
   "cell_type": "markdown",
   "metadata": {},
   "source": [
    "# Problem 1"
   ]
  },
  {
   "cell_type": "markdown",
   "metadata": {},
   "source": [
    "***(6pt) (data in file mileage.csv) This problem is designed to review regression with categorical variables. International Oil Inc. Is attempting to a develop a reasonably priced minimum unleaded gasoline that will deliver higher gasoline mileage than can be achieved by its current premium unleaded gasolines. As part of its development process, International Oil Inc. wishes to study the effect of one qualitative variable, $x_1$, premium gasoline unleaded type (A, B, C) and one quantitative variable $x_2$ amount of gasoline additive VST (0, 1, 2, 3 units) on the gasoline mileage y obtained by an automobile called Encore. For testing purposes a sample of 22 Encores is randomly selected and driven under normal driving conditions. The combination of $x_1$ and $x_2$ used in the experiment along with the corresponding values of $y$ are in file mileage.csv. Define $\\mu_{[A,x]}, \\mu_{[A,x]}$ and $\\mu_{[B,x]}$ to be the mean unleaded gasoline mileage by Encore when using AST amount x and premium unleaded gasoline types A, B and C, respectively. Consider the model\n",
    "$$\n",
    "Y_i=\\beta_0+\\beta_1D_{1i}+\\beta_2D_{2i}+\\beta_3x_2+\\epsilon\n",
    "$$\n",
    "where $D_{1i} =1$ gas type is B and 0 otherwise and $D_{2i}=1$ is gas type is C and 0 otherwise.<br>***\n"
   ]
  },
  {
   "cell_type": "markdown",
   "metadata": {},
   "source": [
    "Load the data first:"
   ]
  },
  {
   "cell_type": "code",
   "execution_count": 1,
   "metadata": {},
   "outputs": [],
   "source": [
    "mileage <- read.csv(\"mileage.csv\", header = T)"
   ]
  },
  {
   "cell_type": "markdown",
   "metadata": {},
   "source": [
    "## (a)\n",
    "*** (2pt) Estimate the $\\beta_{i}s$ and interpret your result (see note for how to fit this model )<br> `lm(y ~ factor(x1) + x2)`<br>***"
   ]
  },
  {
   "cell_type": "code",
   "execution_count": 2,
   "metadata": {
    "scrolled": true
   },
   "outputs": [
    {
     "data": {
      "text/plain": [
       "\n",
       "Call:\n",
       "lm(formula = y ~ factor(x1) + x2, data = mileage)\n",
       "\n",
       "Residuals:\n",
       "    Min      1Q  Median      3Q     Max \n",
       "-4.6171 -1.6321  0.5508  1.3756  4.0021 \n",
       "\n",
       "Coefficients:\n",
       "            Estimate Std. Error t value Pr(>|t|)    \n",
       "(Intercept)  32.0171     1.0005  32.002   <2e-16 ***\n",
       "factor(x1)B   1.5218     1.2650   1.203    0.245    \n",
       "factor(x1)C   0.5252     1.6194   0.324    0.749    \n",
       "x2           -0.4192     0.6042  -0.694    0.497    \n",
       "---\n",
       "Signif. codes:  0 ‘***’ 0.001 ‘**’ 0.01 ‘*’ 0.05 ‘.’ 0.1 ‘ ’ 1\n",
       "\n",
       "Residual standard error: 2.532 on 18 degrees of freedom\n",
       "Multiple R-squared:  0.09453,\tAdjusted R-squared:  -0.05638 \n",
       "F-statistic: 0.6264 on 3 and 18 DF,  p-value: 0.6072\n"
      ]
     },
     "metadata": {},
     "output_type": "display_data"
    }
   ],
   "source": [
    "lm.1a <- lm(y ~ factor(x1) + x2, data = mileage)\n",
    "summary(lm.1a)"
   ]
  },
  {
   "cell_type": "markdown",
   "metadata": {},
   "source": [
    "From the output above, \n",
    "$\\beta_0=32.0171, ~\\beta_1=1.5218,~ \\beta_2=0.5252,~ \\beta_3=-0.4192$. Therefore the fitted model is $$\n",
    "Y_i=32.0171+1.5218D_{1i}+0.5252D_{2i}-0.4192x_2+\\epsilon\n",
    "$$"
   ]
  },
  {
   "cell_type": "markdown",
   "metadata": {},
   "source": [
    "## (b)\n",
    "***(2pt) Construct a 95% confidence interval for $\\beta_1$ and interpret your result***"
   ]
  },
  {
   "cell_type": "markdown",
   "metadata": {},
   "source": [
    "A $100(1-\\alpha)\\%$ confidence interval for $\\beta_i$ is\n",
    "$$b_i\\pm t_{n-p-1}(\\alpha/2)SE(b_i)$$"
   ]
  },
  {
   "cell_type": "code",
   "execution_count": 3,
   "metadata": {},
   "outputs": [
    {
     "data": {
      "text/html": [
       "<table>\n",
       "<thead><tr><th></th><th scope=col>2.5 %</th><th scope=col>97.5 %</th></tr></thead>\n",
       "<tbody>\n",
       "\t<tr><th scope=row>(Intercept)</th><td>29.915164 </td><td>34.1189970</td></tr>\n",
       "\t<tr><th scope=row>factor(x1)B</th><td>-1.135886 </td><td> 4.1795680</td></tr>\n",
       "\t<tr><th scope=row>factor(x1)C</th><td>-2.877095 </td><td> 3.9274823</td></tr>\n",
       "\t<tr><th scope=row>x2</th><td>-1.688644 </td><td> 0.8502126</td></tr>\n",
       "</tbody>\n",
       "</table>\n"
      ],
      "text/latex": [
       "\\begin{tabular}{r|ll}\n",
       "  & 2.5 \\% & 97.5 \\%\\\\\n",
       "\\hline\n",
       "\t(Intercept) & 29.915164  & 34.1189970\\\\\n",
       "\tfactor(x1)B & -1.135886  &  4.1795680\\\\\n",
       "\tfactor(x1)C & -2.877095  &  3.9274823\\\\\n",
       "\tx2 & -1.688644  &  0.8502126\\\\\n",
       "\\end{tabular}\n"
      ],
      "text/markdown": [
       "\n",
       "| <!--/--> | 2.5 % | 97.5 % | \n",
       "|---|---|---|---|\n",
       "| (Intercept) | 29.915164  | 34.1189970 | \n",
       "| factor(x1)B | -1.135886  |  4.1795680 | \n",
       "| factor(x1)C | -2.877095  |  3.9274823 | \n",
       "| x2 | -1.688644  |  0.8502126 | \n",
       "\n",
       "\n"
      ],
      "text/plain": [
       "            2.5 %     97.5 %    \n",
       "(Intercept) 29.915164 34.1189970\n",
       "factor(x1)B -1.135886  4.1795680\n",
       "factor(x1)C -2.877095  3.9274823\n",
       "x2          -1.688644  0.8502126"
      ]
     },
     "metadata": {},
     "output_type": "display_data"
    }
   ],
   "source": [
    "confint(lm.1a)"
   ]
  },
  {
   "cell_type": "markdown",
   "metadata": {},
   "source": [
    "So the 95% confidence interval for $\\beta_1$ is $[-1.135886,4.1795680]$.<br>\n",
    "Notice that this interval covers 0. Which means under confidence level $\\alpha=0.05$, we fail to reject $\\beta_1=0$ and conclude $\\beta_1=0$."
   ]
  },
  {
   "cell_type": "markdown",
   "metadata": {},
   "source": [
    "## (c)\n",
    "***(2pt)Test $H_0 : \\beta_1 =\\beta_2 =0$ against $H_a :$ Not $H_0$ using $\\alpha=0.05$.***"
   ]
  },
  {
   "cell_type": "code",
   "execution_count": 4,
   "metadata": {
    "scrolled": false
   },
   "outputs": [
    {
     "data": {
      "text/html": [
       "<table>\n",
       "<thead><tr><th scope=col>Res.Df</th><th scope=col>RSS</th><th scope=col>Df</th><th scope=col>Sum of Sq</th><th scope=col>F</th><th scope=col>Pr(&gt;F)</th></tr></thead>\n",
       "<tbody>\n",
       "\t<tr><td>20       </td><td>125.1361 </td><td>NA       </td><td>      NA </td><td>       NA</td><td>       NA</td></tr>\n",
       "\t<tr><td>18       </td><td>115.4223 </td><td> 2       </td><td>9.713798 </td><td>0.7574291</td><td>0.4832412</td></tr>\n",
       "</tbody>\n",
       "</table>\n"
      ],
      "text/latex": [
       "\\begin{tabular}{r|llllll}\n",
       " Res.Df & RSS & Df & Sum of Sq & F & Pr(>F)\\\\\n",
       "\\hline\n",
       "\t 20        & 125.1361  & NA        &       NA  &        NA &        NA\\\\\n",
       "\t 18        & 115.4223  &  2        & 9.713798  & 0.7574291 & 0.4832412\\\\\n",
       "\\end{tabular}\n"
      ],
      "text/markdown": [
       "\n",
       "Res.Df | RSS | Df | Sum of Sq | F | Pr(>F) | \n",
       "|---|---|\n",
       "| 20        | 125.1361  | NA        |       NA  |        NA |        NA | \n",
       "| 18        | 115.4223  |  2        | 9.713798  | 0.7574291 | 0.4832412 | \n",
       "\n",
       "\n"
      ],
      "text/plain": [
       "  Res.Df RSS      Df Sum of Sq F         Pr(>F)   \n",
       "1 20     125.1361 NA       NA         NA        NA\n",
       "2 18     115.4223  2 9.713798  0.7574291 0.4832412"
      ]
     },
     "metadata": {},
     "output_type": "display_data"
    }
   ],
   "source": [
    "Full.1c <- lm(y ~ factor(x1) + x2, data = mileage)\n",
    "Reduced.1c <- lm(y ~ x2, data = mileage)\n",
    "anova(Reduced.1c,Full.1c)"
   ]
  },
  {
   "cell_type": "markdown",
   "metadata": {},
   "source": [
    "Or we can compute by defination:\n",
    "$$\n",
    "F = \\frac{SSE_R-SSE_F}{df_R-df_F}\\div\\frac{SSE_F}{df_F}\n",
    "$$"
   ]
  },
  {
   "cell_type": "code",
   "execution_count": 5,
   "metadata": {},
   "outputs": [
    {
     "data": {
      "text/html": [
       "0.757429118121028"
      ],
      "text/latex": [
       "0.757429118121028"
      ],
      "text/markdown": [
       "0.757429118121028"
      ],
      "text/plain": [
       "[1] 0.7574291"
      ]
     },
     "metadata": {},
     "output_type": "display_data"
    }
   ],
   "source": [
    "Fullaov.1c <- anova(Full.1c)\n",
    "SSEF <- Fullaov.1c$'Sum Sq'[3]\n",
    "Reducedaov.1c <- anova(Reduced.1c)\n",
    "SSER <- Reducedaov.1c$'Sum Sq'[2]\n",
    "(SSER - SSEF)/2/(SSEF/Full.1c$df.residual)"
   ]
  },
  {
   "cell_type": "code",
   "execution_count": 6,
   "metadata": {
    "scrolled": true
   },
   "outputs": [
    {
     "data": {
      "text/html": [
       "3.55455714566179"
      ],
      "text/latex": [
       "3.55455714566179"
      ],
      "text/markdown": [
       "3.55455714566179"
      ],
      "text/plain": [
       "[1] 3.554557"
      ]
     },
     "metadata": {},
     "output_type": "display_data"
    },
    {
     "data": {
      "text/html": [
       "0.483241236142742"
      ],
      "text/latex": [
       "0.483241236142742"
      ],
      "text/markdown": [
       "0.483241236142742"
      ],
      "text/plain": [
       "[1] 0.4832412"
      ]
     },
     "metadata": {},
     "output_type": "display_data"
    }
   ],
   "source": [
    "qf(0.95,2,Full.1c$df.residual)\n",
    "1-pf(0.757429,2,Full.1c$df.residual)"
   ]
  },
  {
   "cell_type": "markdown",
   "metadata": {},
   "source": [
    "The $F^*$ statistic is 0.757429 which is less than $F(1-\\alpha,df_R-df_F,df_F)=3.55455$ with p-value 0.483241.<br>\n",
    "Therefore, we fail to reject $H_0$ and conclude $\\beta_1 =\\beta_2 =0$."
   ]
  },
  {
   "cell_type": "markdown",
   "metadata": {},
   "source": [
    "- - -"
   ]
  },
  {
   "cell_type": "markdown",
   "metadata": {},
   "source": [
    "# Problem 2\n",
    "***(5pt) In this problem we study the grain yield of rice at six seeding rates (kg/ha): The seeding rates are 25, 50, 75, 100, 125 and 150 kilograms per acre. Assume that four fields were chosen and each field was divided into 6 plots and each plot was planted at a seeding rate assigned to it at random. Besides the seeding rate, all other agricultural practices are the same. The data is***\n",
    "\n",
    "<center>Seeding rate (kg/ha)\n",
    "\n",
    "Filed | 25|50|75|100|125|150\n",
    "----|---|---|---|---|---|---\n",
    "__1__|5.1|5.3|5.3|5.2|4.8|5.3\n",
    "__2__|5.4|6.0|5.7|4.8|4.8|4.5\n",
    "__3__|5.3|4.7|5.5|5.0|4.4|4.9\n",
    "__4__|4.7|4.3|4.7|4.4|4.7|4.1\n",
    "\n",
    "***Fit an appropriate model to this data and test $H_0$ : the average yields are the same for the 6 seeding rates against the alternative $H_a$ : There are not the same. Use $\\alpha = 0.05$.***"
   ]
  },
  {
   "cell_type": "markdown",
   "metadata": {},
   "source": [
    "The model for the randomized block design is\n",
    "$$\n",
    "y_{ij}=\\mu+\\alpha_i+b_j+\\epsilon_{ij},~i=1,2,...k;~j=1,2,...b.\n",
    "$$\n",
    "where<br>\n",
    "$y_{ij}$ = the observation in the jth block receiving the ith treatment<br>\n",
    "$\\mu$ = the over all mean<br>\n",
    "$\\alpha_i$ = the effect of the ith treatment $b_j$ the effect of the jth block<br>\n",
    "$\\epsilon_{ij}$ = random error<br>"
   ]
  },
  {
   "cell_type": "code",
   "execution_count": 7,
   "metadata": {
    "scrolled": true
   },
   "outputs": [
    {
     "data": {
      "text/plain": [
       "            Df Sum Sq Mean Sq F value  Pr(>F)   \n",
       "seeding      5  1.267  0.2534   2.126 0.11837   \n",
       "blk2         3  1.965  0.6549   5.494 0.00949 **\n",
       "Residuals   15  1.788  0.1192                   \n",
       "---\n",
       "Signif. codes:  0 ‘***’ 0.001 ‘**’ 0.01 ‘*’ 0.05 ‘.’ 0.1 ‘ ’ 1"
      ]
     },
     "metadata": {},
     "output_type": "display_data"
    }
   ],
   "source": [
    "response2 <- c(5.1,5.3,5.3,5.2,4.8,5.3,\n",
    "           5.4,6.0,5.7,4.8,4.8,4.5,\n",
    "           5.3,4.7,5.5,5.0,4.4,4.9,\n",
    "           4.7,4.3,4.7,4.4,4.7,4.1)\n",
    "seed.level = c(25,50,75,100,125,150)   # treatment levels \n",
    "k = 6                    # number of treatment levels \n",
    "n = 4                    # number of control blocks\n",
    "seeding = gl(k, 1, n*k, factor(seed.level))   # matching treatment \n",
    "blk2 = gl(n, k, k*n)             # blocking factor\n",
    "aov.2 = aov(response2 ~ seeding + blk2)\n",
    "summary(aov.2)"
   ]
  },
  {
   "cell_type": "markdown",
   "metadata": {},
   "source": [
    "The p-value is 0.11837. Under $\\alpha = 0.05$ we fail to reject $H_0$ and conclude that the average yields are the same for the 6 seeding rates."
   ]
  },
  {
   "cell_type": "markdown",
   "metadata": {},
   "source": [
    "# Problem 3\n",
    "***(6pt) The cutting speeds of four types of tools are being compared in an experiment. Five cutting materials of varying degree of hardness are to be used as experimental blocks. The data giving the measurement of cutting time in seconds appear in the table below***\n",
    "\n",
    "<center>Block\n",
    "\n",
    "Treatment | 1|2|3|4|5\n",
    "----|---|---|---|---|---\n",
    "__1__|12|2|1|8|7\n",
    "__2__|20|14|17|12|17\n",
    "__3__|13|7|13|8|14\n",
    "__4__|11|5|10|3|6"
   ]
  },
  {
   "cell_type": "markdown",
   "metadata": {},
   "source": [
    "Create needed data:"
   ]
  },
  {
   "cell_type": "code",
   "execution_count": 8,
   "metadata": {},
   "outputs": [],
   "source": [
    "response <- c(12,2,1,8,7,\n",
    "               20,14,17,12,17,\n",
    "               13,7,13,8,14,\n",
    "               11,5,10,3,6)\n",
    "response3 = c(t(matrix(response,5)))\n",
    "tm3 = c(1,2,3,4)   # treatment levels \n",
    "k = 4                    # number of treatment levels \n",
    "n = 5                    # number of control blocks\n",
    "treatment3 = gl(k, 1, n*k, factor(tm3))   # matching treatment\n",
    "blk3 = gl(n, k, k*n)             # blocking factor"
   ]
  },
  {
   "cell_type": "markdown",
   "metadata": {},
   "source": [
    "***(a) (2pt) Fit an appropriate model to this data and test $H_0$ :The mean cutting speeds are the same for the four tools $H_a$ : There difference. Use $\\alpha = 0.05$.***"
   ]
  },
  {
   "cell_type": "markdown",
   "metadata": {},
   "source": [
    "The model for the randomized block design is\n",
    "$$\n",
    "y_{ij}=\\mu+\\alpha_i+b_j+\\epsilon_{ij},~i=1,2,...k;~j=1,2,...b.\n",
    "$$\n",
    "where<br>\n",
    "$y_{ij}$ = the observation in the jth block receiving the ith treatment<br>\n",
    "$\\mu$ = the over all mean<br>\n",
    "$\\alpha_i$ = the effect of the ith treatment $b_j$ the effect of the jth block<br>\n",
    "$\\epsilon_{ij}$ = random error<br>"
   ]
  },
  {
   "cell_type": "code",
   "execution_count": 9,
   "metadata": {},
   "outputs": [
    {
     "data": {
      "text/plain": [
       "            Df Sum Sq Mean Sq F value   Pr(>F)    \n",
       "treatment3   3  310.0  103.33  14.850 0.000242 ***\n",
       "blk3         4  124.5   31.12   4.473 0.019217 *  \n",
       "Residuals   12   83.5    6.96                     \n",
       "---\n",
       "Signif. codes:  0 ‘***’ 0.001 ‘**’ 0.01 ‘*’ 0.05 ‘.’ 0.1 ‘ ’ 1"
      ]
     },
     "metadata": {},
     "output_type": "display_data"
    }
   ],
   "source": [
    "aov.3 = aov(response3 ~ treatment3 + blk3)\n",
    "summary(aov.3)"
   ]
  },
  {
   "cell_type": "markdown",
   "metadata": {},
   "source": [
    "The p-value is 0.000242. Under $\\alpha = 0.05$ we can reject $H_0$ and conclude that the mean cutting speeds are different for the four tools."
   ]
  },
  {
   "cell_type": "markdown",
   "metadata": {},
   "source": [
    "***(b) (4pt) Use the Bonferroni method to determine where the differences are***"
   ]
  },
  {
   "cell_type": "code",
   "execution_count": 10,
   "metadata": {},
   "outputs": [
    {
     "data": {
      "text/plain": [
       "\n",
       "\tPairwise comparisons using t tests with pooled SD \n",
       "\n",
       "data:  response3 and treatment3 \n",
       "\n",
       "  1      2      3     \n",
       "2 0.0028 -      -     \n",
       "3 0.2608 0.2608 -     \n",
       "4 1.0000 0.0069 0.5912\n",
       "\n",
       "P value adjustment method: bonferroni "
      ]
     },
     "metadata": {},
     "output_type": "display_data"
    }
   ],
   "source": [
    "pairwise.t.test(response3,treatment3,pool.sd=TRUE,p.adjust.method=\"bonf\" )"
   ]
  },
  {
   "cell_type": "markdown",
   "metadata": {},
   "source": [
    "From the Bonferroni adjustment result above, we conclude that treatment 1 against treatment 2 and treatment 2 against treatment 4 are significant. That's to say, treatment 2 is quite different from treatment 1 and 4. While the rest levels of treatment are not different in our test."
   ]
  },
  {
   "cell_type": "markdown",
   "metadata": {},
   "source": [
    "# Problem 4\n",
    "*** (3pt) An experiment to investigate the effects of various dietary starch levels on milk production was conducted on four cows. The four diets, D1, D2, D3, and D4, (in order of increasing starch equivalent), were fed for three weeks to each cow and the total yield of milk in the third week of each period was recorded (i.e. third week to minimize carry-over effects due to the use of treatments administered in a previous period). That is, the trial lasted 12 weeks since each cow received each treatment, and each treatment required three weeks. The investigator felt strongly that time period effects might be important (i.e earlier periods in the experiment might influence milk yields differently compared to later periods). Hence, the investigator wanted to block on both cow and period. However, each cow cannot possibly receive more than one treatment during the same time period; that is, all possible cow-period blocking combinations could not logically be considered. It is decided to use a 4x4 latin square design and the data is***\n",
    "\n",
    "<center>**cow**\n",
    "\n",
    "Treatment | 1|2|3|4\n",
    "----|---|---|---|---\n",
    "__Period 1__|D4(192)|D1(195)|D3(292)|D2(249)\n",
    "__Period 2__|D1(190)|D4(203)|D2(218)|D3(210)\n",
    "__Period 3__|D3(214)|D2(139)|D1(245)|D4(163)\n",
    "__Period 4__|D2(221)|D3(152)|D4(204)|D1(134)\n",
    "\n",
    "***(each cell provides the treatment applied and response between the parentheses). Fit an appropriate model to this data and test $H_0$ : there is no difference between the four diets against $H_a$ there is a difference.***"
   ]
  },
  {
   "cell_type": "markdown",
   "metadata": {},
   "source": [
    "The model for the randomized block design is\n",
    "$$\n",
    "y_{ij}=\\mu+\\rho_i+\\gamma_j+\\tau_k+\\epsilon_{ijk},~i=1,2,...p;~j=1,2,...p;~k=1,2,...k.\n",
    "$$\n",
    "where<br>\n",
    "$\\rho_{i}$ = row effect<br>\n",
    "$\\gamma_j$ = column effect<br>\n",
    "$\\tau_k$ = treatment effect<br>\n",
    "$\\epsilon_{ijk}$ = the error term<br>"
   ]
  },
  {
   "cell_type": "markdown",
   "metadata": {},
   "source": [
    "First create needed data:"
   ]
  },
  {
   "cell_type": "code",
   "execution_count": 11,
   "metadata": {},
   "outputs": [
    {
     "data": {
      "text/html": [
       "<ol class=list-inline>\n",
       "\t<li>'P1'</li>\n",
       "\t<li>'P1'</li>\n",
       "\t<li>'P1'</li>\n",
       "\t<li>'P1'</li>\n",
       "\t<li>'P2'</li>\n",
       "\t<li>'P2'</li>\n",
       "\t<li>'P2'</li>\n",
       "\t<li>'P2'</li>\n",
       "\t<li>'P3'</li>\n",
       "\t<li>'P3'</li>\n",
       "\t<li>'P3'</li>\n",
       "\t<li>'P3'</li>\n",
       "\t<li>'P4'</li>\n",
       "\t<li>'P4'</li>\n",
       "\t<li>'P4'</li>\n",
       "\t<li>'P4'</li>\n",
       "</ol>\n"
      ],
      "text/latex": [
       "\\begin{enumerate*}\n",
       "\\item 'P1'\n",
       "\\item 'P1'\n",
       "\\item 'P1'\n",
       "\\item 'P1'\n",
       "\\item 'P2'\n",
       "\\item 'P2'\n",
       "\\item 'P2'\n",
       "\\item 'P2'\n",
       "\\item 'P3'\n",
       "\\item 'P3'\n",
       "\\item 'P3'\n",
       "\\item 'P3'\n",
       "\\item 'P4'\n",
       "\\item 'P4'\n",
       "\\item 'P4'\n",
       "\\item 'P4'\n",
       "\\end{enumerate*}\n"
      ],
      "text/markdown": [
       "1. 'P1'\n",
       "2. 'P1'\n",
       "3. 'P1'\n",
       "4. 'P1'\n",
       "5. 'P2'\n",
       "6. 'P2'\n",
       "7. 'P2'\n",
       "8. 'P2'\n",
       "9. 'P3'\n",
       "10. 'P3'\n",
       "11. 'P3'\n",
       "12. 'P3'\n",
       "13. 'P4'\n",
       "14. 'P4'\n",
       "15. 'P4'\n",
       "16. 'P4'\n",
       "\n",
       "\n"
      ],
      "text/plain": [
       " [1] \"P1\" \"P1\" \"P1\" \"P1\" \"P2\" \"P2\" \"P2\" \"P2\" \"P3\" \"P3\" \"P3\" \"P3\" \"P4\" \"P4\" \"P4\"\n",
       "[16] \"P4\""
      ]
     },
     "metadata": {},
     "output_type": "display_data"
    }
   ],
   "source": [
    "row<-c(rep(\"P1\",4), rep(\"P2\",4), rep(\"P3\",4), rep(\"P4\",4))\n",
    "row"
   ]
  },
  {
   "cell_type": "code",
   "execution_count": 12,
   "metadata": {},
   "outputs": [
    {
     "data": {
      "text/html": [
       "<ol class=list-inline>\n",
       "\t<li>'C1'</li>\n",
       "\t<li>'C2'</li>\n",
       "\t<li>'C3'</li>\n",
       "\t<li>'C4'</li>\n",
       "\t<li>'C1'</li>\n",
       "\t<li>'C2'</li>\n",
       "\t<li>'C3'</li>\n",
       "\t<li>'C4'</li>\n",
       "\t<li>'C1'</li>\n",
       "\t<li>'C2'</li>\n",
       "\t<li>'C3'</li>\n",
       "\t<li>'C4'</li>\n",
       "\t<li>'C1'</li>\n",
       "\t<li>'C2'</li>\n",
       "\t<li>'C3'</li>\n",
       "\t<li>'C4'</li>\n",
       "</ol>\n"
      ],
      "text/latex": [
       "\\begin{enumerate*}\n",
       "\\item 'C1'\n",
       "\\item 'C2'\n",
       "\\item 'C3'\n",
       "\\item 'C4'\n",
       "\\item 'C1'\n",
       "\\item 'C2'\n",
       "\\item 'C3'\n",
       "\\item 'C4'\n",
       "\\item 'C1'\n",
       "\\item 'C2'\n",
       "\\item 'C3'\n",
       "\\item 'C4'\n",
       "\\item 'C1'\n",
       "\\item 'C2'\n",
       "\\item 'C3'\n",
       "\\item 'C4'\n",
       "\\end{enumerate*}\n"
      ],
      "text/markdown": [
       "1. 'C1'\n",
       "2. 'C2'\n",
       "3. 'C3'\n",
       "4. 'C4'\n",
       "5. 'C1'\n",
       "6. 'C2'\n",
       "7. 'C3'\n",
       "8. 'C4'\n",
       "9. 'C1'\n",
       "10. 'C2'\n",
       "11. 'C3'\n",
       "12. 'C4'\n",
       "13. 'C1'\n",
       "14. 'C2'\n",
       "15. 'C3'\n",
       "16. 'C4'\n",
       "\n",
       "\n"
      ],
      "text/plain": [
       " [1] \"C1\" \"C2\" \"C3\" \"C4\" \"C1\" \"C2\" \"C3\" \"C4\" \"C1\" \"C2\" \"C3\" \"C4\" \"C1\" \"C2\" \"C3\"\n",
       "[16] \"C4\""
      ]
     },
     "metadata": {},
     "output_type": "display_data"
    }
   ],
   "source": [
    "col<-rep(c(\"C1\",\"C2\",\"C3\",\"C4\"),4)\n",
    "col"
   ]
  },
  {
   "cell_type": "code",
   "execution_count": 13,
   "metadata": {},
   "outputs": [],
   "source": [
    "yield<-c(192,195,292,249,\n",
    "         190,203,218,210,\n",
    "         214,139,245,163,\n",
    "         221,152,204,134)\n",
    "trt <- c('D4','D1','D3','D2',\n",
    "         'D1','D4','D2','D3',\n",
    "         'D3','D2','D1','D4',\n",
    "         'D2','D3','D4','D1')"
   ]
  },
  {
   "cell_type": "code",
   "execution_count": 14,
   "metadata": {},
   "outputs": [
    {
     "data": {
      "text/html": [
       "<table>\n",
       "<thead><tr><th></th><th scope=col>Df</th><th scope=col>Sum Sq</th><th scope=col>Mean Sq</th><th scope=col>F value</th><th scope=col>Pr(&gt;F)</th></tr></thead>\n",
       "<tbody>\n",
       "\t<tr><th scope=row>trt</th><td>3        </td><td>1995.687 </td><td> 665.2292</td><td>0.5376766</td><td>0.6735933</td></tr>\n",
       "\t<tr><th scope=row>row</th><td>3        </td><td>6539.187 </td><td>2179.7292</td><td>1.7617829</td><td>0.2540218</td></tr>\n",
       "\t<tr><th scope=row>col</th><td>3        </td><td>9929.187 </td><td>3309.7292</td><td>2.6751141</td><td>0.1408863</td></tr>\n",
       "\t<tr><th scope=row>Residuals</th><td>6        </td><td>7423.375 </td><td>1237.2292</td><td>       NA</td><td>       NA</td></tr>\n",
       "</tbody>\n",
       "</table>\n"
      ],
      "text/latex": [
       "\\begin{tabular}{r|lllll}\n",
       "  & Df & Sum Sq & Mean Sq & F value & Pr(>F)\\\\\n",
       "\\hline\n",
       "\ttrt & 3         & 1995.687  &  665.2292 & 0.5376766 & 0.6735933\\\\\n",
       "\trow & 3         & 6539.187  & 2179.7292 & 1.7617829 & 0.2540218\\\\\n",
       "\tcol & 3         & 9929.187  & 3309.7292 & 2.6751141 & 0.1408863\\\\\n",
       "\tResiduals & 6         & 7423.375  & 1237.2292 &        NA &        NA\\\\\n",
       "\\end{tabular}\n"
      ],
      "text/markdown": [
       "\n",
       "| <!--/--> | Df | Sum Sq | Mean Sq | F value | Pr(>F) | \n",
       "|---|---|---|---|\n",
       "| trt | 3         | 1995.687  |  665.2292 | 0.5376766 | 0.6735933 | \n",
       "| row | 3         | 6539.187  | 2179.7292 | 1.7617829 | 0.2540218 | \n",
       "| col | 3         | 9929.187  | 3309.7292 | 2.6751141 | 0.1408863 | \n",
       "| Residuals | 6         | 7423.375  | 1237.2292 |        NA |        NA | \n",
       "\n",
       "\n"
      ],
      "text/plain": [
       "          Df Sum Sq   Mean Sq   F value   Pr(>F)   \n",
       "trt       3  1995.687  665.2292 0.5376766 0.6735933\n",
       "row       3  6539.187 2179.7292 1.7617829 0.2540218\n",
       "col       3  9929.187 3309.7292 2.6751141 0.1408863\n",
       "Residuals 6  7423.375 1237.2292        NA        NA"
      ]
     },
     "metadata": {},
     "output_type": "display_data"
    }
   ],
   "source": [
    "fit4 <- lm(yield~trt+row+col)\n",
    "anova(fit4)"
   ]
  },
  {
   "cell_type": "markdown",
   "metadata": {},
   "source": [
    "From the ANOVA table above, we get the p-value is 0.6735933. Under $\\alpha=0.05$, we fail to reject $H_0$ and conclude there is no difference between the four diets."
   ]
  }
 ],
 "metadata": {
  "kernelspec": {
   "display_name": "R 3.4",
   "language": "R",
   "name": "ir34"
  },
  "language_info": {
   "codemirror_mode": "r",
   "file_extension": ".r",
   "mimetype": "text/x-r-source",
   "name": "R",
   "pygments_lexer": "r",
   "version": "3.4.3"
  }
 },
 "nbformat": 4,
 "nbformat_minor": 2
}
