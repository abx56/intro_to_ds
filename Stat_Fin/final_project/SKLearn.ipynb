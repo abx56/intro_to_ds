{
 "cells": [
  {
   "cell_type": "code",
   "execution_count": 1,
   "metadata": {},
   "outputs": [],
   "source": [
    "from pandas_datareader import data, wb"
   ]
  },
  {
   "cell_type": "markdown",
   "metadata": {},
   "source": [
    "## read files"
   ]
  },
  {
   "cell_type": "code",
   "execution_count": null,
   "metadata": {},
   "outputs": [],
   "source": [
    "def read_stocks(stock_file):\n",
    "    print 'read_stocks...'\n",
    "    ls_stock_name = []\n",
    "    f = open(stock_file, 'r')\n",
    "    for line in f.readlines():\n",
    "        if line.strip():\n",
    "            ls_stock_name.append(line.strip().split(' ')[0])\n",
    "    f.close()\n",
    "\n",
    "    return ls_stock_name"
   ]
  },
  {
   "cell_type": "markdown",
   "metadata": {},
   "source": [
    "## get data from yahoo"
   ]
  },
  {
   "cell_type": "code",
   "execution_count": 9,
   "metadata": {},
   "outputs": [],
   "source": [
    "def get_yahoo_data(stock):\n",
    "    start = time.time()\n",
    "    res = True\n",
    "    _now = datetime.datetime.now()\n",
    "    try:\n",
    "        if stock[0] == '$':\n",
    "            stock = '^' + stock[1:]\n",
    "        print 'get %s ...' % stock\n",
    "        f = open(data_path + '/' + stock + \".csv\", 'w')\n",
    "        params = urllib.urlencode(\n",
    "            {'a': 1, 'b': 1, 'c': 2004, 'd': _now.day, 'e': _now.month, 'f': _now.year, 's': stock})\n",
    "        url = \"http://ichart.finance.yahoo.com/table.csv?%s\" % params\n",
    "        time.sleep(0.5)\n",
    "        url_get = urllib2.urlopen(url)\n",
    "\n",
    "        data = url_get.readline()\n",
    "        while(len(data) > 0):\n",
    "            # print data\n",
    "            f.write(data)\n",
    "            data = url_get.readline()\n",
    "\n",
    "        f.close()\n",
    "        print \"Fetch [%s] done, cost : %s.\" % (stock,  (time.time() - start))\n",
    "\n",
    "    except urllib2.HTTPError:\n",
    "        res = False\n",
    "        miss_stock.append(stock)\n",
    "        print \"Unable to fetch data for stock: {0} at {1}\".format(stock, url)\n",
    "    except urllib2.URLError:\n",
    "        res = False\n",
    "        miss_stock.append(stock)\n",
    "        print \"URL Error for stock: {0} at {1}\".format(stock, url)\n",
    "    except SocketError as e:\n",
    "        res = False\n",
    "        miss_stock.append(stock)\n",
    "        print \"Socket Error for stock: {0} at {1}\".format(stock, url)\n",
    "    except :\n",
    "        res = False\n",
    "        miss_stock.append(stock)\n",
    "        print \"Unknown Error for stock: {0} at {1}\".format(stock, url)\n",
    "\n",
    "    return res"
   ]
  },
  {
   "cell_type": "markdown",
   "metadata": {},
   "source": [
    "## multiple "
   ]
  },
  {
   "cell_type": "code",
   "execution_count": 10,
   "metadata": {},
   "outputs": [],
   "source": [
    "def get_yahoo_datas(ls_stock_name):\n",
    "    print 'get_yahoo_data...'\n",
    "    if len(ls_stock_name) <= 0:\n",
    "        return\n",
    "    print data_path\n",
    "    print ls_stock_name\n",
    "    if not (os.access(data_path, os.F_OK)):\n",
    "        os.makedirs(data_path)\n",
    "\n",
    "#     pool = mythreadpool.ThreadPool(8)\n",
    "#     for stock in ls_stock_name:\n",
    "#         pool.add_job(get_yahoo_data, stock)\n",
    "#     pool.wait()\n",
    "\n",
    "    pool = threadpool.ThreadPool(10)\n",
    "    reqs = threadpool.makeRequests(get_yahoo_data, ls_stock_name)\n",
    "    [pool.putRequest(req) for req in reqs]\n",
    "    pool.wait()\n",
    "\n",
    "    print \"All done. Got {0} stocks. Could not get {1}\".format(len(ls_stock_name) - len(miss_stock), len(miss_stock))\n",
    "    return"
   ]
  },
  {
   "cell_type": "code",
   "execution_count": 7,
   "metadata": {},
   "outputs": [],
   "source": [
    "dict_stock = {}\n",
    "\n",
    "def ReadStocks(stock_file):\n",
    "    print 'read_stocks...'\n",
    "\n",
    "    f = open(stock_file, 'r')\n",
    "    for line in f.readlines():\n",
    "        # str_line = str(line)\n",
    "        item = line.strip().split(' ')\n",
    "        dict_stock[item[0]] = item[1]\n",
    "\n",
    "    f.close()"
   ]
  },
  {
   "cell_type": "code",
   "execution_count": 8,
   "metadata": {},
   "outputs": [
    {
     "ename": "NameError",
     "evalue": "name 'DataAccess' is not defined",
     "output_type": "error",
     "traceback": [
      "\u001b[0;31m---------------------------------------------------------------------------\u001b[0m",
      "\u001b[0;31mNameError\u001b[0m                                 Traceback (most recent call last)",
      "\u001b[0;32m<ipython-input-8-23fd226b2f14>\u001b[0m in \u001b[0;36m<module>\u001b[0;34m()\u001b[0m\n\u001b[0;32m----> 1\u001b[0;31m \u001b[0mdb\u001b[0m \u001b[0;34m=\u001b[0m \u001b[0mDataAccess\u001b[0m\u001b[0;34m.\u001b[0m\u001b[0mDataAccess\u001b[0m\u001b[0;34m(\u001b[0m\u001b[0;34m'Yahoo'\u001b[0m\u001b[0;34m)\u001b[0m\u001b[0;34m\u001b[0m\u001b[0m\n\u001b[0m\u001b[1;32m      2\u001b[0m \u001b[0mls_all_syms\u001b[0m \u001b[0;34m=\u001b[0m \u001b[0mdb\u001b[0m\u001b[0;34m.\u001b[0m\u001b[0mget_all_symbols\u001b[0m\u001b[0;34m(\u001b[0m\u001b[0;34m)\u001b[0m\u001b[0;34m\u001b[0m\u001b[0m\n\u001b[1;32m      3\u001b[0m \u001b[0mls_bad_syms\u001b[0m \u001b[0;34m=\u001b[0m \u001b[0mlist\u001b[0m\u001b[0;34m(\u001b[0m\u001b[0mset\u001b[0m\u001b[0;34m(\u001b[0m\u001b[0mls_stock_code\u001b[0m\u001b[0;34m)\u001b[0m \u001b[0;34m-\u001b[0m \u001b[0mset\u001b[0m\u001b[0;34m(\u001b[0m\u001b[0mls_all_syms\u001b[0m\u001b[0;34m)\u001b[0m\u001b[0;34m)\u001b[0m\u001b[0;34m\u001b[0m\u001b[0m\n\u001b[1;32m      4\u001b[0m \u001b[0;32mprint\u001b[0m \u001b[0;34m'Bad Stock Code : '\u001b[0m\u001b[0;34m,\u001b[0m \u001b[0mls_bad_syms\u001b[0m\u001b[0;34m\u001b[0m\u001b[0m\n\u001b[1;32m      5\u001b[0m \u001b[0;34m\u001b[0m\u001b[0m\n",
      "\u001b[0;31mNameError\u001b[0m: name 'DataAccess' is not defined"
     ]
    }
   ],
   "source": [
    "db = DataAccess.DataAccess('Yahoo')\n",
    "ls_all_syms = db.get_all_symbols()\n",
    "ls_bad_syms = list(set(ls_stock_code) - set(ls_all_syms))\n",
    "print 'Bad Stock Code : ', ls_bad_syms\n",
    "\n",
    "for sym in ls_bad_syms:\n",
    "    ls_stock_code.remove(sym)"
   ]
  },
  {
   "cell_type": "code",
   "execution_count": null,
   "metadata": {},
   "outputs": [],
   "source": [
    "# Filling the data for NAN\n",
    "for s_key in ls_keys:\n",
    "    dict_data[s_key] = dict_data[s_key].fillna(method='ffill')\n",
    "    dict_data[s_key] = dict_data[s_key].fillna(method='bfill')\n",
    "    dict_data[s_key] = dict_data[s_key].fillna(1.0)"
   ]
  },
  {
   "cell_type": "markdown",
   "metadata": {},
   "source": [
    "# sklearn"
   ]
  },
  {
   "cell_type": "code",
   "execution_count": 18,
   "metadata": {},
   "outputs": [],
   "source": [
    "from sklearn import covariance, cluster\n",
    "from pandas_datareader import data, wb\n",
    "import csv\n",
    "import pandas as pd\n",
    "import numpy as np\n",
    "import matplotlib.pyplot as plt"
   ]
  },
  {
   "cell_type": "code",
   "execution_count": 2,
   "metadata": {
    "scrolled": true
   },
   "outputs": [
    {
     "data": {
      "text/html": [
       "<div>\n",
       "<style scoped>\n",
       "    .dataframe tbody tr th:only-of-type {\n",
       "        vertical-align: middle;\n",
       "    }\n",
       "\n",
       "    .dataframe tbody tr th {\n",
       "        vertical-align: top;\n",
       "    }\n",
       "\n",
       "    .dataframe thead th {\n",
       "        text-align: right;\n",
       "    }\n",
       "</style>\n",
       "<table border=\"1\" class=\"dataframe\">\n",
       "  <thead>\n",
       "    <tr style=\"text-align: right;\">\n",
       "      <th></th>\n",
       "      <th>ALXN</th>\n",
       "      <th>AMGN</th>\n",
       "      <th>ANIK</th>\n",
       "      <th>ARWR</th>\n",
       "      <th>BIIB</th>\n",
       "      <th>CASC</th>\n",
       "      <th>CBM</th>\n",
       "      <th>CELG</th>\n",
       "      <th>GILD</th>\n",
       "      <th>IMGN</th>\n",
       "      <th>INCY</th>\n",
       "      <th>NKTR</th>\n",
       "      <th>PGNX</th>\n",
       "      <th>REGN</th>\n",
       "      <th>RGEN</th>\n",
       "      <th>SPPI</th>\n",
       "      <th>SRPT</th>\n",
       "      <th>TECH</th>\n",
       "      <th>VRTX</th>\n",
       "    </tr>\n",
       "  </thead>\n",
       "  <tbody>\n",
       "    <tr>\n",
       "      <th>1998-01-02</th>\n",
       "      <td>2.96875</td>\n",
       "      <td>11.629442</td>\n",
       "      <td>8.6250</td>\n",
       "      <td>32.5</td>\n",
       "      <td>5.645833</td>\n",
       "      <td>81.000000</td>\n",
       "      <td>10.499326</td>\n",
       "      <td>0.359375</td>\n",
       "      <td>1.110293</td>\n",
       "      <td>0.9375</td>\n",
       "      <td>21.3750</td>\n",
       "      <td>12.84375</td>\n",
       "      <td>13.6875</td>\n",
       "      <td>8.875</td>\n",
       "      <td>1.0312</td>\n",
       "      <td>252.830292</td>\n",
       "      <td>40.875</td>\n",
       "      <td>8.041175</td>\n",
       "      <td>16.6875</td>\n",
       "    </tr>\n",
       "    <tr>\n",
       "      <th>1998-01-05</th>\n",
       "      <td>2.96875</td>\n",
       "      <td>11.589016</td>\n",
       "      <td>8.4375</td>\n",
       "      <td>32.5</td>\n",
       "      <td>5.666667</td>\n",
       "      <td>77.623199</td>\n",
       "      <td>10.608409</td>\n",
       "      <td>0.375000</td>\n",
       "      <td>1.135775</td>\n",
       "      <td>1.0937</td>\n",
       "      <td>21.1250</td>\n",
       "      <td>13.93750</td>\n",
       "      <td>13.2500</td>\n",
       "      <td>9.000</td>\n",
       "      <td>1.0937</td>\n",
       "      <td>246.663712</td>\n",
       "      <td>42.750</td>\n",
       "      <td>7.823849</td>\n",
       "      <td>16.5625</td>\n",
       "    </tr>\n",
       "    <tr>\n",
       "      <th>1998-01-06</th>\n",
       "      <td>3.00000</td>\n",
       "      <td>11.454260</td>\n",
       "      <td>8.0000</td>\n",
       "      <td>32.5</td>\n",
       "      <td>5.833333</td>\n",
       "      <td>79.873199</td>\n",
       "      <td>10.472054</td>\n",
       "      <td>0.377604</td>\n",
       "      <td>1.139416</td>\n",
       "      <td>1.3750</td>\n",
       "      <td>20.5000</td>\n",
       "      <td>15.68750</td>\n",
       "      <td>13.2500</td>\n",
       "      <td>8.500</td>\n",
       "      <td>1.0312</td>\n",
       "      <td>234.330521</td>\n",
       "      <td>42.750</td>\n",
       "      <td>7.769514</td>\n",
       "      <td>16.4375</td>\n",
       "    </tr>\n",
       "    <tr>\n",
       "      <th>1998-01-07</th>\n",
       "      <td>3.00000</td>\n",
       "      <td>11.467735</td>\n",
       "      <td>8.1875</td>\n",
       "      <td>32.5</td>\n",
       "      <td>5.708333</td>\n",
       "      <td>75.373199</td>\n",
       "      <td>10.335700</td>\n",
       "      <td>0.401042</td>\n",
       "      <td>1.132135</td>\n",
       "      <td>1.8750</td>\n",
       "      <td>20.4375</td>\n",
       "      <td>15.50000</td>\n",
       "      <td>13.7500</td>\n",
       "      <td>8.250</td>\n",
       "      <td>1.0625</td>\n",
       "      <td>234.330521</td>\n",
       "      <td>42.750</td>\n",
       "      <td>7.769514</td>\n",
       "      <td>16.3125</td>\n",
       "    </tr>\n",
       "    <tr>\n",
       "      <th>1998-01-08</th>\n",
       "      <td>2.93750</td>\n",
       "      <td>11.508163</td>\n",
       "      <td>7.9375</td>\n",
       "      <td>32.5</td>\n",
       "      <td>5.875000</td>\n",
       "      <td>75.373199</td>\n",
       "      <td>10.199341</td>\n",
       "      <td>0.380208</td>\n",
       "      <td>1.150337</td>\n",
       "      <td>1.6250</td>\n",
       "      <td>20.1250</td>\n",
       "      <td>16.00000</td>\n",
       "      <td>13.6875</td>\n",
       "      <td>8.250</td>\n",
       "      <td>1.0312</td>\n",
       "      <td>234.330521</td>\n",
       "      <td>39.375</td>\n",
       "      <td>8.244902</td>\n",
       "      <td>16.5625</td>\n",
       "    </tr>\n",
       "  </tbody>\n",
       "</table>\n",
       "</div>"
      ],
      "text/plain": [
       "               ALXN       AMGN    ANIK  ARWR      BIIB       CASC        CBM  \\\n",
       "1998-01-02  2.96875  11.629442  8.6250  32.5  5.645833  81.000000  10.499326   \n",
       "1998-01-05  2.96875  11.589016  8.4375  32.5  5.666667  77.623199  10.608409   \n",
       "1998-01-06  3.00000  11.454260  8.0000  32.5  5.833333  79.873199  10.472054   \n",
       "1998-01-07  3.00000  11.467735  8.1875  32.5  5.708333  75.373199  10.335700   \n",
       "1998-01-08  2.93750  11.508163  7.9375  32.5  5.875000  75.373199  10.199341   \n",
       "\n",
       "                CELG      GILD    IMGN     INCY      NKTR     PGNX   REGN  \\\n",
       "1998-01-02  0.359375  1.110293  0.9375  21.3750  12.84375  13.6875  8.875   \n",
       "1998-01-05  0.375000  1.135775  1.0937  21.1250  13.93750  13.2500  9.000   \n",
       "1998-01-06  0.377604  1.139416  1.3750  20.5000  15.68750  13.2500  8.500   \n",
       "1998-01-07  0.401042  1.132135  1.8750  20.4375  15.50000  13.7500  8.250   \n",
       "1998-01-08  0.380208  1.150337  1.6250  20.1250  16.00000  13.6875  8.250   \n",
       "\n",
       "              RGEN        SPPI    SRPT      TECH     VRTX  \n",
       "1998-01-02  1.0312  252.830292  40.875  8.041175  16.6875  \n",
       "1998-01-05  1.0937  246.663712  42.750  7.823849  16.5625  \n",
       "1998-01-06  1.0312  234.330521  42.750  7.769514  16.4375  \n",
       "1998-01-07  1.0625  234.330521  42.750  7.769514  16.3125  \n",
       "1998-01-08  1.0312  234.330521  39.375  8.244902  16.5625  "
      ]
     },
     "execution_count": 2,
     "metadata": {},
     "output_type": "execute_result"
    }
   ],
   "source": [
    "# read csv as dict\n",
    "csvFile = open(\"MyData.csv\", \"r\")\n",
    "reader = csv.reader(csvFile)\n",
    "\n",
    "# create empty dict\n",
    "count = 0\n",
    "index = []\n",
    "data = []\n",
    "result = {}\n",
    "for item in reader:\n",
    "    # ignore first row\n",
    "    if reader.line_num == 1:\n",
    "        del item[0]\n",
    "        Col = item\n",
    "        continue\n",
    "    index.append(item[0])\n",
    "    del item[0]\n",
    "    data.append(item)\n",
    "    count +=1 \n",
    "        \n",
    "stock = pd.DataFrame(data,\n",
    "              index=index,\n",
    "              columns=Col)\n",
    "stock = stock.astype(float)\n",
    "csvFile.close()\n",
    "stock.head()"
   ]
  },
  {
   "cell_type": "code",
   "execution_count": 3,
   "metadata": {},
   "outputs": [
    {
     "name": "stdout",
     "output_type": "stream",
     "text": [
      "<type 'numpy.float64'>\n",
      "2.96875\n",
      "ALXN     59.160008\n",
      "AMGN     41.701678\n",
      "ANIK     15.191046\n",
      "ARWR     25.759195\n",
      "BIIB    110.420005\n",
      "CASC     84.075302\n",
      "CBM      13.959757\n",
      "CELG     39.995632\n",
      "GILD     30.622772\n",
      "IMGN      5.443050\n",
      "INCY     34.973029\n",
      "NKTR      9.192635\n",
      "PGNX     10.314399\n",
      "REGN    161.945397\n",
      "RGEN     10.718563\n",
      "SPPI     94.715798\n",
      "SRPT     17.268434\n",
      "TECH     28.697944\n",
      "VRTX     36.191921\n",
      "dtype: float64\n"
     ]
    }
   ],
   "source": [
    "print type(stock['ALXN'][1])\n",
    "print (stock['ALXN'][1])\n",
    "# print open.iloc[:3, 1:3]\n",
    "print stock.std(0)"
   ]
  },
  {
   "cell_type": "code",
   "execution_count": 4,
   "metadata": {},
   "outputs": [],
   "source": [
    "x = stock/stock.std(0)\n",
    "edge_model = covariance.GraphLassoCV()\n",
    "edge_model.fit(x)\n",
    "centers, labels = cluster.affinity_propagation(edge_model.covariance_)"
   ]
  },
  {
   "cell_type": "code",
   "execution_count": 5,
   "metadata": {},
   "outputs": [
    {
     "name": "stdout",
     "output_type": "stream",
     "text": [
      "<type 'numpy.ndarray'>\n",
      "['CASC', 'IMGN', 'REGN']\n"
     ]
    }
   ],
   "source": [
    "print type(centers)\n",
    "col_center = []\n",
    "for i in centers:\n",
    "    col_center.append(Col[i])\n",
    "print col_center"
   ]
  },
  {
   "cell_type": "code",
   "execution_count": 17,
   "metadata": {
    "scrolled": false
   },
   "outputs": [
    {
     "name": "stdout",
     "output_type": "stream",
     "text": [
      "Centers : CASC, IMGN, REGN\n",
      "Cluster 1: ARWR, CASC, NKTR, PGNX, SPPI, SRPT\n",
      "Cluster 2: IMGN\n",
      "Cluster 3: ALXN, AMGN, ANIK, BIIB, CBM, CELG, GILD, INCY, REGN, RGEN, TECH, VRTX\n"
     ]
    }
   ],
   "source": [
    "n_labels = labels.max()\n",
    "print 'Centers :', ', '.join( col_center )\n",
    "\n",
    "for i in range(n_labels + 1):\n",
    "    print('Cluster %i: %s' %\n",
    "          ((i + 1), ', '.join([Col[key]\n",
    "                               for key in range(len(labels)) \n",
    "                               if labels[key]==i])))"
   ]
  },
  {
   "cell_type": "markdown",
   "metadata": {},
   "source": [
    "# Draw plot"
   ]
  },
  {
   "cell_type": "code",
   "execution_count": 42,
   "metadata": {},
   "outputs": [
    {
     "name": "stdout",
     "output_type": "stream",
     "text": [
      "19\n",
      "[-2894.526690111734, -3458.389011403475, -2410.472177808319, -2721.6393222976076, -3955.727218879776, -2027.1240759736081]\n"
     ]
    },
    {
     "data": {
      "image/png": "[encoded data removed]",
      "text/plain": [
       "<Figure size 432x288 with 1 Axes>"
      ]
     },
     "metadata": {},
     "output_type": "display_data"
    }
   ],
   "source": [
    "from sklearn.decomposition import PCA\n",
    "pca = PCA(n_components=2)             #输出两维\n",
    "newData = pca.fit_transform(stock.transpose())   #载入N维\n",
    "print len(newData[:,0])\n",
    "x1 = [newData[key,0]\n",
    "      for key in range(len(labels)) if labels[key]==0]\n",
    "y1 = [newData[key,1]\n",
    "      for key in range(len(labels)) if labels[key]==0]\n",
    "x2 = [newData[key,0]\n",
    "      for key in range(len(labels)) if labels[key]==1]\n",
    "y2 = [newData[key,1]\n",
    "      for key in range(len(labels)) if labels[key]==1]\n",
    "x3 = [newData[key,0]\n",
    "      for key in range(len(labels)) if labels[key]==2]\n",
    "y3 = [newData[key,1]\n",
    "      for key in range(len(labels)) if labels[key]==2]\n",
    "print x1\n",
    "plt.plot(x1, y1, 'or') \n",
    "plt.plot(x2, y2, 'og')\n",
    "plt.plot(x3, y3, 'ob')\n",
    "plt.show()"
   ]
  },
  {
   "cell_type": "code",
   "execution_count": null,
   "metadata": {},
   "outputs": [],
   "source": []
  }
 ],
 "metadata": {
  "kernelspec": {
   "display_name": "Python2.7.14",
   "language": "python",
   "name": "python2.7.14"
  },
  "language_info": {
   "codemirror_mode": {
    "name": "ipython",
    "version": 2
   },
   "file_extension": ".py",
   "mimetype": "text/x-python",
   "name": "python",
   "nbconvert_exporter": "python",
   "pygments_lexer": "ipython2",
   "version": "2.7.14"
  }
 },
 "nbformat": 4,
 "nbformat_minor": 2
}
