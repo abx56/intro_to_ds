{
 "cells": [
  {
   "cell_type": "code",
   "execution_count": 2,
   "metadata": {},
   "outputs": [],
   "source": [
    "from __future__ import print_function\n",
    "\n",
    "# Author: Gael Varoquaux gael.varoquaux@normalesup.org\n",
    "# License: BSD 3 clause\n",
    "\n",
    "import sys\n",
    "from datetime import datetime\n",
    "\n",
    "import numpy as np\n",
    "import matplotlib.pyplot as plt\n",
    "from matplotlib.collections import LineCollection\n",
    "from six.moves.urllib.request import urlopen\n",
    "from six.moves.urllib.parse import urlencode\n",
    "from sklearn import cluster, covariance, manifold"
   ]
  },
  {
   "cell_type": "markdown",
   "metadata": {},
   "source": [
    "## read files"
   ]
  },
  {
   "cell_type": "code",
   "execution_count": 13,
   "metadata": {},
   "outputs": [],
   "source": [
    "from sklearn import covariance, cluster\n",
    "import csv\n",
    "import pandas as pd\n",
    "import numpy as np\n",
    "import matplotlib.pyplot as plt"
   ]
  },
  {
   "cell_type": "code",
   "execution_count": 38,
   "metadata": {
    "scrolled": true
   },
   "outputs": [
    {
     "data": {
      "text/html": [
       "<div>\n",
       "<style scoped>\n",
       "    .dataframe tbody tr th:only-of-type {\n",
       "        vertical-align: middle;\n",
       "    }\n",
       "\n",
       "    .dataframe tbody tr th {\n",
       "        vertical-align: top;\n",
       "    }\n",
       "\n",
       "    .dataframe thead th {\n",
       "        text-align: right;\n",
       "    }\n",
       "</style>\n",
       "<table border=\"1\" class=\"dataframe\">\n",
       "  <thead>\n",
       "    <tr style=\"text-align: right;\">\n",
       "      <th></th>\n",
       "      <th>AAN</th>\n",
       "      <th>ABAX</th>\n",
       "      <th>ABMD</th>\n",
       "      <th>ABT</th>\n",
       "      <th>ABX</th>\n",
       "      <th>ACET</th>\n",
       "      <th>ADBE</th>\n",
       "      <th>ADM</th>\n",
       "      <th>AEGN</th>\n",
       "      <th>AEM</th>\n",
       "      <th>...</th>\n",
       "      <th>WWD</th>\n",
       "      <th>WWW</th>\n",
       "      <th>X</th>\n",
       "      <th>XEL</th>\n",
       "      <th>XOM</th>\n",
       "      <th>XRAY</th>\n",
       "      <th>YPF</th>\n",
       "      <th>YRCW</th>\n",
       "      <th>YUM</th>\n",
       "      <th>ZEUS</th>\n",
       "    </tr>\n",
       "  </thead>\n",
       "  <tbody>\n",
       "    <tr>\n",
       "      <th>1998-01-05</th>\n",
       "      <td>-0.650661</td>\n",
       "      <td>1.932591</td>\n",
       "      <td>0.063788</td>\n",
       "      <td>0.321126</td>\n",
       "      <td>-1.938001</td>\n",
       "      <td>0.981981</td>\n",
       "      <td>0.446978</td>\n",
       "      <td>0.122112</td>\n",
       "      <td>-0.552457</td>\n",
       "      <td>-0.729137</td>\n",
       "      <td>...</td>\n",
       "      <td>-0.043539</td>\n",
       "      <td>0.609955</td>\n",
       "      <td>-0.138375</td>\n",
       "      <td>-0.542348</td>\n",
       "      <td>-0.747243</td>\n",
       "      <td>-2.294410</td>\n",
       "      <td>-0.812166</td>\n",
       "      <td>0.848669</td>\n",
       "      <td>-1.585323</td>\n",
       "      <td>-0.222175</td>\n",
       "    </tr>\n",
       "    <tr>\n",
       "      <th>1998-01-06</th>\n",
       "      <td>1.229460</td>\n",
       "      <td>-1.872526</td>\n",
       "      <td>0.260782</td>\n",
       "      <td>-1.103091</td>\n",
       "      <td>-1.791673</td>\n",
       "      <td>-1.201104</td>\n",
       "      <td>1.133342</td>\n",
       "      <td>-1.170649</td>\n",
       "      <td>0.111462</td>\n",
       "      <td>-0.745578</td>\n",
       "      <td>...</td>\n",
       "      <td>0.125098</td>\n",
       "      <td>0.495410</td>\n",
       "      <td>-0.377555</td>\n",
       "      <td>-0.872478</td>\n",
       "      <td>-2.342175</td>\n",
       "      <td>1.011172</td>\n",
       "      <td>-2.520004</td>\n",
       "      <td>-0.080439</td>\n",
       "      <td>-2.201477</td>\n",
       "      <td>0.987213</td>\n",
       "    </tr>\n",
       "    <tr>\n",
       "      <th>1998-01-07</th>\n",
       "      <td>-1.865869</td>\n",
       "      <td>-0.034099</td>\n",
       "      <td>0.842807</td>\n",
       "      <td>0.385372</td>\n",
       "      <td>0.520170</td>\n",
       "      <td>-0.026127</td>\n",
       "      <td>-0.555315</td>\n",
       "      <td>3.064541</td>\n",
       "      <td>0.379315</td>\n",
       "      <td>0.336242</td>\n",
       "      <td>...</td>\n",
       "      <td>-0.211447</td>\n",
       "      <td>-0.853798</td>\n",
       "      <td>0.826144</td>\n",
       "      <td>-0.620388</td>\n",
       "      <td>2.029010</td>\n",
       "      <td>-1.059797</td>\n",
       "      <td>0.530269</td>\n",
       "      <td>-0.549663</td>\n",
       "      <td>-0.160381</td>\n",
       "      <td>0.171985</td>\n",
       "    </tr>\n",
       "    <tr>\n",
       "      <th>1998-01-08</th>\n",
       "      <td>-1.307886</td>\n",
       "      <td>0.621465</td>\n",
       "      <td>0.436465</td>\n",
       "      <td>0.801691</td>\n",
       "      <td>-2.513980</td>\n",
       "      <td>-0.837385</td>\n",
       "      <td>0.274650</td>\n",
       "      <td>-0.298747</td>\n",
       "      <td>0.506795</td>\n",
       "      <td>-0.754095</td>\n",
       "      <td>...</td>\n",
       "      <td>-0.043539</td>\n",
       "      <td>-1.820024</td>\n",
       "      <td>-0.078253</td>\n",
       "      <td>0.107534</td>\n",
       "      <td>-1.423642</td>\n",
       "      <td>-0.424931</td>\n",
       "      <td>-2.129764</td>\n",
       "      <td>-0.655525</td>\n",
       "      <td>-2.063595</td>\n",
       "      <td>1.517614</td>\n",
       "    </tr>\n",
       "    <tr>\n",
       "      <th>1998-01-09</th>\n",
       "      <td>-0.029958</td>\n",
       "      <td>-0.034099</td>\n",
       "      <td>-1.703008</td>\n",
       "      <td>-0.745578</td>\n",
       "      <td>-0.720469</td>\n",
       "      <td>-0.649447</td>\n",
       "      <td>-0.817811</td>\n",
       "      <td>-1.274664</td>\n",
       "      <td>-0.805048</td>\n",
       "      <td>-1.513411</td>\n",
       "      <td>...</td>\n",
       "      <td>-0.043539</td>\n",
       "      <td>-1.683013</td>\n",
       "      <td>-2.549527</td>\n",
       "      <td>-0.625010</td>\n",
       "      <td>-1.590275</td>\n",
       "      <td>-2.924476</td>\n",
       "      <td>-1.144210</td>\n",
       "      <td>-0.178387</td>\n",
       "      <td>0.082104</td>\n",
       "      <td>-0.384392</td>\n",
       "    </tr>\n",
       "  </tbody>\n",
       "</table>\n",
       "<p>5 rows × 482 columns</p>\n",
       "</div>"
      ],
      "text/plain": [
       "                 AAN      ABAX      ABMD       ABT       ABX      ACET  \\\n",
       "1998-01-05 -0.650661  1.932591  0.063788  0.321126 -1.938001  0.981981   \n",
       "1998-01-06  1.229460 -1.872526  0.260782 -1.103091 -1.791673 -1.201104   \n",
       "1998-01-07 -1.865869 -0.034099  0.842807  0.385372  0.520170 -0.026127   \n",
       "1998-01-08 -1.307886  0.621465  0.436465  0.801691 -2.513980 -0.837385   \n",
       "1998-01-09 -0.029958 -0.034099 -1.703008 -0.745578 -0.720469 -0.649447   \n",
       "\n",
       "                ADBE       ADM      AEGN       AEM    ...          WWD  \\\n",
       "1998-01-05  0.446978  0.122112 -0.552457 -0.729137    ...    -0.043539   \n",
       "1998-01-06  1.133342 -1.170649  0.111462 -0.745578    ...     0.125098   \n",
       "1998-01-07 -0.555315  3.064541  0.379315  0.336242    ...    -0.211447   \n",
       "1998-01-08  0.274650 -0.298747  0.506795 -0.754095    ...    -0.043539   \n",
       "1998-01-09 -0.817811 -1.274664 -0.805048 -1.513411    ...    -0.043539   \n",
       "\n",
       "                 WWW         X       XEL       XOM      XRAY       YPF  \\\n",
       "1998-01-05  0.609955 -0.138375 -0.542348 -0.747243 -2.294410 -0.812166   \n",
       "1998-01-06  0.495410 -0.377555 -0.872478 -2.342175  1.011172 -2.520004   \n",
       "1998-01-07 -0.853798  0.826144 -0.620388  2.029010 -1.059797  0.530269   \n",
       "1998-01-08 -1.820024 -0.078253  0.107534 -1.423642 -0.424931 -2.129764   \n",
       "1998-01-09 -1.683013 -2.549527 -0.625010 -1.590275 -2.924476 -1.144210   \n",
       "\n",
       "                YRCW       YUM      ZEUS  \n",
       "1998-01-05  0.848669 -1.585323 -0.222175  \n",
       "1998-01-06 -0.080439 -2.201477  0.987213  \n",
       "1998-01-07 -0.549663 -0.160381  0.171985  \n",
       "1998-01-08 -0.655525 -2.063595  1.517614  \n",
       "1998-01-09 -0.178387  0.082104 -0.384392  \n",
       "\n",
       "[5 rows x 482 columns]"
      ]
     },
     "execution_count": 38,
     "metadata": {},
     "output_type": "execute_result"
    }
   ],
   "source": [
    "# read csv as dict\n",
    "csvFile = open(\"./data/stock_normalize_norm.csv\", \"r\")\n",
    "reader = csv.reader(csvFile)\n",
    "\n",
    "# create empty dict\n",
    "count = 0\n",
    "index = []\n",
    "data = []\n",
    "result = {}\n",
    "for item in reader:\n",
    "    # ignore first row\n",
    "    if reader.line_num == 1:\n",
    "        del item[0]\n",
    "        Col = item\n",
    "        continue\n",
    "    index.append(item[0])\n",
    "    del item[0]\n",
    "    data.append(item)\n",
    "    count +=1 \n",
    "        \n",
    "stock = pd.DataFrame(data,\n",
    "              index=index,\n",
    "              columns=Col)\n",
    "stock = stock.astype(float)\n",
    "csvFile.close()\n",
    "stock.head()"
   ]
  },
  {
   "cell_type": "markdown",
   "metadata": {},
   "source": [
    "# Draw plot"
   ]
  },
  {
   "cell_type": "code",
   "execution_count": 20,
   "metadata": {},
   "outputs": [
    {
     "name": "stdout",
     "output_type": "stream",
     "text": [
      "Automatically created module for IPython interactive environment\n"
     ]
    }
   ],
   "source": [
    "from __future__ import print_function\n",
    "\n",
    "# Author: Gael Varoquaux gael.varoquaux@normalesup.org\n",
    "# License: BSD 3 clause\n",
    "\n",
    "import sys\n",
    "from datetime import datetime\n",
    "\n",
    "import numpy as np\n",
    "import matplotlib.pyplot as plt\n",
    "from matplotlib.collections import LineCollection\n",
    "from six.moves.urllib.request import urlopen\n",
    "from six.moves.urllib.parse import urlencode\n",
    "from sklearn import cluster, covariance, manifold\n",
    "import random\n",
    "print(__doc__)"
   ]
  },
  {
   "cell_type": "code",
   "execution_count": 40,
   "metadata": {},
   "outputs": [],
   "source": [
    "# #############################################################################\n",
    "# Learn a graphical structure from the correlations\n",
    "edge_model = covariance.GraphLassoCV()"
   ]
  },
  {
   "cell_type": "code",
   "execution_count": 47,
   "metadata": {},
   "outputs": [
    {
     "name": "stdout",
     "output_type": "stream",
     "text": [
      "half done\n"
     ]
    },
    {
     "name": "stderr",
     "output_type": "stream",
     "text": [
      "/usr/local/lib/python3.6/site-packages/numpy/linalg/linalg.py:1817: RuntimeWarning: invalid value encountered in slogdet\n",
      "  sign, logdet = _umath_linalg.slogdet(a, signature=signature)\n"
     ]
    },
    {
     "data": {
      "text/plain": [
       "GraphLassoCV(alphas=4, assume_centered=False, cv=None, enet_tol=0.0001,\n",
       "       max_iter=100, mode='cd', n_jobs=1, n_refinements=4, tol=0.0001,\n",
       "       verbose=False)"
      ]
     },
     "execution_count": 47,
     "metadata": {},
     "output_type": "execute_result"
    }
   ],
   "source": [
    "# standardize the time series: using correlations rather than covariance\n",
    "# is more efficient for structure recovery\n",
    "\n",
    "X = stock.copy()\n",
    "\n",
    "X /= X.std(axis=0)\n",
    "stock_sel = stock.columns[:50]\n",
    "# date_sel = stock.index[:400]\n",
    "X = X.loc[date_sel,stock_sel]\n",
    "# print(X.loc[stock_sel,date_sel])\n",
    "\n",
    "print(\"half done\")\n",
    "\n",
    "edge_model.fit(X)"
   ]
  },
  {
   "cell_type": "code",
   "execution_count": 48,
   "metadata": {},
   "outputs": [],
   "source": [
    "labels = pd.Series(np.random.randint(1,5,482),\n",
    "                   index=stock.columns)\n",
    "# print(random.sample([1,2,3,4,5], 10))\n",
    "# print(labels)"
   ]
  },
  {
   "cell_type": "code",
   "execution_count": 49,
   "metadata": {
    "scrolled": false
   },
   "outputs": [
    {
     "data": {
      "text/plain": [
       "<matplotlib.collections.LineCollection at 0x1187befd0>"
      ]
     },
     "execution_count": 49,
     "metadata": {},
     "output_type": "execute_result"
    },
    {
     "data": {
      "image/png": "[encoded data removed]",
      "text/plain": [
       "<Figure size 720x576 with 1 Axes>"
      ]
     },
     "metadata": {},
     "output_type": "display_data"
    }
   ],
   "source": [
    "# Find a low-dimension embedding for visualization: find the best position of\n",
    "# the nodes (the stocks) on a 2D plane\n",
    "\n",
    "# We use a dense eigen_solver to achieve reproducibility (arpack is\n",
    "# initiated with random vectors that we don't control). In addition, we\n",
    "# use a large number of neighbors to capture the large-scale structure.\n",
    "\n",
    "node_position_model = manifold.LocallyLinearEmbedding(\n",
    "    n_components=2, eigen_solver='dense', n_neighbors=6)\n",
    "\n",
    "embedding = node_position_model.fit_transform(X.T).T\n",
    "\n",
    "# #############################################################################\n",
    "# Visualization\n",
    "plt.figure(1, facecolor='w', figsize=(10, 8))\n",
    "plt.clf()\n",
    "ax = plt.axes([0., 0., 1., 1.])\n",
    "plt.axis('off')\n",
    "\n",
    "# Display a graph of the partial correlations\n",
    "partial_correlations = edge_model.precision_.copy()\n",
    "d = 1 / np.sqrt(np.diag(partial_correlations))\n",
    "partial_correlations *= d\n",
    "partial_correlations *= d[:, np.newaxis]\n",
    "non_zero = (np.abs(np.triu(partial_correlations, k=1)) > 0.02)\n",
    "\n",
    "# Plot the nodes using the coordinates of our embedding\n",
    "# plt.scatter(embedding[0], embedding[1], s=100 * d ** 2, c=labels,\n",
    "#             cmap=plt.cm.spectral)\n",
    "plt.scatter(embedding[0], embedding[1], s=100 * d ** 2, c=labels,\n",
    "            cmap=plt.cm.nipy_spectral)\n",
    "# Plot the edges\n",
    "start_idx, end_idx = np.where(non_zero)\n",
    "# a sequence of (*line0*, *line1*, *line2*), where::\n",
    "#            linen = (x0, y0), (x1, y1), ... (xm, ym)\n",
    "segments = [[embedding[:, start], embedding[:, stop]]\n",
    "            for start, stop in zip(start_idx, end_idx)]\n",
    "values = np.abs(partial_correlations[non_zero])\n",
    "lc = LineCollection(segments,\n",
    "                    zorder=0, cmap=plt.cm.hot_r,\n",
    "                    norm=plt.Normalize(0, .7 * values.max()))\n",
    "lc.set_array(values)\n",
    "lc.set_linewidths(15 * values)\n",
    "ax.add_collection(lc)"
   ]
  },
  {
   "cell_type": "code",
   "execution_count": 44,
   "metadata": {},
   "outputs": [
    {
     "data": {
      "image/png": "[encoded data removed]",
      "text/plain": [
       "<Figure size 432x288 with 1 Axes>"
      ]
     },
     "metadata": {},
     "output_type": "display_data"
    }
   ],
   "source": [
    "names = stock.columns\n",
    "n_labels = labels.max()\n",
    "# Add a label to each node. The challenge here is that we want to\n",
    "# position the labels to avoid overlap with other labels\n",
    "\n",
    "for index, (name, label, (x, y)) in enumerate(\n",
    "        zip(names, labels, embedding.T)):\n",
    "\n",
    "    dx = x - embedding[0]\n",
    "    dx[index] = 1\n",
    "    dy = y - embedding[1]\n",
    "    dy[index] = 1\n",
    "    this_dx = dx[np.argmin(np.abs(dy))]\n",
    "    this_dy = dy[np.argmin(np.abs(dx))]\n",
    "    if this_dx > 0:\n",
    "        horizontalalignment = 'left'\n",
    "        x = x + .002\n",
    "    else:\n",
    "        horizontalalignment = 'right'\n",
    "        x = x - .002\n",
    "    if this_dy > 0:\n",
    "        verticalalignment = 'bottom'\n",
    "        y = y + .002\n",
    "    else:\n",
    "        verticalalignment = 'top'\n",
    "        y = y - .002\n",
    "    plt.text(x, y, name, size=10,\n",
    "             horizontalalignment=horizontalalignment,\n",
    "             verticalalignment=verticalalignment,\n",
    "             bbox=dict(facecolor='w',\n",
    "#                        edgecolor=plt.cm.spectral(label / float(n_labels)),\n",
    "                       edgecolor=plt.cm.nipy_spectral(label / float(n_labels)),\n",
    "                       alpha=.6))\n",
    "\n",
    "plt.xlim(embedding[0].min() - .15 * embedding[0].ptp(),\n",
    "         embedding[0].max() + .10 * embedding[0].ptp(),)\n",
    "plt.ylim(embedding[1].min() - .03 * embedding[1].ptp(),\n",
    "         embedding[1].max() + .03 * embedding[1].ptp())\n",
    "\n",
    "plt.show()"
   ]
  },
  {
   "cell_type": "code",
   "execution_count": null,
   "metadata": {},
   "outputs": [],
   "source": []
  }
 ],
 "metadata": {
  "kernelspec": {
   "display_name": "Python3.6.4",
   "language": "python",
   "name": "python3.6.4"
  },
  "language_info": {
   "codemirror_mode": {
    "name": "ipython",
    "version": 3
   },
   "file_extension": ".py",
   "mimetype": "text/x-python",
   "name": "python",
   "nbconvert_exporter": "python",
   "pygments_lexer": "ipython3",
   "version": "3.6.4"
  }
 },
 "nbformat": 4,
 "nbformat_minor": 2
}
