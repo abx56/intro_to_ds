{
 "cells": [
  {
   "cell_type": "markdown",
   "metadata": {},
   "source": [
    "<br><br>\n",
    "# <center>STATISTICAL METHODS IN FINANCE</center>\n",
    "# <center>HW4</center>\n",
    "<center>Fan Yang</center>\n",
    "<center>UNI: fy2232</center>\n",
    "<center>02/21/2018</center>"
   ]
  },
  {
   "cell_type": "markdown",
   "metadata": {},
   "source": [
    "# Problem 1"
   ]
  },
  {
   "cell_type": "markdown",
   "metadata": {},
   "source": [
    "***For each of the following two covariance matrices, perform the principal component decomposition, i.e. calculate its eigenvalues and corresponding eigenvectors. What proportion of the total variance does the first principal component explain in each case?<br>***\n",
    ">(a)  $~\\left(\\begin{matrix}\n",
    "   1 & \\rho \\\\\n",
    "   \\rho & 1 \\\\\n",
    "  \\end{matrix}\\right)$.<br><br>\n",
    "(b)  $~\\left(\\begin{matrix}\n",
    "   1 & \\rho & 0\\\\\n",
    "   \\rho & 1 & 0\\\\\n",
    "   0 & 0 & 1\n",
    "  \\end{matrix}\\right)$.\n",
    "  \n",
    "Hint: You could refer to Homework 1 for reference."
   ]
  },
  {
   "cell_type": "markdown",
   "metadata": {},
   "source": [
    "## (a)\n",
    "Denote $A$ as the matrix.<br>\n",
    "First caculate the eigen value.\n",
    "\\begin{split}\n",
    "|A-\\lambda I|&=\n",
    "\\left|\\begin{matrix}\n",
    "   1-\\lambda & \\rho \\\\\n",
    "   \\rho & 1-\\lambda \\\\\n",
    "  \\end{matrix}\\right|\\\\\n",
    "&=(1-\\lambda)^2-\\rho^2\\\\\n",
    "&=(1-\\lambda+\\rho)(1-\\lambda-\\rho)\\\\\n",
    "\\text{so, }\\lambda_1&=1+\\rho,~ ~\\lambda_2=1-\\rho.\\\\\n",
    "\\end{split}\n",
    "Then caculate the eigen vectors.<br>\n",
    "\\begin{split}\n",
    "A-\\lambda_1I&=\n",
    "\\left(\\begin{matrix}\n",
    "   1-\\lambda & \\rho \\\\\n",
    "   \\rho & 1-\\lambda \\\\\n",
    "  \\end{matrix}\\right)\\\\\n",
    "&=\n",
    "\\left(\\begin{matrix}\n",
    "   -\\rho & \\rho \\\\\n",
    "   \\rho & -\\rho \\\\\n",
    "  \\end{matrix}\\right)\\\\\n",
    "  &=\\rho\n",
    "\\left(\\begin{matrix}\n",
    "   -1 & 1 \\\\\n",
    "   1 & -1 \\\\\n",
    "  \\end{matrix}\\right)\\\\\n",
    "    &\\longrightarrow\\rho\n",
    "\\left(\\begin{matrix}\n",
    "   -1 & 1 \\\\\n",
    "   0 &  0\\\\\n",
    "  \\end{matrix}\\right)\\\\\n",
    "\\end{split}\n",
    "So the eigen value for $\\lambda_1$ is $(1,1)$.\n",
    "\\begin{split}\n",
    "A-\\lambda_2I\n",
    "&=\n",
    "\\left(\\begin{matrix}\n",
    "   \\rho & \\rho \\\\\n",
    "   \\rho & \\rho \\\\\n",
    "  \\end{matrix}\\right)\\\\\n",
    "  &=\\rho\n",
    "\\left(\\begin{matrix}\n",
    "   1 & 1 \\\\\n",
    "   1 & 1 \\\\\n",
    "  \\end{matrix}\\right)\\\\\n",
    "    &\\longrightarrow\\rho\n",
    "\\left(\\begin{matrix}\n",
    "   1 & 1 \\\\\n",
    "   0 &  0\\\\\n",
    "  \\end{matrix}\\right)\\\\\n",
    "\\end{split}\n",
    "So the eigen value for $\\lambda_2$ is $(1,-1)$.<br><br>\n",
    "Therefore, the orthonormal eigen vectors are $(\\frac{1}{\\sqrt{2}},\\frac{1}{\\sqrt{2}})$ and $(\\frac{1}{\\sqrt{2}},-\\frac{1}{\\sqrt{2}})$.<br><br>\n",
    "When $\\rho>0$, $\\lambda_\\max=1+\\rho$. The first principal component is $Y_1 = \\frac{1}{\\sqrt{2}}X_1+\\frac{1}{\\sqrt{2}}X_2$.\n",
    "$$\n",
    "\\frac{Var(Y_1)}{Var(Y_1)+Var(Y_2)}=\\frac{\\lambda_1}{\\lambda_1+\\lambda_2}\n",
    "=\\frac{1+\\rho}{2}\n",
    "$$\n",
    "When $\\rho\\leq0$, $\\lambda_\\max=1-\\rho$. The first principal component is $Y_1 = \\frac{1}{\\sqrt{2}}X_1-\\frac{1}{\\sqrt{2}}X_2$.\n",
    "$$\n",
    "\\frac{Var(Y_1)}{Var(Y_1)+Var(Y_2)}=\\frac{\\lambda_1}{\\lambda_1+\\lambda_2}\n",
    "=\\frac{1-\\rho}{2}\n",
    "$$"
   ]
  },
  {
   "cell_type": "markdown",
   "metadata": {},
   "source": [
    "## (b)\n",
    "Denote $A$ as the matrix.\n",
    "\\begin{split}\n",
    "|A-\\lambda I|&=\n",
    "\\left|\\begin{matrix}\n",
    "   1-\\lambda & \\rho & 0\\\\\n",
    "   \\rho & 1-\\lambda & 0\\\\\n",
    "   0 & 0 & 1-\\lambda\\\\\n",
    "  \\end{matrix}\\right|\\\\\n",
    "&=(1-\\lambda)\\left[(1-\\lambda)^2-\\rho^2\\right]\\\\\n",
    "&=(1-\\lambda)(1-\\lambda+\\rho)(1-\\lambda-\\rho)\\\\\n",
    "\\text{so, }\\lambda_1&=1,~ ~\\lambda_2=1+\\rho,~ ~\\lambda_3=1-\\rho.\\\\\n",
    "\\end{split}\n",
    "Then caculate the eigen vectors.<br>\n",
    "\\begin{split}\n",
    "A-\\lambda_1I\n",
    "&=\n",
    "\\left(\\begin{matrix}\n",
    "   0 & \\rho &0 \\\\\n",
    "   \\rho & 0 &0\\\\\n",
    "      0 & 0 &0\\\\\n",
    "  \\end{matrix}\\right)\\\\\n",
    "    &\\longrightarrow\n",
    "\\left(\\begin{matrix}\n",
    "   0 & 1 & 0\\\\\n",
    "   1 &  0 &0\\\\\n",
    "    0 &  0 &0\\\\\n",
    "  \\end{matrix}\\right)\\\\\n",
    "\\end{split}\n",
    "So the eigen value for $\\lambda_1$ is $(0,0,1)$.<br>\n",
    "\\begin{split}\n",
    "A-\\lambda_2I\n",
    "&=\n",
    "\\left(\\begin{matrix}\n",
    "   -\\rho & \\rho &0 \\\\\n",
    "   \\rho & -\\rho &0\\\\\n",
    "      0 & 0 &-\\rho\\\\\n",
    "  \\end{matrix}\\right)\\\\\n",
    "    &\\longrightarrow\n",
    "\\left(\\begin{matrix}\n",
    "   -1 & 1 & 0\\\\\n",
    "   0 &  0 &-1\\\\\n",
    "    0 &  0 &0\\\\\n",
    "  \\end{matrix}\\right)\\\\\n",
    "\\end{split}\n",
    "So the eigen value for $\\lambda_2$ is $(\\frac{1}{\\sqrt{2}},\\frac{1}{\\sqrt{2}},0)$.<br>\n",
    "\\begin{split}\n",
    "A-\\lambda_2I\n",
    "&=\n",
    "\\left(\\begin{matrix}\n",
    "   \\rho & \\rho &0 \\\\\n",
    "   \\rho & \\rho &0\\\\\n",
    "      0 & 0 &\\rho\\\\\n",
    "  \\end{matrix}\\right)\\\\\n",
    "    &\\longrightarrow\n",
    "\\left(\\begin{matrix}\n",
    "   1 & 1 & 0\\\\\n",
    "   0 &  0 &1\\\\\n",
    "    0 &  0 &0\\\\\n",
    "  \\end{matrix}\\right)\\\\\n",
    "\\end{split}\n",
    "So the eigen value for $\\lambda_2$ is $(\\frac{1}{\\sqrt{2}},-\\frac{1}{\\sqrt{2}},0)$.<br><br>\n",
    "Therefore, the orthonormal eigen vectors are $(0,0,1)$ and $(\\frac{1}{\\sqrt{2}},\\frac{1}{\\sqrt{2}},0)$ and $(\\frac{1}{\\sqrt{2}},-\\frac{1}{\\sqrt{2}},0)$.<br><br>\n",
    "When $\\rho>0$, then $\\lambda_\\max=1+\\rho$\n",
    "$$\n",
    "\\frac{Var(Y_1)}{Var(Y_1)+Var(Y_2)+Var(Y_3)}=\\frac{\\lambda_2}{\\lambda_1+\\lambda_2+\\lambda_3}\n",
    "=\\frac{1+\\rho}{3}\n",
    "$$\n",
    "When $\\rho<0$, then $\\lambda_\\max=1-\\rho$\n",
    "$$\n",
    "\\frac{Var(Y_1)}{Var(Y_1)+Var(Y_2)+Var(Y_3)}=\\frac{\\lambda_3}{\\lambda_1+\\lambda_2+\\lambda_3}\n",
    "=\\frac{1-\\rho}{3}\n",
    "$$\n",
    "When $\\rho=0$, then $\\lambda_\\max=1$\n",
    "$$\n",
    "\\frac{Var(Y_1)}{Var(Y_1)+Var(Y_2)+Var(Y_3)}=\\frac{\\lambda_\\max}{\\lambda_1+\\lambda_2+\\lambda_3}\n",
    "=\\frac{1}{3}\n",
    "$$"
   ]
  },
  {
   "cell_type": "markdown",
   "metadata": {},
   "source": [
    "# Problem 2"
   ]
  },
  {
   "cell_type": "markdown",
   "metadata": {},
   "source": [
    "***The file “FamaFrench_mon_69_98.txt” contains monthly figures (in %) of the market portfolio excess return (Mkt.RF), SMB, HML and the risk-free rate (RF) from Jan 1969 to Dec 1998 (i.e. 360 observations). On the other hand, the data set “CRSPmon” in the “Ecdat” R-package includes monthly returns of General Electric (GE), IBM and Mobil over the same period. You may use the following two lines of codes for access to the “CRSPmon” data.<br><br>***\n",
    "`library(\"Ecdat\")`<br>\n",
    "`data(CRSPmon)`\n",
    ">***(a)*** Perform principal component analysis (PCA) on the monthly returns of GE, IBM and Mobil. Report the following quantities.<br>\n",
    ">>(i) The proportion of total variance explained by the first principal component. <br>\n",
    "(ii) The loading vectors (the eigenvectors).<br>\n",
    "(iii) The principal components for the first two observations.<br>\n",
    "\n",
    ">***(b)*** Now, for each of following cases, fit the Fama-French three factor model on GE, IBM and Mobil respectively. Comment on any difference between the two cases.<br>\n",
    ">>(i) Using data in the first 180 months only;<br>\n",
    "(ii) Using data in the last 180 months only.<br>\n",
    "Hint: You may refer to “fama-french-3f.pdf” and “FF3.R” for an illustration."
   ]
  },
  {
   "cell_type": "markdown",
   "metadata": {},
   "source": [
    "Load the data:"
   ]
  },
  {
   "cell_type": "code",
   "execution_count": 90,
   "metadata": {},
   "outputs": [
    {
     "data": {
      "text/html": [
       "<table>\n",
       "<thead><tr><th scope=col>date</th><th scope=col>Mkt.RF</th><th scope=col>SMB</th><th scope=col>HML</th><th scope=col>RF</th></tr></thead>\n",
       "<tbody>\n",
       "\t<tr><td>196901</td><td>-1.20 </td><td>-0.80 </td><td> 1.57 </td><td>0.53  </td></tr>\n",
       "\t<tr><td>196902</td><td>-5.82 </td><td>-3.90 </td><td> 0.93 </td><td>0.46  </td></tr>\n",
       "\t<tr><td>196903</td><td> 2.59 </td><td>-0.28 </td><td>-0.45 </td><td>0.46  </td></tr>\n",
       "\t<tr><td>196904</td><td> 1.52 </td><td>-0.85 </td><td> 0.06 </td><td>0.53  </td></tr>\n",
       "\t<tr><td>196905</td><td> 0.02 </td><td>-0.27 </td><td> 0.74 </td><td>0.48  </td></tr>\n",
       "</tbody>\n",
       "</table>\n"
      ],
      "text/latex": [
       "\\begin{tabular}{r|lllll}\n",
       " date & Mkt.RF & SMB & HML & RF\\\\\n",
       "\\hline\n",
       "\t 196901 & -1.20  & -0.80  &  1.57  & 0.53  \\\\\n",
       "\t 196902 & -5.82  & -3.90  &  0.93  & 0.46  \\\\\n",
       "\t 196903 &  2.59  & -0.28  & -0.45  & 0.46  \\\\\n",
       "\t 196904 &  1.52  & -0.85  &  0.06  & 0.53  \\\\\n",
       "\t 196905 &  0.02  & -0.27  &  0.74  & 0.48  \\\\\n",
       "\\end{tabular}\n"
      ],
      "text/markdown": [
       "\n",
       "date | Mkt.RF | SMB | HML | RF | \n",
       "|---|---|---|---|---|\n",
       "| 196901 | -1.20  | -0.80  |  1.57  | 0.53   | \n",
       "| 196902 | -5.82  | -3.90  |  0.93  | 0.46   | \n",
       "| 196903 |  2.59  | -0.28  | -0.45  | 0.46   | \n",
       "| 196904 |  1.52  | -0.85  |  0.06  | 0.53   | \n",
       "| 196905 |  0.02  | -0.27  |  0.74  | 0.48   | \n",
       "\n",
       "\n"
      ],
      "text/plain": [
       "  date   Mkt.RF SMB   HML   RF  \n",
       "1 196901 -1.20  -0.80  1.57 0.53\n",
       "2 196902 -5.82  -3.90  0.93 0.46\n",
       "3 196903  2.59  -0.28 -0.45 0.46\n",
       "4 196904  1.52  -0.85  0.06 0.53\n",
       "5 196905  0.02  -0.27  0.74 0.48"
      ]
     },
     "metadata": {},
     "output_type": "display_data"
    }
   ],
   "source": [
    "library(Ecdat)\n",
    "CRSP <- CRSPmon[,-4]\n",
    "FamaFrench <- read.table(\"FamaFrench_mon_69_98.txt\", header = T)\n",
    "head(FamaFrench,5)"
   ]
  },
  {
   "cell_type": "markdown",
   "metadata": {},
   "source": [
    "## (a)"
   ]
  },
  {
   "cell_type": "markdown",
   "metadata": {},
   "source": [
    "### (i)"
   ]
  },
  {
   "cell_type": "code",
   "execution_count": 81,
   "metadata": {},
   "outputs": [
    {
     "data": {
      "text/plain": [
       "Importance of components:\n",
       "                          PC1    PC2    PC3\n",
       "Standard deviation     1.3103 0.8773 0.7165\n",
       "Proportion of Variance 0.5723 0.2566 0.1711\n",
       "Cumulative Proportion  0.5723 0.8289 1.0000"
      ]
     },
     "metadata": {},
     "output_type": "display_data"
    }
   ],
   "source": [
    "CRSP.pca <- prcomp(CRSP,scale = T)\n",
    "summary(CRSP.pca)"
   ]
  },
  {
   "cell_type": "markdown",
   "metadata": {},
   "source": [
    "The proportion of variance explained by the first principal component is 57.23%."
   ]
  },
  {
   "cell_type": "markdown",
   "metadata": {},
   "source": [
    "### (ii)"
   ]
  },
  {
   "cell_type": "code",
   "execution_count": 82,
   "metadata": {},
   "outputs": [
    {
     "data": {
      "text/plain": [
       "Standard deviations (1, .., p=3):\n",
       "[1] 1.3103474 0.8773128 0.7164578\n",
       "\n",
       "Rotation (n x k) = (3 x 3):\n",
       "            PC1        PC2        PC3\n",
       "ge    0.6284832 -0.2093695 -0.7491150\n",
       "ibm   0.5937757 -0.4929652  0.6359369\n",
       "mobil 0.5024334  0.8444819  0.1855019"
      ]
     },
     "metadata": {},
     "output_type": "display_data"
    }
   ],
   "source": [
    "CRSP.pca"
   ]
  },
  {
   "cell_type": "markdown",
   "metadata": {},
   "source": [
    "The eigen vectors are $$(0.6284832,0.5937757,0.5024334)$$ and $$(-0.2093695,-0.4929652,0.8444819)$$ and $$(-0.7491150,0.6359369,0.1855019).$$"
   ]
  },
  {
   "cell_type": "markdown",
   "metadata": {},
   "source": [
    "### (iii)"
   ]
  },
  {
   "cell_type": "code",
   "execution_count": 89,
   "metadata": {},
   "outputs": [
    {
     "data": {
      "text/html": [
       "<table>\n",
       "<thead><tr><th scope=col>PC1</th><th scope=col>PC2</th><th scope=col>PC3</th></tr></thead>\n",
       "<tbody>\n",
       "\t<tr><td>-1.079746 </td><td> 0.2351180</td><td>-0.4131834</td></tr>\n",
       "\t<tr><td>-1.590621 </td><td>-0.8147668</td><td> 0.4647787</td></tr>\n",
       "</tbody>\n",
       "</table>\n"
      ],
      "text/latex": [
       "\\begin{tabular}{lll}\n",
       " PC1 & PC2 & PC3\\\\\n",
       "\\hline\n",
       "\t -1.079746  &  0.2351180 & -0.4131834\\\\\n",
       "\t -1.590621  & -0.8147668 &  0.4647787\\\\\n",
       "\\end{tabular}\n"
      ],
      "text/markdown": [
       "\n",
       "PC1 | PC2 | PC3 | \n",
       "|---|---|\n",
       "| -1.079746  |  0.2351180 | -0.4131834 | \n",
       "| -1.590621  | -0.8147668 |  0.4647787 | \n",
       "\n",
       "\n"
      ],
      "text/plain": [
       "     PC1       PC2        PC3       \n",
       "[1,] -1.079746  0.2351180 -0.4131834\n",
       "[2,] -1.590621 -0.8147668  0.4647787"
      ]
     },
     "metadata": {},
     "output_type": "display_data"
    }
   ],
   "source": [
    "CRSP.pca$x[1:2,]"
   ]
  },
  {
   "cell_type": "markdown",
   "metadata": {},
   "source": [
    "## (b)"
   ]
  },
  {
   "cell_type": "markdown",
   "metadata": {},
   "source": [
    "## (i)"
   ]
  },
  {
   "cell_type": "code",
   "execution_count": 107,
   "metadata": {
    "scrolled": true
   },
   "outputs": [
    {
     "data": {
      "text/plain": [
       "\n",
       "Call:\n",
       "lm(formula = cbind(ge, ibm, mobil) ~ Mkt.RF + SMB + HML, data = data.b1)\n",
       "\n",
       "Coefficients:\n",
       "             ge      ibm     mobil \n",
       "(Intercept)   0.322   0.226   0.390\n",
       "Mkt.RF        1.133   0.807   1.146\n",
       "SMB          -0.334  -0.172  -0.586\n",
       "HML           0.107  -0.158   0.315\n"
      ]
     },
     "metadata": {},
     "output_type": "display_data"
    }
   ],
   "source": [
    "library(\"robust\")\n",
    "data.b1 <- FamaFrench[1:180,]\n",
    "CRSP.b1 <- CRSPmon[1:180,]\n",
    "ge = 100*CRSP.b1[,1] - data.b1$RF\n",
    "ibm = 100*CRSP.b1[,2] - data.b1$RF\n",
    "mobil = 100*CRSP.b1[,3] - data.b1$RF\n",
    "stocks=cbind(ge,ibm,mobil)\n",
    "fit = lm(cbind(ge,ibm,mobil)~Mkt.RF+SMB+HML, data = data.b1)\n",
    "options(digits=3)\n",
    "fit"
   ]
  },
  {
   "cell_type": "markdown",
   "metadata": {},
   "source": [
    "## (ii)"
   ]
  },
  {
   "cell_type": "code",
   "execution_count": 109,
   "metadata": {},
   "outputs": [
    {
     "data": {
      "text/plain": [
       "\n",
       "Call:\n",
       "lm(formula = cbind(ge, ibm, mobil) ~ Mkt.RF + SMB + HML, data = data.b2)\n",
       "\n",
       "Coefficients:\n",
       "             ge        ibm       mobil   \n",
       "(Intercept)   0.33936  -0.00054   0.14640\n",
       "Mkt.RF        1.12173   0.74824   0.86945\n",
       "SMB          -0.46179  -0.61333  -0.15081\n",
       "HML          -0.16594  -0.61853   0.50187\n"
      ]
     },
     "metadata": {},
     "output_type": "display_data"
    }
   ],
   "source": [
    "library(\"robust\")\n",
    "data.b2 <- FamaFrench[181:360,]\n",
    "CRSP.b2 <- CRSPmon[181:360,]\n",
    "ge = 100*CRSP.b2[,1] - data.b2$RF\n",
    "ibm = 100*CRSP.b2[,2] - data.b2$RF\n",
    "mobil = 100*CRSP.b2[,3] - data.b2$RF\n",
    "stocks=cbind(ge,ibm,mobil)\n",
    "fit = lm(cbind(ge,ibm,mobil)~Mkt.RF+SMB+HML, data = data.b2)\n",
    "options(digits=3)\n",
    "fit"
   ]
  },
  {
   "cell_type": "markdown",
   "metadata": {},
   "source": [
    "-All three stocks possess negative coeffcients on SMB, which means they perform like big stocks.<br><br>\n",
    "-For the first 180 months, GE and Mobil have positive coecients on HML, suggesting that they behave like value stocks (high book-to-market value).\n",
    "While for the last 180 months, GE have negative coefficients on HML, which means it turns to low book-to-market value.<br><br>\n",
    "-IBM always has negative coeffcients on HML( no matter first or last 180 months), so it is more like a growth stock (low book-to-market value)."
   ]
  },
  {
   "cell_type": "markdown",
   "metadata": {},
   "source": [
    "# Problem 3"
   ]
  },
  {
   "cell_type": "markdown",
   "metadata": {},
   "source": [
    "***As in the oil drilling example (see “capm-oil-drilling-example.pdf” in folder “Lecture 4”), suppose we have the same market parameters: $\\mu_f = 10\\%$, $\\mu_M = 17\\%$ and $\\sigma_M = 12\\%$. Suppose further that the expected share price of the oil drilling company after one year is also \\$1000/share.<br>***\n",
    ">*** (a)***If the oil drilling company has a beta of 0.5, what is its fair price according to the SML? <br>\n",
    "*** (b)*** If its beta is 0.7, what should be its fair price then?<br>"
   ]
  },
  {
   "cell_type": "markdown",
   "metadata": {},
   "source": [
    "## (a).\n",
    "Suppose that the fair price is $P_0$. According to SML,\n",
    "$$\n",
    "\\frac{1000-P_0}{P_0}=\\mu_f+\\beta(\\mu_M-\\mu_f)\\\\\n",
    "\\frac{1000-P_0}{P_0}=0.10+0.5\\times(0.17-0.10)\\\\\n",
    "P_0=\\frac{1000}{1+0.10+0.5\\times(0.17-0.10)}=881.057\\\\\n",
    "$$\n"
   ]
  },
  {
   "cell_type": "markdown",
   "metadata": {},
   "source": [
    "## (b).\n",
    "Suppose that the fair price is $P_0$. According to SML,\n",
    "$$\n",
    "\\frac{1000-P_0}{P_0}=\\mu_f+\\beta(\\mu_M-\\mu_f)\\\\\n",
    "\\frac{1000-P_0}{P_0}=0.10+0.7\\times(0.17-0.10)\\\\\n",
    "P_0=\\frac{1000}{1+0.10+0.7\\times(0.17-0.10)}=870.322\\\\\n",
    "$$\n"
   ]
  }
 ],
 "metadata": {
  "kernelspec": {
   "display_name": "R 3.4",
   "language": "R",
   "name": "ir34"
  },
  "language_info": {
   "codemirror_mode": "r",
   "file_extension": ".r",
   "mimetype": "text/x-r-source",
   "name": "R",
   "pygments_lexer": "r",
   "version": "3.4.3"
  }
 },
 "nbformat": 4,
 "nbformat_minor": 2
}
