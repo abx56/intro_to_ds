{
 "cells": [
  {
   "cell_type": "markdown",
   "metadata": {},
   "source": [
    "<br><br>\n",
    "# <center>STATISTICAL METHODS IN FINANCE</center>\n",
    "# <center>HW5</center>\n",
    "<center>Fan Yang</center>\n",
    "<center>UNI: fy2232</center>\n",
    "<center>02/28/2018</center>"
   ]
  },
  {
   "cell_type": "markdown",
   "metadata": {},
   "source": [
    "# Problem 1"
   ]
  },
  {
   "cell_type": "markdown",
   "metadata": {},
   "source": [
    "***Show that the following inequalities are always true for any copula function $C$: $$C^−(u, v) \\leq C(u, v) \\leq C^+(u, v).$$<br>***\n",
    "***Recall that $C^−(u, v) = \\max(u + v − 1, 0)$ and $C^+(u, v) = \\min(u, v)$.***"
   ]
  },
  {
   "cell_type": "markdown",
   "metadata": {},
   "source": [
    "### (i) $C^−(u, v) \\leq C(u, v)$"
   ]
  },
  {
   "cell_type": "markdown",
   "metadata": {},
   "source": [
    "By 2-increasing, for all $u_1\\leq u_2,v_1\\leq v_2$,\n",
    "$$C(u_2,v_2)-C(u_1,v_2)-C(u_2,v_1)+C(u_1,v_1)\\geq 0$$\n",
    "Let $u_2=v_2=1$ and $u_1= u, ~ v_1=v$, then\n",
    "$$C(1,1)-C(u,1)-C(1,v)+C(u,v)\\geq 0\\\\\n",
    "1-u-v+C(u,v)\\geq 0\\\\\n",
    "C(u,v)\\geq u+v-1$$\n",
    "While $C(u,v)\\geq 0 $, therefore $\\max(u + v − 1, 0) \\leq C(u, v)$ <br>\n",
    "that's to say, $C^−(u, v) \\leq C(u, v)$."
   ]
  },
  {
   "cell_type": "markdown",
   "metadata": {},
   "source": [
    "### (ii) $C(u, v) \\leq C^+(u, v)$"
   ]
  },
  {
   "cell_type": "markdown",
   "metadata": {},
   "source": [
    "By 2-increasing, for all $u_1\\leq u_2,v_1\\leq v_2$,\n",
    "$$C(u_2,v_2)-C(u_1,v_2)-C(u_2,v_1)+C(u_1,v_1)\\geq 0$$\n",
    "Let $u_2=1$ and $u_1=u$ and $v_1= 0, ~ v_2=v$, then\n",
    "$$C(1,v)-C(u,v)-C(1,0)+C(u,0)\\geq 0\\\\\n",
    "C(1,v)-C(u,v)\\geq 0\\\\\n",
    "v-C(u,v)\\geq 0\\\\\n",
    "C(u,v)\\leq v$$\n",
    "Let $u_2=u$ and $u_1=0$ and $v_1= v, ~ v_2=1$, then\n",
    "$$C(u,1)-C(0,1)-C(u,v)+C(0,v)\\geq 0\\\\\n",
    "C(u,1)-C(u,v)\\geq 0\\\\\n",
    "u-C(u,v)\\geq 0\\\\\n",
    "C(u,v)\\leq u$$\n",
    "From all above, we have $C(u, v) \\leq\\min(u, v)$ <br>\n",
    "that's to say, $C(u, v)\\leq C^+(u, v)$."
   ]
  },
  {
   "cell_type": "markdown",
   "metadata": {},
   "source": [
    "# Problem 2"
   ]
  },
  {
   "cell_type": "markdown",
   "metadata": {},
   "source": [
    "***Kendall’s tau rank correlation between $X$ and $Y$ is $0.55$. Both $X$ and $Y$ are strictly positive random variables. What is Kendall’s tau between $X$ and $1/Y$ ? What is the Kendall’s tau between $1/X$ and $1/Y$ ?***"
   ]
  },
  {
   "cell_type": "markdown",
   "metadata": {},
   "source": [
    "\\begin{split}\n",
    "\\rho_\\tau(X,Y)&=E[\\text{sign}\\{(X-X^*)(Y-Y^*)\\}]\\\\\n",
    "&=\\int\\int~\\text{sign}\\{(x-x^*)(y-y^*)\\}~p_{X,Y}(x,y)~dx~dy\n",
    "\\end{split}"
   ]
  },
  {
   "cell_type": "markdown",
   "metadata": {},
   "source": [
    "### $X$ and $1/Y$"
   ]
  },
  {
   "cell_type": "markdown",
   "metadata": {},
   "source": [
    "Notice that X and Y are strictly positive.\n",
    "\\begin{split}\n",
    "\\rho_\\tau(X,1/Y)&=E[\\text{sign}\\{(X-X^*)(1/Y-1/Y^*)\\}]\\\\\n",
    "&=\\int\\int~\\text{sign}\\{(x-x^*)(\\frac{1}{y}-\\frac{1}{y^*})\\}~p_{X,Y}(x,y)~dx~dy\n",
    "\\end{split}\n",
    "Note that for any positive $y$ and $y^*$, $\\text{sign}\\{(x-x^*)(\\frac{1}{y}-\\frac{1}{y^*})\\}$ and $\\text{sign}\\{(x-x^*)(y-y^*)\\}$ always have opposite signs. which means $\\text{sign}\\{(x-x^*)(\\frac{1}{y}-\\frac{1}{y^*})\\} = -~\\text{sign}\\{(x-x^*)(y-y^*)\\}$. So,\n",
    "\\begin{split}\n",
    "\\rho_\\tau(X,1/Y)&=E[\\text{sign}\\{(X-X^*)(1/Y-1/Y^*)\\}]\\\\\n",
    "&=\\int\\int~\\text{sign}\\{(x-x^*)(\\frac{1}{y}-\\frac{1}{y^*})\\}~p_{X,Y}(x,y)~dx~dy\\\\\n",
    "&=\\int\\int~-~\\text{sign}\\{(x-x^*)(y-y^*)\\}~p_{X,Y}(x,y)~dx~dy\\\\\n",
    "&=-\\rho_\\tau(X,Y)\\\\\n",
    "&=-0.55\n",
    "\\end{split}"
   ]
  },
  {
   "cell_type": "markdown",
   "metadata": {},
   "source": [
    "### $1/X$ and $1/Y$"
   ]
  },
  {
   "cell_type": "markdown",
   "metadata": {},
   "source": [
    "\\begin{split}\n",
    "\\rho_\\tau(1/X,1/Y)&=E[\\text{sign}\\{(1/X-1/X^*)(1/Y-1/Y^*)\\}]\\\\\n",
    "&=\\int\\int~\\text{sign}\\{(\\frac{1}{x}-\\frac{1}{x^*})(\\frac{1}{y}-\\frac{1}{y^*})\\}~p_{X,Y}(x,y)~dx~dy\n",
    "\\end{split}\n",
    "Note that for any positive $ x$, $x^*$, $y$ and $y^*$, $\\text{sign}\\{\\frac{1}{y}-\\frac{1}{y^*}\\}$ and $\\text{sign}\\{y-y^*\\}$ always have opposite signs. And $\\text{sign}\\{\\frac{1}{x}-\\frac{1}{x^*}\\}$ and $\\text{sign}\\{x-x^*\\}$ always have opposite signs. Which indicates that $\\text{sign}\\{(\\frac{1}{x}-\\frac{1}{x^*})(\\frac{1}{y}-\\frac{1}{y^*})\\} = ~\\text{sign}\\{(x-x^*)(y-y^*)\\}$. So,\n",
    "\\begin{split}\n",
    "\\rho_\\tau(X,1/Y)&=E[\\text{sign}\\{(X-X^*)(1/Y-1/Y^*)\\}]\\\\\n",
    "&=\\int\\int~\\text{sign}\\{(\\frac{1}{x}-\\frac{1}{x^*})(\\frac{1}{y}-\\frac{1}{y^*})\\}~p_{X,Y}(x,y)~dx~dy\\\\\n",
    "&=\\int\\int~\\text{sign}\\{(x-x^*)(y-y^*)\\}~p_{X,Y}(x,y)~dx~dy\\\\\n",
    "&=\\rho_\\tau(X,Y)\\\\\n",
    "&=0.55\n",
    "\\end{split}"
   ]
  },
  {
   "cell_type": "markdown",
   "metadata": {},
   "source": [
    "# Problem 3"
   ]
  },
  {
   "cell_type": "markdown",
   "metadata": {},
   "source": [
    "***Suppose that $X$ is Uniform(0,1) and $Y = X^2$. Then the Spearman rank correlation and the Kendall’s tau between $X$ and $Y$ will both equal 1, but the Pearson correlation between $X$ and $Y$ will be less than 1. Explain why this is the case.<br>***"
   ]
  },
  {
   "cell_type": "markdown",
   "metadata": {},
   "source": [
    "First compute the distribution function of $Y$. \n",
    "\\begin{split}\n",
    "F_Y(y)&=P(Y\\leq y)=P(X^2\\leq y)\\\\\n",
    "&=P(X\\leq \\sqrt{y})\\\\\n",
    "&=\\sqrt{y}\\\\\n",
    "f_Y(y) &= \\frac{d F_Y(y)}{dy} = \\frac{1}{2\\sqrt{y}}. ~ ~y\\in [0,1]\n",
    "\\end{split}"
   ]
  },
  {
   "cell_type": "markdown",
   "metadata": {},
   "source": [
    "### Spearman rank correlation"
   ]
  },
  {
   "cell_type": "markdown",
   "metadata": {},
   "source": [
    "\\begin{split}\n",
    "\\rho_S(X,Y)&=\\text{Corr}\\{F_X(X),F_Y(Y)\\}\\\\\n",
    "&=\\frac{\\text{Cov}\\{F_X(X),F_Y(Y)\\}}{\\sqrt{\\text{Var}(F_X(X))\\text{Var}(F_Y(Y))}}\\\\\n",
    "&=\\frac{\\text{Cov}\\{X,\\sqrt{Y}\\}}{\\sqrt{\\text{Var}(X)\\text{Var}(\\sqrt{Y})}}\\\\\n",
    "&=\\frac{\\text{Cov}\\{X,\\sqrt{X^2}\\}}{\\sqrt{\\text{Var}(X)\\text{Var}(\\sqrt{X^2})}}\\\\\n",
    "&=\\frac{\\text{Cov}\\{X,X\\}}{\\sqrt{\\text{Var}(X)\\text{Var}(X)}}\\\\\n",
    "&=\\frac{\\text{Var}(X)}{\\text{Var}(X)}\\\\\n",
    "&=1\\\\\n",
    "\\end{split}"
   ]
  },
  {
   "cell_type": "markdown",
   "metadata": {},
   "source": [
    "### Kendall’s tau"
   ]
  },
  {
   "cell_type": "markdown",
   "metadata": {},
   "source": [
    "Since $Y=X^2$, for any $x_i>x_j>0$, we have $x_i^2>x_j^2$, which is $y_i>y_j$. In short, $x>x^*$ indicates $y>y^*$. Therefore, $\\text{sign}\\{(x-x^*)(y-y^*)\\}$ is always 1.\n",
    "\\begin{split}\n",
    "\\rho_\\tau(X,Y)&=E[\\text{sign}\\{(X-X^*)(Y-Y^*)\\}]\\\\\n",
    "&=\\int\\int~\\text{sign}\\{(x-x^*)(y-y^*)\\}~p_{X,Y}(x,y)~dx~dy\\\\\n",
    "&=\\int\\int~p_{X,Y}(x,y)~dx~dy\\\\\n",
    "&=1\\\\\n",
    "\\end{split}\n"
   ]
  },
  {
   "cell_type": "markdown",
   "metadata": {},
   "source": [
    "### Pearson correlation"
   ]
  },
  {
   "cell_type": "markdown",
   "metadata": {},
   "source": [
    "$X\\sim Uniform(0,1)$, so $E(X)=0.5$<br>\n",
    "$E(Y) = \\int_0^1yf_Y(y)dy=\\int_0^1y\\frac{1}{2\\sqrt{y}}dy=\\frac{1}{3}$\n",
    "\\begin{split}\n",
    "\\rho(X,Y)&=\\text{Corr}(X,Y)\\\\\n",
    "&=\\frac{\\text{Cov}(X,Y)}{\\sqrt{\\text{Var}(X)\\text{Var}(Y)}}\\\\\n",
    "\\text{Cov}(X,Y)&=E[(X-E(X))(Y-E(Y))]\\\\\n",
    "&=E[(X-\\frac{1}{2})(X^2-\\frac{1}{3})]\\\\\n",
    "&=E[X^3-\\frac{1}{2}X^2-\\frac{1}{3}X+\\frac{1}{6}]\\\\\n",
    "&=E(X^3)-\\frac{1}{2}E(X^2)-\\frac{1}{3}E(X)+\\frac{1}{6}\\\\\n",
    "\\end{split}\n",
    "$E(X^3) = \\int_0^1x^3dx=\\frac{1}{4}$<br>\n",
    "$E(X^2) = \\int_0^1x^2dx=\\frac{1}{3}$<br>\n",
    "$Var(X) = \\frac{1}{12}$<br>\n",
    "$E(Y^2) = \\int_0^1y^2\\frac{1}{2\\sqrt{y}}dy=\\frac{1}{5}$<br>\n",
    "$Var(Y) = E(Y^2)-E^2(Y)=\\frac{1}{5}-(\\frac{1}{3})^2=\\frac{4}{45}$<br>\n",
    "So,\n",
    "\\begin{split}\n",
    "\\rho(X,Y)&=\n",
    "\\frac{E(X^3)-\\frac{1}{2}E(X^2)-\\frac{1}{3}E(X)+\\frac{1}{6}}{\\sqrt{\\text{Var}(X)\\text{Var}(Y)}}\\\\\n",
    "&=\\frac{\\frac{1}{4}-\\frac{1}{2}\\times\\frac{1}{3}-\\frac{1}{3}\\times\\frac{1}{2}+\\frac{1}{6}}{\\sqrt{\\frac{1}{12}\\times\\frac{4}{45}}}\\\\\n",
    "&=\\frac{\\frac{1}{12}}{\\sqrt{\\frac{1}{135}}}\\\\\n",
    "&=0.9682<1\\\\\n",
    "\\end{split}"
   ]
  },
  {
   "cell_type": "markdown",
   "metadata": {},
   "source": [
    "### Explain why this is the case"
   ]
  },
  {
   "cell_type": "markdown",
   "metadata": {},
   "source": [
    " A rank statistic is a statistic that depends on the data only through the ranks. A key property of ranks is that they are unchanged by strictly monotonic transformations of the variables. <br>\n",
    "Spearman rank correlation and Kendall’s tau are both rank correlation. In particular, the ranks are unchanged by transforming each variable by its CDF, so the distribution of any rank statistic depends only on the copula of the observations, not on the univariate marginal distributions. Therefore, Spearman rank correlation and Kendall’s tau between $X$ and $Y$ are both 1.<br><br>\n",
    "While Pearson correlation needs the linear relationship between the two variables and needs them to be approximates normal distribution. In this case $X$ and $Y$ can not satisfy the assumption of Pearson correlation, so it is less than 1.<br>"
   ]
  },
  {
   "cell_type": "markdown",
   "metadata": {},
   "source": [
    "# Problem 4"
   ]
  },
  {
   "cell_type": "markdown",
   "metadata": {},
   "source": [
    "*** (Optional) Recall that the bivariate Gumbel copula takes the form\n",
    "$$C_{\\alpha}(u,v) = \\exp\\{−[(−\\log u)^\\alpha +(−\\log v)^\\alpha]^{\\frac{1}{\\alpha}} \\},\n",
    "$$\n",
    "where $\\alpha \\in [1,\\infty)$. Show that, as $\\alpha \\rightarrow \\infty$, $C_\\alpha(u,v) \\rightarrow C^+(u,v) = \\min(u,v)$.<br>***"
   ]
  },
  {
   "cell_type": "markdown",
   "metadata": {},
   "source": [
    "Denote $a = −\\log u \\in (0,\\infty)$ and $b = −\\log v \\in (0,\\infty)$<br>\n",
    "**Without loss of generality**, let's suppose $u\\leq v$, then $a\\geq b >0$ <br>\n",
    "Let's consider $−[(−\\log u)^\\alpha +(−\\log v)^\\alpha]^{\\frac{1}{\\alpha}}$ which is $−(a^\\alpha +b^\\alpha)^{\\frac{1}{\\alpha}}$ first.<br>\n",
    "Since $a\\geq b$, we have \n",
    "\\begin{split}\n",
    "−(a^\\alpha +a^\\alpha)^{\\frac{1}{\\alpha}} &\\leq −(a^\\alpha +b^\\alpha)^{\\frac{1}{\\alpha}} &< −(a^\\alpha )^{\\frac{1}{\\alpha}}\\\\\n",
    "−(2a^\\alpha)^{\\frac{1}{\\alpha}} &\\leq −(a^\\alpha +b^\\alpha)^{\\frac{1}{\\alpha}} &< −(a^\\alpha )^{\\frac{1}{\\alpha}}\\\\\n",
    "\\lim_{\\alpha\\rightarrow\\infty}−(2a^\\alpha)^{\\frac{1}{\\alpha}} &\\leq \\lim_{\\alpha\\rightarrow\\infty}−(a^\\alpha +b^\\alpha)^{\\frac{1}{\\alpha}} &< \\lim_{\\alpha\\rightarrow\\infty}−(a^\\alpha )^{\\frac{1}{\\alpha}}\\\\\n",
    "-a &\\leq \\lim_{\\alpha\\rightarrow\\infty}−(a^\\alpha +b^\\alpha)^{\\frac{1}{\\alpha}} &< -a\\\\\n",
    "\\end{split}\n",
    "Therefore, $\\lim\\limits_{\\alpha\\rightarrow\\infty}−(a^\\alpha +b^\\alpha)^{\\frac{1}{\\alpha}} = -a$<br>\n",
    "which is $\\lim\\limits_{\\alpha\\rightarrow\\infty}−[(−\\log u)^\\alpha +(−\\log v)^\\alpha]^{\\frac{1}{\\alpha}} = \\log u$<br>\n",
    "So, $\\lim\\limits_{\\alpha\\rightarrow\\infty}\\exp\\{−[(−\\log u)^\\alpha +(−\\log v)^\\alpha]^{\\frac{1}{\\alpha}} \\} = \\exp (\\log u)=u$<br>\n",
    "Under our assumption $u\\leq v$, so, $\\lim\\limits_{\\alpha\\rightarrow\\infty}C_\\alpha(u,v) = \\min(u,v) = C^+(u,v)$<br>"
   ]
  },
  {
   "cell_type": "markdown",
   "metadata": {},
   "source": [
    "# Problem 5"
   ]
  },
  {
   "cell_type": "markdown",
   "metadata": {},
   "source": [
    "***We have two $B$-rated bonds, with one-year default probability at 3.46%. Suppose that the interest rate is 4%, and their default times satisfy the Gaussian copula with $\\rho = 0.5$, calculate the following expected present values, i.e. fair prices.***\n",
    ">***(a)*** What is the fair price of a first-to-default swap which pays \\$1,000,000 if at least one of them defaults by the end of the first year?<br>\n",
    "***(b)*** How about a second-to-default swap which pays \\$1,000,000 if both default in the first year?"
   ]
  },
  {
   "cell_type": "markdown",
   "metadata": {},
   "source": [
    "## (a)\n",
    "\\begin{split}\n",
    "FTD &= e^{-rT}[F_1(T)+F_2(T)-C(F_1(T),F_2(T))]\\\\\n",
    "FTD &=1000000\\times e^{-0.04\\times1}\\times[0.0346+0.0346-C(0.0346,0.0346)]\\\\\n",
    "\\end{split}"
   ]
  },
  {
   "cell_type": "code",
   "execution_count": 1,
   "metadata": {},
   "outputs": [
    {
     "data": {
      "text/html": [
       "0.00727678978541412"
      ],
      "text/latex": [
       "0.00727678978541412"
      ],
      "text/markdown": [
       "0.00727678978541412"
      ],
      "text/plain": [
       "[1] 0.00727679\n",
       "attr(,\"error\")\n",
       "[1] 1e-15\n",
       "attr(,\"msg\")\n",
       "[1] \"Normal Completion\""
      ]
     },
     "metadata": {},
     "output_type": "display_data"
    }
   ],
   "source": [
    "library(mvtnorm)\n",
    "pmvnorm(lower = c(-Inf,-Inf), upper = c(qnorm(0.0346),qnorm(0.0346)),\n",
    "        sigma = matrix( c(1,0.5,0.5,1),2,2))"
   ]
  },
  {
   "cell_type": "markdown",
   "metadata": {},
   "source": [
    "Gaussian copula with $\\rho = 0.5$\n",
    "\\begin{split}\n",
    "FTD &=1000000\\times e^{-0.04\\times1}\\times[0.0346+0.0346-C(0.0346,0.0346)]\\\\\n",
    "&=1000000\\times e^{-0.04\\times1}\\times[0.0346+0.0346-0.00727679]\\\\\n",
    "&=59495.166\\\\\n",
    "\\end{split}"
   ]
  },
  {
   "cell_type": "markdown",
   "metadata": {},
   "source": [
    "## (b)\n",
    "\\begin{split}\n",
    "LTD &= e^{-rT}C(F_1(T),F_2(T))\\\\\n",
    "LTD &=1000000\\times e^{-0.04\\times1}\\times C(0.0346,0.0346)\\\\\n",
    "\\end{split}"
   ]
  },
  {
   "cell_type": "markdown",
   "metadata": {},
   "source": [
    "Gaussian copula with $\\rho = 0.5$\n",
    "\\begin{split}\n",
    "LTD &=1000000\\times e^{-0.04\\times1}\\times[0.0346+0.0346-C(0.0346,0.0346)]\\\\\n",
    "&=1000000\\times e^{-0.04\\times1}\\times0.00727679\\\\\n",
    "&=6991.46298\\\\\n",
    "\\end{split}"
   ]
  },
  {
   "cell_type": "markdown",
   "metadata": {},
   "source": [
    "# Problem 6"
   ]
  },
  {
   "cell_type": "markdown",
   "metadata": {},
   "source": [
    "***Suppose that we have two bonds A and B. Denote by $T_A$ and $T_B$ their respective default times (in year). Suppose that $T_A$ follows exponential distribution with hazard $\\lambda_A = 0.01$ (i.e. $P (T_A \\geq t) = e^{−\\lambda_A t}$) and $T_B$ follows exponential with hazard $\\lambda_B = 0.02$. Suppose that jointly they satisfy the Gumbel copula with $\\alpha = 2$. Find the probabilities that <br>(i) both will default by the end of the first year; <br>(ii) at least one will default by the end of the first year.***"
   ]
  },
  {
   "cell_type": "markdown",
   "metadata": {},
   "source": [
    "## (i)\n",
    "\n",
    "$$g^{-1}_\\alpha(u)=\\exp(-u^{1/\\alpha})=\\exp(-\\sqrt{u})\\\\\n",
    "\\tag{6.1}$$\n",
    "$$\n",
    "P(\\tau_A\\leq T,\\tau_B\\leq T)\n",
    "=C(F_A(T),F_B(T))\\\\\n",
    "\\tag{6.2}$$\n",
    "\\begin{split}\n",
    "F_A(T)&=P(T_A\\leq T)\\\\\n",
    "&= 1-P(T_A\\geq T)\\\\\n",
    "&=1-e^{-\\lambda_AT}\\\\\n",
    "&=1-e^{-0.01}\\\\\n",
    "F_B(T)&=P(T_B\\leq T)\\\\\n",
    "&= 1-P(T_B\\geq T)\\\\\n",
    "&=1-e^{-\\lambda_BT}\\\\\n",
    "&=1-e^{-0.02}\\\\\\\\\n",
    "P(\\tau_A\\leq 1,\\tau_B\\leq 1)&=C_g(F_A(1),F_B(1))\\\\\n",
    "&=g^{-1}_\\alpha(g_\\alpha(F_A(1))+g_\\alpha(F_A(1)))\\\\\n",
    "&=g^{-1}_\\alpha(g_\\alpha(1-e^{-0.01})+g_\\alpha(1-e^{-0.02}))\\\\\\\\\n",
    "g_\\alpha(1-e^{-0.01})&=(-\\log \\{1-e^{-0.01}\\})^2 \\\\\n",
    "&=(\\log \\{1-e^{-0.01}\\})^2 \\\\\n",
    "&=21.25363\\\\\n",
    "g_\\alpha(1-e^{-0.02})&=(-\\log \\{1-e^{-0.02}\\})^2 \\\\\n",
    "&=(\\log \\{1-e^{-0.02}\\})^2 \\\\\n",
    "&=15.38213\\\\\\\\\n",
    "P(\\tau_A\\leq 1,\\tau_B\\leq 1)&=g^{-1}_\\alpha(21.25363+15.38213)\\\\\n",
    "&=g^{-1}_\\alpha(36.63576)\\\\\n",
    "&=\\exp(-\\sqrt{36.63576})\\\\\n",
    "&=0.00235\\\\\n",
    "\\end{split}"
   ]
  },
  {
   "cell_type": "markdown",
   "metadata": {},
   "source": [
    "## (ii)\n",
    "\n",
    "\\begin{split}\n",
    "P(\\tau_A\\leq T \\text{ or } \\tau_B\\leq T)&=P(\\tau_A\\leq T)+P(\\tau_B\\leq T)-\n",
    "P(\\tau_A\\leq T,\\tau_B\\leq T)\\\\\n",
    "&=P(\\tau_A\\leq T)+P(\\tau_B\\leq T)-C(F_A(T),F_B(T))\\\\\n",
    "&=1-e^{-0.01}+1-e^{-0.02}-0.00235\\\\\n",
    "&=0.0274\\\\\n",
    "\\end{split}"
   ]
  },
  {
   "cell_type": "markdown",
   "metadata": {},
   "source": [
    "# Problem 7"
   ]
  },
  {
   "cell_type": "markdown",
   "metadata": {},
   "source": [
    "***Continue from the preceding problem. Suppose that a policy pays 1 million dollars if both A and B default by the end of the first year. If the interest rate is 0, what would be fair value of this policy? What if $\\alpha = 1$ instead of $2$?***"
   ]
  },
  {
   "cell_type": "markdown",
   "metadata": {},
   "source": [
    "### if $\\alpha=2$\n",
    "\\begin{split}\n",
    "FTD &= e^{-rT}C(F_1(T),F_2(T))\\\\\n",
    "FTD &=1000000\\times e^{-0\\times1}\\times0.0023513903\\\\\n",
    "&=2351.3903\\\\\n",
    "\\end{split}"
   ]
  },
  {
   "cell_type": "markdown",
   "metadata": {},
   "source": [
    "### if $\\alpha=1$\n",
    "\n",
    "$$g^{-1}_\\alpha(u)=\\exp(-u^{1/\\alpha})=\\exp(-u)\\\\\n",
    "\\tag{7.1}$$\n",
    "$$\n",
    "P(\\tau_A\\leq T,\\tau_B\\leq T)\n",
    "=C(F_A(T),F_B(T))\\\\\n",
    "\\tag{7.2}$$\n",
    "\\begin{split}\n",
    "F_A(T)\n",
    "&=1-e^{-0.01}\\\\\n",
    "F_B(T)\n",
    "&=1-e^{-0.02}\\\\\\\\\n",
    "P(\\tau_A\\leq 1,\\tau_B\\leq 1)&=C_g(F_A(1),F_B(1))\\\\\n",
    "&=g^{-1}_\\alpha(g_\\alpha(F_A(1))+g_\\alpha(F_A(1)))\\\\\n",
    "&=g^{-1}_\\alpha(g_\\alpha(1-e^{-0.01})+g_\\alpha(1-e^{-0.02}))\\\\\\\\\n",
    "g_\\alpha(1-e^{-0.01})&=-\\log \\{1-e^{-0.01}\\} \\\\\n",
    "&=4.610166\\\\\n",
    "g_\\alpha(1-e^{-0.02})&=-\\log \\{1-e^{-0.02}\\} \\\\\n",
    "&=3.922006\\\\\\\\\n",
    "P(\\tau_A\\leq 1,\\tau_B\\leq 1)&=g^{-1}_\\alpha(4.610166+3.922006)\\\\\n",
    "&=g^{-1}_\\alpha(8.532172)\\\\\n",
    "&=\\exp(-8.532172)\\\\\n",
    "&=0.00019702649\\\\\n",
    "\\end{split}\n",
    "Then we can compute the fair value.\n",
    "\\begin{split}\n",
    "FTD &= e^{-rT}C(F_1(T),F_2(T))\\\\\n",
    "FTD &=1000000\\times e^{-0\\times1}\\times0.00019702649\\\\\n",
    "&=197.0264\\\\\n",
    "\\end{split}"
   ]
  }
 ],
 "metadata": {
  "kernelspec": {
   "display_name": "R 3.4",
   "language": "R",
   "name": "ir34"
  },
  "language_info": {
   "codemirror_mode": "r",
   "file_extension": ".r",
   "mimetype": "text/x-r-source",
   "name": "R",
   "pygments_lexer": "r",
   "version": "3.4.3"
  }
 },
 "nbformat": 4,
 "nbformat_minor": 2
}
