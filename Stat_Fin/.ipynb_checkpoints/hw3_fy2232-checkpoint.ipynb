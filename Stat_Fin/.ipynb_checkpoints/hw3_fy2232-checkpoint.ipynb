{
 "cells": [
  {
   "cell_type": "markdown",
   "metadata": {},
   "source": [
    "<br><br>\n",
    "# <center>STATISTICAL METHODS IN FINANCE</center>\n",
    "# <center>HW3</center>\n",
    "<center>Fan Yang</center>\n",
    "<center>UNI: fy2232</center>\n",
    "<center>02/14/2018</center>"
   ]
  },
  {
   "cell_type": "markdown",
   "metadata": {},
   "source": [
    "# Problem 1 $_{_{(\\text{Page 512 Exec 1})}}$"
   ]
  },
  {
   "cell_type": "markdown",
   "metadata": {},
   "source": [
    "***What is the beta of a portfolio if $E(R_P) = 16\\%$, $\\mu_f = 5.5\\%$, and $E(R_M ) = 11 \\%$?<br>***"
   ]
  },
  {
   "cell_type": "markdown",
   "metadata": {},
   "source": [
    " \\begin{split}\n",
    "\\beta  &= \\frac{\\mu_j-\\mu_f}{\\mu_j-\\mu_f}\\\\\n",
    "&= \\frac{E(R_P)-\\mu_f}{E(R_M)-\\mu_f}\\\\\n",
    "&=\\frac{16\\%-5.5\\%}{11\\%-5.5\\%}\\\\\n",
    "&=1.90909\\\\\n",
    "\\end{split}"
   ]
  },
  {
   "cell_type": "markdown",
   "metadata": {},
   "source": [
    "# Problem 2 $_{_{(\\text{Page 513 Exec 2})}}$"
   ]
  },
  {
   "cell_type": "markdown",
   "metadata": {},
   "source": [
    "***Suppose that the risk-free rate of interest is 0.03 and the expected rate of return on the market portfolio is 0.14. The standard deviation of the market portfolio is 0.12.<br>***\n",
    ">***(a)*** According to the CAPM, what is the efficient way to invest with an expected rate of return of 0.11?<br>\n",
    "***(b)*** What is the risk (standard deviation) of the portfolio in part (a)?<br>"
   ]
  },
  {
   "cell_type": "markdown",
   "metadata": {},
   "source": [
    "## (a)\n",
    "\\begin{split}\n",
    "R&=wR_M+(1-w)\\mu_f\\\\\n",
    "w&= \\frac{R-\\mu_f}{R_M-\\mu_f}\\\\\n",
    "&=\\frac{0.11-0.03}{0.14-0.03}\\\\\n",
    "&=0.7272727\\\\\n",
    "\\end{split}\n",
    "The proportion of the investment in the market portfolio is 0.7272727 and in the risk-free asset is 0.2727273."
   ]
  },
  {
   "cell_type": "markdown",
   "metadata": {},
   "source": [
    "## (b)\n",
    "$$\\sigma_R=w\\sigma_M=0.7272727\\times0.12=0.087272724$$"
   ]
  },
  {
   "cell_type": "markdown",
   "metadata": {},
   "source": [
    "# Problem 3 $_{_{(\\text{Page 513 Exec 3})}}$"
   ]
  },
  {
   "cell_type": "markdown",
   "metadata": {},
   "source": [
    "***Suppose that the risk-free interest rate is 0.023, that the expected return on the market portfolio is $\\mu_M = 0.10$, and that the volatility of the market portfolio is $\\sigma_M = 0.12$.<br>***\n",
    ">*** (a)*** What is the expected return on an efficient portfolio with $\\sigma_R = 0.05$?<br>\n",
    "*** (b)*** Stock A returns have a covariance of 0.004 with market returns. What is the beta of Stock A?<br>\n",
    "***(c)*** Stock B has beta equal to 1.5 and $\\sigma_{\\epsilon} = 0.08$. Stock C has beta equal to 1.8 and $\\sigma_{\\epsilon} = 0.10$.\n",
    ">>i. What is the expected return of a portfolio that is one-half Stock B and one-half Stock C?<br>\n",
    ">>ii. What is the volatility of a portfolio that is one-half Stock B and one-half Stock C? Assume that the $\\epsilon_s$ of Stocks B and C are in- dependent."
   ]
  },
  {
   "cell_type": "markdown",
   "metadata": {},
   "source": [
    "## (a).\n",
    "\\begin{split}\n",
    "w&=\\frac{\\sigma_R}{\\sigma_M}\\\\\n",
    "&=\\frac{0.05}{0.12}\\\\\n",
    "&=0.4166667\\\\\n",
    "R&=\\mu_f+w(R_M-\\mu_f)\\\\\n",
    "&=0.023+0.4166667\\times(0.10-0.023)\\\\\n",
    "&=0.0550833359\\\\\n",
    "\\end{split}"
   ]
  },
  {
   "cell_type": "markdown",
   "metadata": {},
   "source": [
    "## (b).\n",
    "\\begin{split}\n",
    "\\sigma_{Mj}&=\\beta_j\\sigma_M^2\\\\\n",
    "\\beta_j&=\\frac{\\sigma_{Mj}}{\\sigma_M^2}\\\\\n",
    "&=\\frac{0.004}{0.12^2}\\\\\n",
    "&=0.2777778\\\\\n",
    "\\end{split}"
   ]
  },
  {
   "cell_type": "markdown",
   "metadata": {},
   "source": [
    "## (c)."
   ]
  },
  {
   "cell_type": "markdown",
   "metadata": {},
   "source": [
    "### i.\n",
    "\\begin{split}\n",
    "\\mu_B&=\\mu_f+\\beta_B(\\mu_M-\\mu_f)\\\\\n",
    "&=0.023+ 1.5\\times(0.10-0.023)\\\\\n",
    "&=0.1385\\\\\n",
    "\\mu_C&=\\mu_f+\\beta_C(\\mu_M-\\mu_f)\\\\\n",
    "&=0.023+ 1.8\\times(0.10-0.023)\\\\\n",
    "&=0.1616\\\\\n",
    "\\mu&=0.5\\mu_B+0.5\\mu_C\\\\\n",
    "&=0.15005\n",
    "\\end{split}"
   ]
  },
  {
   "cell_type": "markdown",
   "metadata": {},
   "source": [
    "### ii.\n",
    "\\begin{split}\n",
    "\\sigma^2_{\\epsilon,P}&=w_B^2\\sigma_B^2+w_C^2\\sigma_C^2\\\\\n",
    "&=0.5^2\\times0.08^2+0.5^2\\times0.10^2\\\\\n",
    "&=101.0041\\\\\n",
    "\\sigma_{\\epsilon,P}&=10.0500796\\\\\n",
    "\\end{split}"
   ]
  },
  {
   "cell_type": "markdown",
   "metadata": {},
   "source": [
    "# Problem 4 $_{_{(\\text{Page 513 Exec 7})}}$"
   ]
  },
  {
   "cell_type": "markdown",
   "metadata": {},
   "source": [
    "*** Suppose there are three risky assets with the following betas and $\\sigma_{\\epsilon_j}^2$ .***\n",
    "\n",
    "j | $\\beta_j$| $\\sigma_{\\epsilon_j}^2$\n",
    "---- | --- | ---\n",
    "1 | 0.9 |0.010\n",
    "2 |  1.1| 0.015\n",
    "3 |0.6  |0.011\n",
    "\n",
    "***Suppose also that the variance of $R_{Mt} − \\mu_{ft}$ is 0.014.***\n",
    "\n",
    "> ***(a)*** What is the beta of an equally weighted portfolio of these three assets?<br>\n",
    " ***(b)***  What is the variance of the excess return on the equally weighted portfolio?<br>\n",
    " ***(c)***  What proportion of the total risk of asset 1 is due to market risk?"
   ]
  },
  {
   "cell_type": "markdown",
   "metadata": {},
   "source": [
    "## (a).\n",
    "\\begin{split}\n",
    "\\beta_P&=\\sum_{j=1}^3w_j\\beta_j\\\\\n",
    "&=\\frac{0.9+1.1+0.6}{3}\\\\\n",
    "&=0.8666667\\\\\n",
    "\\end{split}"
   ]
  },
  {
   "cell_type": "markdown",
   "metadata": {},
   "source": [
    "## (b).\n",
    "\\begin{split}\n",
    "\\sigma^2_{\\epsilon,P}&=\\sum_{j=1}^3w^2_j\\sigma_{\\epsilon,j}\\\\\n",
    "&=\\frac{0.010+0.015+0.011}{3^2}\\\\\n",
    "&=0.004\\\\\n",
    "\\sigma_P^2&= \\left(\\sum_{j=1}^Nw_j\\beta_j\\right)^2(R_M-\\mu_f)+\\sigma^2_{\\epsilon,P}\\\\\n",
    "&=0.8666667^2\\times0.014+0.004\\\\\n",
    "&=0.0145155556\\\\\n",
    "\\end{split}"
   ]
  },
  {
   "cell_type": "markdown",
   "metadata": {},
   "source": [
    "## (c).\n",
    "\\begin{split}\n",
    "\\text{Proportion }&=\\frac{\\left(\\sum_{j=1}^Nw_j\\beta_j\\right)^2(R_M-\\mu_f)}{\\left(\\sum_{j=1}^Nw_j\\beta_j\\right)^2(R_M-\\mu_f)+\\sigma_{\\epsilon 1}^2}\\\\\n",
    "&=\\frac{0.8666667^2\\times0.014}{0.8666667^2\\times0.014+0.010}\\\\\n",
    "&=0.512565\\\\\n",
    "\\end{split}"
   ]
  },
  {
   "cell_type": "markdown",
   "metadata": {},
   "source": [
    "# Problem 5 $_{_{(\\text{Page 514 Exec 10})}}$"
   ]
  },
  {
   "cell_type": "markdown",
   "metadata": {},
   "source": [
    "***Suppose that the risk-free rate of interest is 0.07 and the expected rate of return on the market portfolio is 0.14. The standard deviation of the market portfolio is 0.12.***<br>\n",
    "> ***(a)*** According to the CAPM, what is the efficient way to invest with an expected rate of return of 0.11?<br>\n",
    "***(b)*** What is the risk (standard deviation) of the portfolio in part (a)?"
   ]
  },
  {
   "cell_type": "markdown",
   "metadata": {},
   "source": [
    "## (a).\n",
    "\\begin{split}\n",
    "\\mu_P&=\\mu_f+\\beta(\\mu_M-\\mu_f)\\\\\n",
    "0.11&=0.07+\\beta(0.14-0.07)\\\\\n",
    "\\beta&=0.57142857\\\\\n",
    "\\end{split}"
   ]
  },
  {
   "cell_type": "markdown",
   "metadata": {},
   "source": [
    "## (b)\n",
    "$$\\sigma_R=\\beta\\sigma_M=0.57142857\\times0.12=0.0685714284$$"
   ]
  },
  {
   "cell_type": "markdown",
   "metadata": {},
   "source": [
    "# Problem 6 $_{_{(\\text{Page 514 Exec 11})}}$"
   ]
  },
  {
   "cell_type": "markdown",
   "metadata": {},
   "source": [
    "***Suppose there are three risky assets with the following betas and $\\sigma^2$ when regressed on the market portfolio.***\n",
    "\n",
    "j | $\\beta_j$| $\\sigma_{\\epsilon_j}^2$\n",
    "---- | --- | ---\n",
    "1 | 0.7 |0.010\n",
    "2 | 0.8 |0.025\n",
    "3 | 0.6 |0.012\n",
    "\n",
    "Assume $\\epsilon_1, \\epsilon_2, \\text{ and }\\epsilon_3$ are uncorrelated. Suppose also that the variance of $R_M − \\mu_f$ is 0.02.\n",
    ">***(a)*** What is the beta of an equally weighted portfolio of these three assets?<br>\n",
    "***(b)*** What is the variance of the excess return on the equally weighted portfolio?<br>\n",
    "***(c)*** What proportion of the total risk of asset 1 is due to market risk?"
   ]
  },
  {
   "cell_type": "markdown",
   "metadata": {},
   "source": [
    "## (a).\n",
    "\\begin{split}\n",
    "\\beta_P&=\\sum_{j=1}^3w_j\\beta_j\\\\\n",
    "&=\\frac{0.7+0.8+0.6}{3}\\\\\n",
    "&=0.7\\\\\n",
    "\\end{split}"
   ]
  },
  {
   "cell_type": "markdown",
   "metadata": {},
   "source": [
    "## (b).\n",
    "\\begin{split}\n",
    "\\sigma^2_{\\epsilon,P}&=\\sum_{j=1}^3w^2_j\\sigma_{\\epsilon,j}\\\\\n",
    "&=\\frac{0.010+0.025+0.012}{3^2}\\\\\n",
    "&=0.005222222\\\\\n",
    "\\sigma_P^2&= \\left(\\sum_{j=1}^Nw_j\\beta_j\\right)^2(R_M-\\mu_f)+\\sigma^2_{\\epsilon,P}\\\\\n",
    "&=0.7^2\\times0.02+0.005222222\\\\\n",
    "&=0.015022222\\\\\n",
    "\\end{split}"
   ]
  },
  {
   "cell_type": "markdown",
   "metadata": {},
   "source": [
    "## (c).\n",
    "\\begin{split}\n",
    "\\text{Proportion }&=\\frac{\\left(\\sum_{j=1}^Nw_j\\beta_j\\right)^2(R_M-\\mu_f)}{\\left(\\sum_{j=1}^Nw_j\\beta_j\\right)^2(R_M-\\mu_f)+\\sigma_{\\epsilon 1}^2}\\\\\n",
    "&=\\frac{0.7^2\\times0.02}{0.7^2\\times0.02+0.010}\\\\\n",
    "&=0.494949495\\\\\n",
    "\\end{split}"
   ]
  },
  {
   "cell_type": "markdown",
   "metadata": {},
   "source": [
    "# Problem 7 $_{_{(\\text{other Qs})}}$"
   ]
  },
  {
   "cell_type": "markdown",
   "metadata": {},
   "source": [
    "***The ’hw3.csv’ file contains the adjusted closing stock prices of Caterpillar (CAT), IBM and Microsoft (MSFT) over 4963 days. We will work with the daily log-returns of the three stocks computed using these stock prices.<br>***\n",
    ">***(a)*** *Suppose that the three stocks are the only securities trading in the market and that short selling is allowed. Plot the efficient frontier formed by the three stocks. Indicate in your graph the positions of the three stocks by CAT, IBM and MSFT respectively.*<br>\n",
    "***(b)*** *Now, in addition to the three stocks, we have a risk-free asset with daily risk-free interest rate at $5\\%/253$. Again suppose that short selling and borrowing at risk-free rate are allowed, find the tangency portfolio in this case. Plot the line connecting the risk-free asset and the tangency portfolio in the same graph you have in (a). Indicate in your graph the positions of the risk-free asset and the tangency portfolio by crosses (x).*<br>\n",
    "***(c)*** *Redo (a) with short selling not allowed.*\n",
    "\n",
    "***Hint: You may refer to the files ”Example.pdf” and ”r-codeCAPM.pdf” on Courseworks for a similar example.***"
   ]
  },
  {
   "cell_type": "markdown",
   "metadata": {},
   "source": [
    "Load 'hw3.csv' as 'data3':"
   ]
  },
  {
   "cell_type": "code",
   "execution_count": 30,
   "metadata": {},
   "outputs": [],
   "source": [
    "data3 <- read.csv(\"hw3.csv\", header = T, stringsAsFactors = F)"
   ]
  },
  {
   "cell_type": "code",
   "execution_count": 37,
   "metadata": {},
   "outputs": [
    {
     "data": {
      "text/html": [
       "<table>\n",
       "<thead><tr><th scope=col>Date</th><th scope=col>CAT_AC</th><th scope=col>IBM_AC</th><th scope=col>MSFT_AC</th></tr></thead>\n",
       "<tbody>\n",
       "\t<tr><td>2-Jan-87</td><td>3.38    </td><td>20.44   </td><td>0.14    </td></tr>\n",
       "\t<tr><td>5-Jan-87</td><td>3.48    </td><td>20.71   </td><td>0.15    </td></tr>\n",
       "\t<tr><td>6-Jan-87</td><td>3.48    </td><td>20.60   </td><td>0.15    </td></tr>\n",
       "</tbody>\n",
       "</table>\n"
      ],
      "text/latex": [
       "\\begin{tabular}{r|llll}\n",
       " Date & CAT\\_AC & IBM\\_AC & MSFT\\_AC\\\\\n",
       "\\hline\n",
       "\t 2-Jan-87 & 3.38     & 20.44    & 0.14    \\\\\n",
       "\t 5-Jan-87 & 3.48     & 20.71    & 0.15    \\\\\n",
       "\t 6-Jan-87 & 3.48     & 20.60    & 0.15    \\\\\n",
       "\\end{tabular}\n"
      ],
      "text/markdown": [
       "\n",
       "Date | CAT_AC | IBM_AC | MSFT_AC | \n",
       "|---|---|---|\n",
       "| 2-Jan-87 | 3.38     | 20.44    | 0.14     | \n",
       "| 5-Jan-87 | 3.48     | 20.71    | 0.15     | \n",
       "| 6-Jan-87 | 3.48     | 20.60    | 0.15     | \n",
       "\n",
       "\n"
      ],
      "text/plain": [
       "  Date     CAT_AC IBM_AC MSFT_AC\n",
       "1 2-Jan-87 3.38   20.44  0.14   \n",
       "2 5-Jan-87 3.48   20.71  0.15   \n",
       "3 6-Jan-87 3.48   20.60  0.15   "
      ]
     },
     "metadata": {},
     "output_type": "display_data"
    }
   ],
   "source": [
    "# dim(data3)\n",
    "head(data3,3)\n",
    "# lapply(data3,class)"
   ]
  },
  {
   "cell_type": "markdown",
   "metadata": {},
   "source": [
    "## (a)."
   ]
  },
  {
   "cell_type": "code",
   "execution_count": null,
   "metadata": {},
   "outputs": [],
   "source": [
    "price = cbind(data3$CAT_AC, data3$IBM_AC, data3$MSFT_AC)\n",
    "n = nrow(price)\n",
    "Return = log(price[2:n,]/price[1:(n-1),])\n",
    "mu = colMeans(Return)\n",
    "sigma = cov(Return)\n",
    "\n",
    "muP = seq(.0001,.001,length=200)  # target portfolio return\n",
    "sdP = muP # sd of portfolio return\n",
    "weight = matrix(0,nrow=200,ncol=3) # storage for portfolio weights"
   ]
  },
  {
   "cell_type": "code",
   "execution_count": null,
   "metadata": {},
   "outputs": [],
   "source": [
    "price = cbind(data$GM_AC, data$MRK_AC, data$C_AC)\n",
    "n = dim(price)[1]\n",
    "return = log(price[2:n,]/price[1:(n-1),])\n",
    "mu = colMeans(return)\n",
    "sigma = cov(return)\n",
    "\n",
    "muP = seq(.0001,.001,length=200)  # target portfolio return\n",
    "sdP = muP # sd of portfolio return\n",
    "weight = matrix(0,nrow=200,ncol=3) # storage for portfolio weights\n",
    "for (i in 1:length(muP))  # find the optimal portfolios\n",
    "{\n",
    "  result = solve.QP(Dmat=2*sigma,dvec=rep(0,3),\n",
    "                    Amat=cbind(rep(1,3),mu),bvec=c(1,muP[i]),meq=2)\n",
    "  sdP[i] = sqrt(result$value)\n",
    "  weight[i,] = result$solution\n",
    "}\n",
    "par(mfrow = c(1,1))\n",
    "plot(sdP,muP,type=\"l\",xlim=c(.01,.03),ylim=c(0,.001),lwd=3,col=\"red\") # efficient frontier\n",
    "\n",
    "text(sqrt(sigma[1,1]),mu[1],\"GM\",cex=1.1)\n",
    "text(sqrt(sigma[2,2]),mu[2],\"Merck\",cex=1.1)\n",
    "text(sqrt(sigma[3,3]),mu[3],\"Citi\",cex=1.1)\n"
   ]
  }
 ],
 "metadata": {
  "kernelspec": {
   "display_name": "R 3.4",
   "language": "R",
   "name": "ir34"
  },
  "language_info": {
   "codemirror_mode": "r",
   "file_extension": ".r",
   "mimetype": "text/x-r-source",
   "name": "R",
   "pygments_lexer": "r",
   "version": "3.4.3"
  }
 },
 "nbformat": 4,
 "nbformat_minor": 2
}
