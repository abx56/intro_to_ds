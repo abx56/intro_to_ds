{
 "cells": [
  {
   "cell_type": "markdown",
   "metadata": {},
   "source": [
    "<br><br>\n",
    "# <center>STATISTICAL METHODS IN FINANCE</center>\n",
    "# <center>HW2</center>\n",
    "<center>Fan Yang</center>\n",
    "<center>UNI: fy2232</center>\n",
    "<center>02/07/2018</center>"
   ]
  },
  {
   "cell_type": "markdown",
   "metadata": {},
   "source": [
    "# Problem 1 $_{_{(\\text{Page 491 Exec 1})}}$"
   ]
  },
  {
   "cell_type": "markdown",
   "metadata": {},
   "source": [
    "***Suppose that there are two risky assets, A and B, with expected returns equal to $2.3\\%$ and $4.5\\%$, respectively. Suppose that the standard deviations of the returns are $\\sqrt{6}\\%$ and $\\sqrt{11}\\%$ and that the returns on the assets have a correlation of 0.17.<br>***\n",
    ">***(a)*** *What portfolio of A and B achieves a $3\\%$ rate of expected return?*<br>\n",
    "***(b)*** *What portfolios of A and B achieve a $\\sqrt{5.5}\\%$ standard deviation of return? Among these, which has the largest expected return?*"
   ]
  },
  {
   "cell_type": "markdown",
   "metadata": {},
   "source": [
    "## (a). \n",
    "\\begin{split}\n",
    "\\mu&=w\\mu_A+(1-w)\\mu_B\\\\\n",
    "3\\%&=2.3\\%w+4.5\\%(1-w)\\\\\n",
    "w&=0.6818\\\\\n",
    "\\text{Therefore, }\\mu&=0.6818\\mu_A+0.3182\\mu_B\\\\\n",
    "\\end{split}"
   ]
  },
  {
   "cell_type": "markdown",
   "metadata": {},
   "source": [
    "## (b). \n",
    "\\begin{split}\n",
    "\\sigma^2&=\\sum_{i=1}^2\\sum_{j=1}^2w_iw_j\\sigma_{ij}\\\\\n",
    "\\sigma^2&=w_1^2\\sigma_{11}+w_2^2\\sigma_{22}+2w_1w_2\\sigma_{12}\\\\\n",
    "\\sigma^2&=w_1^2\\sigma_{11}+(1-w_1)^2\\sigma_{22}+2w_1(1-w_1)\\sigma_{12}\\\\\n",
    "\\frac{5.5}{10000}&=w_1^2\\frac{6}{10000}+(1-w_1)^2\\frac{11}{10000}+2w_1(1-w_1)\\times0.17\\times\\frac{\\sqrt{6}}{100}\\times\\frac{\\sqrt{11}}{100}\\\\\n",
    "5.5&=w_1^2\\times6+(1-w_1)^2\\times11+2w_1(1-w_1)\\times0.17\\times\\sqrt{6}\\times\\sqrt{11}\\\\\n",
    "w_1&=0.410778\\text{ or }0.9404\\\\\n",
    "\\text{When }w_1=0.410778,~\\mu&=w\\mu_A+(1-w)\\mu_B=3.596\\%\\\\\n",
    "\\text{When }w_1=0.9404,~\\mu&=w\\mu_A+(1-w)\\mu_B=2.43112\\%\\\\\n",
    "\\text{Therefore, when }\\mu&=0.410778,\\\\\n",
    "\\mu=0.410778\\mu_A+0.5892\\mu_B; &\\text{ has the largest expected return.}\\\\\n",
    "\\end{split}"
   ]
  },
  {
   "cell_type": "markdown",
   "metadata": {},
   "source": [
    "# Problem 2 $_{_{(\\text{Page 492 Exec 2})}}$"
   ]
  },
  {
   "cell_type": "markdown",
   "metadata": {},
   "source": [
    "***Suppose there are two risky assets, C and D, the tangency portfolio is 65% C and 35% D, and the expected return and standard deviation of the return on the tangency portfolio are 5% and 7%, respectively. Suppose also that the risk-free rate of return is 1.5%. If you want the standard deviation of your return to be 5%, what proportions of your capital should be in the risk-free asset, asset C, and asset D?<br>***"
   ]
  },
  {
   "cell_type": "markdown",
   "metadata": {},
   "source": [
    "&nbsp;&nbsp;&nbsp; The maximum expected return with $\\sigma_{R_p} = 0.05$ mixes the tangency port- folio and the risk-free asset such that $\\sigma_{R_p} = 0.05$. Since $\\sigma_T = 0.07$, we have that $0.05 = \\sigma_{R_p} = w\\sigma_T = 0.07w$, so that $w = 0.05/0.07 = 0.7142857$ and $1 − ω = 0.2857143$.<br>\n",
    "&nbsp;&nbsp;&nbsp;&nbsp; So 0.2857143 of the portfolio should be in the risk-free asset, and 0.7142857 should be in the tangency portfolio. Thus (0.7142857)(65 %) = 46.42857% should be in the first risky asset and (0.7142857)(35%) = 25.00000% should be in the second risky asset. The total is not quite 100 % because of rounding."
   ]
  },
  {
   "cell_type": "markdown",
   "metadata": {},
   "source": [
    "# Problem 3 $_{_{(\\text{Page 492 Exec 3})}}$"
   ]
  },
  {
   "cell_type": "markdown",
   "metadata": {},
   "source": [
    "*** (a)\n",
    "Suppose that stock A shares sell at \\$75 and stock B shares at \\$115. A portfolio has 300 shares of stock A and 100 of stock B. What are the weights $w$ and $1 − w$ of stocks A and B in this portfolio?<br>\n",
    " (b)\n",
    " More generally, if a portfolio has N stocks, if the price per share of the $j_{th}$ stock is $P_j$, and if the portfolio has $n_j$ shares of stock $j$, then find a formula for $w_j$ as a function of $n_1,...,n_N$ and $P_1,...,P_N$***"
   ]
  },
  {
   "cell_type": "markdown",
   "metadata": {},
   "source": [
    "## (a).\n",
    "\\begin{split}\n",
    "&$300\\times$75=$22500\\\\\n",
    "&$300\\times$75=$11500\\\\\n",
    "&\\text{weight of A }=22500/(22500+11500)=66.2\\%\\\\\n",
    "&\\text{weight of B }=11500/(22500+11500)=33.8\\%\\\\\n",
    "\\end{split}"
   ]
  },
  {
   "cell_type": "markdown",
   "metadata": {},
   "source": [
    "## (b).\n",
    "\\begin{split}\n",
    "&\\text{Total sum }= \\sum_j^Nn_jP_j\\\\\n",
    "&\\text{weight of i }=\\frac{n_iP_i}{\\sum\\limits_j^N n_jP_j}\\\\\n",
    "\\end{split}"
   ]
  },
  {
   "cell_type": "markdown",
   "metadata": {},
   "source": [
    "# Problem 4 $_{_{(\\text{Page 492 Exec 4})}}$"
   ]
  },
  {
   "cell_type": "markdown",
   "metadata": {},
   "source": [
    "***Let $R_P$ be a return of some type on a portfolio and let $R_1,...,R_N$ be the same type of returns on the assets in this portfolio. Is\n",
    "$$\n",
    "R_P=w_1R_1+...+w_NR_N\n",
    "$$\n",
    "true if $R_P$ is a net return? Is this equation true if $R_P$ is a gross return?\n",
    "Is it true if $R_P$ is a log return? Justify your answers.***"
   ]
  },
  {
   "cell_type": "markdown",
   "metadata": {},
   "source": [
    "&nbsp;&nbsp;&nbsp;&nbsp;The equation is true if $R_P$ is a net or gross return, but not general true if $R_P$ is a log return.<br>"
   ]
  },
  {
   "cell_type": "markdown",
   "metadata": {},
   "source": [
    "By defination, the total net returns on the assets in this portfolio is the sum of the every single portfolio return times its proportion, which is$$\n",
    "R_P=w_1R_1+...+w_NR_N\n",
    "$$<br>\n",
    "When $R_P$ is gross return, $R_P^{(\\text{gross})}=1+R_P^{(\\text{net})}$<br>\n",
    "\\begin{split}\n",
    "w_1R_1^{(\\text{gross})}+...+w_NR_N^{(\\text{gross})}\n",
    "&=w_1(R_1^{(\\text{net})}+1)+...+w_N(R_N^{(\\text{net})}+1)\\\\\n",
    "&=w_1R_1^{(\\text{net})}+...+w_NR_N^{(\\text{net})}+w_1+w_2+...+w_N\\\\\n",
    "&=R_P^{(\\text{net})}+1\\\\\n",
    "&=R_P^{(\\text{gross})}\n",
    "\\end{split}\n",
    "Therefore, this equation is also true if $R_P$ is a gross return.<br>\n",
    "But when $R_P$ is a log return.\n",
    "\\begin{split}\n",
    "w_1R_1^{(\\text{log})}+...+w_NR_N^{(\\text{log})}\n",
    "&=w_1\\log(R_1^{(\\text{gross})}+1)+...+w_N\\log(R_N^{(\\text{gross})}+1)\\\\\n",
    "R_P^{(\\text{log})}&=\\log(R_P^{(\\text{gross})}+1)\\\\\n",
    "&=\\log(w_1R_1^{(\\text{gross})}+...+w_NR_N^{(\\text{gross})}+1)\n",
    "\\end{split}\n",
    "Because log function is a convex function so that $R_P^{(\\text{log})}\\not=w_1R_1^{(\\text{log})}+...+w_NR_N^{(\\text{log})}$.\n",
    "In summary, the equation is true if $R_P$ is a net or gross return, but not true if $R_P$ is a log return."
   ]
  },
  {
   "cell_type": "markdown",
   "metadata": {},
   "source": [
    "# Problem 5 $_{_{(\\text{Page 492 Exec 6})}}$"
   ]
  },
  {
   "cell_type": "markdown",
   "metadata": {},
   "source": [
    "***Stocks 1 and 2 are selling for \\$100 and \\$125, respectively. You own 200 shares of stock 1 and 100 shares of stock 2. The weekly returns on these stocks have means of 0.001 and 0.0015, respectively, and standard deviations of 0.03 and 0.04, respectively. Their weekly returns have a correlation of 0.35. Find the correlation matrix of the weekly returns on the two stocks and the mean and standard deviation of the weekly returns on the portfolio.***"
   ]
  },
  {
   "cell_type": "markdown",
   "metadata": {},
   "source": [
    "## correlation matrix\n",
    "$$\\left(\\begin{matrix}\n",
    "1&0.35\\\\\n",
    "0.35&1\\\\\n",
    "\\end{matrix}\\right)$$"
   ]
  },
  {
   "cell_type": "markdown",
   "metadata": {},
   "source": [
    "## mean\n",
    "sum of stock $=200\\times100 + 100\\times125=32500$<br>\n",
    "weight of stock 1: $w_1=200\\times100/32500=0.6153846$<br>\n",
    "weight of stock 2: $w_2=100\\times125/32500=0.3846154$<br>\n",
    "mean of weekly return $=0.001w_1+0.0015w_2=0.0011923$<br>"
   ]
  },
  {
   "cell_type": "markdown",
   "metadata": {},
   "source": [
    "## standard deviation\n",
    "$Var(\\text{return})=w_1^2\\sigma_1^2+w_2^2\\sigma_2^2+2w_1w_2\\sigma_{12}$<br>\n",
    "&nbsp;&nbsp;&nbsp;&nbsp;&nbsp;&nbsp;&nbsp;&nbsp;&nbsp;&nbsp;&nbsp;&nbsp;&nbsp;&nbsp;&nbsp;&nbsp;&nbsp;&nbsp;&nbsp;&nbsp;&nbsp;\n",
    "$=w_1^2\\sigma_1^2+w_2^2\\sigma_2^2+2w_1w_2\\rho_{12}\\sigma_1\\sigma_2$<br>\n",
    "&nbsp;&nbsp;&nbsp;&nbsp;&nbsp;&nbsp;&nbsp;&nbsp;&nbsp;&nbsp;&nbsp;&nbsp;&nbsp;&nbsp;&nbsp;&nbsp;&nbsp;&nbsp;&nbsp;&nbsp;&nbsp;\n",
    "$=0.00077633$<br>\n",
    "standard deviation $=0.0278627$<br>"
   ]
  },
  {
   "cell_type": "code",
   "execution_count": 19,
   "metadata": {},
   "outputs": [
    {
     "data": {
      "text/html": [
       "0.00119230769230769"
      ],
      "text/latex": [
       "0.00119230769230769"
      ],
      "text/markdown": [
       "0.00119230769230769"
      ],
      "text/plain": [
       "[1] 0.001192308"
      ]
     },
     "metadata": {},
     "output_type": "display_data"
    },
    {
     "data": {
      "text/html": [
       "0.000776331360946746"
      ],
      "text/latex": [
       "0.000776331360946746"
      ],
      "text/markdown": [
       "0.000776331360946746"
      ],
      "text/plain": [
       "[1] 0.0007763314"
      ]
     },
     "metadata": {},
     "output_type": "display_data"
    },
    {
     "data": {
      "text/html": [
       "0.0278627235019613"
      ],
      "text/latex": [
       "0.0278627235019613"
      ],
      "text/markdown": [
       "0.0278627235019613"
      ],
      "text/plain": [
       "[1] 0.02786272"
      ]
     },
     "metadata": {},
     "output_type": "display_data"
    }
   ],
   "source": [
    "# code\n",
    "## total sum\n",
    "S = 200*100+100*125\n",
    "w1 = 200*100/S\n",
    "w2 = 100*125/S\n",
    "## mean\n",
    "0.001*w1+0.0015*w2\n",
    "## variance\n",
    "VAR = w1^2*0.03^2+w2^2*0.04^2+2*w1*w2*0.35*0.03*0.04\n",
    "VAR\n",
    "## standard deviation\n",
    "sqrt(VAR)"
   ]
  }
 ],
 "metadata": {
  "kernelspec": {
   "display_name": "R 3.4",
   "language": "R",
   "name": "ir34"
  },
  "language_info": {
   "codemirror_mode": "r",
   "file_extension": ".r",
   "mimetype": "text/x-r-source",
   "name": "R",
   "pygments_lexer": "r",
   "version": "3.4.3"
  }
 },
 "nbformat": 4,
 "nbformat_minor": 2
}
