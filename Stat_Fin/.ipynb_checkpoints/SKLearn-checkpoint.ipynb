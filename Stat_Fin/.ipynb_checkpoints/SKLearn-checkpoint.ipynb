{
 "cells": [
  {
   "cell_type": "code",
   "execution_count": 6,
   "metadata": {},
   "outputs": [],
   "source": [
    "from pandas_datareader import data, wb"
   ]
  },
  {
   "cell_type": "markdown",
   "metadata": {},
   "source": [
    "## read files"
   ]
  },
  {
   "cell_type": "code",
   "execution_count": null,
   "metadata": {},
   "outputs": [],
   "source": [
    "def read_stocks(stock_file):\n",
    "    print 'read_stocks...'\n",
    "    ls_stock_name = []\n",
    "    f = open(stock_file, 'r')\n",
    "    for line in f.readlines():\n",
    "        if line.strip():\n",
    "            ls_stock_name.append(line.strip().split(' ')[0])\n",
    "    f.close()\n",
    "\n",
    "    return ls_stock_name"
   ]
  },
  {
   "cell_type": "markdown",
   "metadata": {},
   "source": [
    "## get data from yahoo"
   ]
  },
  {
   "cell_type": "code",
   "execution_count": 9,
   "metadata": {},
   "outputs": [],
   "source": [
    "def get_yahoo_data(stock):\n",
    "    start = time.time()\n",
    "    res = True\n",
    "    _now = datetime.datetime.now()\n",
    "    try:\n",
    "        if stock[0] == '$':\n",
    "            stock = '^' + stock[1:]\n",
    "        print 'get %s ...' % stock\n",
    "        f = open(data_path + '/' + stock + \".csv\", 'w')\n",
    "        params = urllib.urlencode(\n",
    "            {'a': 1, 'b': 1, 'c': 2004, 'd': _now.day, 'e': _now.month, 'f': _now.year, 's': stock})\n",
    "        url = \"http://ichart.finance.yahoo.com/table.csv?%s\" % params\n",
    "        time.sleep(0.5)\n",
    "        url_get = urllib2.urlopen(url)\n",
    "\n",
    "        data = url_get.readline()\n",
    "        while(len(data) > 0):\n",
    "            # print data\n",
    "            f.write(data)\n",
    "            data = url_get.readline()\n",
    "\n",
    "        f.close()\n",
    "        print \"Fetch [%s] done, cost : %s.\" % (stock,  (time.time() - start))\n",
    "\n",
    "    except urllib2.HTTPError:\n",
    "        res = False\n",
    "        miss_stock.append(stock)\n",
    "        print \"Unable to fetch data for stock: {0} at {1}\".format(stock, url)\n",
    "    except urllib2.URLError:\n",
    "        res = False\n",
    "        miss_stock.append(stock)\n",
    "        print \"URL Error for stock: {0} at {1}\".format(stock, url)\n",
    "    except SocketError as e:\n",
    "        res = False\n",
    "        miss_stock.append(stock)\n",
    "        print \"Socket Error for stock: {0} at {1}\".format(stock, url)\n",
    "    except :\n",
    "        res = False\n",
    "        miss_stock.append(stock)\n",
    "        print \"Unknown Error for stock: {0} at {1}\".format(stock, url)\n",
    "\n",
    "    return res"
   ]
  },
  {
   "cell_type": "markdown",
   "metadata": {},
   "source": [
    "## multiple "
   ]
  },
  {
   "cell_type": "code",
   "execution_count": 10,
   "metadata": {},
   "outputs": [],
   "source": [
    "def get_yahoo_datas(ls_stock_name):\n",
    "    print 'get_yahoo_data...'\n",
    "    if len(ls_stock_name) <= 0:\n",
    "        return\n",
    "    print data_path\n",
    "    print ls_stock_name\n",
    "    if not (os.access(data_path, os.F_OK)):\n",
    "        os.makedirs(data_path)\n",
    "\n",
    "#     pool = mythreadpool.ThreadPool(8)\n",
    "#     for stock in ls_stock_name:\n",
    "#         pool.add_job(get_yahoo_data, stock)\n",
    "#     pool.wait()\n",
    "\n",
    "    pool = threadpool.ThreadPool(10)\n",
    "    reqs = threadpool.makeRequests(get_yahoo_data, ls_stock_name)\n",
    "    [pool.putRequest(req) for req in reqs]\n",
    "    pool.wait()\n",
    "\n",
    "    print \"All done. Got {0} stocks. Could not get {1}\".format(len(ls_stock_name) - len(miss_stock), len(miss_stock))\n",
    "    return"
   ]
  },
  {
   "cell_type": "code",
   "execution_count": 7,
   "metadata": {},
   "outputs": [],
   "source": [
    "dict_stock = {}\n",
    "\n",
    "def ReadStocks(stock_file):\n",
    "    print 'read_stocks...'\n",
    "\n",
    "    f = open(stock_file, 'r')\n",
    "    for line in f.readlines():\n",
    "        # str_line = str(line)\n",
    "        item = line.strip().split(' ')\n",
    "        dict_stock[item[0]] = item[1]\n",
    "\n",
    "    f.close()"
   ]
  },
  {
   "cell_type": "code",
   "execution_count": 8,
   "metadata": {},
   "outputs": [
    {
     "ename": "NameError",
     "evalue": "name 'DataAccess' is not defined",
     "output_type": "error",
     "traceback": [
      "\u001b[0;31m---------------------------------------------------------------------------\u001b[0m",
      "\u001b[0;31mNameError\u001b[0m                                 Traceback (most recent call last)",
      "\u001b[0;32m<ipython-input-8-23fd226b2f14>\u001b[0m in \u001b[0;36m<module>\u001b[0;34m()\u001b[0m\n\u001b[0;32m----> 1\u001b[0;31m \u001b[0mdb\u001b[0m \u001b[0;34m=\u001b[0m \u001b[0mDataAccess\u001b[0m\u001b[0;34m.\u001b[0m\u001b[0mDataAccess\u001b[0m\u001b[0;34m(\u001b[0m\u001b[0;34m'Yahoo'\u001b[0m\u001b[0;34m)\u001b[0m\u001b[0;34m\u001b[0m\u001b[0m\n\u001b[0m\u001b[1;32m      2\u001b[0m \u001b[0mls_all_syms\u001b[0m \u001b[0;34m=\u001b[0m \u001b[0mdb\u001b[0m\u001b[0;34m.\u001b[0m\u001b[0mget_all_symbols\u001b[0m\u001b[0;34m(\u001b[0m\u001b[0;34m)\u001b[0m\u001b[0;34m\u001b[0m\u001b[0m\n\u001b[1;32m      3\u001b[0m \u001b[0mls_bad_syms\u001b[0m \u001b[0;34m=\u001b[0m \u001b[0mlist\u001b[0m\u001b[0;34m(\u001b[0m\u001b[0mset\u001b[0m\u001b[0;34m(\u001b[0m\u001b[0mls_stock_code\u001b[0m\u001b[0;34m)\u001b[0m \u001b[0;34m-\u001b[0m \u001b[0mset\u001b[0m\u001b[0;34m(\u001b[0m\u001b[0mls_all_syms\u001b[0m\u001b[0;34m)\u001b[0m\u001b[0;34m)\u001b[0m\u001b[0;34m\u001b[0m\u001b[0m\n\u001b[1;32m      4\u001b[0m \u001b[0;32mprint\u001b[0m \u001b[0;34m'Bad Stock Code : '\u001b[0m\u001b[0;34m,\u001b[0m \u001b[0mls_bad_syms\u001b[0m\u001b[0;34m\u001b[0m\u001b[0m\n\u001b[1;32m      5\u001b[0m \u001b[0;34m\u001b[0m\u001b[0m\n",
      "\u001b[0;31mNameError\u001b[0m: name 'DataAccess' is not defined"
     ]
    }
   ],
   "source": [
    "db = DataAccess.DataAccess('Yahoo')\n",
    "ls_all_syms = db.get_all_symbols()\n",
    "ls_bad_syms = list(set(ls_stock_code) - set(ls_all_syms))\n",
    "print 'Bad Stock Code : ', ls_bad_syms\n",
    "\n",
    "for sym in ls_bad_syms:\n",
    "    ls_stock_code.remove(sym)"
   ]
  },
  {
   "cell_type": "code",
   "execution_count": null,
   "metadata": {},
   "outputs": [],
   "source": [
    "# Filling the data for NAN\n",
    "for s_key in ls_keys:\n",
    "    dict_data[s_key] = dict_data[s_key].fillna(method='ffill')\n",
    "    dict_data[s_key] = dict_data[s_key].fillna(method='bfill')\n",
    "    dict_data[s_key] = dict_data[s_key].fillna(1.0)"
   ]
  },
  {
   "cell_type": "code",
   "execution_count": null,
   "metadata": {},
   "outputs": [],
   "source": [
    "open = stock_data['open']\n",
    "close = stock_data['close']\n",
    "var =  close - open"
   ]
  },
  {
   "cell_type": "code",
   "execution_count": null,
   "metadata": {},
   "outputs": [],
   "source": [
    "print type(open)\n",
    "print open.iloc[:3, 1:3]"
   ]
  },
  {
   "cell_type": "code",
   "execution_count": null,
   "metadata": {},
   "outputs": [],
   "source": [
    "from sklearn import covariance, cluster\n",
    "\n",
    "x = var/var.std(0)\n",
    "edge_model = covariance.GraphLassoCV()\n",
    "edge_model.fit(x)\n",
    "centers, labels = cluster.affinity_propagation(edge_model.covariance_)"
   ]
  },
  {
   "cell_type": "code",
   "execution_count": null,
   "metadata": {},
   "outputs": [],
   "source": [
    "n_labels = labels.max()\n",
    "print 'Centers : \\n', ', '.join( np.array(dict_stock.values())[centers] )\n",
    "\n",
    "for i in range(n_labels + 1):\n",
    "    print('Cluster %i: %s' %\n",
    "          ((i + 1), ', '.join([dict_stock[key]\n",
    "                               for key in var.columns[labels == i]])))"
   ]
  }
 ],
 "metadata": {
  "kernelspec": {
   "display_name": "Python 2",
   "language": "python",
   "name": "python2"
  },
  "language_info": {
   "codemirror_mode": {
    "name": "ipython",
    "version": 2
   },
   "file_extension": ".py",
   "mimetype": "text/x-python",
   "name": "python",
   "nbconvert_exporter": "python",
   "pygments_lexer": "ipython2",
   "version": "2.7.14"
  }
 },
 "nbformat": 4,
 "nbformat_minor": 2
}
