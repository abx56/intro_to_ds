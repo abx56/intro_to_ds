{
 "cells": [
  {
   "cell_type": "markdown",
   "metadata": {},
   "source": [
    "<br><br>\n",
    "# <center>STATISTICAL METHODS IN FINANCE</center>\n",
    "# <center>HW6</center>\n",
    "<center>Fan Yang</center>\n",
    "<center>UNI: fy2232</center>\n",
    "<center>03/09/2018</center>"
   ]
  },
  {
   "cell_type": "markdown",
   "metadata": {},
   "source": [
    "# Problem 1"
   ]
  },
  {
   "cell_type": "markdown",
   "metadata": {},
   "source": [
    "***Suppose that the daily return on a stock is normally distributed with mean 0.002 and standard deviation 0.016. Suppose that you invest on this stock. What is the probability that your loss in one day is more than one standard deviation above the mean loss?***"
   ]
  },
  {
   "cell_type": "markdown",
   "metadata": {},
   "source": [
    "the **loss** on this stock is normally distributed with mean **-0.002** and standard deviation 0.016"
   ]
  },
  {
   "cell_type": "code",
   "execution_count": 1,
   "metadata": {},
   "outputs": [
    {
     "data": {
      "text/html": [
       "0.158655253931457"
      ],
      "text/latex": [
       "0.158655253931457"
      ],
      "text/markdown": [
       "0.158655253931457"
      ],
      "text/plain": [
       "[1] 0.1586553"
      ]
     },
     "metadata": {},
     "output_type": "display_data"
    }
   ],
   "source": [
    "1-pnorm(0.016-0.002,mean = -0.002,sd = 0.016)"
   ]
  },
  {
   "cell_type": "markdown",
   "metadata": {},
   "source": [
    "$$Pr(L>\\sigma+\\mu)=1-Pr(L\\leq0.014)=0.158655$$"
   ]
  },
  {
   "cell_type": "markdown",
   "metadata": {},
   "source": [
    "# Problem 2"
   ]
  },
  {
   "cell_type": "markdown",
   "metadata": {},
   "source": [
    "***(a)\n",
    "Suppose that the daily return on a stock is normally distributed with mean 0.002 and standard deviation 0.016. Suppose that you invest \\$1,000,000 on this stock. What is the VaR(0.1) with T (time unit) equal to one day?***"
   ]
  },
  {
   "cell_type": "markdown",
   "metadata": {},
   "source": [
    "$z_{1-\\alpha}=1.28155$<br>\n",
    "the value at risk of the portfolio at $\\alpha = 0.1$ is\n",
    "\\begin{split}\n",
    "\\text{VaR}(0.1)&=1000000\\times(\\sigma z_{1-\\alpha}-\\mu)\\\\\n",
    "&=1000000\\times(0.016\\times z_{1-\\alpha}-0.002)\\\\\n",
    "&=1000000\\times(0.016\\times 1.28155-0.002)\\\\\n",
    "&=1000000\\times0.0185048\\\\\n",
    "&=18504.8\\\\\n",
    "\\end{split}"
   ]
  },
  {
   "cell_type": "markdown",
   "metadata": {},
   "source": [
    "***(b) Suppose that the yearly return of a stock follows a normal distribution with mean 0.1 and standard deviation 0.2. Suppose that you buy \\$1,000 worth of this stock. What is the VaR(0.05) with T equal to one year?***"
   ]
  },
  {
   "cell_type": "markdown",
   "metadata": {},
   "source": [
    "$z_{1-\\alpha}=1.64485$<br>\n",
    "the value at risk of the portfolio at $\\alpha = 0.05$ is\n",
    "\\begin{split}\n",
    "\\text{VaR}(0.05)&=1000\\times(\\sigma z_{1-\\alpha}-\\mu)\\\\\n",
    "&=1000\\times(0.2\\times z_{1-\\alpha}-0.1)\\\\\n",
    "&=1000\\times(0.2\\times 1.64485-0.1)\\\\\n",
    "&=1000\\times0.22897\\\\\n",
    "&=228.97\\\\\n",
    "\\end{split}"
   ]
  },
  {
   "cell_type": "markdown",
   "metadata": {},
   "source": [
    "# Problem 3"
   ]
  },
  {
   "cell_type": "markdown",
   "metadata": {},
   "source": [
    "***(a)\n",
    "Suppose that the daily return of a stock, R, satisfies that $\\frac{R−\\mu}{\\sigma} \\sim t(2)$, where $t(2)$ stands for a central t-distribution with 2 degrees of freedom. Suppose that $\\mu = 0.002$ and $\\sigma = 0.016$. Suppose that you buy \\$1000 worth of this stock. What is the VaR(0.1) with T equal to one day?***"
   ]
  },
  {
   "cell_type": "markdown",
   "metadata": {},
   "source": [
    "$t_{1-\\alpha}(2)=1.885618$<br>\n",
    "the value at risk of the portfolio at $\\alpha = 0.1$ is\n",
    "\\begin{split}\n",
    "\\text{VaR}(0.1)&=1000\\times(\\sigma t_{1-\\alpha}(2)-\\mu)\\\\\n",
    "&=1000\\times(0.016\\times t_{1-\\alpha}(2)-0.002)\\\\\n",
    "&=1000\\times(0.016\\times 1.885618-0.002)\\\\\n",
    "&=1000\\times0.028169889\\\\\n",
    "&=28.169889\\\\\n",
    "\\end{split}"
   ]
  },
  {
   "cell_type": "markdown",
   "metadata": {},
   "source": [
    "***(b)\n",
    "Suppose that the daily return of a stock, R, satisfies that $\\frac{R−\\mu}{\\sigma} \\sim t(5)$. Suppose that $\\mu = 0.002$ and $\\sigma = 0.016$. Suppose that you buy \\$1000 worth of this stock. What is the VaR(0.1) with T equal to one day?***"
   ]
  },
  {
   "cell_type": "markdown",
   "metadata": {},
   "source": [
    "$t_{1-\\alpha}(5)=1.475884$<br>\n",
    "the value at risk of the portfolio at $\\alpha = 0.1$ is\n",
    "\\begin{split}\n",
    "\\text{VaR}(0.1)&=1000\\times(\\sigma t_{1-\\alpha}(5)-\\mu)\\\\\n",
    "&=1000\\times(0.016\\times t_{1-\\alpha}(5)-0.002)\\\\\n",
    "&=1000\\times(0.016\\times 1.475884-0.002)\\\\\n",
    "&=1000\\times0.02161414\\\\\n",
    "&=21.61414478\\\\\n",
    "\\end{split}"
   ]
  },
  {
   "cell_type": "markdown",
   "metadata": {},
   "source": [
    "# Problem 4"
   ]
  },
  {
   "cell_type": "markdown",
   "metadata": {},
   "source": [
    "***Suppose that you invest \\$500 on stock A and $1000 on stock B. Suppose that the yearly return of stock A is normal with mean 0.01 and standard deviation 0.05 and the yearly return of stock B is normal with mean 0.005 and standard deviation 0.01. Further assume that they are jointly normal. Calculate VaR(0.05) when***\n",
    ">***(a)*** they are independent;<br> \n",
    "***(b)*** their correlation is 0.3;<br>\n",
    "***(c)*** their correlation is -0.3."
   ]
  },
  {
   "cell_type": "markdown",
   "metadata": {},
   "source": [
    "We invest \\$500 on A and \\$1000 on B, so the weight is $w_A=\\frac{1}{3}$ and $w_B=\\frac{2}{3}$.<br>\n",
    "$z_{1-\\alpha}=1.64485$"
   ]
  },
  {
   "cell_type": "markdown",
   "metadata": {},
   "source": [
    "## (a)\n",
    "\\begin{split}\n",
    "\\mu_{A+B}&=w_A\\mu_A+w_\n",
    "B\\mu_B=\\frac{1}{3}\\times0.01+\\frac{2}{3}\\times0.005\\\\\n",
    "&=\\frac{1}{150}\\\\\n",
    "&=0.0066666667\\\\\n",
    "\\sigma_{A+B}&=\\sqrt{(w_A\\sigma_A)^2+(w_\n",
    "B\\sigma_B)^2}=\\sqrt{(\\frac{1}{3}\\times0.05)^2+(\\frac{2}{3}\\times0.01)^2}\\\\\n",
    "&=0.017950549\\\\\\\\\n",
    "\\text{VaR}(0.05)&=(500+1000)\\times(\\sigma z_{1-\\alpha}-\\mu)\\\\\n",
    "&=1500\\times(0.01795\\times Z_{1-\\alpha}-0.00667)\\\\\n",
    "&=1500\\times(0.01795\\times 1.64485-0.00667)\\\\\n",
    "&=1500\\times0.022859\\\\\n",
    "&=34.289\\\\\n",
    "\\end{split}"
   ]
  },
  {
   "cell_type": "markdown",
   "metadata": {},
   "source": [
    "## (b)\n",
    "\\begin{split}\n",
    "\\mu_{A+B}\n",
    "&=0.0066666667\\\\\n",
    "\\sigma_{A+B}&=\\sqrt{(w_A\\sigma_A)^2+(w_\n",
    "B\\sigma_B)^2+2\\rho w_A\\sigma_A w_B\\sigma_B}\\\\\n",
    "&=\\sqrt{(\\frac{1}{3}\\times0.05)^2+(\\frac{2}{3}\\times0.01)^2+\n",
    "2\\times0.3\\times\\frac{1}{3}\\times0.05\\times\\frac{2}{3}\\times0.01}\\\\\n",
    "&=0.0197202659\\\\\\\\\n",
    "\\text{VaR}(0.05)&=(500+1000)\\times(\\sigma z_{1-\\alpha}-\\mu)\\\\\n",
    "&=1500\\times(0.01972\\times Z_{1-\\alpha}-0.0066667)\\\\\n",
    "&=1500\\times(0.01972\\times 1.64485-0.0066667)\\\\\n",
    "&=1500\\times0.02577\\\\\n",
    "&=38.655\\\\\n",
    "\\end{split}"
   ]
  },
  {
   "cell_type": "markdown",
   "metadata": {},
   "source": [
    "## (c)\n",
    "\\begin{split}\n",
    "\\mu_{A+B}\n",
    "&=0.0066666667\\\\\n",
    "\\sigma_{A+B}&=\\sqrt{(w_A\\sigma_A)^2+(w_\n",
    "B\\sigma_B)^2+2\\rho w_A\\sigma_A w_B\\sigma_B}\\\\\n",
    "&=\\sqrt{(\\frac{1}{3}\\times0.05)^2+(\\frac{2}{3}\\times0.01)^2-\n",
    "2\\times0.3\\times\\frac{1}{3}\\times0.05\\times\\frac{2}{3}\\times0.01}\\\\\n",
    "&=0.015986\\\\\\\\\n",
    "\\text{VaR}(0.05)&=(500+1000)\\times(\\sigma z_{1-\\alpha}-\\mu)\\\\\n",
    "&=1500\\times(0.015986\\times Z_{1-\\alpha}-0.0066667)\\\\\n",
    "&=1500\\times(0.015986\\times 1.64485-0.0066667)\\\\\n",
    "&=1500\\times0.0196279\\\\\n",
    "&=29.44185\\\\\n",
    "\\end{split}"
   ]
  },
  {
   "cell_type": "markdown",
   "metadata": {},
   "source": [
    "# Problem 5"
   ]
  },
  {
   "cell_type": "markdown",
   "metadata": {},
   "source": [
    "***Suppose that L is the loss over 1 year which follows a distribution with density$$\n",
    "f(x)=\\frac{1}{Z}\\frac{|x+1|}{(x^2+1)^2},~x\\in \\mathbb{R},\n",
    "$$\n",
    "where Z is the normalizing constant.***\n",
    "\n",
    ">***(a)*** Compute Z<br>\n",
    "***(b)*** Calculate VaR(0.05)."
   ]
  },
  {
   "cell_type": "markdown",
   "metadata": {},
   "source": [
    "## (a)"
   ]
  },
  {
   "cell_type": "markdown",
   "metadata": {},
   "source": [
    "\\begin{split}\n",
    "Z=&\\int_{-\\infty}^{\\infty}\\frac{|x+1|}{(x^2+1)^2}dx\\\\\n",
    "=&\\int_{-\\infty}^{-1}\\frac{-(x+1)}{(x^2+1)^2}dx +\n",
    "\\int_{-1}^{\\infty}\\frac{x+1}{(x^2+1)^2}dx\\\\\n",
    "=&-\\int_{-\\infty}^{-1}\\frac{x+1}{(x^2+1)^2}dx +\n",
    "\\int_{-1}^{\\infty}\\frac{x+1}{(x^2+1)^2}dx\\\\\n",
    "=&-\\frac{1}{2}\\left[\\frac{x-1}{x^2+1}+\\tan^{-1}(x)\\right]\\Bigg|_{-\\infty}^{-1}+\\frac{1}{2}\\left[\\frac{x-1}{x^2+1}+\\tan^{-1}(x)\\right]\\Bigg|_{-1}^{\\infty}\\\\\n",
    "=&-\\frac{1}{2}\\left[(\\frac{-2}{2}-\\frac{\\pi}{4})-(-\\frac{\\pi}{2})\\right]+\n",
    "\\frac{1}{2}\\left[(\\frac{\\pi}{2})-(\\frac{-2}{2}-\\frac{\\pi}{4})\\right]\\\\\n",
    "=&-\\frac{1}{2}\\left[-1+\\frac{\\pi}{4}\\right]+\n",
    "\\frac{1}{2}\\left[\\frac{3\\pi}{4}+1\\right]\\\\\n",
    "=&\\frac{1}{2}\\left(1-\\frac{\\pi}{4}+\\frac{3\\pi}{4}+1\\right]\\\\\n",
    "=&\\frac{1}{2}\\left(2+\\frac{\\pi}{2}\\right)\\\\\n",
    "=&1+\\frac{\\pi}{4}\\\\\n",
    "\\text{therefore, }Z=&1+\\frac{\\pi}{4}\\\\\n",
    "\\end{split}<br>\n",
    "(In the process, $\\tan^{-1}(x)$ is the same as $\\text{arc}\\tan(x)$. )"
   ]
  },
  {
   "cell_type": "markdown",
   "metadata": {},
   "source": [
    "## (b)"
   ]
  },
  {
   "cell_type": "markdown",
   "metadata": {},
   "source": [
    "Set $1-\\alpha$ quantile as $q$, and it is obvious that $q>-1$, then<br><br>\n",
    "\\begin{split}\n",
    "0.95=&\\int_{-\\infty}^{q}\\frac{1}{Z}\\frac{|x+1|}{(x^2+1)^2}dx\\\\\n",
    "=&\\int_{-\\infty}^{-1}\\frac{1}{Z}\\frac{-(x+1)}{(x^2+1)^2}dx +\n",
    "\\int_{-1}^{q}\\frac{1}{Z}\\frac{x+1}{(x^2+1)^2}dx\\\\\n",
    "=&-\\frac{1}{Z}\\int_{-\\infty}^{-1}\\frac{x+1}{(x^2+1)^2}dx +\n",
    "\\frac{1}{Z}\\int_{-1}^{q}\\frac{x+1}{(x^2+1)^2}dx\\\\\n",
    "=&-\\frac{1}{2Z}\\left[\\frac{x-1}{x^2+1}+\\tan^{-1}(x)\\right]\\Bigg|_{-\\infty}^{-1}+\\frac{1}{2Z}\\left[\\frac{x-1}{x^2+1}+\\tan^{-1}(x)\\right]\\Bigg|_{-1}^{q}\\\\\n",
    "=&-\\frac{1}{2Z}\\left[(\\frac{-2}{2}-\\frac{\\pi}{4})-(-\\frac{\\pi}{2})\\right]+\n",
    "\\frac{1}{2Z}\\left[(\\frac{q-1}{q^2+1}+\\tan^{-1}(q)-(\\frac{-2}{2}-\\frac{\\pi}{4})\\right]\\\\\n",
    "=&-\\frac{1}{2Z}\\left[-1+\\frac{\\pi}{4}\\right]+\n",
    "\\frac{1}{2Z}\\left[(\\frac{q-1}{q^2+1}+\\tan^{-1}(q)+1+\\frac{\\pi}{4})\\right]\\\\\n",
    "=&\\frac{1}{2Z}\\left(1-\\frac{\\pi}{4}+\\frac{q-1}{q^2+1}+\\tan^{-1}(q)+1+\\frac{\\pi}{4})\\right)\\\\\n",
    "=&\\frac{1}{2Z}\\left(2+\\frac{q-1}{q^2+1}+\\tan^{-1}(q)\\right)\\\\\n",
    "\\text{where }Z=&1+\\frac{\\pi}{4}.\\\\\n",
    "\\end{split}\n",
    "Now our goal is to caculate $p$ which makes the above equation hold."
   ]
  },
  {
   "cell_type": "code",
   "execution_count": 2,
   "metadata": {},
   "outputs": [
    {
     "data": {
      "text/html": [
       "2.46371937599679"
      ],
      "text/latex": [
       "2.46371937599679"
      ],
      "text/markdown": [
       "2.46371937599679"
      ],
      "text/plain": [
       "[1] 2.463719"
      ]
     },
     "metadata": {},
     "output_type": "display_data"
    }
   ],
   "source": [
    "equa <- function(q){\n",
    "    Z = 1 + pi/4\n",
    "    result = 2 + (q-1)/(q^2+1) + atan(q)\n",
    "    return(1/2/Z*result - 0.95)\n",
    "}\n",
    "uniroot(equa,c(2, 3))$root"
   ]
  },
  {
   "cell_type": "markdown",
   "metadata": {},
   "source": [
    "From the above result we conclude that $q=2.463719$ is the $95\\%$ quantile of $f(x)$.<br>\n",
    "$$P(L>VaR(0.05))=0.05\\\\\n",
    "P(L<VaR(0.05))=0.95$$\n",
    "Therefore, $VaR(0.95)=2.463719$."
   ]
  },
  {
   "cell_type": "markdown",
   "metadata": {},
   "source": [
    "# Problem 6"
   ]
  },
  {
   "cell_type": "markdown",
   "metadata": {},
   "source": [
    "***(a)\n",
    "Suppose that the loss of an asset L, is normal with mean $\\mu$ and variance $\\sigma^2$. Show that the expected shortfall is given by $ES(\\alpha) = \\mu + \\sigma\\phi(z_{\\alpha})/\\alpha$, where $z_{\\alpha}$ is the $(1 − \\alpha)$-th quantile of the standard normal distribution and $\\phi(\\cdot)$ is the density function of N(0,1).***"
   ]
  },
  {
   "cell_type": "markdown",
   "metadata": {},
   "source": [
    "$z_{\\alpha}$ is the $(1 − \\alpha)$-th quantile of the standard normal distribution and L is the loss of an asset, so\n",
    "\\begin{split}\n",
    "VaR(s)&=\\sigma z_{s}+\\mu\\\\\n",
    "ES(\\alpha)&=-\\frac{1}{\\alpha}\\int_{-\\infty}^{VaR(\\alpha)}\n",
    "x \\frac{1}{\\sqrt{2\\pi} \\sigma}e^{-\\frac{(x-\\mu)^2}{2\\sigma^2}}dx\\\\\n",
    "\\end{split}\n",
    "Since $\\frac{x-\\mu}{\\sigma}\\sim N(0,1)$, let $x=s\\sigma+\\mu$,then\n",
    "\\begin{split}\n",
    "ES(1-\\alpha)&=-\\frac{1}{\\alpha}\\int_{-\\infty}^{VaR(\\alpha)}\n",
    "x \\frac{1}{\\sqrt{2\\pi} \\sigma}e^{-\\frac{(x-\\mu)^2}{2\\sigma^2}}~dx\\\\\n",
    "&=-\\frac{1}{\\alpha}\\int_{-\\infty}^{\\frac{VaR(\\alpha)-\\mu}{\\sigma}}\n",
    "\\frac{s\\sigma+\\mu}{\\sqrt{2\\pi} \\sigma}e^{-\\frac{s^2}{2}}~d(s\\sigma+\\mu)\\\\\n",
    "&=-\\frac{1}{\\alpha}\\int_{-\\infty}^{z_{\\alpha}}\n",
    "\\frac{s\\sigma+\\mu}{\\sqrt{2\\pi}}e^{-\\frac{s^2}{2}}~ds\\\\\n",
    "&=-\\frac{\\sigma}{\\alpha}\\int_{-\\infty}^{z_{\\alpha}}\n",
    "\\frac{s}{\\sqrt{2\\pi}}e^{-\\frac{s^2}{2}}~ds-\\frac{\\mu}{\\alpha}\\int_{-\\infty}^{z_{\\alpha}}\n",
    "\\frac{1}{\\sqrt{2\\pi}}e^{-\\frac{s^2}{2}}~ds\\\\\n",
    "&=-\\frac{\\sigma}{\\alpha}\\phi(z_{\\alpha})-\\frac{\\mu}{\\alpha}\\alpha\\\\\n",
    "&=-\\frac{\\sigma}{\\alpha}\\phi(z_{\\alpha})-\\mu\\\\\n",
    "ES(\\alpha)&=\\frac{\\sigma\\phi(z_{\\alpha})}{\\alpha}+\\mu\\\\\n",
    "\\end{split}"
   ]
  },
  {
   "cell_type": "markdown",
   "metadata": {},
   "source": [
    "***(b)\n",
    " Suppose that the yearly return on a stock is normally distributed with mean 0.04 and standard deviation 0.18. If one purchases $100,000 worth of this stock, what is ES(0.05) with T equal to one year?***"
   ]
  },
  {
   "cell_type": "markdown",
   "metadata": {},
   "source": [
    "the **loss** on this stock is normally distributed with mean **-0.04** and standard deviation 0.18<br>\n",
    "$z_{0.05}=-1.64485$ and $\\phi(z_{0.05})=0.1031356$.<br><br>\n",
    "\\begin{split}\n",
    "ES(\\alpha)&= 100000\\times[\\mu + \\sigma\\phi(z_{\\alpha})/\\alpha]\\\\\n",
    "&=100000\\times[-0.04 + 0.18\\times\\phi(z_{0.05})/0.05]\\\\\n",
    "&=100000\\times[(-0.04 + 0.18\\times0.1031356/0.05]\\\\\n",
    "&=100000\\times0.3312883\\\\\n",
    "&=33128.83\\\\\n",
    "\\end{split}"
   ]
  },
  {
   "cell_type": "markdown",
   "metadata": {},
   "source": [
    "***(c)\n",
    "Suppose that the yearly returns on stocks A and B are both normally distributed with mean 0.04 and standard deviation 0.18. Assume further that they are jointly normal with correlation 0.2. Consider a portfolio of investing \\$50,000 in A and \\$50,000 in B, what is ES(0.05) with T equal to one year? Compare the result with (b).***"
   ]
  },
  {
   "cell_type": "markdown",
   "metadata": {},
   "source": [
    "the **loss** on stocks A and B are both normally distributed with mean **-0.04**.<br>\n",
    "$z_{0.05}=-1.64485$ and $\\phi(z_{0.05})=0.1031356$.<br>\n",
    "$w_A=w_B=0.5$.<br><br>\n",
    "\\begin{split}\n",
    "\\mu_{A+B}\n",
    "&=-0.04\\times0.5-0.04\\times0.5=-0.04\\\\\n",
    "\\sigma_{A+B}&=\\sqrt{(w_A\\sigma_A)^2+(w_\n",
    "B\\sigma_B)^2+2\\rho w_A\\sigma_A w_B\\sigma_B}\\\\\n",
    "&=\\sqrt{(0.5\\times0.18)^2+(0.5\\times0.18)^2+\n",
    "2\\times0.2\\times0.5\\times0.18\\times0.5\\times0.18}\\\\\n",
    "&=0.1394274\\\\\\\\\n",
    "ES(\\alpha)&= (50000+50000)\\times[\\mu + \\sigma\\phi(z_{\\alpha})/\\alpha]\\\\\n",
    "&=100000\\times[-0.04 + 0.1394274\\times\\phi(z_{0.05})/0.05]\\\\\n",
    "&=100000\\times[-0.04 + 0.1394274\\times0.1031356/0.05]\\\\\n",
    "&=100000\\times0.24759857\\\\\n",
    "&=24759.857\\\\\n",
    "\\end{split}\n",
    "The result is much smaller than ES(0.05) in (b), i.e the expected shortfall is reduced which means risks has been reduced."
   ]
  }
 ],
 "metadata": {
  "kernelspec": {
   "display_name": "R 3.4",
   "language": "R",
   "name": "ir34"
  },
  "language_info": {
   "codemirror_mode": "r",
   "file_extension": ".r",
   "mimetype": "text/x-r-source",
   "name": "R",
   "pygments_lexer": "r",
   "version": "3.4.3"
  }
 },
 "nbformat": 4,
 "nbformat_minor": 2
}
