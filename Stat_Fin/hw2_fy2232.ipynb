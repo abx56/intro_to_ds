{
 "cells": [
  {
   "cell_type": "markdown",
   "metadata": {},
   "source": [
    "<br><br>\n",
    "# <center>STATISTICAL METHODS IN FINANCE</center>\n",
    "# <center>HW2</center>\n",
    "<center>Fan Yang</center>\n",
    "<center>UNI: fy2232</center>\n",
    "<center>02/07/2018</center>"
   ]
  },
  {
   "cell_type": "markdown",
   "metadata": {},
   "source": [
    "# Problem 1 $_{_{(\\text{Page 491 Exec 1})}}$"
   ]
  },
  {
   "cell_type": "markdown",
   "metadata": {},
   "source": [
    "***Suppose that the daily log returns on a stock are independent and normally distributed with mean 0.001 and standard deviation 0.015. Suppose you buy \\$1,000 worth of this stock.<br>***\n",
    ">***(a)*** *What is the probability that after one trading day your investment is worth less than \\$990? (Note: The R function `pnorm()` will compute a normal CDF, so, for example, `pnorm(0.3, mean = 0.1, sd = 0.2)` is the normal CDF with mean 0.1 and standard deviation 0.2 evaluated at 0.3.)*<br>\n",
    "***(b)*** *What is the probability that after five trading days your investment is worth less than $990?*"
   ]
  },
  {
   "cell_type": "markdown",
   "metadata": {},
   "source": [
    "## (a). \n",
    "\\begin{split}\n",
    "\\tilde{R}_t&=\\log(1+R_t)=\\log(1+\\frac{990-1000}{1000})\\\\\n",
    "&=\\log 0.99\n",
    "\\end{split}"
   ]
  },
  {
   "cell_type": "code",
   "execution_count": 15,
   "metadata": {
    "scrolled": false
   },
   "outputs": [
    {
     "data": {
      "text/html": [
       "0.230655731554758"
      ],
      "text/latex": [
       "0.230655731554758"
      ],
      "text/markdown": [
       "0.230655731554758"
      ],
      "text/plain": [
       "[1] 0.2306557"
      ]
     },
     "metadata": {},
     "output_type": "display_data"
    }
   ],
   "source": [
    "pnorm(log(0.99),0.001,0.015)"
   ]
  },
  {
   "cell_type": "markdown",
   "metadata": {},
   "source": [
    "The probability that after one trading day your investment is worth less than \\$990 is 0.23065573."
   ]
  },
  {
   "cell_type": "markdown",
   "metadata": {},
   "source": [
    "## (b). \n",
    "\\begin{split}\n",
    "R_t(5)&=1+\\frac{990-1000}{1000}=0.99\\\\\n",
    "1+R_t(5)&=\\exp\\{\\tilde{R}_t+\\tilde{R}_{t-1}+\\tilde{R}_{t-2}+\\tilde{R}_{t-3}+\\tilde{R}_{t-4}\\}\\\\\n",
    "\\tilde{R}_t+\\tilde{R}_{t-1}+\\tilde{R}_{t-2}+\\tilde{R}_{t-3}+\\tilde{R}_{t-4} &= \\log(1+R_t(5))=\\log(0.99)\\\\\n",
    "\\end{split}\n",
    "Since the daily log returns on a stock are independent and normally distributed. So, $\\sum_{i=0}^4\\tilde{R}_{t-i} \\sim N(0.001\\times5,0.015\\times\\sqrt{5})$"
   ]
  },
  {
   "cell_type": "code",
   "execution_count": 3,
   "metadata": {
    "scrolled": true
   },
   "outputs": [
    {
     "data": {
      "text/html": [
       "0.326818876324785"
      ],
      "text/latex": [
       "0.326818876324785"
      ],
      "text/markdown": [
       "0.326818876324785"
      ],
      "text/plain": [
       "[1] 0.3268189"
      ]
     },
     "metadata": {},
     "output_type": "display_data"
    }
   ],
   "source": [
    "pnorm(log(0.99),0.001*5,0.015*sqrt(5))"
   ]
  },
  {
   "cell_type": "markdown",
   "metadata": {},
   "source": [
    "The probability that after five trading day your investment is worth less than \\$990 is 0.326818876."
   ]
  },
  {
   "cell_type": "markdown",
   "metadata": {},
   "source": [
    "# Problem 2 $_{_{(\\text{Page 492 Exec 2})}}$"
   ]
  },
  {
   "cell_type": "markdown",
   "metadata": {},
   "source": [
    "***The yearly log returns on a stock are normally distributed with mean 0.08 and standard deviation 0.15. The stock is selling at \\$80 today. What is the probability that 2 years from now it is selling at \\$90 or more?<br>***"
   ]
  },
  {
   "cell_type": "markdown",
   "metadata": {},
   "source": [
    "\\begin{split}\n",
    "R_t(2)&=1+\\frac{90-80}{80}=\\frac{9}{8}\\\\\n",
    "1+R_t(2)&=\\exp\\{\\tilde{R}_t+\\tilde{R}_{t-1}\\}\\\\\n",
    "\\tilde{R}_t+\\tilde{R}_{t-1} &= \\log(1+R_t(2))=\\log(\\frac{9}{8})\\\\\n",
    "\\end{split}\n",
    "Since the daily log returns on a stock are independent and normally distributed. So, $\\sum_{i=0}^1\\tilde{R}_{t-i} \\sim N(0.08\\times2,0.15\\times\\sqrt{2})$"
   ]
  },
  {
   "cell_type": "code",
   "execution_count": 45,
   "metadata": {
    "scrolled": true
   },
   "outputs": [
    {
     "data": {
      "text/html": [
       "0.578873586504166"
      ],
      "text/latex": [
       "0.578873586504166"
      ],
      "text/markdown": [
       "0.578873586504166"
      ],
      "text/plain": [
       "[1] 0.5788736"
      ]
     },
     "metadata": {},
     "output_type": "display_data"
    }
   ],
   "source": [
    "1-pnorm(log(9/8),0.08*2,0.15*sqrt(2))"
   ]
  },
  {
   "cell_type": "markdown",
   "metadata": {},
   "source": [
    "The probability that before 2 trading years your investment is worth at \\$90 is 0.57887."
   ]
  },
  {
   "cell_type": "markdown",
   "metadata": {},
   "source": [
    "# Problem 3 $_{_{(\\text{Page 492 Exec 3})}}$"
   ]
  },
  {
   "cell_type": "markdown",
   "metadata": {},
   "source": [
    "***The daily log returns on a stock are normally distributed with mean 0.0002\n",
    "and standard deviation 0.03. The stock price is now \\$97. What is the probability that it will exceed \\$100 after 20 trading days?<br>***"
   ]
  },
  {
   "cell_type": "markdown",
   "metadata": {},
   "source": [
    "\\begin{split}\n",
    "R_t(20)&=1+\\frac{100-97}{97}=\\frac{100}{97}\\\\\n",
    "1+R_t(20)&=\\exp\\{\\sum_{i=0}^{19}\\tilde{R}_{t-i}\\}\\\\\n",
    "\\sum_{i=0}^{19}\\tilde{R}_{t-i} &= \\log(1+R_t(20))=\\log(\\frac{100}{97})\\\\\n",
    "\\end{split}\n",
    "Since the daily log returns on a stock are independent and normally distributed. So, $\\sum_{i=0}^{19}\\tilde{R}_{t-i} \\sim N(0.0002\\times20,0.03\\times\\sqrt{20})$"
   ]
  },
  {
   "cell_type": "code",
   "execution_count": 15,
   "metadata": {
    "scrolled": true
   },
   "outputs": [
    {
     "data": {
      "text/html": [
       "0.421829533513185"
      ],
      "text/latex": [
       "0.421829533513185"
      ],
      "text/markdown": [
       "0.421829533513185"
      ],
      "text/plain": [
       "[1] 0.4218295"
      ]
     },
     "metadata": {},
     "output_type": "display_data"
    }
   ],
   "source": [
    "1-pnorm(log(100/97),0.0002*20,0.03*sqrt(20))"
   ]
  },
  {
   "cell_type": "markdown",
   "metadata": {},
   "source": [
    "The probability that before 20 trading years your investment exceed \\$100 is 0.4218295."
   ]
  },
  {
   "cell_type": "markdown",
   "metadata": {},
   "source": [
    "# Problem 4 $_{_{(\\text{Page 492 Exec 4})}}$"
   ]
  },
  {
   "cell_type": "markdown",
   "metadata": {},
   "source": [
    "***Suppose that the forward rate is r(t) = 0.028 + 0.00042t.\n",
    "<br>***\n",
    ">(a) What is the yield to maturity of a bond maturing in 20 years?<br>\n",
    "(b) What is the price of a par $1,000 zero-coupon bond maturing in 15 years?"
   ]
  },
  {
   "cell_type": "markdown",
   "metadata": {},
   "source": [
    "## (a).\n",
    "\\begin{split}\n",
    "y(t)&=\\frac{1}{t}\\int_0^tr(s)ds\\\\\n",
    "&=\\frac{1}{20}\\int_0^{20}~0.028+0.00042s~ds\\\\\n",
    "&=\\frac{0.644}{20}\\\\\n",
    "&=0.0322\\\\\n",
    "\\end{split}"
   ]
  },
  {
   "cell_type": "markdown",
   "metadata": {},
   "source": [
    "## (b).\n",
    "\\begin{split}\n",
    "P(t)&=PAR\\times e^{-\\int_0^tr(s)ds}\\\\\n",
    "&=1000\\times e^{-\\int_0^{15}~0.028+0.00042s~ds}\\\\\n",
    "&=1000\\times e^{-0.46725}\\\\\n",
    "&=626.723\\\\\n",
    "\\end{split}"
   ]
  },
  {
   "cell_type": "markdown",
   "metadata": {},
   "source": [
    "# Problem 5 $_{_{(\\text{Page 492 Exec 6})}}$"
   ]
  },
  {
   "cell_type": "markdown",
   "metadata": {},
   "source": [
    "***A coupon bond has a coupon rate of 3% and a current yield of 2.8%.\n",
    "<br>***\n",
    ">(a) Is the bond selling above or below par? Why or why not?<br>\n",
    "(b) Is the yield to maturity above or below 2.8%? Why or why not?"
   ]
  },
  {
   "cell_type": "markdown",
   "metadata": {},
   "source": [
    "## (a).\n",
    "\\begin{split}\n",
    "C&=\\text{PAR}\\times \\text{coupon rate}=\\text{PAR}\\times0.03\\\\\n",
    "C&=\\text{Price}\\times \\text{current yield}=\\text{Price}\\times0.028\\\\\n",
    "\\text{so, Price}&>\\text{PAR}\\\\\n",
    "\\end{split}\n",
    "The bond selling is above par."
   ]
  },
  {
   "cell_type": "markdown",
   "metadata": {},
   "source": [
    "## (b).\n",
    "<!---\n",
    "\\begin{split}\n",
    "\\text{YTM}&=\\frac{1}{T}\\log\\left(\\frac{\\text{PAR}}{\\text{Price}}\\right)\\\\\n",
    "&=\\frac{1}{T}\\log\\left(\\frac{\\text{current yield}}{\\text{coupon rate}}\\right)\\\\\n",
    "\\frac{\\text{YTM}}{\\text{current yield}}&=\\frac{1}{T\\times\\text{current yield}}\\log\\left(\\frac{\\text{current yield}}{\\text{coupon rate}}\\right)\\\\\n",
    "&=\\log\\left(\\frac{\\text{current yield}}{\\text{coupon rate}}\\right)^{\\frac{1}{T\\times\\text{current yield}}}\\\\\n",
    "\\end{split}\n",
    "$\\frac{\\text{current yield}}{\\text{coupon rate}}<1$, then $\\left(\\frac{\\text{current yield}}{\\text{coupon rate}}\\right)^{\\frac{1}{T\\times\\text{current yield}}}<1$\n",
    "The bond selling is below par.\n",
    "-->\n",
    "The bond is selling above par value, then the coupon rate is greater than the current yield because the bond sells above par value, and the current yield is greater than the yield to maturity because the yield to maturity accounts for the loss of capital when at the maturity date you get back only the par value, not the entire investment. In summary,<br>\n",
    "<center>coupon rate > current yield > yield to maturity."
   ]
  }
 ],
 "metadata": {
  "kernelspec": {
   "display_name": "R 3.4",
   "language": "R",
   "name": "ir34"
  },
  "language_info": {
   "codemirror_mode": "r",
   "file_extension": ".r",
   "mimetype": "text/x-r-source",
   "name": "R",
   "pygments_lexer": "r",
   "version": "3.4.3"
  }
 },
 "nbformat": 4,
 "nbformat_minor": 2
}
