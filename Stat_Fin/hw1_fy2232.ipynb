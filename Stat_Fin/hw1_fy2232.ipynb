{
 "cells": [
  {
   "cell_type": "markdown",
   "metadata": {},
   "source": [
    "# <center>HW1</center>\n",
    "<center>Fan Yang</center>\n",
    "<center>UNI: fy2232</center>\n",
    "<center>01/31/2018</center>"
   ]
  },
  {
   "cell_type": "markdown",
   "metadata": {},
   "source": [
    "# Problem 1 $_{_{(\\text{Page 15 Prob 09})}}$"
   ]
  },
  {
   "cell_type": "markdown",
   "metadata": {},
   "source": [
    "***Prob 09. In this simulation, what are the mean and standard deviation of the log-returns for 1 year?***"
   ]
  },
  {
   "cell_type": "markdown",
   "metadata": {},
   "source": []
  },
  {
   "cell_type": "markdown",
   "metadata": {},
   "source": [
    "Answer. In this simulation, the mean is $0.05 / 253 = 0.0001976$,  and standard deviation is $0.2 / \\sqrt{253}=0.012574$"
   ]
  },
  {
   "cell_type": "markdown",
   "metadata": {},
   "source": [
    "# Problem 2 $_{_{(\\text{Page 15 Prob 11})}}$"
   ]
  },
  {
   "cell_type": "markdown",
   "metadata": {},
   "source": [
    "\n",
    "***Prob 11. Explain what the code c(120,120*exp(cumsum(logr))) does.***"
   ]
  },
  {
   "cell_type": "markdown",
   "metadata": {},
   "source": []
  },
  {
   "cell_type": "markdown",
   "metadata": {},
   "source": [
    "This code gives a vector of price of the asset. The index represents the time. For example, the first element of this vector is the initial price of asset while the $i^{th}$ elemtent is the $(i-1)^{th}$ trading day.\n",
    "\n",
    "Since $P_t = P_0(1+R_t(t))= P_0 e^{\\tilde{R}_t}$, where $\\tilde{R}_t$ is the $t^{th}$ trading day log-return. And for this case, $P_0=120$ and time series of $\\tilde{R}$ is computed by cumsum(logr)."
   ]
  },
  {
   "cell_type": "markdown",
   "metadata": {},
   "source": [
    "# Problem 3 $_{_{(\\text{Page 15 Prob 11})}}$"
   ]
  },
  {
   "cell_type": "markdown",
   "metadata": {},
   "source": [
    "***Prob 12. Compute the returns and log returns and plot them against each other. As discussed in Sect. 2.1.3, does it seem reasonable that the two types of daily returns are approximately equal?***"
   ]
  },
  {
   "cell_type": "markdown",
   "metadata": {},
   "source": []
  },
  {
   "cell_type": "code",
   "execution_count": 12,
   "metadata": {},
   "outputs": [
    {
     "data": {
      "text/html": [
       "<table>\n",
       "<thead><tr><th scope=col>Date</th><th scope=col>Open</th><th scope=col>High</th><th scope=col>Low</th><th scope=col>Close</th><th scope=col>Volume</th><th scope=col>Adj.Close</th></tr></thead>\n",
       "<tbody>\n",
       "\t<tr><td>1/4/2010 </td><td>62.63    </td><td>63.07    </td><td>62.31    </td><td>62.78    </td><td> 5839300 </td><td>53.99    </td></tr>\n",
       "\t<tr><td>1/5/2010 </td><td>62.66    </td><td>62.75    </td><td>62.19    </td><td>62.30    </td><td> 7099000 </td><td>53.58    </td></tr>\n",
       "\t<tr><td>1/6/2010 </td><td>62.20    </td><td>62.41    </td><td>61.06    </td><td>61.45    </td><td>10551300 </td><td>52.85    </td></tr>\n",
       "\t<tr><td>1/7/2010 </td><td>61.25    </td><td>62.34    </td><td>61.11    </td><td>61.90    </td><td> 7517700 </td><td>53.24    </td></tr>\n",
       "\t<tr><td>1/8/2010 </td><td>62.27    </td><td>62.41    </td><td>61.60    </td><td>61.84    </td><td> 6107300 </td><td>53.19    </td></tr>\n",
       "\t<tr><td>1/11/2010</td><td>62.02    </td><td>62.43    </td><td>61.85    </td><td>62.32    </td><td> 6081300 </td><td>53.60    </td></tr>\n",
       "</tbody>\n",
       "</table>\n"
      ],
      "text/latex": [
       "\\begin{tabular}{r|lllllll}\n",
       " Date & Open & High & Low & Close & Volume & Adj.Close\\\\\n",
       "\\hline\n",
       "\t 1/4/2010  & 62.63     & 63.07     & 62.31     & 62.78     &  5839300  & 53.99    \\\\\n",
       "\t 1/5/2010  & 62.66     & 62.75     & 62.19     & 62.30     &  7099000  & 53.58    \\\\\n",
       "\t 1/6/2010  & 62.20     & 62.41     & 61.06     & 61.45     & 10551300  & 52.85    \\\\\n",
       "\t 1/7/2010  & 61.25     & 62.34     & 61.11     & 61.90     &  7517700  & 53.24    \\\\\n",
       "\t 1/8/2010  & 62.27     & 62.41     & 61.60     & 61.84     &  6107300  & 53.19    \\\\\n",
       "\t 1/11/2010 & 62.02     & 62.43     & 61.85     & 62.32     &  6081300  & 53.60    \\\\\n",
       "\\end{tabular}\n"
      ],
      "text/markdown": [
       "\n",
       "Date | Open | High | Low | Close | Volume | Adj.Close | \n",
       "|---|---|---|---|---|---|\n",
       "| 1/4/2010  | 62.63     | 63.07     | 62.31     | 62.78     |  5839300  | 53.99     | \n",
       "| 1/5/2010  | 62.66     | 62.75     | 62.19     | 62.30     |  7099000  | 53.58     | \n",
       "| 1/6/2010  | 62.20     | 62.41     | 61.06     | 61.45     | 10551300  | 52.85     | \n",
       "| 1/7/2010  | 61.25     | 62.34     | 61.11     | 61.90     |  7517700  | 53.24     | \n",
       "| 1/8/2010  | 62.27     | 62.41     | 61.60     | 61.84     |  6107300  | 53.19     | \n",
       "| 1/11/2010 | 62.02     | 62.43     | 61.85     | 62.32     |  6081300  | 53.60     | \n",
       "\n",
       "\n"
      ],
      "text/plain": [
       "  Date      Open  High  Low   Close Volume   Adj.Close\n",
       "1 1/4/2010  62.63 63.07 62.31 62.78  5839300 53.99    \n",
       "2 1/5/2010  62.66 62.75 62.19 62.30  7099000 53.58    \n",
       "3 1/6/2010  62.20 62.41 61.06 61.45 10551300 52.85    \n",
       "4 1/7/2010  61.25 62.34 61.11 61.90  7517700 53.24    \n",
       "5 1/8/2010  62.27 62.41 61.60 61.84  6107300 53.19    \n",
       "6 1/11/2010 62.02 62.43 61.85 62.32  6081300 53.60    "
      ]
     },
     "metadata": {},
     "output_type": "display_data"
    }
   ],
   "source": [
    "data = read.csv(\"./datasets/MCD_PriceDaily.csv\")\n",
    "head(data)\n",
    "adjPrice = data[, 7]"
   ]
  },
  {
   "cell_type": "code",
   "execution_count": 14,
   "metadata": {},
   "outputs": [
    {
     "data": {
      "text/html": [
       "<ol class=list-inline>\n",
       "\t<li>-0.00759399888868317</li>\n",
       "\t<li>-0.0136244867487868</li>\n",
       "\t<li>0.00737937559129609</li>\n",
       "\t<li>-0.000939143501127004</li>\n",
       "\t<li>0.00770821583004322</li>\n",
       "\t<li>0.00541044776119404</li>\n",
       "</ol>\n"
      ],
      "text/latex": [
       "\\begin{enumerate*}\n",
       "\\item -0.00759399888868317\n",
       "\\item -0.0136244867487868\n",
       "\\item 0.00737937559129609\n",
       "\\item -0.000939143501127004\n",
       "\\item 0.00770821583004322\n",
       "\\item 0.00541044776119404\n",
       "\\end{enumerate*}\n"
      ],
      "text/markdown": [
       "1. -0.00759399888868317\n",
       "2. -0.0136244867487868\n",
       "3. 0.00737937559129609\n",
       "4. -0.000939143501127004\n",
       "5. 0.00770821583004322\n",
       "6. 0.00541044776119404\n",
       "\n",
       "\n"
      ],
      "text/plain": [
       "[1] -0.0075939989 -0.0136244867  0.0073793756 -0.0009391435  0.0077082158\n",
       "[6]  0.0054104478"
      ]
     },
     "metadata": {},
     "output_type": "display_data"
    }
   ],
   "source": [
    "dayreturn = adjPrice[-1] / adjPrice[-length(adjPrice)] -1\n",
    "expreturn = exp(dayreturn)"
   ]
  },
  {
   "cell_type": "code",
   "execution_count": 10,
   "metadata": {},
   "outputs": [],
   "source": [
    "?array"
   ]
  },
  {
   "cell_type": "markdown",
   "metadata": {},
   "source": [
    "## (a). \n",
    "\\begin{align*}\n",
    "Pr(X=1)&=Pr(X=1,Y=1)+Pr(X=1,Y=2)=0.1+0.2=0.3\\\\\n",
    "Pr(X=2)&=Pr(X=2,Y=1)+Pr(X=2,Y=2)=0.2+0.2=0.3\\\\\n",
    "Pr(X=3)&=Pr(X=3,Y=1)+Pr(X=3,Y=2)=0.3+0.1=0.4\\\\\n",
    "\\end{align*}"
   ]
  },
  {
   "cell_type": "markdown",
   "metadata": {},
   "source": [
    "## (b).\n",
    "\\begin{align*}\n",
    "Pr(Y = 1 | X = 2) = \\frac{Pr(Y=1,X=2)}{Pr(X=2)}=\\frac{0.2}{0.3}=\\frac{2}{3}\n",
    "\\end{align*}"
   ]
  },
  {
   "cell_type": "markdown",
   "metadata": {},
   "source": [
    "## (c).\n",
    "\\begin{align*}\n",
    "E(Y) &= Pr(Y=1)*1+Pr(Y=2)*2\\\\&=(0.1+0.2+0.3)*1+(0.2+0.1+0.1)*2=0.6+0.8=1.4\\\\\n",
    "E(Y^2)&=Pr(Y=1)*1^2+Pr(Y=2)*2^2\\\\&=(0.1+0.2+0.3)*1+(0.2+0.1+0.1)*4=0.6+1.6=2.2\\\\\n",
    "Var(Y)&=E(Y^2)-E^2(Y)=2.2-1.4^2=0.24\n",
    "\\end{align*}"
   ]
  },
  {
   "cell_type": "markdown",
   "metadata": {},
   "source": [
    "## (d).\n",
    "\\begin{align*}\n",
    "Pr(X = 1 | Y = 1) &= \\frac{Pr(X=1,Y=1)}{Pr(Y=1)}=\\frac{0.1}{0.6}=\\frac{1}{6}\\\\\n",
    "Pr(X = 2 | Y = 1) &= \\frac{Pr(X=2,Y=1)}{Pr(Y=1)}=\\frac{0.2}{0.6}=\\frac{1}{3}\\\\\n",
    "Pr(X = 3 | Y = 1) &= \\frac{Pr(X=3,Y=1)}{Pr(Y=1)}=\\frac{0.3}{0.6}=\\frac{1}{2}\\\\\n",
    "E(f(X)|Y=1) &= Pr(X = 1 | Y = 1)*1^2+Pr(X = 2 | Y = 1)*2^2+Pr(X = 3 | Y = 1)*3^2\\\\\n",
    "&=\\frac{1}{6}+\\frac{1}{3}*4+\\frac{1}{2}*9=6\n",
    "\\end{align*}"
   ]
  },
  {
   "cell_type": "markdown",
   "metadata": {},
   "source": [
    "## (e).\n",
    "\\begin{align*}\n",
    "Pr(X = 1 | Y = 2) &= \\frac{Pr(X=1,Y=2)}{Pr(Y=2)}=\\frac{0.2}{0.4}=\\frac{1}{2}\\\\\n",
    "Pr(X = 2 | Y = 2) &= \\frac{Pr(X=2,Y=2)}{Pr(Y=2)}=\\frac{0.1}{0.4}=\\frac{1}{4}\\\\\n",
    "Pr(X = 3 | Y = 2) &= \\frac{Pr(X=3,Y=2)}{Pr(Y=2)}=\\frac{0.1}{0.4}=\\frac{1}{4}\\\\\n",
    "E(f(X)|Y=2) &= Pr(X = 1 | Y = 2)*1^2+Pr(X = 2 | Y = 2)*2^2+Pr(X = 3 | Y = 2)*3^2\\\\\n",
    "&=\\frac{1}{2}+\\frac{1}{4}*4+\\frac{1}{4}*9=3.75\n",
    "\\end{align*}\n",
    "Therefore, $E(f(X)|Y=1) =6,~E(f(X)|Y=2)=3.75$"
   ]
  },
  {
   "cell_type": "markdown",
   "metadata": {},
   "source": [
    "# Problem 4"
   ]
  },
  {
   "cell_type": "markdown",
   "metadata": {},
   "source": [
    "## (a).\n",
    "\\begin{split}\n",
    "\\int^{\\infty}_{\\infty}f(x)dx &= \\int_{0}^{\\infty}\\frac{1}{Z}(e^{-\\theta x}+e^{-2\\theta x})dx\\\\\n",
    "&=\\frac{1}{Z} (- \\frac{1}{\\theta} e^{-\\theta x}-\\frac{1}{2\\theta} e^{-2\\theta x})\\Big|_0^\\infty\\\\\n",
    "&=\\frac{3}{2Z\\theta}\n",
    "\\end{split}"
   ]
  },
  {
   "cell_type": "markdown",
   "metadata": {},
   "source": [
    "This integral should be equal to 1. which is $\\frac{3}{2Z\\theta}=1$. So $Z=\\frac{3}{2\\theta}$"
   ]
  },
  {
   "cell_type": "markdown",
   "metadata": {},
   "source": [
    "## (b).\n",
    "\\begin{align*}\n",
    "E(X)&=\\int^{\\infty}_{\\infty}~xf(x)~dx = \\int_{0}^{\\infty}\\frac{1}{Z}(xe^{-\\theta x}+xe^{-2\\theta x})dx\\\\\n",
    "&=\\frac{1}{Z} (-\\frac{1}{\\theta^2} e^{-\\theta x}(\\theta x+1)-\\frac{1}{4\\theta^2} e^{-2\\theta x}(2\\theta x+1))\\Big|_0^\\infty\\\\\n",
    "&=\\frac{1}{Z}(\\frac{1}{\\theta^2}+\\frac{1}{4\\theta^2})\\\\\n",
    "&=\\frac{1}{Z}\\frac{5}{4\\theta^2}\\\\\n",
    "&=\\frac{5}{6\\theta}\\\\\n",
    "\\end{align*}\n"
   ]
  },
  {
   "cell_type": "markdown",
   "metadata": {},
   "source": [
    "## (c).\n",
    "\\begin{align*}\n",
    "E(X^2)&=\\int^{\\infty}_{\\infty}~x^2f(x)~dx = \\int_{0}^{\\infty}\\frac{1}{Z}(x^2e^{-\\theta x}+x^2e^{-2\\theta x})dx\\\\\n",
    "&=\\frac{1}{Z} (-\\frac{1}{\\theta^3} e^{-\\theta x}(\\theta^2 x^2+2\\theta x+2)-\\frac{1}{4\\theta^3} e^{-2\\theta x}(2\\theta^2 x^2+2\\theta x+1))\\Big|_0^\\infty\\\\\n",
    "&=\\frac{1}{Z}(\\frac{2}{\\theta^3}+\\frac{1}{4\\theta^3})\\\\\n",
    "&=\\frac{1}{Z}\\frac{9}{4\\theta^3}\\\\\n",
    "&=\\frac{3}{2\\theta^2}\\\\\n",
    "Var(X)&=E(X^2)-E^2(X)=\\frac{3}{2\\theta^2}-\\frac{25}{36\\theta^2}=\\frac{29}{36\\theta^2}\\\\\n",
    "\\end{align*}"
   ]
  },
  {
   "cell_type": "markdown",
   "metadata": {},
   "source": [
    "# Problem 5"
   ]
  },
  {
   "cell_type": "markdown",
   "metadata": {},
   "source": [
    "## (a).\n",
    "denote \"having red hair\" as R.<br>\n",
    "denote \"not having red hair\" as NR.<br>\n",
    "denote \"has the genetic disease\" as G.<br>\n",
    "denote \"not has the genetic disease\" as NG.<br>\n",
    "\\begin{split}\n",
    "&Pr(G)=Pr(R)=0.01\\\\\n",
    "&Pr(yes|G)=Pr(yes|R)=0.99\\\\\n",
    "&Pr(no|NG)=Pr(no|NR)=0.99\\\\\n",
    "\\end{split}\n",
    "now we want to calculate $Pr(G|yes)$<br>\n",
    "\\begin{split}\n",
    "&Pr(yes|G)=\\frac{Pr(yes;G)}{Pr(G)}=0.99\\\\\n",
    "&\\therefore Pr(yes;G)=0.99\\times0.01=0.0099\\\\\n",
    "&Pr(yes|NG)=1-Pr(no|NG)=0.01\\\\\n",
    "&Pr(yes|NG)=\\frac{Pr(yes;NG)}{Pr(NG)}=0.01\\\\\n",
    "&\\therefore Pr(yes;NG)=0.01\\times(1-0.01)=0.0099\\\\\n",
    "&Pr(yes)=Pr(yes;G)+Pr(yes;NG)=0.0099+0.0099=0.0198\\\\\n",
    "&Pr(G|yes)=\\frac{Pr(G;yes)}{Pr(yes)}=\\frac{0.99}{0.0198}=\\frac{1}{50}\\\\\n",
    "\\end{split}"
   ]
  },
  {
   "cell_type": "markdown",
   "metadata": {},
   "source": [
    "# Problem 6"
   ]
  },
  {
   "cell_type": "markdown",
   "metadata": {},
   "source": [
    "## (a).\n",
    "\n",
    "Since $M=M^T$, then $A=M^TDM$ and $D$ is a diagonal matrix, therefore, $\\{-1,\\frac{1}{2},\\frac{1}{4},0\\}$ are eigen values of matrix $A$.<br>\n",
    "So the dimension of $R$ is 4.\n"
   ]
  },
  {
   "cell_type": "markdown",
   "metadata": {},
   "source": [
    "## (b).\n",
    "\n",
    "Denote the first and third matrices as $M$, then $MM=I;~M^{-1}=M$<br>\n",
    "Denote the diagonal matrix as $D$.<br>\n",
    "then, $A=MDM;~A^2=MDM*MDM=(MD)(MM)(DM)=MD^2M;~A^3=MD^3M;~A^k=MD^kM$.<br>\n",
    "$D^3=\\left(\n",
    "\\begin{matrix}\n",
    "-1&0&0&0&0&0\\\\\n",
    "0&\\frac{1}{8}&0&0&0&0\\\\\n",
    "0&0&\\frac{1}{8}&0&0&0\\\\\n",
    "0&0&0&\\frac{1}{64}&0&0\\\\\n",
    "0&0&0&0&0&0\\\\\n",
    "0&0&0&0&0&\\frac{1}{64}\\\\\n",
    "\\end{matrix}\n",
    "\\right)$<br>\n",
    "So the largest eigen value is $\\frac{1}{8}$.\n"
   ]
  },
  {
   "cell_type": "markdown",
   "metadata": {},
   "source": [
    "## (c).\n",
    "\\begin{split}\n",
    "P&=A(A^TA)^{-1}A^T\\\\\n",
    "&=A(AA)^{-1}A\\\\\n",
    "&=MDM(MDMMDM)^{-1}MDM\\\\\n",
    "&=MDM(MDDM)^{-1}MDM\\\\\n",
    "&=MDMM^{-1}D^{-1}D^{-1}M^{-1}MDM\\\\\n",
    "&=MDD^{-1}D^{-1}DM\\\\\n",
    "&=MM\\\\\n",
    "&=I_{6\\times6}\\\\\n",
    "\\end{split}"
   ]
  }
 ],
 "metadata": {
  "kernelspec": {
   "display_name": "R 3.4",
   "language": "R",
   "name": "ir34"
  },
  "language_info": {
   "codemirror_mode": "r",
   "file_extension": ".r",
   "mimetype": "text/x-r-source",
   "name": "R",
   "pygments_lexer": "r",
   "version": "3.4.3"
  }
 },
 "nbformat": 4,
 "nbformat_minor": 2
}
