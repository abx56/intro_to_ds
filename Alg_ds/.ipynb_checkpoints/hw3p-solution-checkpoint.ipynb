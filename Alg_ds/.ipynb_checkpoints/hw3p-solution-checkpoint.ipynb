{
 "cells": [
  {
   "cell_type": "markdown",
   "metadata": {},
   "source": [
    "# Max Flow Applications\n",
    "\n",
    "The purpose of this assignment is to investigate applications of finding a Max Flow. The problem asks you to design and implement an algorithm for shipping a material between nodes with different supply and demand requirements.\n",
    "\n",
    "* Please write code *only* in the bodies of the two functions, that is, following the TODO comments.\n",
    "* Be careful not to use varibles defined outside of the functions.\n",
    "* Breaking the two above rules may lead to 0 grades."
   ]
  },
  {
   "cell_type": "markdown",
   "metadata": {},
   "source": [
    "## Movie distribution\n",
    "\n",
    "First solve Problem 3 from HW3-theoretical. \n",
    "\n",
    "Now suppose a movie distributor would like to ship a copy of a film from CA to every other state. There are therefore 48 units to ship out of CA, and each other state receives 1 unit.\n",
    "\n",
    "The dataset contiguous-usa.dat lists the adjacent states in the US. Each line lists two adjacent states; thus AK and HI are omitted, but DC is included in the data. The following code reads in the graph of US states."
   ]
  },
  {
   "cell_type": "code",
   "execution_count": 2,
   "metadata": {
    "collapsed": true
   },
   "outputs": [],
   "source": [
    "import networkx as nx\n",
    "G = nx.Graph()\n",
    "\n",
    "usa = open('contiguous-usa.dat')\n",
    "for line in usa:\n",
    "    s1, s2 = line.strip().split()\n",
    "    G.add_edge(s1, s2)"
   ]
  },
  {
   "cell_type": "markdown",
   "metadata": {},
   "source": [
    "We now encode the demands into the graph."
   ]
  },
  {
   "cell_type": "code",
   "execution_count": 3,
   "metadata": {
    "collapsed": true
   },
   "outputs": [],
   "source": [
    "for state in G.nodes():\n",
    "    if state != 'CA':\n",
    "        G.node[state]['demand'] = 1\n",
    "G.node['CA']['demand'] = -48"
   ]
  },
  {
   "cell_type": "markdown",
   "metadata": {},
   "source": [
    "We will assign a uniform capacity of 16 to each edge. Since CA has only three adjacent states, this is the smallest possible uniform capacity that allows one to ship all 48 units out of CA. As we have created an undirected graph, and flows have directions, we first convert the graph to a directed graph."
   ]
  },
  {
   "cell_type": "code",
   "execution_count": 4,
   "metadata": {},
   "outputs": [],
   "source": [
    "G = nx.DiGraph(G)\n",
    "uniform_capacity = 16\n",
    "for (s1, s2) in G.edges():\n",
    "    G.edge[s1][s2]['capacity'] = uniform_capacity"
   ]
  },
  {
   "cell_type": "markdown",
   "metadata": {},
   "source": [
    "Complete the following function to implement your algorithm to find a flow with demands. Your function should work correctly for any input, not just the movie instance considered here. As always, you are encouraged to define auxiliary functions as needed for clarity."
   ]
  },
  {
   "cell_type": "code",
   "execution_count": 11,
   "metadata": {
    "collapsed": true
   },
   "outputs": [],
   "source": [
    "def flow_with_demands(graph):\n",
    "    \"\"\"Computes a flow with demands over the given graph.\n",
    "    \n",
    "    Args:\n",
    "        graph: A directed graph with nodes annotated with 'demand' properties and edges annotated with 'capacity' \n",
    "            properties.\n",
    "        \n",
    "    Returns:\n",
    "        A dict of dicts containing the flow on each edge. For instance, flow[s1][s2] should provide the flow along\n",
    "        edge (s1, s2).\n",
    "        \n",
    "    Raises:\n",
    "        NetworkXUnfeasible: An error is thrown if there is no flow satisfying the demands.\n",
    "    \"\"\"\n",
    "    # TODO: Implement the function.\n",
    "    graph.add_node('newSource')\n",
    "    graph.node['newSource']['demand'] = 0\n",
    "    graph.add_node('newSink')\n",
    "    graph.node['newSink']['demand'] = 0\n",
    "    for node in graph.nodes():\n",
    "        if graph.node[node]['demand'] > 0:\n",
    "            graph.add_edge(node, 'newSink')\n",
    "            graph.edge[node]['newSink']['capacity'] = graph.node[node]['demand']\n",
    "        elif graph.node[node]['demand'] < 0:\n",
    "            graph.add_edge('newSource', node)\n",
    "            graph.edge['newSource'][node]['capacity'] = - graph.node[node]['demand']\n",
    "    for (s1,s2) in graph.edges():\n",
    "        graph.edge[s1][s2]['flow'] = 0\n",
    "        graph.edge[s1][s2]['res_cap'] = graph.edge[s1][s2]['capacity'] - graph.edge[s1][s2]['flow']\n",
    "    \n",
    "    ###residual flow###\n",
    "    def residual(graph):\n",
    "        graph_res = graph.copy()\n",
    "        for (s1,s2) in graph.edges():\n",
    "            res = graph.edge[s1][s2]['capacity'] - graph.edge[s1][s2]['flow']\n",
    "            if graph.edge[s1][s2]['flow'] != 0:\n",
    "                graph_res.add_edge(s2, s1)\n",
    "                graph_res.edge[s2][s1]['flow'] = graph.edge[s1][s2]['flow']\n",
    "            if res != 0: \n",
    "                graph_res.edge[s1][s2]['flow'] = res\n",
    "            else:\n",
    "                graph_res.remove_edge(s1, s2)\n",
    "        return (graph_res)\n",
    "    \n",
    "    ###max residual capacity###\n",
    "    def min_res_cap(graph, path):\n",
    "        Min = float('inf')\n",
    "        for (s1, s2) in path:\n",
    "            if Min > graph.edge[s1][s2]['res_cap']:\n",
    "                Min = graph.edge[s1][s2]['res_cap']\n",
    "        return (Min)\n",
    "    \n",
    "    ###Augment function###\n",
    "    def Augment(graph, graph_res, path):\n",
    "        Min_res_cap = min_res_cap(graph, path)\n",
    "        for (s1, s2) in path:\n",
    "            if (s1, s2) in graph.edges():\n",
    "                graph.edge[s1][s2]['flow'] += Min_res_cap\n",
    "                graph.edge[s1][s2]['res_cap'] += - Min_res_cap\n",
    "            else:\n",
    "                graph.edge[s2][s1]['flow'] += - Min_res_cap\n",
    "                graph.edge[s2][s1]['res_cap'] += Min_res_cap\n",
    "            \n",
    "        return graph\n",
    "    \n",
    "    ###BFS function and find a s-t path###\n",
    "    def BFS(graph, root):\n",
    "        discovered = [root]\n",
    "        dist = {}\n",
    "        parent = {root: None}\n",
    "        for node in graph.nodes():\n",
    "            dist[node] = float('inf')\n",
    "        dist[root] = 0\n",
    "        queue = [root]\n",
    "        while len(queue) > 0:\n",
    "            u = queue[0]\n",
    "            del queue[0]\n",
    "            for v in graph.successors(u):\n",
    "                if v not in discovered:\n",
    "                    discovered.append(v)\n",
    "                    dist[v] = dist[u] + 1\n",
    "                    parent[v] = u\n",
    "                    queue.append(v)\n",
    "        return (dist, parent)\n",
    "    \n",
    "    ###find a s-t path###\n",
    "    def findpath(graph, source, sink):\n",
    "        path = []\n",
    "        (distance, parent) = BFS(graph, source)\n",
    "        if distance[sink] < float('inf'):\n",
    "            Next = sink\n",
    "            while Next != source:\n",
    "                path.append((parent[Next], Next))\n",
    "                Next = parent[Next]\n",
    "            return (path)\n",
    "        else:\n",
    "            return (None)\n",
    "        \n",
    "    graph_res = residual(graph)\n",
    "    stPath = findpath(graph_res, 'newSource', 'newSink')\n",
    "    while stPath != None:\n",
    "        graph = Augment(graph, graph_res, stPath)\n",
    "        graph_res = residual(graph)\n",
    "        stPath = findpath(graph_res, 'newSource', 'newSink')\n",
    "    \n",
    "    ###remove newSource and newSink###\n",
    "    for node in graph.predecessors('newSink'):\n",
    "        graph.remove_edge(node, 'newSink')\n",
    "    graph.remove_node('newSink')\n",
    "    for node in graph.successors('newSource'):\n",
    "        graph.remove_edge('newSource', node)\n",
    "    graph.remove_node('newSource')\n",
    "    \n",
    "    ###convert 'flow' to dictionary###\n",
    "    flow = {}\n",
    "    for (s1, s2) in graph.edges():\n",
    "        if s1 in flow.keys():\n",
    "            flow[s1].update({s2: graph.edge[s1][s2]['flow']})\n",
    "        else:\n",
    "            flow.update({s1:{s2: graph.edge[s1][s2]['flow']}})\n",
    "\n",
    "    return flow\n",
    "        "
   ]
  },
  {
   "cell_type": "markdown",
   "metadata": {},
   "source": [
    "To verify that your solution is correct, implement a function that computes the total flow into each node (which will be negative for supply nodes)."
   ]
  },
  {
   "cell_type": "code",
   "execution_count": 12,
   "metadata": {
    "collapsed": true
   },
   "outputs": [],
   "source": [
    "def divergence(flow):\n",
    "    \"\"\"Computes the total flow into each node according to the given flow dict.\n",
    "    \n",
    "    Args:\n",
    "        flow: the flow dict recording flow between nodes.\n",
    "        \n",
    "    Returns:\n",
    "        A dict of the net flow into each node.\n",
    "    \"\"\"\n",
    "    # TODO: Implement the function.\n",
    "    netFlow = {}\n",
    "    for key in flow.keys():\n",
    "        for subkey in flow[key].keys():\n",
    "            netFlow[subkey] = 0\n",
    "    for key in flow.keys():\n",
    "        for subkey in flow[key].keys():\n",
    "            netFlow[subkey] += flow[key][subkey]\n",
    "            netFlow[key] += - flow[key][subkey]\n",
    "    return (netFlow)"
   ]
  },
  {
   "cell_type": "markdown",
   "metadata": {},
   "source": [
    "The following code performs a sanity check on your function (but does not completely confirm correctness)."
   ]
  },
  {
   "cell_type": "code",
   "execution_count": 13,
   "metadata": {},
   "outputs": [
    {
     "name": "stdout",
     "output_type": "stream",
     "text": [
      "Flow satisfies all demands: True\n"
     ]
    }
   ],
   "source": [
    "flow = flow_with_demands(G)\n",
    "div = divergence(flow)\n",
    "print \"Flow satisfies all demands:\", all(div[n] == G.node[n]['demand'] for n in G.nodes())"
   ]
  }
 ],
 "metadata": {
  "kernelspec": {
   "display_name": "Python 2",
   "language": "python",
   "name": "python2"
  },
  "language_info": {
   "codemirror_mode": {
    "name": "ipython",
    "version": 2
   },
   "file_extension": ".py",
   "mimetype": "text/x-python",
   "name": "python",
   "nbconvert_exporter": "python",
   "pygments_lexer": "ipython2",
   "version": "2.7.10"
  }
 },
 "nbformat": 4,
 "nbformat_minor": 1
}
