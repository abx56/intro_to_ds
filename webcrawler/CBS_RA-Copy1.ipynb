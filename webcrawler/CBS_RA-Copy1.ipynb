{
 "cells": [
  {
   "cell_type": "code",
   "execution_count": 1,
   "metadata": {},
   "outputs": [],
   "source": [
    "import pandas as pd\n",
    "import numpy as np\n",
    "import matplotlib.pyplot as plt\n",
    "import urllib2 as url # the lib that handles the url stuff\n",
    "\n",
    "from requests import session,Request\n",
    "from bs4 import BeautifulSoup as bs\n",
    "import scrapy\n",
    "from scrapy.selector import HtmlXPathSelector\n",
    "from scrapy.http import Request\n",
    "\n",
    "import requests\n",
    "from lxml import html"
   ]
  },
  {
   "cell_type": "code",
   "execution_count": 33,
   "metadata": {},
   "outputs": [],
   "source": [
    "url=\"http://www.ziyoubaba.com/2016/05/29/python_catch_js\"\n",
    "# url=\"https://app.labelinsight.com/explore/product/id/4653440\""
   ]
  },
  {
   "cell_type": "code",
   "execution_count": 34,
   "metadata": {},
   "outputs": [],
   "source": [
    "import requests\n",
    "#传统方式抓取页面\n",
    "def get_url_code(url):\n",
    "    #声明header，伪装成浏览器\n",
    "    headers={\"user-agent\":\"Mozilla/5.0 (windows NT6.1;WOW64 ; rv:42 ) Gecko/20100101 Firefox/42.0\"}\n",
    "    session_req=requests.session() #构造一个兼容cookie的请求\n",
    "    req=session_req.get(url=url,headers=headers) #向url发送get请求，获取整个页面\n",
    "    req.encoding=\"utf-8\" #指定页面的编码\n",
    "    #print(req.text) #将页面的源代码输出到屏幕\n",
    "    return req.text #返回页面的源代码"
   ]
  },
  {
   "cell_type": "code",
   "execution_count": 35,
   "metadata": {},
   "outputs": [
    {
     "name": "stdout",
     "output_type": "stream",
     "text": [
      "啊喽哈！这里是静态页面哦！再试试……\n"
     ]
    }
   ],
   "source": [
    "from bs4 import BeautifulSoup #导入包\n",
    "def get_text_line(html):\n",
    "    soup=BeautifulSoup(html, \"lxml\")\n",
    "    text_line=soup.find('span',id='text_line') #找到id='text_line'的span标签\n",
    "    print(text_line.text) #打印出来该span标签的文本\n",
    "#执行一下看看效果如何\n",
    "get_text_line(get_url_code(url)) #将输出一条文本"
   ]
  },
  {
   "cell_type": "code",
   "execution_count": 36,
   "metadata": {},
   "outputs": [
    {
     "name": "stdout",
     "output_type": "stream",
     "text": [
      "这里是动态文本，成功了！\n"
     ]
    }
   ],
   "source": [
    "import dryscrape\n",
    "# 使用dryscrape库 动态抓取页面\n",
    "def get_url_dynamic(url):\n",
    "    session_req=dryscrape.Session()\n",
    "    session_req.visit(url) #请求页面\n",
    "    response=session_req.body() #网页的文本\n",
    "    #print(response)\n",
    "    return response\n",
    "get_text_line(get_url_dynamic(url)) #将输出一条文本"
   ]
  },
  {
   "cell_type": "markdown",
   "metadata": {},
   "source": [
    "### EDA"
   ]
  },
  {
   "cell_type": "code",
   "execution_count": 14,
   "metadata": {
    "scrolled": true
   },
   "outputs": [
    {
     "name": "stdout",
     "output_type": "stream",
     "text": [
      "Logging in...\n",
      "None\n"
     ]
    },
    {
     "ename": "AttributeError",
     "evalue": "'NoneType' object has no attribute 'set'",
     "output_type": "error",
     "traceback": [
      "\u001b[0;31m---------------------------------------------------------------------------\u001b[0m",
      "\u001b[0;31mAttributeError\u001b[0m                            Traceback (most recent call last)",
      "\u001b[0;32m<ipython-input-14-6ccbdcea5b98>\u001b[0m in \u001b[0;36m<module>\u001b[0;34m()\u001b[0m\n\u001b[1;32m     35\u001b[0m \u001b[0mpassword_field\u001b[0m \u001b[0;34m=\u001b[0m \u001b[0msess\u001b[0m\u001b[0;34m.\u001b[0m\u001b[0mat_css\u001b[0m\u001b[0;34m(\u001b[0m\u001b[0;34m'#userPassword'\u001b[0m\u001b[0;34m)\u001b[0m\u001b[0;34m\u001b[0m\u001b[0m\n\u001b[1;32m     36\u001b[0m \u001b[0mprint\u001b[0m\u001b[0;34m(\u001b[0m\u001b[0memail_field\u001b[0m\u001b[0;34m)\u001b[0m\u001b[0;34m\u001b[0m\u001b[0m\n\u001b[0;32m---> 37\u001b[0;31m \u001b[0memail_field\u001b[0m\u001b[0;34m.\u001b[0m\u001b[0mset\u001b[0m\u001b[0;34m(\u001b[0m\u001b[0memail\u001b[0m\u001b[0;34m)\u001b[0m\u001b[0;34m\u001b[0m\u001b[0m\n\u001b[0m\u001b[1;32m     38\u001b[0m \u001b[0mpassword_field\u001b[0m\u001b[0;34m.\u001b[0m\u001b[0mset\u001b[0m\u001b[0;34m(\u001b[0m\u001b[0mpassword\u001b[0m\u001b[0;34m)\u001b[0m\u001b[0;34m\u001b[0m\u001b[0m\n\u001b[1;32m     39\u001b[0m \u001b[0;34m\u001b[0m\u001b[0m\n",
      "\u001b[0;31mAttributeError\u001b[0m: 'NoneType' object has no attribute 'set'"
     ]
    }
   ],
   "source": [
    "import time\n",
    "import dryscrape\n",
    "\n",
    "#==========================================\n",
    "# Setup\n",
    "#==========================================\n",
    "\n",
    "email    = 'kristina.brecko@simon.rochester.edu'\n",
    "password = '9xQWPnXdEkWCDR'\n",
    "\n",
    "# set up a web scraping session\n",
    "sess = dryscrape.Session(base_url = 'https://app.labelinsight.com/login')\n",
    "\n",
    "# there are some failing HTTP requests, so we need to enter\n",
    "# a more error-resistant mode (like real browsers do)\n",
    "sess.set_error_tolerant(True)\n",
    "\n",
    "# we don't need images\n",
    "sess.set_attribute('auto_load_images', False)\n",
    "\n",
    "# if we wanted, we could also configure a proxy server to use,\n",
    "# so we can for example use Fiddler to monitor the requests\n",
    "# performed by this script\n",
    "#sess.set_proxy('localhost', 8888)\n",
    "\n",
    "#==========================================\n",
    "# GMail send a mail to self\n",
    "#==========================================\n",
    "\n",
    "# visit homepage and log in\n",
    "print(\"Logging in...\")\n",
    "sess.visit('/')\n",
    "\n",
    "email_field    = sess.at_css('#userEmail')\n",
    "password_field = sess.at_css('#userPassword')\n",
    "print(email_field)\n",
    "email_field.set(email)\n",
    "password_field.set(password)\n",
    "\n",
    "email_field.form().submit()\n",
    "\n",
    "# find the COMPOSE button and click it\n",
    "print(\"Sending a mail...\")\n",
    "compose = sess.at_xpath('//*[contains(text(), \"COMPOSE\")]')\n",
    "compose.click()\n",
    "\n",
    "# compose the mail\n",
    "to      = sess.at_xpath('//*[@name=\"to\"]', timeout=10)\n",
    "subject = sess.at_xpath('//*[@name=\"subject\"]')\n",
    "body    = sess.at_xpath('//*[@name=\"body\"]')\n",
    "\n",
    "to.set(email)\n",
    "subject.set(\"Note to self\")\n",
    "body.set(\"Remember to try dryscrape!\")\n",
    "\n",
    "# send the mail\n",
    "\n",
    "# seems like we need to wait a bit before clicking...\n",
    "# Blame Google for this ;)\n",
    "time.sleep(3)\n",
    "send = sess.at_xpath('//*[normalize-space(text()) = \"Send\"]')\n",
    "send.click()\n",
    "\n",
    "# open the mail\n",
    "print(\"Reading the mail...\")\n",
    "mail = sess.at_xpath('//*[normalize-space(text()) = \"Note to self\"]',\n",
    "                     timeout=10)\n",
    "mail.click()\n",
    "\n",
    "# sleep a bit to leave the mail a chance to open.\n",
    "# This is ugly, it would be better to find something\n",
    "# on the resulting page that we can wait for\n",
    "time.sleep(3)\n",
    "\n",
    "# save a screenshot of the web page\n",
    "print(\"Writing screenshot to 'gmail.png'\")\n",
    "sess.render('gmail.png')"
   ]
  },
  {
   "cell_type": "markdown",
   "metadata": {},
   "source": [
    "### login facebook"
   ]
  },
  {
   "cell_type": "code",
   "execution_count": 52,
   "metadata": {
    "scrolled": false
   },
   "outputs": [
    {
     "name": "stdout",
     "output_type": "stream",
     "text": [
      "<Node #/html/body/div[@id='viewport']/div[@id='page']/div[@id='root']/div[1]/div[@id='u_0_0']/div[2]/div[2]/form[@id='login_form']/div[1]/div/div[@id='email_input_container']/input[@id='m_login_email']>\n",
      "<Node #/html/body/div[@id='viewport']/div[@id='page']/div[@id='root']/div[1]/div[@id='u_0_0']/div[2]/div[2]/form[@id='login_form']/div[1]/div/div[2]/div/div/div[1]/div/input[@id='m_login_password']>\n",
      "Screenshot written to 'facebook.png'\n"
     ]
    }
   ],
   "source": [
    "# set up a web scraping session\n",
    "sess = dryscrape.Session(base_url = 'https://www.facebook.com')\n",
    "\n",
    "# we don't need images\n",
    "sess.set_attribute('auto_load_images', False)\n",
    "\n",
    "# visit homepage and search for a term\n",
    "sess.visit('/')\n",
    "q = sess.at_xpath('//*[@name=\"email\"]')\n",
    "print(q)\n",
    "q.set('baidu_xiaohao1@126.com')\n",
    "q = sess.at_xpath('//*[@name=\"pass\"]')\n",
    "print(q)\n",
    "q.set('123456abc7')\n",
    "# login_button = sess.at_xpath('//*[@id=\"u_0_2\"]')\n",
    "# login_button = sess.at_css('#u_0_2')\n",
    "# login_button.click()\n",
    "q.form().submit()\n",
    "\n",
    "# save a screenshot of the web page\n",
    "sess.render('facebook.png')\n",
    "print(\"Screenshot written to 'facebook.png'\")"
   ]
  },
  {
   "cell_type": "code",
   "execution_count": 100,
   "metadata": {
    "scrolled": false
   },
   "outputs": [
    {
     "name": "stdout",
     "output_type": "stream",
     "text": [
      "None\n"
     ]
    },
    {
     "ename": "AttributeError",
     "evalue": "'NoneType' object has no attribute 'set'",
     "output_type": "error",
     "traceback": [
      "\u001b[0;31m---------------------------------------------------------------------------\u001b[0m",
      "\u001b[0;31mAttributeError\u001b[0m                            Traceback (most recent call last)",
      "\u001b[0;32m<ipython-input-100-884b271e54bb>\u001b[0m in \u001b[0;36m<module>\u001b[0;34m()\u001b[0m\n\u001b[1;32m     10\u001b[0m \u001b[0;34m\u001b[0m\u001b[0m\n\u001b[1;32m     11\u001b[0m \u001b[0mprint\u001b[0m\u001b[0;34m(\u001b[0m\u001b[0mq\u001b[0m\u001b[0;34m)\u001b[0m\u001b[0;34m\u001b[0m\u001b[0m\n\u001b[0;32m---> 12\u001b[0;31m \u001b[0mq\u001b[0m\u001b[0;34m.\u001b[0m\u001b[0mset\u001b[0m\u001b[0;34m(\u001b[0m\u001b[0;34m'kristina.brecko@simon.rochester.edu'\u001b[0m\u001b[0;34m)\u001b[0m\u001b[0;34m\u001b[0m\u001b[0m\n\u001b[0m\u001b[1;32m     13\u001b[0m \u001b[0mq\u001b[0m \u001b[0;34m=\u001b[0m \u001b[0msess\u001b[0m\u001b[0;34m.\u001b[0m\u001b[0mat_xpath\u001b[0m\u001b[0;34m(\u001b[0m\u001b[0;34m'/html/body/div[3]/div/div/div/div/div/main/form/div[2]/input'\u001b[0m\u001b[0;34m)\u001b[0m\u001b[0;34m\u001b[0m\u001b[0m\n\u001b[1;32m     14\u001b[0m \u001b[0;31m# print(q)\u001b[0m\u001b[0;34m\u001b[0m\u001b[0;34m\u001b[0m\u001b[0m\n",
      "\u001b[0;31mAttributeError\u001b[0m: 'NoneType' object has no attribute 'set'"
     ]
    }
   ],
   "source": [
    "# set up a web scraping session\n",
    "sess = dryscrape.Session(base_url = 'https://app.labelinsight.com/login')\n",
    "\n",
    "# we don't need images\n",
    "sess.set_attribute('auto_load_images', False)\n",
    "\n",
    "# visit homepage and search for a term\n",
    "sess.visit('/')\n",
    "q = sess.at_xpath('//*[@id=\"userEmail\"]')\n",
    "\n",
    "print(q)\n",
    "q.set('kristina.brecko@simon.rochester.edu')\n",
    "q = sess.at_xpath('/html/body/div[3]/div/div/div/div/div/main/form/div[2]/input')\n",
    "# print(q)\n",
    "q.set('9xQWPnXdEkWCDR')\n",
    "login_button = sess.at_xpath('/html/body/div[2]/div/div/div/div/main/form/div[3]')\n",
    "login_button.click()\n",
    "\n",
    "# save a screenshot of the web page\n",
    "sess.render('labelinsight.png')\n",
    "print(\"Screenshot written to 'labelinsight.png'\")"
   ]
  },
  {
   "cell_type": "markdown",
   "metadata": {},
   "source": [
    "### google search result"
   ]
  },
  {
   "cell_type": "code",
   "execution_count": 16,
   "metadata": {},
   "outputs": [
    {
     "name": "stdout",
     "output_type": "stream",
     "text": [
      "https://plus.google.com/?gpsrc=ogpy0&tab=wX\n",
      "https://www.google.com/webhp?tab=ww\n",
      "http://www.google.com/search?hl=en&tbm=isch&source=og&tab=wi\n",
      "http://maps.google.com/maps?hl=en&tab=wl\n",
      "https://play.google.com/?hl=en&tab=w8\n",
      "http://www.youtube.com/results?gl=US&tab=w1\n",
      "http://news.google.com/nwshp?hl=en&tab=wn\n",
      "https://mail.google.com/mail/?tab=wm\n",
      "https://www.google.com/intl/en/options/\n",
      "https://drive.google.com/?tab=wo\n",
      "https://www.google.com/calendar?tab=wc\n",
      "http://translate.google.com/?hl=en&tab=wT\n",
      "http://www.google.com/mobile/?hl=en&tab=wD\n",
      "http://www.google.com/search?hl=en&tbo=u&tbm=bks&source=og&tab=wp\n",
      "http://www.google.com/search?hl=en&tbo=u&tbm=shop&source=og&tab=wf\n",
      "http://www.blogger.com/?tab=wj\n",
      "http://www.google.com/finance?tab=we\n",
      "https://photos.google.com/?tab=wq&pageId=none\n",
      "http://www.google.com/search?hl=en&tbo=u&tbm=vid&source=og&tab=wv\n",
      "https://docs.google.com/document/?usp=docs_alc\n",
      "https://www.google.com/intl/en/options/\n",
      "https://accounts.google.com/ServiceLogin?hl=en&passive=true&continue=http://www.google.com/search%3Fhl%3Den%26source%3Dhp%26biw%3D%26bih%3D%26q%3Ddryscrape%26gbv%3D2\n",
      "http://www.google.com/preferences?hl=en\n",
      "/preferences?hl=en\n",
      "http://www.google.com/history/optout?hl=en\n",
      "/webhp?hl=en\n",
      "/search?q=dryscrape&hl=en&gbv=2&prmd=ivns&source=lnms&tbm=isch&sa=X&ved=0ahUKEwiikOjlyfTaAhViRN8KHYZdALgQ_AUIBQ\n",
      "/search?q=dryscrape&hl=en&gbv=2&prmd=ivns&source=lnms&tbm=vid&sa=X&ved=0ahUKEwiikOjlyfTaAhViRN8KHYZdALgQ_AUIBg\n",
      "/search?q=dryscrape&hl=en&gbv=2&prmd=ivns&source=lnms&tbm=nws&sa=X&ved=0ahUKEwiikOjlyfTaAhViRN8KHYZdALgQ_AUIBw\n",
      "/search?q=dryscrape&hl=en&gbv=2&prmd=ivns&source=lnms&tbm=shop&sa=X&ved=0ahUKEwiikOjlyfTaAhViRN8KHYZdALgQ_AUICA\n",
      "http://maps.google.com/maps?hl=en&q=dryscrape&gbv=2&um=1&ie=UTF-8&sa=X&ved=0ahUKEwiikOjlyfTaAhViRN8KHYZdALgQ_AUICQ\n",
      "/search?q=dryscrape&hl=en&gbv=2&prmd=ivns&source=lnms&tbm=bks&sa=X&ved=0ahUKEwiikOjlyfTaAhViRN8KHYZdALgQ_AUICg\n",
      "/search?q=dryscrape&hl=en&gbv=2&prmd=ivns&source=lnt&tbs=qdr:h&sa=X&ved=0ahUKEwiikOjlyfTaAhViRN8KHYZdALgQpwUIDw\n",
      "/search?q=dryscrape&hl=en&gbv=2&prmd=ivns&source=lnt&tbs=qdr:d&sa=X&ved=0ahUKEwiikOjlyfTaAhViRN8KHYZdALgQpwUIDw\n",
      "/search?q=dryscrape&hl=en&gbv=2&prmd=ivns&source=lnt&tbs=qdr:w&sa=X&ved=0ahUKEwiikOjlyfTaAhViRN8KHYZdALgQpwUIDw\n",
      "/search?q=dryscrape&hl=en&gbv=2&prmd=ivns&source=lnt&tbs=qdr:m&sa=X&ved=0ahUKEwiikOjlyfTaAhViRN8KHYZdALgQpwUIDw\n",
      "/search?q=dryscrape&hl=en&gbv=2&prmd=ivns&source=lnt&tbs=qdr:y&sa=X&ved=0ahUKEwiikOjlyfTaAhViRN8KHYZdALgQpwUIDw\n",
      "/search?q=dryscrape&hl=en&gbv=2&prmd=ivns&source=lnt&tbs=li:1&sa=X&ved=0ahUKEwiikOjlyfTaAhViRN8KHYZdALgQpwUIDw\n",
      "/url?q=https://dryscrape.readthedocs.io/&sa=U&ved=0ahUKEwiikOjlyfTaAhViRN8KHYZdALgQFggUMAA&usg=AOvVaw0AbzHjBqTWc4d5RAKPeswJ\n",
      "/url?q=http://webcache.googleusercontent.com/search%3Fq%3Dcache:Z33ZvJqISdQJ:https://dryscrape.readthedocs.io/%252Bdryscrape%26hl%3Den%26gbv%3D2%26ct%3Dclnk&sa=U&ved=0ahUKEwiikOjlyfTaAhViRN8KHYZdALgQIAgXMAA&usg=AOvVaw3UGsJ9Vi11BEyrvZzTHMet\n",
      "/search?hl=en&gbv=2&q=related:https://dryscrape.readthedocs.io/+dryscrape&tbo=1&sa=X&ved=0ahUKEwiikOjlyfTaAhViRN8KHYZdALgQHwgYMAA\n",
      "/url?q=http://dryscrape.readthedocs.io/en/latest/installation.html&sa=U&ved=0ahUKEwiikOjlyfTaAhViRN8KHYZdALgQ0gIIGigAMAA&usg=AOvVaw0jw9id1dXfbRzYwcFUx1nU\n",
      "/url?q=http://dryscrape.readthedocs.io/en/latest/genindex.html&sa=U&ved=0ahUKEwiikOjlyfTaAhViRN8KHYZdALgQ0gIIGygBMAA&usg=AOvVaw0W-87UGc3BjvqZ25coz08Q\n",
      "/url?q=http://dryscrape.readthedocs.io/en/latest/apidoc.html&sa=U&ved=0ahUKEwiikOjlyfTaAhViRN8KHYZdALgQ0gIIHCgCMAA&usg=AOvVaw2vVN7WIErJwF8t-huF97zV\n",
      "/url?q=http://dryscrape.readthedocs.io/en/latest/usage.html&sa=U&ved=0ahUKEwiikOjlyfTaAhViRN8KHYZdALgQ0gIIHSgDMAA&usg=AOvVaw367zD9aGtN1Zw9IkZECxzT\n",
      "/url?q=http://dryscrape.readthedocs.io/en/latest/installation.html&sa=U&ved=0ahUKEwiikOjlyfTaAhViRN8KHYZdALgQFggfMAE&usg=AOvVaw0p6jjwGFJ9nXXa5KF6g0bP\n",
      "/url?q=http://webcache.googleusercontent.com/search%3Fq%3Dcache:JprJgu9FpKcJ:http://dryscrape.readthedocs.io/en/latest/installation.html%252Bdryscrape%26hl%3Den%26gbv%3D2%26ct%3Dclnk&sa=U&ved=0ahUKEwiikOjlyfTaAhViRN8KHYZdALgQIAgiMAE&usg=AOvVaw0R95-Poo2nc2M_vpcq4j_f\n",
      "/search?hl=en&gbv=2&q=related:dryscrape.readthedocs.io/en/latest/installation.html+dryscrape&tbo=1&sa=X&ved=0ahUKEwiikOjlyfTaAhViRN8KHYZdALgQHwgjMAE\n",
      "/url?q=https://dryscrape.readthedocs.io/en/stable/usage.html&sa=U&ved=0ahUKEwiikOjlyfTaAhViRN8KHYZdALgQFgglMAI&usg=AOvVaw0ceao53UIgF7Semt2XlTGj\n",
      "/url?q=http://webcache.googleusercontent.com/search%3Fq%3Dcache:tReK2FaE8D0J:https://dryscrape.readthedocs.io/en/stable/usage.html%252Bdryscrape%26hl%3Den%26gbv%3D2%26ct%3Dclnk&sa=U&ved=0ahUKEwiikOjlyfTaAhViRN8KHYZdALgQIAgoMAI&usg=AOvVaw3Jx01bvs6rNX9GnaIUoOh9\n",
      "/search?hl=en&gbv=2&q=related:https://dryscrape.readthedocs.io/en/stable/usage.html+dryscrape&tbo=1&sa=X&ved=0ahUKEwiikOjlyfTaAhViRN8KHYZdALgQHwgpMAI\n",
      "/url?q=https://github.com/niklasb/dryscrape&sa=U&ved=0ahUKEwiikOjlyfTaAhViRN8KHYZdALgQFggrMAM&usg=AOvVaw0uqbnhFoeSUco7viqK_x6O\n",
      "/url?q=http://webcache.googleusercontent.com/search%3Fq%3Dcache:RsofnDaRWuUJ:https://github.com/niklasb/dryscrape%252Bdryscrape%26hl%3Den%26gbv%3D2%26ct%3Dclnk&sa=U&ved=0ahUKEwiikOjlyfTaAhViRN8KHYZdALgQIAguMAM&usg=AOvVaw1f5uvCLUZQpHfXup8hOM37\n",
      "/search?hl=en&gbv=2&q=related:https://github.com/niklasb/dryscrape+dryscrape&tbo=1&sa=X&ved=0ahUKEwiikOjlyfTaAhViRN8KHYZdALgQHwgvMAM\n",
      "/url?q=https://github.com/niklasb/dryscrape/issues/32&sa=U&ved=0ahUKEwiikOjlyfTaAhViRN8KHYZdALgQFggxMAQ&usg=AOvVaw29ouvEAFxNr1o4HoABCV3C\n",
      "/url?q=http://webcache.googleusercontent.com/search%3Fq%3Dcache:ki5WP9CP2e4J:https://github.com/niklasb/dryscrape/issues/32%252Bdryscrape%26hl%3Den%26gbv%3D2%26ct%3Dclnk&sa=U&ved=0ahUKEwiikOjlyfTaAhViRN8KHYZdALgQIAg0MAQ&usg=AOvVaw2JqNapMb-c5_M2XaFQ27bl\n",
      "/search?hl=en&gbv=2&q=related:https://github.com/niklasb/dryscrape/issues/32+dryscrape&tbo=1&sa=X&ved=0ahUKEwiikOjlyfTaAhViRN8KHYZdALgQHwg1MAQ\n",
      "/url?q=https://github.com/niklasb/dryscrape/issues/7&sa=U&ved=0ahUKEwiikOjlyfTaAhViRN8KHYZdALgQFgg4MAU&usg=AOvVaw1-mHzXfH2czKsKToKOViI5\n",
      "/url?q=http://webcache.googleusercontent.com/search%3Fq%3Dcache:mAZg-WPCJtUJ:https://github.com/niklasb/dryscrape/issues/7%252Bdryscrape%26hl%3Den%26gbv%3D2%26ct%3Dclnk&sa=U&ved=0ahUKEwiikOjlyfTaAhViRN8KHYZdALgQIAg7MAU&usg=AOvVaw1Qx8FSzTn2xE_5eM3TfcRK\n",
      "/search?hl=en&gbv=2&q=related:https://github.com/niklasb/dryscrape/issues/7+dryscrape&tbo=1&sa=X&ved=0ahUKEwiikOjlyfTaAhViRN8KHYZdALgQHwg8MAU\n",
      "/url?q=https://stackoverflow.com/questions/41860952/web-scraping-with-dryscrape-and-beautifulsoup&sa=U&ved=0ahUKEwiikOjlyfTaAhViRN8KHYZdALgQFgg_MAY&usg=AOvVaw0O89cp2Z4COZNblEKwIn5F\n",
      "/url?q=http://webcache.googleusercontent.com/search%3Fq%3Dcache:ojQ6a3yBAw4J:https://stackoverflow.com/questions/41860952/web-scraping-with-dryscrape-and-beautifulsoup%252Bdryscrape%26hl%3Den%26gbv%3D2%26ct%3Dclnk&sa=U&ved=0ahUKEwiikOjlyfTaAhViRN8KHYZdALgQIAhCMAY&usg=AOvVaw3-0ckCtGkFjUKJNmPyZ8ST\n",
      "/search?hl=en&gbv=2&q=related:https://stackoverflow.com/questions/41860952/web-scraping-with-dryscrape-and-beautifulsoup+dryscrape&tbo=1&sa=X&ved=0ahUKEwiikOjlyfTaAhViRN8KHYZdALgQHwhDMAY\n",
      "/url?q=https://stackoverflow.com/questions/45699816/how-do-i-make-a-dryscrape-session&sa=U&ved=0ahUKEwiikOjlyfTaAhViRN8KHYZdALgQrAIIRigAMAY&usg=AOvVaw3j-VvCuhMtMCDRZxYTSp8E\n",
      "/url?q=https://stackoverflow.com/questions/44581865/dryscrape-visit-works-only-once-in-python&sa=U&ved=0ahUKEwiikOjlyfTaAhViRN8KHYZdALgQrAIIRygBMAY&usg=AOvVaw0FctjeqOPcsZGGx5LDVUE4\n",
      "/url?q=https://stackoverflow.com/questions/43602864/dryscrape-scrape-child-node-data-from-parent-node-list-using-xpath&sa=U&ved=0ahUKEwiikOjlyfTaAhViRN8KHYZdALgQrAIISCgCMAY&usg=AOvVaw3vApETJaF_s0Iyza9HD5OD\n",
      "/url?q=https://stackoverflow.com/questions/36280450/dryscrape-webkit-server-memory-leak&sa=U&ved=0ahUKEwiikOjlyfTaAhViRN8KHYZdALgQrAIISSgDMAY&usg=AOvVaw3bUUil3-nYY6UZUwqJrHkq\n",
      "/url?q=https://readthedocs.org/projects/dryscrape/downloads/pdf/latest/&sa=U&ved=0ahUKEwiikOjlyfTaAhViRN8KHYZdALgQFghLMAc&usg=AOvVaw1ohW2PMUZWZRA8c8RewxcH\n",
      "/url?q=http://webcache.googleusercontent.com/search%3Fq%3Dcache:IkxSKrWsc2oJ:https://readthedocs.org/projects/dryscrape/downloads/pdf/latest/%252Bdryscrape%26hl%3Den%26gbv%3D2%26ct%3Dclnk&sa=U&ved=0ahUKEwiikOjlyfTaAhViRN8KHYZdALgQIAhOMAc&usg=AOvVaw0Eolb1QV8yV2OxkMASbrEZ\n",
      "/search?hl=en&gbv=2&q=related:https://readthedocs.org/projects/dryscrape/downloads/pdf/latest/+dryscrape&tbo=1&sa=X&ved=0ahUKEwiikOjlyfTaAhViRN8KHYZdALgQHwhPMAc\n",
      "/url?q=https://askubuntu.com/questions/983456/how-to-install-dryscrape-in-ubuntu&sa=U&ved=0ahUKEwiikOjlyfTaAhViRN8KHYZdALgQFghSMAg&usg=AOvVaw3rs8slmWgh2jsH-thxfAsf\n",
      "/url?q=http://webcache.googleusercontent.com/search%3Fq%3Dcache:HziQPDw425EJ:https://askubuntu.com/questions/983456/how-to-install-dryscrape-in-ubuntu%252Bdryscrape%26hl%3Den%26gbv%3D2%26ct%3Dclnk&sa=U&ved=0ahUKEwiikOjlyfTaAhViRN8KHYZdALgQIAhVMAg&usg=AOvVaw1b0-Sw2NyXeULS3TTyfHJo\n",
      "/url?q=https://pythonprogramming.net/javascript-dynamic-scraping-parsing-beautiful-soup-tutorial/&sa=U&ved=0ahUKEwiikOjlyfTaAhViRN8KHYZdALgQFghYMAk&usg=AOvVaw3VGHZzoI1KOVZ1zgtS4N_C\n",
      "/url?q=http://webcache.googleusercontent.com/search%3Fq%3Dcache:qlzTKI_eeG8J:https://pythonprogramming.net/javascript-dynamic-scraping-parsing-beautiful-soup-tutorial/%252Bdryscrape%26hl%3Den%26gbv%3D2%26ct%3Dclnk&sa=U&ved=0ahUKEwiikOjlyfTaAhViRN8KHYZdALgQIAhbMAk&usg=AOvVaw1rP9IfSbBzknh2pr8PhiMm\n",
      "/search?hl=en&gbv=2&q=related:https://pythonprogramming.net/javascript-dynamic-scraping-parsing-beautiful-soup-tutorial/+dryscrape&tbo=1&sa=X&ved=0ahUKEwiikOjlyfTaAhViRN8KHYZdALgQHwhcMAk\n",
      "/search?hl=en&gbv=2&q=dryscrape+tutorial&sa=X&ved=0ahUKEwiikOjlyfTaAhViRN8KHYZdALgQ1QIIXygA\n",
      "/search?hl=en&gbv=2&q=dryscrape+download+file&sa=X&ved=0ahUKEwiikOjlyfTaAhViRN8KHYZdALgQ1QIIYCgB\n",
      "/search?hl=en&gbv=2&q=dryscrape+example&sa=X&ved=0ahUKEwiikOjlyfTaAhViRN8KHYZdALgQ1QIIYSgC\n",
      "/search?hl=en&gbv=2&q=dryscrape+usage&sa=X&ved=0ahUKEwiikOjlyfTaAhViRN8KHYZdALgQ1QIIYigD\n",
      "/search?hl=en&gbv=2&q=python+dryscrape+example&sa=X&ved=0ahUKEwiikOjlyfTaAhViRN8KHYZdALgQ1QIIYygE\n",
      "/search?hl=en&gbv=2&q=dryscrape+start_xvfb&sa=X&ved=0ahUKEwiikOjlyfTaAhViRN8KHYZdALgQ1QIIZCgF\n",
      "/search?hl=en&gbv=2&q=dryscrape+alternative&sa=X&ved=0ahUKEwiikOjlyfTaAhViRN8KHYZdALgQ1QIIZSgG\n",
      "/search?hl=en&gbv=2&q=at_xpath+dryscrape&sa=X&ved=0ahUKEwiikOjlyfTaAhViRN8KHYZdALgQ1QIIZigH\n",
      "/search?q=dryscrape&hl=en&gbv=2&prmd=ivns&ei=X8nwWuLkMOKI_QaGu4HACw&start=10&sa=N\n",
      "/search?q=dryscrape&hl=en&gbv=2&prmd=ivns&ei=X8nwWuLkMOKI_QaGu4HACw&start=20&sa=N\n",
      "/search?q=dryscrape&hl=en&gbv=2&prmd=ivns&ei=X8nwWuLkMOKI_QaGu4HACw&start=30&sa=N\n",
      "/search?q=dryscrape&hl=en&gbv=2&prmd=ivns&ei=X8nwWuLkMOKI_QaGu4HACw&start=40&sa=N\n",
      "/search?q=dryscrape&hl=en&gbv=2&prmd=ivns&ei=X8nwWuLkMOKI_QaGu4HACw&start=50&sa=N\n",
      "/search?q=dryscrape&hl=en&gbv=2&prmd=ivns&ei=X8nwWuLkMOKI_QaGu4HACw&start=60&sa=N\n",
      "/search?q=dryscrape&hl=en&gbv=2&prmd=ivns&ei=X8nwWuLkMOKI_QaGu4HACw&start=70&sa=N\n",
      "/search?q=dryscrape&hl=en&gbv=2&prmd=ivns&ei=X8nwWuLkMOKI_QaGu4HACw&start=80&sa=N\n",
      "/search?q=dryscrape&hl=en&gbv=2&prmd=ivns&ei=X8nwWuLkMOKI_QaGu4HACw&start=90&sa=N\n",
      "/search?q=dryscrape&hl=en&gbv=2&prmd=ivns&ei=X8nwWuLkMOKI_QaGu4HACw&start=10&sa=N\n",
      "/advanced_search?q=dryscrape&hl=en&gbv=2&prmd=ivns\n",
      "/support/websearch/bin/answer.py?answer=134479&hl=en\n",
      "/tools/feedback/survey/html?productId=196&query=dryscrape&hl=en\n",
      "/\n",
      "/intl/en/ads\n",
      "/services\n",
      "/intl/en/policies/privacy/\n",
      "/intl/en/policies/terms/\n",
      "/intl/en/about.html\n"
     ]
    },
    {
     "name": "stdout",
     "output_type": "stream",
     "text": [
      "Screenshot written to 'google.png'\n"
     ]
    }
   ],
   "source": [
    "import dryscrape\n",
    "import sys\n",
    "\n",
    "if 'linux' in sys.platform:\n",
    "    # start xvfb in case no X is running. Make sure xvfb \n",
    "    # is installed, otherwise this won't work!\n",
    "    dryscrape.start_xvfb()\n",
    "\n",
    "search_term = 'dryscrape'\n",
    "\n",
    "# set up a web scraping session\n",
    "sess = dryscrape.Session(base_url = 'http://google.com')\n",
    "\n",
    "# we don't need images\n",
    "sess.set_attribute('auto_load_images', False)\n",
    "\n",
    "# visit homepage and search for a term\n",
    "sess.visit('/')\n",
    "q = sess.at_xpath('//*[@name=\"q\"]')\n",
    "q.set(search_term)\n",
    "q.form().submit()\n",
    "\n",
    "# extract all links\n",
    "for link in sess.xpath('//a[@href]'):\n",
    "    print(link['href'])\n",
    "\n",
    "# save a screenshot of the web page\n",
    "sess.render('google.png')\n",
    "print(\"Screenshot written to 'google.png'\")\n"
   ]
  },
  {
   "cell_type": "markdown",
   "metadata": {},
   "source": [
    "### using webdriver"
   ]
  },
  {
   "cell_type": "code",
   "execution_count": 55,
   "metadata": {},
   "outputs": [
    {
     "name": "stdout",
     "output_type": "stream",
     "text": [
      "这里是动态文本，成功了！\n"
     ]
    }
   ],
   "source": [
    "from selenium import webdriver\n",
    "def get_url_dynamic2(url):\n",
    "    driver=webdriver.Firefox(executable_path=r'/Users/fanerror/Downloads/geckodriver')\n",
    "    driver.get(url) #请求页面，会打开一个浏览器窗口\n",
    "    html_text=driver.page_source\n",
    "    driver.quit()\n",
    "    #print html_text\n",
    "    return html_text\n",
    "get_text_line(get_url_dynamic2(url)) #将输出一条文本"
   ]
  },
  {
   "cell_type": "code",
   "execution_count": 60,
   "metadata": {},
   "outputs": [],
   "source": [
    "def fb_login():\n",
    "    driver=webdriver.Firefox(executable_path=r'/Users/fanerror/Downloads/geckodriver')\n",
    "    driver.get ('https://www.facebook.com')\n",
    "\n",
    "    driver.find_element_by_id('email').send_keys('baidu_xiaohao1@126.com')\n",
    "    driver.find_element_by_id('pass').send_keys('123456abc')\n",
    "    driver.find_element_by_id('loginbutton').click()\n",
    "fb_login()"
   ]
  },
  {
   "cell_type": "code",
   "execution_count": 321,
   "metadata": {
    "scrolled": false
   },
   "outputs": [],
   "source": [
    "import time\n",
    "def labelinsight_login():\n",
    "    global driver\n",
    "    \n",
    "#     driver = webdriver.PhantomJS(executable_path='/Users/fanerror/Downloads/phantomjs-2.1.1-macosx/bin/phantomjs')\n",
    "    driver=webdriver.Firefox(executable_path=r'/Users/fanerror/Downloads/geckodriver')\n",
    "    driver.get ('https://app.labelinsight.com/login')\n",
    "\n",
    "    try:\n",
    "#         driver.find_element_by_name('userEmail').send_keys('kristina.brecko@simon.rochester.edu')\n",
    "        driver.find_element_by_xpath('//*[@id=\"userEmail\"]').send_keys('kristina.brecko@simon.rochester.edu')\n",
    "#         driver.find_element_by_css_selector('#userEmail').send_keys('kristina.brecko@simon.rochester.edu')\n",
    "        driver.find_element_by_name('userPassword').send_keys('9xQWPnXdEkWCDR')\n",
    "#         driver.find_element_by_id('loginbutton').click()\n",
    "        \n",
    "        driver.find_element_by_css_selector('.Button-dYVdnu').click()\n",
    "        time.sleep(1.5)\n",
    "        \n",
    "        driver.find_element_by_css_selector('.sc-gqjmRU > li:nth-child(3) > a:nth-child(1)').click()\n",
    "        driver.find_element_by_css_selector('li.facets__facet:nth-child(2) > a:nth-child(1)').click()\n",
    "        driver.find_element_by_css_selector('.filter-selector__list--PRODUCT_TYPE > li:nth-child(1) > div:nth-child(2) > span:nth-child(1)').click()\n",
    "        driver.find_element_by_css_selector('li.ng-scope:nth-child(3) > div:nth-child(2) > span:nth-child(1)').click()\n",
    "#         time.sleep(3)\n",
    "    except: \n",
    "        print(\"Error \\nDriver will be closed in 7 sec\")\n",
    "        time.sleep(7)\n",
    "        driver.quit()\n",
    "        print(\"Driver closed\")\n",
    "    return(driver)\n",
    "        \n",
    "def load_item(item_CSS_Selector):\n",
    "    '''\n",
    "    input: \n",
    "        item_CSS_Selector - CSS_Selector of target item\n",
    "    '''\n",
    "#     driver.get('https://app.labelinsight.com/explore/product/id/4662794')\n",
    "    \n",
    "#     driver_copy = driver.copy()\n",
    "    driver.find_element_by_css_selector(item_CSS_Selector).click()\n",
    "    time.sleep(3)\n",
    "#     html_text = driver.page_source\n",
    "    get_title_line(driver)\n",
    "#     time.sleep(3)\n",
    "    driver.back()\n",
    "    driver.refresh()\n",
    "    return(html_text)\n",
    "\n"
   ]
  },
  {
   "cell_type": "code",
   "execution_count": 324,
   "metadata": {
    "scrolled": false
   },
   "outputs": [
    {
     "name": "stdout",
     "output_type": "stream",
     "text": [
      "Error \n",
      "Driver will be closed in 7 sec\n",
      "Driver closed\n"
     ]
    },
    {
     "ename": "ConnectionRefusedError",
     "evalue": "[Errno 61] Connection refused",
     "output_type": "error",
     "traceback": [
      "\u001b[0;31m---------------------------------------------------------------------------\u001b[0m",
      "\u001b[0;31mConnectionRefusedError\u001b[0m                    Traceback (most recent call last)",
      "\u001b[0;32m<ipython-input-324-9ebcf31407ac>\u001b[0m in \u001b[0;36m<module>\u001b[0;34m()\u001b[0m\n\u001b[1;32m      7\u001b[0m \u001b[0;34m\u001b[0m\u001b[0m\n\u001b[1;32m      8\u001b[0m \u001b[0;32mfor\u001b[0m \u001b[0mCSS_Selector\u001b[0m \u001b[0;32min\u001b[0m \u001b[0mitem_CSS_Selector\u001b[0m\u001b[0;34m:\u001b[0m\u001b[0;34m\u001b[0m\u001b[0m\n\u001b[0;32m----> 9\u001b[0;31m     \u001b[0mhtml_text\u001b[0m \u001b[0;34m=\u001b[0m \u001b[0mload_item\u001b[0m\u001b[0;34m(\u001b[0m\u001b[0mCSS_Selector\u001b[0m\u001b[0;34m)\u001b[0m\u001b[0;34m\u001b[0m\u001b[0m\n\u001b[0m\u001b[1;32m     10\u001b[0m \u001b[0;31m#     print(get_title_line(html_text))\u001b[0m\u001b[0;34m\u001b[0m\u001b[0;34m\u001b[0m\u001b[0m\n\u001b[1;32m     11\u001b[0m \u001b[0;34m\u001b[0m\u001b[0m\n",
      "\u001b[0;32m<ipython-input-321-ff9f93bff62d>\u001b[0m in \u001b[0;36mload_item\u001b[0;34m(item_CSS_Selector)\u001b[0m\n\u001b[1;32m     37\u001b[0m \u001b[0;34m\u001b[0m\u001b[0m\n\u001b[1;32m     38\u001b[0m \u001b[0;31m#     driver_copy = driver.copy()\u001b[0m\u001b[0;34m\u001b[0m\u001b[0;34m\u001b[0m\u001b[0m\n\u001b[0;32m---> 39\u001b[0;31m     \u001b[0mdriver\u001b[0m\u001b[0;34m.\u001b[0m\u001b[0mfind_element_by_css_selector\u001b[0m\u001b[0;34m(\u001b[0m\u001b[0mitem_CSS_Selector\u001b[0m\u001b[0;34m)\u001b[0m\u001b[0;34m.\u001b[0m\u001b[0mclick\u001b[0m\u001b[0;34m(\u001b[0m\u001b[0;34m)\u001b[0m\u001b[0;34m\u001b[0m\u001b[0m\n\u001b[0m\u001b[1;32m     40\u001b[0m     \u001b[0mtime\u001b[0m\u001b[0;34m.\u001b[0m\u001b[0msleep\u001b[0m\u001b[0;34m(\u001b[0m\u001b[0;36m3\u001b[0m\u001b[0;34m)\u001b[0m\u001b[0;34m\u001b[0m\u001b[0m\n\u001b[1;32m     41\u001b[0m \u001b[0;31m#     html_text = driver.page_source\u001b[0m\u001b[0;34m\u001b[0m\u001b[0;34m\u001b[0m\u001b[0m\n",
      "\u001b[0;32m/usr/local/lib/python3.6/site-packages/selenium/webdriver/remote/webdriver.py\u001b[0m in \u001b[0;36mfind_element_by_css_selector\u001b[0;34m(self, css_selector)\u001b[0m\n\u001b[1;32m    587\u001b[0m             \u001b[0melement\u001b[0m \u001b[0;34m=\u001b[0m \u001b[0mdriver\u001b[0m\u001b[0;34m.\u001b[0m\u001b[0mfind_element_by_css_selector\u001b[0m\u001b[0;34m(\u001b[0m\u001b[0;34m'#foo'\u001b[0m\u001b[0;34m)\u001b[0m\u001b[0;34m\u001b[0m\u001b[0m\n\u001b[1;32m    588\u001b[0m         \"\"\"\n\u001b[0;32m--> 589\u001b[0;31m         \u001b[0;32mreturn\u001b[0m \u001b[0mself\u001b[0m\u001b[0;34m.\u001b[0m\u001b[0mfind_element\u001b[0m\u001b[0;34m(\u001b[0m\u001b[0mby\u001b[0m\u001b[0;34m=\u001b[0m\u001b[0mBy\u001b[0m\u001b[0;34m.\u001b[0m\u001b[0mCSS_SELECTOR\u001b[0m\u001b[0;34m,\u001b[0m \u001b[0mvalue\u001b[0m\u001b[0;34m=\u001b[0m\u001b[0mcss_selector\u001b[0m\u001b[0;34m)\u001b[0m\u001b[0;34m\u001b[0m\u001b[0m\n\u001b[0m\u001b[1;32m    590\u001b[0m \u001b[0;34m\u001b[0m\u001b[0m\n\u001b[1;32m    591\u001b[0m     \u001b[0;32mdef\u001b[0m \u001b[0mfind_elements_by_css_selector\u001b[0m\u001b[0;34m(\u001b[0m\u001b[0mself\u001b[0m\u001b[0;34m,\u001b[0m \u001b[0mcss_selector\u001b[0m\u001b[0;34m)\u001b[0m\u001b[0;34m:\u001b[0m\u001b[0;34m\u001b[0m\u001b[0m\n",
      "\u001b[0;32m/usr/local/lib/python3.6/site-packages/selenium/webdriver/remote/webdriver.py\u001b[0m in \u001b[0;36mfind_element\u001b[0;34m(self, by, value)\u001b[0m\n\u001b[1;32m    953\u001b[0m         return self.execute(Command.FIND_ELEMENT, {\n\u001b[1;32m    954\u001b[0m             \u001b[0;34m'using'\u001b[0m\u001b[0;34m:\u001b[0m \u001b[0mby\u001b[0m\u001b[0;34m,\u001b[0m\u001b[0;34m\u001b[0m\u001b[0m\n\u001b[0;32m--> 955\u001b[0;31m             'value': value})['value']\n\u001b[0m\u001b[1;32m    956\u001b[0m \u001b[0;34m\u001b[0m\u001b[0m\n\u001b[1;32m    957\u001b[0m     \u001b[0;32mdef\u001b[0m \u001b[0mfind_elements\u001b[0m\u001b[0;34m(\u001b[0m\u001b[0mself\u001b[0m\u001b[0;34m,\u001b[0m \u001b[0mby\u001b[0m\u001b[0;34m=\u001b[0m\u001b[0mBy\u001b[0m\u001b[0;34m.\u001b[0m\u001b[0mID\u001b[0m\u001b[0;34m,\u001b[0m \u001b[0mvalue\u001b[0m\u001b[0;34m=\u001b[0m\u001b[0;32mNone\u001b[0m\u001b[0;34m)\u001b[0m\u001b[0;34m:\u001b[0m\u001b[0;34m\u001b[0m\u001b[0m\n",
      "\u001b[0;32m/usr/local/lib/python3.6/site-packages/selenium/webdriver/remote/webdriver.py\u001b[0m in \u001b[0;36mexecute\u001b[0;34m(self, driver_command, params)\u001b[0m\n\u001b[1;32m    308\u001b[0m \u001b[0;34m\u001b[0m\u001b[0m\n\u001b[1;32m    309\u001b[0m         \u001b[0mparams\u001b[0m \u001b[0;34m=\u001b[0m \u001b[0mself\u001b[0m\u001b[0;34m.\u001b[0m\u001b[0m_wrap_value\u001b[0m\u001b[0;34m(\u001b[0m\u001b[0mparams\u001b[0m\u001b[0;34m)\u001b[0m\u001b[0;34m\u001b[0m\u001b[0m\n\u001b[0;32m--> 310\u001b[0;31m         \u001b[0mresponse\u001b[0m \u001b[0;34m=\u001b[0m \u001b[0mself\u001b[0m\u001b[0;34m.\u001b[0m\u001b[0mcommand_executor\u001b[0m\u001b[0;34m.\u001b[0m\u001b[0mexecute\u001b[0m\u001b[0;34m(\u001b[0m\u001b[0mdriver_command\u001b[0m\u001b[0;34m,\u001b[0m \u001b[0mparams\u001b[0m\u001b[0;34m)\u001b[0m\u001b[0;34m\u001b[0m\u001b[0m\n\u001b[0m\u001b[1;32m    311\u001b[0m         \u001b[0;32mif\u001b[0m \u001b[0mresponse\u001b[0m\u001b[0;34m:\u001b[0m\u001b[0;34m\u001b[0m\u001b[0m\n\u001b[1;32m    312\u001b[0m             \u001b[0mself\u001b[0m\u001b[0;34m.\u001b[0m\u001b[0merror_handler\u001b[0m\u001b[0;34m.\u001b[0m\u001b[0mcheck_response\u001b[0m\u001b[0;34m(\u001b[0m\u001b[0mresponse\u001b[0m\u001b[0;34m)\u001b[0m\u001b[0;34m\u001b[0m\u001b[0m\n",
      "\u001b[0;32m/usr/local/lib/python3.6/site-packages/selenium/webdriver/remote/remote_connection.py\u001b[0m in \u001b[0;36mexecute\u001b[0;34m(self, command, params)\u001b[0m\n\u001b[1;32m    464\u001b[0m         \u001b[0mdata\u001b[0m \u001b[0;34m=\u001b[0m \u001b[0mutils\u001b[0m\u001b[0;34m.\u001b[0m\u001b[0mdump_json\u001b[0m\u001b[0;34m(\u001b[0m\u001b[0mparams\u001b[0m\u001b[0;34m)\u001b[0m\u001b[0;34m\u001b[0m\u001b[0m\n\u001b[1;32m    465\u001b[0m         \u001b[0murl\u001b[0m \u001b[0;34m=\u001b[0m \u001b[0;34m'%s%s'\u001b[0m \u001b[0;34m%\u001b[0m \u001b[0;34m(\u001b[0m\u001b[0mself\u001b[0m\u001b[0;34m.\u001b[0m\u001b[0m_url\u001b[0m\u001b[0;34m,\u001b[0m \u001b[0mpath\u001b[0m\u001b[0;34m)\u001b[0m\u001b[0;34m\u001b[0m\u001b[0m\n\u001b[0;32m--> 466\u001b[0;31m         \u001b[0;32mreturn\u001b[0m \u001b[0mself\u001b[0m\u001b[0;34m.\u001b[0m\u001b[0m_request\u001b[0m\u001b[0;34m(\u001b[0m\u001b[0mcommand_info\u001b[0m\u001b[0;34m[\u001b[0m\u001b[0;36m0\u001b[0m\u001b[0;34m]\u001b[0m\u001b[0;34m,\u001b[0m \u001b[0murl\u001b[0m\u001b[0;34m,\u001b[0m \u001b[0mbody\u001b[0m\u001b[0;34m=\u001b[0m\u001b[0mdata\u001b[0m\u001b[0;34m)\u001b[0m\u001b[0;34m\u001b[0m\u001b[0m\n\u001b[0m\u001b[1;32m    467\u001b[0m \u001b[0;34m\u001b[0m\u001b[0m\n\u001b[1;32m    468\u001b[0m     \u001b[0;32mdef\u001b[0m \u001b[0m_request\u001b[0m\u001b[0;34m(\u001b[0m\u001b[0mself\u001b[0m\u001b[0;34m,\u001b[0m \u001b[0mmethod\u001b[0m\u001b[0;34m,\u001b[0m \u001b[0murl\u001b[0m\u001b[0;34m,\u001b[0m \u001b[0mbody\u001b[0m\u001b[0;34m=\u001b[0m\u001b[0;32mNone\u001b[0m\u001b[0;34m)\u001b[0m\u001b[0;34m:\u001b[0m\u001b[0;34m\u001b[0m\u001b[0m\n",
      "\u001b[0;32m/usr/local/lib/python3.6/site-packages/selenium/webdriver/remote/remote_connection.py\u001b[0m in \u001b[0;36m_request\u001b[0;34m(self, method, url, body)\u001b[0m\n\u001b[1;32m    487\u001b[0m                 \u001b[0mbody\u001b[0m \u001b[0;34m=\u001b[0m \u001b[0;32mNone\u001b[0m\u001b[0;34m\u001b[0m\u001b[0m\n\u001b[1;32m    488\u001b[0m             \u001b[0;32mtry\u001b[0m\u001b[0;34m:\u001b[0m\u001b[0;34m\u001b[0m\u001b[0m\n\u001b[0;32m--> 489\u001b[0;31m                 \u001b[0mself\u001b[0m\u001b[0;34m.\u001b[0m\u001b[0m_conn\u001b[0m\u001b[0;34m.\u001b[0m\u001b[0mrequest\u001b[0m\u001b[0;34m(\u001b[0m\u001b[0mmethod\u001b[0m\u001b[0;34m,\u001b[0m \u001b[0mparsed_url\u001b[0m\u001b[0;34m.\u001b[0m\u001b[0mpath\u001b[0m\u001b[0;34m,\u001b[0m \u001b[0mbody\u001b[0m\u001b[0;34m,\u001b[0m \u001b[0mheaders\u001b[0m\u001b[0;34m)\u001b[0m\u001b[0;34m\u001b[0m\u001b[0m\n\u001b[0m\u001b[1;32m    490\u001b[0m                 \u001b[0mresp\u001b[0m \u001b[0;34m=\u001b[0m \u001b[0mself\u001b[0m\u001b[0;34m.\u001b[0m\u001b[0m_conn\u001b[0m\u001b[0;34m.\u001b[0m\u001b[0mgetresponse\u001b[0m\u001b[0;34m(\u001b[0m\u001b[0;34m)\u001b[0m\u001b[0;34m\u001b[0m\u001b[0m\n\u001b[1;32m    491\u001b[0m             \u001b[0;32mexcept\u001b[0m \u001b[0;34m(\u001b[0m\u001b[0mhttplib\u001b[0m\u001b[0;34m.\u001b[0m\u001b[0mHTTPException\u001b[0m\u001b[0;34m,\u001b[0m \u001b[0msocket\u001b[0m\u001b[0;34m.\u001b[0m\u001b[0merror\u001b[0m\u001b[0;34m)\u001b[0m\u001b[0;34m:\u001b[0m\u001b[0;34m\u001b[0m\u001b[0m\n",
      "\u001b[0;32m/usr/local/Cellar/python/3.6.4_4/Frameworks/Python.framework/Versions/3.6/lib/python3.6/http/client.py\u001b[0m in \u001b[0;36mrequest\u001b[0;34m(self, method, url, body, headers, encode_chunked)\u001b[0m\n\u001b[1;32m   1237\u001b[0m                 encode_chunked=False):\n\u001b[1;32m   1238\u001b[0m         \u001b[0;34m\"\"\"Send a complete request to the server.\"\"\"\u001b[0m\u001b[0;34m\u001b[0m\u001b[0m\n\u001b[0;32m-> 1239\u001b[0;31m         \u001b[0mself\u001b[0m\u001b[0;34m.\u001b[0m\u001b[0m_send_request\u001b[0m\u001b[0;34m(\u001b[0m\u001b[0mmethod\u001b[0m\u001b[0;34m,\u001b[0m \u001b[0murl\u001b[0m\u001b[0;34m,\u001b[0m \u001b[0mbody\u001b[0m\u001b[0;34m,\u001b[0m \u001b[0mheaders\u001b[0m\u001b[0;34m,\u001b[0m \u001b[0mencode_chunked\u001b[0m\u001b[0;34m)\u001b[0m\u001b[0;34m\u001b[0m\u001b[0m\n\u001b[0m\u001b[1;32m   1240\u001b[0m \u001b[0;34m\u001b[0m\u001b[0m\n\u001b[1;32m   1241\u001b[0m     \u001b[0;32mdef\u001b[0m \u001b[0m_send_request\u001b[0m\u001b[0;34m(\u001b[0m\u001b[0mself\u001b[0m\u001b[0;34m,\u001b[0m \u001b[0mmethod\u001b[0m\u001b[0;34m,\u001b[0m \u001b[0murl\u001b[0m\u001b[0;34m,\u001b[0m \u001b[0mbody\u001b[0m\u001b[0;34m,\u001b[0m \u001b[0mheaders\u001b[0m\u001b[0;34m,\u001b[0m \u001b[0mencode_chunked\u001b[0m\u001b[0;34m)\u001b[0m\u001b[0;34m:\u001b[0m\u001b[0;34m\u001b[0m\u001b[0m\n",
      "\u001b[0;32m/usr/local/Cellar/python/3.6.4_4/Frameworks/Python.framework/Versions/3.6/lib/python3.6/http/client.py\u001b[0m in \u001b[0;36m_send_request\u001b[0;34m(self, method, url, body, headers, encode_chunked)\u001b[0m\n\u001b[1;32m   1283\u001b[0m             \u001b[0;31m# default charset of iso-8859-1.\u001b[0m\u001b[0;34m\u001b[0m\u001b[0;34m\u001b[0m\u001b[0m\n\u001b[1;32m   1284\u001b[0m             \u001b[0mbody\u001b[0m \u001b[0;34m=\u001b[0m \u001b[0m_encode\u001b[0m\u001b[0;34m(\u001b[0m\u001b[0mbody\u001b[0m\u001b[0;34m,\u001b[0m \u001b[0;34m'body'\u001b[0m\u001b[0;34m)\u001b[0m\u001b[0;34m\u001b[0m\u001b[0m\n\u001b[0;32m-> 1285\u001b[0;31m         \u001b[0mself\u001b[0m\u001b[0;34m.\u001b[0m\u001b[0mendheaders\u001b[0m\u001b[0;34m(\u001b[0m\u001b[0mbody\u001b[0m\u001b[0;34m,\u001b[0m \u001b[0mencode_chunked\u001b[0m\u001b[0;34m=\u001b[0m\u001b[0mencode_chunked\u001b[0m\u001b[0;34m)\u001b[0m\u001b[0;34m\u001b[0m\u001b[0m\n\u001b[0m\u001b[1;32m   1286\u001b[0m \u001b[0;34m\u001b[0m\u001b[0m\n\u001b[1;32m   1287\u001b[0m     \u001b[0;32mdef\u001b[0m \u001b[0mgetresponse\u001b[0m\u001b[0;34m(\u001b[0m\u001b[0mself\u001b[0m\u001b[0;34m)\u001b[0m\u001b[0;34m:\u001b[0m\u001b[0;34m\u001b[0m\u001b[0m\n",
      "\u001b[0;32m/usr/local/Cellar/python/3.6.4_4/Frameworks/Python.framework/Versions/3.6/lib/python3.6/http/client.py\u001b[0m in \u001b[0;36mendheaders\u001b[0;34m(self, message_body, encode_chunked)\u001b[0m\n\u001b[1;32m   1232\u001b[0m         \u001b[0;32melse\u001b[0m\u001b[0;34m:\u001b[0m\u001b[0;34m\u001b[0m\u001b[0m\n\u001b[1;32m   1233\u001b[0m             \u001b[0;32mraise\u001b[0m \u001b[0mCannotSendHeader\u001b[0m\u001b[0;34m(\u001b[0m\u001b[0;34m)\u001b[0m\u001b[0;34m\u001b[0m\u001b[0m\n\u001b[0;32m-> 1234\u001b[0;31m         \u001b[0mself\u001b[0m\u001b[0;34m.\u001b[0m\u001b[0m_send_output\u001b[0m\u001b[0;34m(\u001b[0m\u001b[0mmessage_body\u001b[0m\u001b[0;34m,\u001b[0m \u001b[0mencode_chunked\u001b[0m\u001b[0;34m=\u001b[0m\u001b[0mencode_chunked\u001b[0m\u001b[0;34m)\u001b[0m\u001b[0;34m\u001b[0m\u001b[0m\n\u001b[0m\u001b[1;32m   1235\u001b[0m \u001b[0;34m\u001b[0m\u001b[0m\n\u001b[1;32m   1236\u001b[0m     def request(self, method, url, body=None, headers={}, *,\n",
      "\u001b[0;32m/usr/local/Cellar/python/3.6.4_4/Frameworks/Python.framework/Versions/3.6/lib/python3.6/http/client.py\u001b[0m in \u001b[0;36m_send_output\u001b[0;34m(self, message_body, encode_chunked)\u001b[0m\n\u001b[1;32m   1024\u001b[0m         \u001b[0mmsg\u001b[0m \u001b[0;34m=\u001b[0m \u001b[0;34mb\"\\r\\n\"\u001b[0m\u001b[0;34m.\u001b[0m\u001b[0mjoin\u001b[0m\u001b[0;34m(\u001b[0m\u001b[0mself\u001b[0m\u001b[0;34m.\u001b[0m\u001b[0m_buffer\u001b[0m\u001b[0;34m)\u001b[0m\u001b[0;34m\u001b[0m\u001b[0m\n\u001b[1;32m   1025\u001b[0m         \u001b[0;32mdel\u001b[0m \u001b[0mself\u001b[0m\u001b[0;34m.\u001b[0m\u001b[0m_buffer\u001b[0m\u001b[0;34m[\u001b[0m\u001b[0;34m:\u001b[0m\u001b[0;34m]\u001b[0m\u001b[0;34m\u001b[0m\u001b[0m\n\u001b[0;32m-> 1026\u001b[0;31m         \u001b[0mself\u001b[0m\u001b[0;34m.\u001b[0m\u001b[0msend\u001b[0m\u001b[0;34m(\u001b[0m\u001b[0mmsg\u001b[0m\u001b[0;34m)\u001b[0m\u001b[0;34m\u001b[0m\u001b[0m\n\u001b[0m\u001b[1;32m   1027\u001b[0m \u001b[0;34m\u001b[0m\u001b[0m\n\u001b[1;32m   1028\u001b[0m         \u001b[0;32mif\u001b[0m \u001b[0mmessage_body\u001b[0m \u001b[0;32mis\u001b[0m \u001b[0;32mnot\u001b[0m \u001b[0;32mNone\u001b[0m\u001b[0;34m:\u001b[0m\u001b[0;34m\u001b[0m\u001b[0m\n",
      "\u001b[0;32m/usr/local/Cellar/python/3.6.4_4/Frameworks/Python.framework/Versions/3.6/lib/python3.6/http/client.py\u001b[0m in \u001b[0;36msend\u001b[0;34m(self, data)\u001b[0m\n\u001b[1;32m    962\u001b[0m         \u001b[0;32mif\u001b[0m \u001b[0mself\u001b[0m\u001b[0;34m.\u001b[0m\u001b[0msock\u001b[0m \u001b[0;32mis\u001b[0m \u001b[0;32mNone\u001b[0m\u001b[0;34m:\u001b[0m\u001b[0;34m\u001b[0m\u001b[0m\n\u001b[1;32m    963\u001b[0m             \u001b[0;32mif\u001b[0m \u001b[0mself\u001b[0m\u001b[0;34m.\u001b[0m\u001b[0mauto_open\u001b[0m\u001b[0;34m:\u001b[0m\u001b[0;34m\u001b[0m\u001b[0m\n\u001b[0;32m--> 964\u001b[0;31m                 \u001b[0mself\u001b[0m\u001b[0;34m.\u001b[0m\u001b[0mconnect\u001b[0m\u001b[0;34m(\u001b[0m\u001b[0;34m)\u001b[0m\u001b[0;34m\u001b[0m\u001b[0m\n\u001b[0m\u001b[1;32m    965\u001b[0m             \u001b[0;32melse\u001b[0m\u001b[0;34m:\u001b[0m\u001b[0;34m\u001b[0m\u001b[0m\n\u001b[1;32m    966\u001b[0m                 \u001b[0;32mraise\u001b[0m \u001b[0mNotConnected\u001b[0m\u001b[0;34m(\u001b[0m\u001b[0;34m)\u001b[0m\u001b[0;34m\u001b[0m\u001b[0m\n",
      "\u001b[0;32m/usr/local/Cellar/python/3.6.4_4/Frameworks/Python.framework/Versions/3.6/lib/python3.6/http/client.py\u001b[0m in \u001b[0;36mconnect\u001b[0;34m(self)\u001b[0m\n\u001b[1;32m    934\u001b[0m         \u001b[0;34m\"\"\"Connect to the host and port specified in __init__.\"\"\"\u001b[0m\u001b[0;34m\u001b[0m\u001b[0m\n\u001b[1;32m    935\u001b[0m         self.sock = self._create_connection(\n\u001b[0;32m--> 936\u001b[0;31m             (self.host,self.port), self.timeout, self.source_address)\n\u001b[0m\u001b[1;32m    937\u001b[0m         \u001b[0mself\u001b[0m\u001b[0;34m.\u001b[0m\u001b[0msock\u001b[0m\u001b[0;34m.\u001b[0m\u001b[0msetsockopt\u001b[0m\u001b[0;34m(\u001b[0m\u001b[0msocket\u001b[0m\u001b[0;34m.\u001b[0m\u001b[0mIPPROTO_TCP\u001b[0m\u001b[0;34m,\u001b[0m \u001b[0msocket\u001b[0m\u001b[0;34m.\u001b[0m\u001b[0mTCP_NODELAY\u001b[0m\u001b[0;34m,\u001b[0m \u001b[0;36m1\u001b[0m\u001b[0;34m)\u001b[0m\u001b[0;34m\u001b[0m\u001b[0m\n\u001b[1;32m    938\u001b[0m \u001b[0;34m\u001b[0m\u001b[0m\n",
      "\u001b[0;32m/usr/local/Cellar/python/3.6.4_4/Frameworks/Python.framework/Versions/3.6/lib/python3.6/socket.py\u001b[0m in \u001b[0;36mcreate_connection\u001b[0;34m(address, timeout, source_address)\u001b[0m\n\u001b[1;32m    722\u001b[0m \u001b[0;34m\u001b[0m\u001b[0m\n\u001b[1;32m    723\u001b[0m     \u001b[0;32mif\u001b[0m \u001b[0merr\u001b[0m \u001b[0;32mis\u001b[0m \u001b[0;32mnot\u001b[0m \u001b[0;32mNone\u001b[0m\u001b[0;34m:\u001b[0m\u001b[0;34m\u001b[0m\u001b[0m\n\u001b[0;32m--> 724\u001b[0;31m         \u001b[0;32mraise\u001b[0m \u001b[0merr\u001b[0m\u001b[0;34m\u001b[0m\u001b[0m\n\u001b[0m\u001b[1;32m    725\u001b[0m     \u001b[0;32melse\u001b[0m\u001b[0;34m:\u001b[0m\u001b[0;34m\u001b[0m\u001b[0m\n\u001b[1;32m    726\u001b[0m         \u001b[0;32mraise\u001b[0m \u001b[0merror\u001b[0m\u001b[0;34m(\u001b[0m\u001b[0;34m\"getaddrinfo returns an empty list\"\u001b[0m\u001b[0;34m)\u001b[0m\u001b[0;34m\u001b[0m\u001b[0m\n",
      "\u001b[0;32m/usr/local/Cellar/python/3.6.4_4/Frameworks/Python.framework/Versions/3.6/lib/python3.6/socket.py\u001b[0m in \u001b[0;36mcreate_connection\u001b[0;34m(address, timeout, source_address)\u001b[0m\n\u001b[1;32m    711\u001b[0m             \u001b[0;32mif\u001b[0m \u001b[0msource_address\u001b[0m\u001b[0;34m:\u001b[0m\u001b[0;34m\u001b[0m\u001b[0m\n\u001b[1;32m    712\u001b[0m                 \u001b[0msock\u001b[0m\u001b[0;34m.\u001b[0m\u001b[0mbind\u001b[0m\u001b[0;34m(\u001b[0m\u001b[0msource_address\u001b[0m\u001b[0;34m)\u001b[0m\u001b[0;34m\u001b[0m\u001b[0m\n\u001b[0;32m--> 713\u001b[0;31m             \u001b[0msock\u001b[0m\u001b[0;34m.\u001b[0m\u001b[0mconnect\u001b[0m\u001b[0;34m(\u001b[0m\u001b[0msa\u001b[0m\u001b[0;34m)\u001b[0m\u001b[0;34m\u001b[0m\u001b[0m\n\u001b[0m\u001b[1;32m    714\u001b[0m             \u001b[0;31m# Break explicitly a reference cycle\u001b[0m\u001b[0;34m\u001b[0m\u001b[0;34m\u001b[0m\u001b[0m\n\u001b[1;32m    715\u001b[0m             \u001b[0merr\u001b[0m \u001b[0;34m=\u001b[0m \u001b[0;32mNone\u001b[0m\u001b[0;34m\u001b[0m\u001b[0m\n",
      "\u001b[0;31mConnectionRefusedError\u001b[0m: [Errno 61] Connection refused"
     ]
    }
   ],
   "source": [
    "# initial webdriver\n",
    "driver = labelinsight_login()\n",
    "\n",
    "# initial item pool\n",
    "num = range(1,3)\n",
    "item_CSS_Selector = ['article.card:nth-child(%s) > section:nth-child(1)'%i for i in num]\n",
    "\n",
    "for CSS_Selector in item_CSS_Selector:\n",
    "    html_text = load_item(CSS_Selector)\n",
    "#     print(get_title_line(html_text))\n",
    "    \n",
    "# driver.quit()"
   ]
  },
  {
   "cell_type": "code",
   "execution_count": 213,
   "metadata": {
    "scrolled": false
   },
   "outputs": [],
   "source": [
    "def get_title_line(html_text):\n",
    "    html_tmp = html_text.split('/n')\n",
    "    html_tmp = html_tmp[2].split('div')\n",
    "    for line in html_tmp:\n",
    "        if 'no-top-margin' in line:\n",
    "            this_line = line.split('&nbsp;')\n",
    "            this_line = this_line[0].split('\"> ')\n",
    "            return(this_line[1])"
   ]
  },
  {
   "cell_type": "code",
   "execution_count": 323,
   "metadata": {},
   "outputs": [],
   "source": [
    "def get_title_line(driver):\n",
    "    element_Brand = driver.find_element_by_css_selector('.no-top-margin')\n",
    "    print(element_Brand.text)\n",
    "    element_Brand = driver.find_element_by_css_selector('.flexgrid-fixed > div:nth-child(1) > p:nth-child(2)')\n",
    "    print(element_Brand.text)\n",
    "    element_Manufacturer = driver.find_element_by_css_selector('div.border-bottom:nth-child(3) > p:nth-child(2)')\n",
    "    print(element_Manufacturer.text)\n",
    "    element_Manufacturer = driver.find_element_by_css_selector('div.border-bottom:nth-child(2) > p:nth-child(2)')\n",
    "    print(element_Manufacturer.text)\n",
    "    element_Manufacturer = driver.find_element_by_css_selector('.badge')\n",
    "    print(element_Manufacturer.text)\n",
    "    element_Manufacturer = driver.find_element_by_css_selector('div.border-bottom:nth-child(5) > p:nth-child(2)')\n",
    "    print(element_Manufacturer.text)\n",
    "    element_Manufacturer = driver.find_element_by_css_selector('div.border-bottom:nth-child(6) > p:nth-child(2)')\n",
    "    print(element_Manufacturer.text)"
   ]
  },
  {
   "cell_type": "code",
   "execution_count": null,
   "metadata": {},
   "outputs": [],
   "source": []
  },
  {
   "cell_type": "markdown",
   "metadata": {},
   "source": [
    "### outdated codes"
   ]
  },
  {
   "cell_type": "code",
   "execution_count": 299,
   "metadata": {
    "scrolled": false
   },
   "outputs": [],
   "source": [
    "import re\n",
    "def get_title_line(html_text):\n",
    "    html_tmp = re.split('<div|</div>|\\n',html_text)\n",
    "    # print(len(html_tmp))\n",
    "    for line in html_tmp:\n",
    "    #     print(line)\n",
    "        if '>Brand<' in line:\n",
    "            line_tmp = re.split('<p|>|</p>',line)\n",
    "            ind_tmp = line_tmp.index(' class=\"ng-binding\"')\n",
    "            print(line_tmp[ind_tmp+1])\n",
    "        if '>Sub Brand<' in line:\n",
    "            line_tmp = re.split('<p|>|</p>',line)\n",
    "            ind_tmp = line_tmp.index(' class=\"ng-binding\"')\n",
    "            print(line_tmp[ind_tmp+1])\n",
    "        if '>Manufacturer<' in line:\n",
    "            line_tmp = re.split('<p|>|</p>',line)\n",
    "            ind_tmp = line_tmp.index(' class=\"ng-binding\"')\n",
    "            print(line_tmp[ind_tmp+1])\n",
    "    #     Last Collected has some unstable bugs delete for now\n",
    "    #     if '>Last Collected<' in line:\n",
    "    #         line_tmp = re.split('<p|>|</p>',line)\n",
    "    #         ind_tmp = line_tmp.index('<span class=\"badge margin-left ng-binding\"')\n",
    "    #         print(line_tmp[ind_tmp+1])\n",
    "        if '>Collected on<' in line:\n",
    "            line_tmp = re.split('<p|>|</p>',line)\n",
    "            ind_tmp = line_tmp.index(' class=\"no-horizontal-p ng-binding\"')\n",
    "            print(line_tmp[ind_tmp+1])\n",
    "        if '>Collected by<' in line:\n",
    "            line_tmp = re.split('<p|>|</p>',line)\n",
    "            ind_tmp = line_tmp.index(' class=\"no-horizontal-p ng-binding\"')\n",
    "            print(line_tmp[ind_tmp+1])\n"
   ]
  }
 ],
 "metadata": {
  "kernelspec": {
   "display_name": "Python3.6.4",
   "language": "python",
   "name": "python3.6.4"
  },
  "language_info": {
   "codemirror_mode": {
    "name": "ipython",
    "version": 3
   },
   "file_extension": ".py",
   "mimetype": "text/x-python",
   "name": "python",
   "nbconvert_exporter": "python",
   "pygments_lexer": "ipython3",
   "version": "3.6.4"
  }
 },
 "nbformat": 4,
 "nbformat_minor": 2
}
